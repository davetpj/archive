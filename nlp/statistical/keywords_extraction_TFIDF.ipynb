{
 "cells": [
  {
   "cell_type": "code",
   "execution_count": 1,
   "id": "418b3f59",
   "metadata": {
    "ExecuteTime": {
     "end_time": "2021-07-01T08:52:53.392383Z",
     "start_time": "2021-07-01T08:52:53.389144Z"
    }
   },
   "outputs": [],
   "source": [
    "# konlpy\n",
    "# mecab\n",
    "# requests\n",
    "# bs4"
   ]
  },
  {
   "cell_type": "markdown",
   "id": "0e614867",
   "metadata": {},
   "source": [
    "# Keyword extraction use TF-IDF\n",
    "## 1. Introduction\n",
    "## 2. crwaling"
   ]
  },
  {
   "cell_type": "code",
   "execution_count": 44,
   "id": "9cf64f1d",
   "metadata": {
    "ExecuteTime": {
     "end_time": "2021-07-01T09:44:06.322468Z",
     "start_time": "2021-07-01T09:44:06.249959Z"
    }
   },
   "outputs": [],
   "source": [
    "import requests\n",
    "import re\n",
    "import math\n",
    "import numpy as np\n",
    "import pandas as pd\n",
    "from bs4 import BeautifulSoup\n",
    "from scipy.sparse import coo_matrix"
   ]
  },
  {
   "cell_type": "code",
   "execution_count": 11,
   "id": "3473dede",
   "metadata": {
    "ExecuteTime": {
     "end_time": "2021-07-01T09:13:08.497957Z",
     "start_time": "2021-07-01T09:13:07.187612Z"
    }
   },
   "outputs": [],
   "source": [
    "def get_news_by_url(url):\n",
    "    response = requests.get(url, headers={'User-Agent': 'Mozilla/5.0'})\n",
    "    soup = BeautifulSoup(response.text, 'html.parser')\n",
    "    article = soup.select_one('#articleBodyContents')\n",
    "    text = article.get_text().replace(\"\\n\", \"\")\n",
    "\n",
    "    # text preprocessing\n",
    "    start_pos = re.search(r\"\\w+@\\w+\\.\\w+(.\\w+)?\", text).start()\n",
    "    content = text[:start_pos-1]\n",
    "    doc = re.sub(\"[^가-힣 \\d]\", \" \", content)\n",
    "    doc = re.sub(\"\\s+\", \" \", doc)\n",
    "\n",
    "    return doc\n",
    "\n",
    "\n",
    "docs = []\n",
    "docs.append(get_news_by_url(\n",
    "    'https://news.naver.com/main/read.nhn?mode=LSD&mid=sec&sid1=105&oid=018&aid=0004430108'))\n",
    "docs.append(get_news_by_url(\n",
    "    'https://news.naver.com/main/read.nhn?mode=LSD&mid=sec&sid1=101&oid=001&aid=0011614790'))\n",
    "docs.append(get_news_by_url(\n",
    "    'https://news.naver.com/main/read.nhn?mode=LSD&mid=sec&sid1=102&oid=014&aid=0004424362'))\n",
    "docs.append(get_news_by_url(\n",
    "    'https://news.naver.com/main/read.nhn?mode=LSD&mid=sec&sid1=101&oid=119&aid=0002402191'))\n",
    "docs.append(get_news_by_url(\n",
    "    'https://news.naver.com/main/read.nhn?mode=LSD&mid=sec&sid1=101&oid=030&aid=0002882728'))"
   ]
  },
  {
   "cell_type": "markdown",
   "id": "29babae9",
   "metadata": {},
   "source": [
    "## 3. Tokenization by space"
   ]
  },
  {
   "cell_type": "code",
   "execution_count": 15,
   "id": "f825178c",
   "metadata": {
    "ExecuteTime": {
     "end_time": "2021-07-01T09:15:57.351305Z",
     "start_time": "2021-07-01T09:15:57.345043Z"
    }
   },
   "outputs": [
    {
     "data": {
      "text/plain": [
       "['과기정통부',\n",
       " '22일',\n",
       " '유영민',\n",
       " '장관',\n",
       " '등',\n",
       " '참석해',\n",
       " '기념행사2021년까지',\n",
       " '1516억원',\n",
       " '투입',\n",
       " '5100여종']"
      ]
     },
     "execution_count": 15,
     "metadata": {},
     "output_type": "execute_result"
    }
   ],
   "source": [
    "doc_ls = [doc.split() for doc in docs]\n",
    "doc_ls[0][:10]"
   ]
  },
  {
   "cell_type": "markdown",
   "id": "f00bafcc",
   "metadata": {},
   "source": [
    "## 4. Stop word processing"
   ]
  },
  {
   "cell_type": "code",
   "execution_count": 28,
   "id": "da9dd1f9",
   "metadata": {
    "ExecuteTime": {
     "end_time": "2021-07-01T09:29:50.966346Z",
     "start_time": "2021-07-01T09:29:50.928984Z"
    }
   },
   "outputs": [
    {
     "data": {
      "text/plain": [
       "['한국전력공사', '한국전력공사', '제공', '나주', '연합뉴스', '송', '형', '기자', '한국전력', '전력']"
      ]
     },
     "execution_count": 28,
     "metadata": {},
     "output_type": "execute_result"
    }
   ],
   "source": [
    "from konlpy.tag import Mecab\n",
    "mecab = Mecab()\n",
    "\n",
    "preprocessed_docs = []\n",
    "\n",
    "for doc in docs:\n",
    "    token_list = []\n",
    "    for token in mecab.pos(doc):\n",
    "        if token[1] in ['NNG', 'NNP', 'VV']:\n",
    "            token_list.append(token[0])\n",
    "    preprocessed_docs.append(token_list)\n",
    "\n",
    "preprocessed_docs[1][:10]"
   ]
  },
  {
   "cell_type": "markdown",
   "id": "9fbcc371",
   "metadata": {},
   "source": [
    "## 5. Give a unique ID to words"
   ]
  },
  {
   "cell_type": "code",
   "execution_count": 27,
   "id": "1a1e3a37",
   "metadata": {
    "ExecuteTime": {
     "end_time": "2021-07-01T09:29:44.886743Z",
     "start_time": "2021-07-01T09:29:44.880194Z"
    }
   },
   "outputs": [
    {
     "name": "stdout",
     "output_type": "stream",
     "text": [
      "\n"
     ]
    }
   ],
   "source": [
    "from collections import defaultdict\n",
    "\n",
    "word2id = defaultdict(lambda: len(word2id))\n",
    "[word2id[token] for doc in doc_ls for token in doc]\n",
    "print()"
   ]
  },
  {
   "cell_type": "markdown",
   "id": "04f93668",
   "metadata": {},
   "source": [
    "## 6. Make DTM"
   ]
  },
  {
   "cell_type": "code",
   "execution_count": 30,
   "id": "a4244379",
   "metadata": {
    "ExecuteTime": {
     "end_time": "2021-07-01T09:31:51.783938Z",
     "start_time": "2021-07-01T09:31:51.776347Z"
    }
   },
   "outputs": [
    {
     "data": {
      "text/plain": [
       "array([[4, 2, 3, ..., 0, 0, 0],\n",
       "       [0, 0, 0, ..., 0, 0, 0],\n",
       "       [0, 0, 0, ..., 0, 0, 0],\n",
       "       [0, 0, 0, ..., 0, 0, 0],\n",
       "       [0, 0, 0, ..., 1, 1, 1]])"
      ]
     },
     "execution_count": 30,
     "metadata": {},
     "output_type": "execute_result"
    }
   ],
   "source": [
    "DTM = np.zeros((len(doc_ls), len(word2id)), dtype=int)\n",
    "for i, doc in enumerate(doc_ls):\n",
    "    for token in doc:\n",
    "        DTM[i, word2id[token]] += 1\n",
    "\n",
    "DTM"
   ]
  },
  {
   "cell_type": "markdown",
   "id": "02a7fdc1",
   "metadata": {},
   "source": [
    "## 7. Compute TF"
   ]
  },
  {
   "cell_type": "code",
   "execution_count": 32,
   "id": "c6fe4183",
   "metadata": {
    "ExecuteTime": {
     "end_time": "2021-07-01T09:33:06.307911Z",
     "start_time": "2021-07-01T09:33:06.302086Z"
    }
   },
   "outputs": [],
   "source": [
    "def computeTF(DTM):\n",
    "    doc_len = len(doc_ls)\n",
    "    word_len = len(word2id)\n",
    "    tf = np.zeros((doc_len, word_len))\n",
    "    for doc_idx in range(doc_len):\n",
    "        for word_idx in range(word_len):\n",
    "            tf[doc_idx, word_idx] = DTM[doc_idx, word_idx]/DTM[doc_idx].sum()\n",
    "\n",
    "    return tf"
   ]
  },
  {
   "cell_type": "markdown",
   "id": "675a42c6",
   "metadata": {},
   "source": [
    "## 8. Compute IDF"
   ]
  },
  {
   "cell_type": "code",
   "execution_count": 36,
   "id": "9b31b860",
   "metadata": {
    "ExecuteTime": {
     "end_time": "2021-07-01T09:34:13.531936Z",
     "start_time": "2021-07-01T09:34:13.528014Z"
    }
   },
   "outputs": [],
   "source": [
    "def computeIDF(DTM):\n",
    "    doc_len = len(DTM)\n",
    "    word_len = len(DTM[0])\n",
    "    idf = np.zeros(word_len)\n",
    "    for i in range(word_len):\n",
    "        idf[i] = -math.log10(np.count_nonzero(DTM[:,i])/doc_len)\n",
    "        \n",
    "    return idf\n",
    "# np.count_nonzero 사용 "
   ]
  },
  {
   "cell_type": "markdown",
   "id": "52e1eb7c",
   "metadata": {},
   "source": [
    "## 9. TF-IDF"
   ]
  },
  {
   "cell_type": "code",
   "execution_count": 40,
   "id": "9de3e960",
   "metadata": {
    "ExecuteTime": {
     "end_time": "2021-07-01T09:36:34.494319Z",
     "start_time": "2021-07-01T09:36:34.489196Z"
    }
   },
   "outputs": [],
   "source": [
    "def computeTFIDF(DTM):\n",
    "    tf = computeTF(DTM)\n",
    "    idf = computeIDF(DTM)\n",
    "    \n",
    "    tfidf = np.zeros(tf.shape)\n",
    "    for doc_idx in range(tf.shape[0]):\n",
    "        for word_idx in range(tf.shape[1]):\n",
    "            tfidf[doc_idx, word_idx] = tf[doc_idx, word_idx]* idf[word_idx]\n",
    "    return tfidf\n",
    "\n",
    "  \n",
    "#computeTFIDF(DTM)"
   ]
  },
  {
   "cell_type": "markdown",
   "id": "6e69a871",
   "metadata": {
    "ExecuteTime": {
     "end_time": "2021-07-01T09:35:00.690683Z",
     "start_time": "2021-07-01T09:35:00.650154Z"
    }
   },
   "source": [
    "## 10. Keywords_extraction"
   ]
  },
  {
   "cell_type": "code",
   "execution_count": 41,
   "id": "f7d30cfc",
   "metadata": {
    "ExecuteTime": {
     "end_time": "2021-07-01T09:37:06.604111Z",
     "start_time": "2021-07-01T09:37:06.598531Z"
    }
   },
   "outputs": [],
   "source": [
    "def sort_keywords(keywords):\n",
    "    return sorted(zip(keywords.col, keywords.data), key=lambda x: (x[1], x[0]), reverse=True)\n",
    "\n",
    "\n",
    "def extract_keywords(feature_names, sorted_keywords, n=5):\n",
    "    return [(feature_names[idx], score) for idx, score in sorted_keywords[:n]]"
   ]
  },
  {
   "cell_type": "code",
   "execution_count": 60,
   "id": "90901fe0",
   "metadata": {
    "ExecuteTime": {
     "end_time": "2021-07-01T09:49:41.175866Z",
     "start_time": "2021-07-01T09:49:41.150488Z"
    }
   },
   "outputs": [
    {
     "name": "stdout",
     "output_type": "stream",
     "text": [
      "\n",
      "===== 원문 =====\n",
      "금융결제원 신용정보원 등 지정비씨카드 추가 포함 여부도 논의시행령 발표한 후 빠르게 추진하반기 데이터 유통 판매 급물살정부가 금융결제원과 신용정보원 등 업권별 9곳의 마이데이터 중\n",
      "\n",
      "=== 핵심키워드 ===\n",
      "('마이데이터', 0.053766923410462984)\n",
      "('신용정보원', 0.03584461560697532)\n",
      "('이동근기자', 0.01792230780348766)\n",
      "('진행하고', 0.01792230780348766)\n",
      "('실무회의를', 0.01792230780348766)\n"
     ]
    }
   ],
   "source": [
    "#추출할 문서 번호\n",
    "doc_number = 4\n",
    "sorted_keywords = sort_keywords(coo_matrix(computeTFIDF(DTM)[doc_number,:]))\n",
    "\n",
    "feature_names = list(word2id.keys())\n",
    "# 사용자가 지정한 갯수만큼 키워드 추출\n",
    "keywords = extract_keywords(feature_names, sorted_keywords, 5)\n",
    "\n",
    "print(\"\\n===== 원문 =====\")\n",
    "print(docs[doc_number][:100])\n",
    "print(\"\\n=== 핵심키워드 ===\")\n",
    "for k in keywords:\n",
    "    print(k)"
   ]
  },
  {
   "cell_type": "markdown",
   "id": "62d82e94",
   "metadata": {},
   "source": [
    "# sklearn"
   ]
  },
  {
   "cell_type": "code",
   "execution_count": 107,
   "id": "79a94972",
   "metadata": {
    "ExecuteTime": {
     "end_time": "2021-07-01T10:31:31.441925Z",
     "start_time": "2021-07-01T10:31:31.439208Z"
    }
   },
   "outputs": [],
   "source": [
    "#from sklearn.feature_extraction.text import CountVectorizer\n",
    "#from sklearn.feature_extraction.text import TfidfTransformer\n",
    "from sklearn.feature_extraction.text import TfidfVectorizer\n",
    "\n",
    "\n"
   ]
  },
  {
   "cell_type": "markdown",
   "id": "6bf7e299",
   "metadata": {},
   "source": [
    "## join"
   ]
  },
  {
   "cell_type": "code",
   "execution_count": 108,
   "id": "e31f9589",
   "metadata": {
    "ExecuteTime": {
     "end_time": "2021-07-01T10:31:32.111100Z",
     "start_time": "2021-07-01T10:31:32.095891Z"
    }
   },
   "outputs": [],
   "source": [
    "preprocessed_docs = []\n",
    "\n",
    "for doc in docs:\n",
    "    token_list = []\n",
    "    for token in mecab.pos(doc):\n",
    "        if token[1] in ['NNG', 'NNP', 'VV']:\n",
    "            token_list.append(token[0])\n",
    "    preprocessed_docs.append(\" \".join(token_list))\n",
    "\n",
    "#preprocessed_docs"
   ]
  },
  {
   "cell_type": "code",
   "execution_count": 109,
   "id": "b0a23b2d",
   "metadata": {
    "ExecuteTime": {
     "end_time": "2021-07-01T10:31:32.399625Z",
     "start_time": "2021-07-01T10:31:32.392019Z"
    }
   },
   "outputs": [
    {
     "name": "stdout",
     "output_type": "stream",
     "text": [
      "<class 'scipy.sparse.csr.csr_matrix'>\n"
     ]
    }
   ],
   "source": [
    "tfidf_vect = TfidfVectorizer(max_df=0.85, max_features=10000,smooth_idf=True, use_idf=True)\n",
    "word_count = tfidf_vect.fit_transform(preprocessed_docs)\n",
    "#print(type(word_count))"
   ]
  },
  {
   "cell_type": "code",
   "execution_count": 110,
   "id": "d8538e29",
   "metadata": {
    "ExecuteTime": {
     "end_time": "2021-07-01T10:31:33.391550Z",
     "start_time": "2021-07-01T10:31:33.386842Z"
    }
   },
   "outputs": [],
   "source": [
    "def sort_keywords(keywords):\n",
    "    return sorted(zip(keywords.col, keywords.data), key=lambda x: (x[1], x[0]), reverse=True)\n",
    "\n",
    "\n",
    "def extract_keywords(feature_names, sorted_keywords, n=5):\n",
    "    return [(feature_names[idx], score) for idx, score in sorted_keywords[:n]]"
   ]
  },
  {
   "cell_type": "code",
   "execution_count": 111,
   "id": "5e98a1e8",
   "metadata": {
    "ExecuteTime": {
     "end_time": "2021-07-01T10:31:34.114542Z",
     "start_time": "2021-07-01T10:31:34.106804Z"
    }
   },
   "outputs": [
    {
     "name": "stdout",
     "output_type": "stream",
     "text": [
      "\n",
      "===== 원문 =====\n",
      "한국전력공사 한국전력공사 제공 나주 연합뉴스 송형일 기자 한국전력은 전력 데이터를 활용한 신 서비스 개발 경진대회가 8월 20일 한전 아트센터에서 개최된다고 18일 밝혔다 산업통상\n",
      "\n",
      "=== 핵심키워드 ===\n",
      "('한전', 0.3798224183465947)\n",
      "('전력', 0.3798224183465947)\n",
      "('대회', 0.2278934510079568)\n",
      "('서비스', 0.20349720018162895)\n",
      "('기업', 0.18386300133936764)\n"
     ]
    }
   ],
   "source": [
    "doc_number = 1\n",
    "doc = preprocessed_docs[doc_number]  # 핵심키워드 추출할 문서 조회\n",
    "\n",
    "feature_names = tfidf_vect.get_feature_names()\n",
    "tfidf_vect = tfidf_vect.transform([doc])\n",
    "sorted_keywords = sort_keywords(tfidf_vect.tocoo())\n",
    "\n",
    "\n",
    "# 사용자가 지정한 갯수만큼 키워드 추출\n",
    "keywords = extract_keywords(feature_names, sorted_keywords, 5)\n",
    "\n",
    "print(\"\\n===== 원문 =====\")\n",
    "print(docs[doc_number][:100])\n",
    "print(\"\\n=== 핵심키워드 ===\")\n",
    "for k in keywords:\n",
    "    print(k)"
   ]
  },
  {
   "cell_type": "code",
   "execution_count": null,
   "id": "b2a2d895",
   "metadata": {},
   "outputs": [],
   "source": []
  },
  {
   "cell_type": "code",
   "execution_count": null,
   "id": "ce9317fc",
   "metadata": {},
   "outputs": [],
   "source": []
  },
  {
   "cell_type": "code",
   "execution_count": null,
   "id": "1b65ba3d",
   "metadata": {},
   "outputs": [],
   "source": []
  },
  {
   "cell_type": "code",
   "execution_count": null,
   "id": "46744364",
   "metadata": {},
   "outputs": [],
   "source": []
  }
 ],
 "metadata": {
  "kernelspec": {
   "display_name": "Python 3",
   "language": "python",
   "name": "python3"
  },
  "language_info": {
   "codemirror_mode": {
    "name": "ipython",
    "version": 3
   },
   "file_extension": ".py",
   "mimetype": "text/x-python",
   "name": "python",
   "nbconvert_exporter": "python",
   "pygments_lexer": "ipython3",
   "version": "3.8.10"
  },
  "varInspector": {
   "cols": {
    "lenName": 16,
    "lenType": 16,
    "lenVar": 40
   },
   "kernels_config": {
    "python": {
     "delete_cmd_postfix": "",
     "delete_cmd_prefix": "del ",
     "library": "var_list.py",
     "varRefreshCmd": "print(var_dic_list())"
    },
    "r": {
     "delete_cmd_postfix": ") ",
     "delete_cmd_prefix": "rm(",
     "library": "var_list.r",
     "varRefreshCmd": "cat(var_dic_list()) "
    }
   },
   "types_to_exclude": [
    "module",
    "function",
    "builtin_function_or_method",
    "instance",
    "_Feature"
   ],
   "window_display": false
  }
 },
 "nbformat": 4,
 "nbformat_minor": 5
}
