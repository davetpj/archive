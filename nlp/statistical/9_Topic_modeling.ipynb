{
 "cells": [
  {
   "cell_type": "markdown",
   "metadata": {
    "id": "CwuSmFhcj-Os"
   },
   "source": [
    "# LSA"
   ]
  },
  {
   "cell_type": "code",
   "execution_count": 1,
   "metadata": {
    "ExecuteTime": {
     "end_time": "2021-07-11T02:23:23.481877Z",
     "start_time": "2021-07-11T02:23:23.479479Z"
    },
    "colab": {
     "base_uri": "https://localhost:8080/"
    },
    "id": "A1-mwnucTuEu",
    "outputId": "664d4a9a-6c5f-4303-9957-9596af9ae557"
   },
   "outputs": [],
   "source": [
    "# !sudo apt-get install -y fonts-nanum\n",
    "# !sudo fc-cache -fv\n",
    "# !rm ~/.cache/matplotlib -rf"
   ]
  },
  {
   "cell_type": "code",
   "execution_count": 2,
   "metadata": {
    "ExecuteTime": {
     "end_time": "2021-07-11T02:23:23.489262Z",
     "start_time": "2021-07-11T02:23:23.485671Z"
    },
    "id": "uoD53qvHtL0W"
   },
   "outputs": [],
   "source": [
    "doc_ls = ['바나나 사과 포도 포도 짜장면',\n",
    "         '사과 포도',\n",
    "         '포도 바나나',\n",
    "         '짜장면 짬뽕 탕수육',\n",
    "         '볶음밥 탕수육',\n",
    "         '짜장면 짬뽕',\n",
    "         '라면 스시',\n",
    "         '스시 짜장면',\n",
    "         '가츠동 스시 소바',\n",
    "         '된장찌개 김치찌개 김치',\n",
    "         '김치 된장 짜장면',\n",
    "         '비빔밥 김치'\n",
    "         ]"
   ]
  },
  {
   "cell_type": "code",
   "execution_count": 3,
   "metadata": {
    "ExecuteTime": {
     "end_time": "2021-07-11T02:23:24.479982Z",
     "start_time": "2021-07-11T02:23:23.492733Z"
    },
    "id": "S71kYpdTU0yi"
   },
   "outputs": [],
   "source": [
    "from sklearn.feature_extraction.text import TfidfVectorizer\n",
    "from sklearn.decomposition import TruncatedSVD\n",
    "\n",
    "n_topic = 4\n",
    "\n",
    "tfidf_vect = TfidfVectorizer()\n",
    "tfidf = tfidf_vect.fit_transform(doc_ls)\n",
    "svd = TruncatedSVD(n_components=n_topic, n_iter=100)\n",
    "\n",
    "U = svd.fit_transform(tfidf)\n",
    "Vt = svd.components_"
   ]
  },
  {
   "cell_type": "code",
   "execution_count": 4,
   "metadata": {
    "ExecuteTime": {
     "end_time": "2021-07-11T02:23:24.492626Z",
     "start_time": "2021-07-11T02:23:24.482208Z"
    },
    "colab": {
     "base_uri": "https://localhost:8080/"
    },
    "id": "IM36JfD5WZia",
    "outputId": "f8172267-3af1-4e69-83ff-a847dc53367b"
   },
   "outputs": [
    {
     "data": {
      "text/plain": [
       "12"
      ]
     },
     "execution_count": 4,
     "metadata": {},
     "output_type": "execute_result"
    }
   ],
   "source": [
    "len(doc_ls)"
   ]
  },
  {
   "cell_type": "code",
   "execution_count": 5,
   "metadata": {
    "ExecuteTime": {
     "end_time": "2021-07-11T02:23:24.499425Z",
     "start_time": "2021-07-11T02:23:24.494892Z"
    },
    "colab": {
     "base_uri": "https://localhost:8080/"
    },
    "id": "kWCV_kfPWfzQ",
    "outputId": "ea915fa7-4099-44bb-bb6f-26abb8f36c44"
   },
   "outputs": [
    {
     "data": {
      "text/plain": [
       "(12, 4)"
      ]
     },
     "execution_count": 5,
     "metadata": {},
     "output_type": "execute_result"
    }
   ],
   "source": [
    "U.shape"
   ]
  },
  {
   "cell_type": "code",
   "execution_count": 6,
   "metadata": {
    "ExecuteTime": {
     "end_time": "2021-07-11T02:23:24.506271Z",
     "start_time": "2021-07-11T02:23:24.501568Z"
    },
    "colab": {
     "base_uri": "https://localhost:8080/"
    },
    "id": "KALSdpYxWhxb",
    "outputId": "747ba54a-da48-4a09-a0bb-644c604bbb64"
   },
   "outputs": [
    {
     "data": {
      "text/plain": [
       "(4, 16)"
      ]
     },
     "execution_count": 6,
     "metadata": {},
     "output_type": "execute_result"
    }
   ],
   "source": [
    "Vt.shape"
   ]
  },
  {
   "cell_type": "code",
   "execution_count": 7,
   "metadata": {
    "ExecuteTime": {
     "end_time": "2021-07-11T02:23:24.516151Z",
     "start_time": "2021-07-11T02:23:24.512023Z"
    },
    "colab": {
     "base_uri": "https://localhost:8080/"
    },
    "id": "S88MXXEaWxPG",
    "outputId": "a52a89fa-a1ca-4910-8b7c-d6fd45d8e674"
   },
   "outputs": [
    {
     "data": {
      "text/plain": [
       "(12, 16)"
      ]
     },
     "execution_count": 7,
     "metadata": {},
     "output_type": "execute_result"
    }
   ],
   "source": [
    "tfidf.shape"
   ]
  },
  {
   "cell_type": "code",
   "execution_count": 8,
   "metadata": {
    "ExecuteTime": {
     "end_time": "2021-07-11T02:23:24.527908Z",
     "start_time": "2021-07-11T02:23:24.522266Z"
    },
    "colab": {
     "base_uri": "https://localhost:8080/"
    },
    "id": "-qZVORR3X05t",
    "outputId": "0e7e4dc5-eea3-4764-cdf6-60546147304b"
   },
   "outputs": [
    {
     "name": "stdout",
     "output_type": "stream",
     "text": [
      "['가츠동', '김치', '김치찌개', '된장', '된장찌개', '라면', '바나나', '볶음밥', '비빔밥', '사과', '소바', '스시', '짜장면', '짬뽕', '탕수육', '포도']\n",
      "Topic 0: [('포도', 0.583), ('짜장면', 0.499), ('사과', 0.33)]\n",
      "Topic 1: [('짜장면', 0.44), ('짬뽕', 0.391), ('스시', 0.315)]\n",
      "Topic 2: [('스시', 0.703), ('라면', 0.353), ('가츠동', 0.253)]\n",
      "Topic 3: [('김치', 0.682), ('비빔밥', 0.373), ('김치찌개', 0.272)]\n"
     ]
    }
   ],
   "source": [
    "vocab = tfidf_vect.get_feature_names()\n",
    "print(vocab)\n",
    "n = 3\n",
    "for i, topic in enumerate(Vt):\n",
    "    print(\"Topic {}:\".format(i), [ (vocab[i], topic[i].round(3)) for i in topic.argsort()[:-n-1:-1]])"
   ]
  },
  {
   "cell_type": "code",
   "execution_count": 9,
   "metadata": {
    "ExecuteTime": {
     "end_time": "2021-07-11T02:23:24.535206Z",
     "start_time": "2021-07-11T02:23:24.530182Z"
    },
    "id": "g0-ZNs2oYacM"
   },
   "outputs": [],
   "source": [
    "import numpy as np\n",
    "from numpy import dot\n",
    "from numpy.linalg import norm\n",
    "\n",
    "def calc_similarity_matrix(vectors):\n",
    "    def consine_similarity(a, b):\n",
    "        return dot(a, b)/(norm(a)*norm(b))\n",
    "\n",
    "    n_word = len(vectors)\n",
    "    similarity_matrix = np.zeros((n_word, n_word))\n",
    "\n",
    "    for i in range(n_word):\n",
    "        for j in range(n_word):\n",
    "            similarity_matrix[j, i] = consine_similarity(vectors[i], vectors[j]).round(4)\n",
    "\n",
    "    return similarity_matrix"
   ]
  },
  {
   "cell_type": "code",
   "execution_count": 10,
   "metadata": {
    "ExecuteTime": {
     "end_time": "2021-07-11T02:23:24.554813Z",
     "start_time": "2021-07-11T02:23:24.537905Z"
    },
    "id": "jC7QrmVbaxIm"
   },
   "outputs": [],
   "source": [
    "word_vectors = Vt.T\n",
    "word_similarity_matrix = calc_similarity_matrix(word_vectors)"
   ]
  },
  {
   "cell_type": "code",
   "execution_count": 11,
   "metadata": {
    "ExecuteTime": {
     "end_time": "2021-07-11T02:23:25.278134Z",
     "start_time": "2021-07-11T02:23:24.557655Z"
    },
    "id": "11n0UQaKa1dx"
   },
   "outputs": [],
   "source": [
    "import matplotlib.pyplot as plt\n",
    "import seaborn as sns\n",
    "\n",
    "def visualize_similarity(similarity_matrix, label):\n",
    "    mask =np.triu(np.ones_like(similarity_matrix, dtype=np.bool))\n",
    "    plt.rcParams['figure.figsize'] = [8, 6]\n",
    "    plt.rc('font', family='NanumBarunGothic')\n",
    "    ax = sns.heatmap(similarity_matrix, mask=mask, xticklabels=label, yticklabels=label,\n",
    "                     annot=True, fmt=\".2f\", annot_kws={\"size\":8},cmap=\"coolwarm\")"
   ]
  },
  {
   "cell_type": "code",
   "execution_count": 12,
   "metadata": {
    "ExecuteTime": {
     "end_time": "2021-07-11T02:23:25.926250Z",
     "start_time": "2021-07-11T02:23:25.280597Z"
    },
    "colab": {
     "base_uri": "https://localhost:8080/",
     "height": 475
    },
    "id": "eIGBRlKCgJ_a",
    "outputId": "b9c3c24c-9cc1-40f0-85c1-f30929e35305"
   },
   "outputs": [
    {
     "name": "stderr",
     "output_type": "stream",
     "text": [
      "<ipython-input-11-52033ef3ae07>:5: DeprecationWarning: `np.bool` is a deprecated alias for the builtin `bool`. To silence this warning, use `bool` by itself. Doing this will not modify any behavior and is safe. If you specifically wanted the numpy scalar type, use `np.bool_` here.\n",
      "Deprecated in NumPy 1.20; for more details and guidance: https://numpy.org/devdocs/release/1.20.0-notes.html#deprecations\n",
      "  mask =np.triu(np.ones_like(similarity_matrix, dtype=np.bool))\n",
      "findfont: Font family ['NanumBarunGothic'] not found. Falling back to DejaVu Sans.\n",
      "/Users/dhkim/miniforge3/envs/nlp/lib/python3.8/site-packages/matplotlib/backends/backend_agg.py:240: RuntimeWarning: Glyph 44032 missing from current font.\n",
      "  font.set_text(s, 0.0, flags=flags)\n",
      "/Users/dhkim/miniforge3/envs/nlp/lib/python3.8/site-packages/matplotlib/backends/backend_agg.py:240: RuntimeWarning: Glyph 52768 missing from current font.\n",
      "  font.set_text(s, 0.0, flags=flags)\n",
      "/Users/dhkim/miniforge3/envs/nlp/lib/python3.8/site-packages/matplotlib/backends/backend_agg.py:240: RuntimeWarning: Glyph 46041 missing from current font.\n",
      "  font.set_text(s, 0.0, flags=flags)\n",
      "/Users/dhkim/miniforge3/envs/nlp/lib/python3.8/site-packages/matplotlib/backends/backend_agg.py:240: RuntimeWarning: Glyph 44608 missing from current font.\n",
      "  font.set_text(s, 0.0, flags=flags)\n",
      "/Users/dhkim/miniforge3/envs/nlp/lib/python3.8/site-packages/matplotlib/backends/backend_agg.py:240: RuntimeWarning: Glyph 52824 missing from current font.\n",
      "  font.set_text(s, 0.0, flags=flags)\n",
      "/Users/dhkim/miniforge3/envs/nlp/lib/python3.8/site-packages/matplotlib/backends/backend_agg.py:240: RuntimeWarning: Glyph 52236 missing from current font.\n",
      "  font.set_text(s, 0.0, flags=flags)\n",
      "/Users/dhkim/miniforge3/envs/nlp/lib/python3.8/site-packages/matplotlib/backends/backend_agg.py:240: RuntimeWarning: Glyph 44060 missing from current font.\n",
      "  font.set_text(s, 0.0, flags=flags)\n",
      "/Users/dhkim/miniforge3/envs/nlp/lib/python3.8/site-packages/matplotlib/backends/backend_agg.py:240: RuntimeWarning: Glyph 46108 missing from current font.\n",
      "  font.set_text(s, 0.0, flags=flags)\n",
      "/Users/dhkim/miniforge3/envs/nlp/lib/python3.8/site-packages/matplotlib/backends/backend_agg.py:240: RuntimeWarning: Glyph 51109 missing from current font.\n",
      "  font.set_text(s, 0.0, flags=flags)\n",
      "/Users/dhkim/miniforge3/envs/nlp/lib/python3.8/site-packages/matplotlib/backends/backend_agg.py:240: RuntimeWarning: Glyph 46972 missing from current font.\n",
      "  font.set_text(s, 0.0, flags=flags)\n",
      "/Users/dhkim/miniforge3/envs/nlp/lib/python3.8/site-packages/matplotlib/backends/backend_agg.py:240: RuntimeWarning: Glyph 47732 missing from current font.\n",
      "  font.set_text(s, 0.0, flags=flags)\n",
      "/Users/dhkim/miniforge3/envs/nlp/lib/python3.8/site-packages/matplotlib/backends/backend_agg.py:240: RuntimeWarning: Glyph 48148 missing from current font.\n",
      "  font.set_text(s, 0.0, flags=flags)\n",
      "/Users/dhkim/miniforge3/envs/nlp/lib/python3.8/site-packages/matplotlib/backends/backend_agg.py:240: RuntimeWarning: Glyph 45208 missing from current font.\n",
      "  font.set_text(s, 0.0, flags=flags)\n",
      "/Users/dhkim/miniforge3/envs/nlp/lib/python3.8/site-packages/matplotlib/backends/backend_agg.py:240: RuntimeWarning: Glyph 48374 missing from current font.\n",
      "  font.set_text(s, 0.0, flags=flags)\n",
      "/Users/dhkim/miniforge3/envs/nlp/lib/python3.8/site-packages/matplotlib/backends/backend_agg.py:240: RuntimeWarning: Glyph 51020 missing from current font.\n",
      "  font.set_text(s, 0.0, flags=flags)\n",
      "/Users/dhkim/miniforge3/envs/nlp/lib/python3.8/site-packages/matplotlib/backends/backend_agg.py:240: RuntimeWarning: Glyph 48165 missing from current font.\n",
      "  font.set_text(s, 0.0, flags=flags)\n",
      "/Users/dhkim/miniforge3/envs/nlp/lib/python3.8/site-packages/matplotlib/backends/backend_agg.py:240: RuntimeWarning: Glyph 48708 missing from current font.\n",
      "  font.set_text(s, 0.0, flags=flags)\n",
      "/Users/dhkim/miniforge3/envs/nlp/lib/python3.8/site-packages/matplotlib/backends/backend_agg.py:240: RuntimeWarning: Glyph 48724 missing from current font.\n",
      "  font.set_text(s, 0.0, flags=flags)\n",
      "/Users/dhkim/miniforge3/envs/nlp/lib/python3.8/site-packages/matplotlib/backends/backend_agg.py:240: RuntimeWarning: Glyph 49324 missing from current font.\n",
      "  font.set_text(s, 0.0, flags=flags)\n",
      "/Users/dhkim/miniforge3/envs/nlp/lib/python3.8/site-packages/matplotlib/backends/backend_agg.py:240: RuntimeWarning: Glyph 44284 missing from current font.\n",
      "  font.set_text(s, 0.0, flags=flags)\n",
      "/Users/dhkim/miniforge3/envs/nlp/lib/python3.8/site-packages/matplotlib/backends/backend_agg.py:240: RuntimeWarning: Glyph 49548 missing from current font.\n",
      "  font.set_text(s, 0.0, flags=flags)\n",
      "/Users/dhkim/miniforge3/envs/nlp/lib/python3.8/site-packages/matplotlib/backends/backend_agg.py:240: RuntimeWarning: Glyph 49828 missing from current font.\n",
      "  font.set_text(s, 0.0, flags=flags)\n",
      "/Users/dhkim/miniforge3/envs/nlp/lib/python3.8/site-packages/matplotlib/backends/backend_agg.py:240: RuntimeWarning: Glyph 49884 missing from current font.\n",
      "  font.set_text(s, 0.0, flags=flags)\n",
      "/Users/dhkim/miniforge3/envs/nlp/lib/python3.8/site-packages/matplotlib/backends/backend_agg.py:240: RuntimeWarning: Glyph 51676 missing from current font.\n",
      "  font.set_text(s, 0.0, flags=flags)\n",
      "/Users/dhkim/miniforge3/envs/nlp/lib/python3.8/site-packages/matplotlib/backends/backend_agg.py:240: RuntimeWarning: Glyph 51692 missing from current font.\n",
      "  font.set_text(s, 0.0, flags=flags)\n",
      "/Users/dhkim/miniforge3/envs/nlp/lib/python3.8/site-packages/matplotlib/backends/backend_agg.py:240: RuntimeWarning: Glyph 48981 missing from current font.\n",
      "  font.set_text(s, 0.0, flags=flags)\n",
      "/Users/dhkim/miniforge3/envs/nlp/lib/python3.8/site-packages/matplotlib/backends/backend_agg.py:240: RuntimeWarning: Glyph 53461 missing from current font.\n",
      "  font.set_text(s, 0.0, flags=flags)\n",
      "/Users/dhkim/miniforge3/envs/nlp/lib/python3.8/site-packages/matplotlib/backends/backend_agg.py:240: RuntimeWarning: Glyph 49688 missing from current font.\n",
      "  font.set_text(s, 0.0, flags=flags)\n",
      "/Users/dhkim/miniforge3/envs/nlp/lib/python3.8/site-packages/matplotlib/backends/backend_agg.py:240: RuntimeWarning: Glyph 50977 missing from current font.\n",
      "  font.set_text(s, 0.0, flags=flags)\n",
      "/Users/dhkim/miniforge3/envs/nlp/lib/python3.8/site-packages/matplotlib/backends/backend_agg.py:240: RuntimeWarning: Glyph 54252 missing from current font.\n",
      "  font.set_text(s, 0.0, flags=flags)\n",
      "/Users/dhkim/miniforge3/envs/nlp/lib/python3.8/site-packages/matplotlib/backends/backend_agg.py:240: RuntimeWarning: Glyph 46020 missing from current font.\n",
      "  font.set_text(s, 0.0, flags=flags)\n",
      "/Users/dhkim/miniforge3/envs/nlp/lib/python3.8/site-packages/matplotlib/backends/backend_agg.py:203: RuntimeWarning: Glyph 44032 missing from current font.\n",
      "  font.set_text(s, 0, flags=flags)\n",
      "/Users/dhkim/miniforge3/envs/nlp/lib/python3.8/site-packages/matplotlib/backends/backend_agg.py:203: RuntimeWarning: Glyph 52768 missing from current font.\n",
      "  font.set_text(s, 0, flags=flags)\n",
      "/Users/dhkim/miniforge3/envs/nlp/lib/python3.8/site-packages/matplotlib/backends/backend_agg.py:203: RuntimeWarning: Glyph 46041 missing from current font.\n",
      "  font.set_text(s, 0, flags=flags)\n",
      "/Users/dhkim/miniforge3/envs/nlp/lib/python3.8/site-packages/matplotlib/backends/backend_agg.py:203: RuntimeWarning: Glyph 44608 missing from current font.\n",
      "  font.set_text(s, 0, flags=flags)\n",
      "/Users/dhkim/miniforge3/envs/nlp/lib/python3.8/site-packages/matplotlib/backends/backend_agg.py:203: RuntimeWarning: Glyph 52824 missing from current font.\n",
      "  font.set_text(s, 0, flags=flags)\n",
      "/Users/dhkim/miniforge3/envs/nlp/lib/python3.8/site-packages/matplotlib/backends/backend_agg.py:203: RuntimeWarning: Glyph 52236 missing from current font.\n",
      "  font.set_text(s, 0, flags=flags)\n",
      "/Users/dhkim/miniforge3/envs/nlp/lib/python3.8/site-packages/matplotlib/backends/backend_agg.py:203: RuntimeWarning: Glyph 44060 missing from current font.\n",
      "  font.set_text(s, 0, flags=flags)\n",
      "/Users/dhkim/miniforge3/envs/nlp/lib/python3.8/site-packages/matplotlib/backends/backend_agg.py:203: RuntimeWarning: Glyph 46108 missing from current font.\n",
      "  font.set_text(s, 0, flags=flags)\n",
      "/Users/dhkim/miniforge3/envs/nlp/lib/python3.8/site-packages/matplotlib/backends/backend_agg.py:203: RuntimeWarning: Glyph 51109 missing from current font.\n",
      "  font.set_text(s, 0, flags=flags)\n",
      "/Users/dhkim/miniforge3/envs/nlp/lib/python3.8/site-packages/matplotlib/backends/backend_agg.py:203: RuntimeWarning: Glyph 46972 missing from current font.\n",
      "  font.set_text(s, 0, flags=flags)\n",
      "/Users/dhkim/miniforge3/envs/nlp/lib/python3.8/site-packages/matplotlib/backends/backend_agg.py:203: RuntimeWarning: Glyph 47732 missing from current font.\n",
      "  font.set_text(s, 0, flags=flags)\n",
      "/Users/dhkim/miniforge3/envs/nlp/lib/python3.8/site-packages/matplotlib/backends/backend_agg.py:203: RuntimeWarning: Glyph 48148 missing from current font.\n",
      "  font.set_text(s, 0, flags=flags)\n",
      "/Users/dhkim/miniforge3/envs/nlp/lib/python3.8/site-packages/matplotlib/backends/backend_agg.py:203: RuntimeWarning: Glyph 45208 missing from current font.\n",
      "  font.set_text(s, 0, flags=flags)\n",
      "/Users/dhkim/miniforge3/envs/nlp/lib/python3.8/site-packages/matplotlib/backends/backend_agg.py:203: RuntimeWarning: Glyph 48374 missing from current font.\n",
      "  font.set_text(s, 0, flags=flags)\n",
      "/Users/dhkim/miniforge3/envs/nlp/lib/python3.8/site-packages/matplotlib/backends/backend_agg.py:203: RuntimeWarning: Glyph 51020 missing from current font.\n",
      "  font.set_text(s, 0, flags=flags)\n",
      "/Users/dhkim/miniforge3/envs/nlp/lib/python3.8/site-packages/matplotlib/backends/backend_agg.py:203: RuntimeWarning: Glyph 48165 missing from current font.\n",
      "  font.set_text(s, 0, flags=flags)\n",
      "/Users/dhkim/miniforge3/envs/nlp/lib/python3.8/site-packages/matplotlib/backends/backend_agg.py:203: RuntimeWarning: Glyph 48708 missing from current font.\n",
      "  font.set_text(s, 0, flags=flags)\n",
      "/Users/dhkim/miniforge3/envs/nlp/lib/python3.8/site-packages/matplotlib/backends/backend_agg.py:203: RuntimeWarning: Glyph 48724 missing from current font.\n",
      "  font.set_text(s, 0, flags=flags)\n",
      "/Users/dhkim/miniforge3/envs/nlp/lib/python3.8/site-packages/matplotlib/backends/backend_agg.py:203: RuntimeWarning: Glyph 49324 missing from current font.\n",
      "  font.set_text(s, 0, flags=flags)\n",
      "/Users/dhkim/miniforge3/envs/nlp/lib/python3.8/site-packages/matplotlib/backends/backend_agg.py:203: RuntimeWarning: Glyph 44284 missing from current font.\n",
      "  font.set_text(s, 0, flags=flags)\n",
      "/Users/dhkim/miniforge3/envs/nlp/lib/python3.8/site-packages/matplotlib/backends/backend_agg.py:203: RuntimeWarning: Glyph 49548 missing from current font.\n",
      "  font.set_text(s, 0, flags=flags)\n",
      "/Users/dhkim/miniforge3/envs/nlp/lib/python3.8/site-packages/matplotlib/backends/backend_agg.py:203: RuntimeWarning: Glyph 49828 missing from current font.\n",
      "  font.set_text(s, 0, flags=flags)\n",
      "/Users/dhkim/miniforge3/envs/nlp/lib/python3.8/site-packages/matplotlib/backends/backend_agg.py:203: RuntimeWarning: Glyph 49884 missing from current font.\n",
      "  font.set_text(s, 0, flags=flags)\n",
      "/Users/dhkim/miniforge3/envs/nlp/lib/python3.8/site-packages/matplotlib/backends/backend_agg.py:203: RuntimeWarning: Glyph 51676 missing from current font.\n",
      "  font.set_text(s, 0, flags=flags)\n",
      "/Users/dhkim/miniforge3/envs/nlp/lib/python3.8/site-packages/matplotlib/backends/backend_agg.py:203: RuntimeWarning: Glyph 51692 missing from current font.\n",
      "  font.set_text(s, 0, flags=flags)\n",
      "/Users/dhkim/miniforge3/envs/nlp/lib/python3.8/site-packages/matplotlib/backends/backend_agg.py:203: RuntimeWarning: Glyph 48981 missing from current font.\n",
      "  font.set_text(s, 0, flags=flags)\n",
      "/Users/dhkim/miniforge3/envs/nlp/lib/python3.8/site-packages/matplotlib/backends/backend_agg.py:203: RuntimeWarning: Glyph 53461 missing from current font.\n",
      "  font.set_text(s, 0, flags=flags)\n",
      "/Users/dhkim/miniforge3/envs/nlp/lib/python3.8/site-packages/matplotlib/backends/backend_agg.py:203: RuntimeWarning: Glyph 49688 missing from current font.\n",
      "  font.set_text(s, 0, flags=flags)\n",
      "/Users/dhkim/miniforge3/envs/nlp/lib/python3.8/site-packages/matplotlib/backends/backend_agg.py:203: RuntimeWarning: Glyph 50977 missing from current font.\n",
      "  font.set_text(s, 0, flags=flags)\n",
      "/Users/dhkim/miniforge3/envs/nlp/lib/python3.8/site-packages/matplotlib/backends/backend_agg.py:203: RuntimeWarning: Glyph 54252 missing from current font.\n",
      "  font.set_text(s, 0, flags=flags)\n",
      "/Users/dhkim/miniforge3/envs/nlp/lib/python3.8/site-packages/matplotlib/backends/backend_agg.py:203: RuntimeWarning: Glyph 46020 missing from current font.\n",
      "  font.set_text(s, 0, flags=flags)\n"
     ]
    },
    {
     "name": "stderr",
     "output_type": "stream",
     "text": [
      "findfont: Font family ['NanumBarunGothic'] not found. Falling back to DejaVu Sans.\n"
     ]
    },
    {
     "data": {
      "image/png": "[encoded data removed]",
      "text/plain": [
       "<Figure size 576x432 with 2 Axes>"
      ]
     },
     "metadata": {
      "needs_background": "light"
     },
     "output_type": "display_data"
    }
   ],
   "source": [
    "visualize_similarity(word_similarity_matrix, vocab)"
   ]
  },
  {
   "cell_type": "code",
   "execution_count": 13,
   "metadata": {
    "ExecuteTime": {
     "end_time": "2021-07-11T02:23:25.932378Z",
     "start_time": "2021-07-11T02:23:25.928726Z"
    },
    "colab": {
     "base_uri": "https://localhost:8080/"
    },
    "id": "U9g2h1k_gWv6",
    "outputId": "32a91a82-38d9-4a9d-91c0-114b43fdb9a8"
   },
   "outputs": [
    {
     "data": {
      "text/plain": [
       "(12, 4)"
      ]
     },
     "execution_count": 13,
     "metadata": {},
     "output_type": "execute_result"
    }
   ],
   "source": [
    "U.shape"
   ]
  },
  {
   "cell_type": "code",
   "execution_count": 14,
   "metadata": {
    "ExecuteTime": {
     "end_time": "2021-07-11T02:23:26.400384Z",
     "start_time": "2021-07-11T02:23:25.934617Z"
    },
    "colab": {
     "base_uri": "https://localhost:8080/",
     "height": 555
    },
    "id": "oBzkxOTGhRfc",
    "outputId": "07f61022-2b53-402d-9150-139a6ea0d442"
   },
   "outputs": [
    {
     "name": "stderr",
     "output_type": "stream",
     "text": [
      "<ipython-input-11-52033ef3ae07>:5: DeprecationWarning: `np.bool` is a deprecated alias for the builtin `bool`. To silence this warning, use `bool` by itself. Doing this will not modify any behavior and is safe. If you specifically wanted the numpy scalar type, use `np.bool_` here.\n",
      "Deprecated in NumPy 1.20; for more details and guidance: https://numpy.org/devdocs/release/1.20.0-notes.html#deprecations\n",
      "  mask =np.triu(np.ones_like(similarity_matrix, dtype=np.bool))\n"
     ]
    },
    {
     "data": {
      "image/png": "[encoded data removed]",
      "text/plain": [
       "<Figure size 576x432 with 2 Axes>"
      ]
     },
     "metadata": {
      "needs_background": "light"
     },
     "output_type": "display_data"
    }
   ],
   "source": [
    "doc_similarity_matrix = calc_similarity_matrix(U)\n",
    "visualize_similarity(doc_similarity_matrix, doc_ls)"
   ]
  },
  {
   "cell_type": "code",
   "execution_count": 15,
   "metadata": {
    "ExecuteTime": {
     "end_time": "2021-07-11T02:23:26.510639Z",
     "start_time": "2021-07-11T02:23:26.403168Z"
    },
    "id": "_rFJDJgJhcFS"
   },
   "outputs": [],
   "source": [
    "from sklearn.manifold import TSNE\n",
    "\n",
    "def visualize_vectors(vectors, labels):\n",
    "    tsne = TSNE(n_components=2, n_iter=10000, perplexity=2)\n",
    "    np.set_printoptions(suppress=True)\n",
    "    T = tsne.fit_transform(vectors)\n",
    "\n",
    "    plt.figure(figsize=(10, 6))\n",
    "    plt.scatter(T[:,0], T[:, 1], c='orange', edgecolors='r')\n",
    "    for label, x, y in zip(labels, T[:,0], T[:, 1]):\n",
    "        plt.annotate(label, xy=(x+1, y+1), xytext=(0, 0), textcoords='offset points')"
   ]
  },
  {
   "cell_type": "code",
   "execution_count": 16,
   "metadata": {
    "ExecuteTime": {
     "end_time": "2021-07-11T02:23:29.642640Z",
     "start_time": "2021-07-11T02:23:26.512527Z"
    },
    "colab": {
     "base_uri": "https://localhost:8080/",
     "height": 446
    },
    "id": "mvx3j6Y4i4fH",
    "outputId": "f4bac835-604e-4d01-a34a-0b8684372a94"
   },
   "outputs": [
    {
     "name": "stderr",
     "output_type": "stream",
     "text": [
      "/Users/dhkim/miniforge3/envs/nlp/lib/python3.8/site-packages/matplotlib/backends/backend_agg.py:240: RuntimeWarning: Glyph 44032 missing from current font.\n",
      "  font.set_text(s, 0.0, flags=flags)\n",
      "/Users/dhkim/miniforge3/envs/nlp/lib/python3.8/site-packages/matplotlib/backends/backend_agg.py:240: RuntimeWarning: Glyph 52768 missing from current font.\n",
      "  font.set_text(s, 0.0, flags=flags)\n",
      "/Users/dhkim/miniforge3/envs/nlp/lib/python3.8/site-packages/matplotlib/backends/backend_agg.py:240: RuntimeWarning: Glyph 46041 missing from current font.\n",
      "  font.set_text(s, 0.0, flags=flags)\n",
      "/Users/dhkim/miniforge3/envs/nlp/lib/python3.8/site-packages/matplotlib/backends/backend_agg.py:240: RuntimeWarning: Glyph 44608 missing from current font.\n",
      "  font.set_text(s, 0.0, flags=flags)\n",
      "/Users/dhkim/miniforge3/envs/nlp/lib/python3.8/site-packages/matplotlib/backends/backend_agg.py:240: RuntimeWarning: Glyph 52824 missing from current font.\n",
      "  font.set_text(s, 0.0, flags=flags)\n",
      "/Users/dhkim/miniforge3/envs/nlp/lib/python3.8/site-packages/matplotlib/backends/backend_agg.py:240: RuntimeWarning: Glyph 52236 missing from current font.\n",
      "  font.set_text(s, 0.0, flags=flags)\n",
      "/Users/dhkim/miniforge3/envs/nlp/lib/python3.8/site-packages/matplotlib/backends/backend_agg.py:240: RuntimeWarning: Glyph 44060 missing from current font.\n",
      "  font.set_text(s, 0.0, flags=flags)\n",
      "/Users/dhkim/miniforge3/envs/nlp/lib/python3.8/site-packages/matplotlib/backends/backend_agg.py:240: RuntimeWarning: Glyph 46108 missing from current font.\n",
      "  font.set_text(s, 0.0, flags=flags)\n",
      "/Users/dhkim/miniforge3/envs/nlp/lib/python3.8/site-packages/matplotlib/backends/backend_agg.py:240: RuntimeWarning: Glyph 51109 missing from current font.\n",
      "  font.set_text(s, 0.0, flags=flags)\n",
      "/Users/dhkim/miniforge3/envs/nlp/lib/python3.8/site-packages/matplotlib/backends/backend_agg.py:240: RuntimeWarning: Glyph 46972 missing from current font.\n",
      "  font.set_text(s, 0.0, flags=flags)\n",
      "/Users/dhkim/miniforge3/envs/nlp/lib/python3.8/site-packages/matplotlib/backends/backend_agg.py:240: RuntimeWarning: Glyph 47732 missing from current font.\n",
      "  font.set_text(s, 0.0, flags=flags)\n",
      "/Users/dhkim/miniforge3/envs/nlp/lib/python3.8/site-packages/matplotlib/backends/backend_agg.py:240: RuntimeWarning: Glyph 48148 missing from current font.\n",
      "  font.set_text(s, 0.0, flags=flags)\n",
      "/Users/dhkim/miniforge3/envs/nlp/lib/python3.8/site-packages/matplotlib/backends/backend_agg.py:240: RuntimeWarning: Glyph 45208 missing from current font.\n",
      "  font.set_text(s, 0.0, flags=flags)\n",
      "/Users/dhkim/miniforge3/envs/nlp/lib/python3.8/site-packages/matplotlib/backends/backend_agg.py:240: RuntimeWarning: Glyph 48374 missing from current font.\n",
      "  font.set_text(s, 0.0, flags=flags)\n",
      "/Users/dhkim/miniforge3/envs/nlp/lib/python3.8/site-packages/matplotlib/backends/backend_agg.py:240: RuntimeWarning: Glyph 51020 missing from current font.\n",
      "  font.set_text(s, 0.0, flags=flags)\n",
      "/Users/dhkim/miniforge3/envs/nlp/lib/python3.8/site-packages/matplotlib/backends/backend_agg.py:240: RuntimeWarning: Glyph 48165 missing from current font.\n",
      "  font.set_text(s, 0.0, flags=flags)\n",
      "/Users/dhkim/miniforge3/envs/nlp/lib/python3.8/site-packages/matplotlib/backends/backend_agg.py:240: RuntimeWarning: Glyph 48708 missing from current font.\n",
      "  font.set_text(s, 0.0, flags=flags)\n",
      "/Users/dhkim/miniforge3/envs/nlp/lib/python3.8/site-packages/matplotlib/backends/backend_agg.py:240: RuntimeWarning: Glyph 48724 missing from current font.\n",
      "  font.set_text(s, 0.0, flags=flags)\n",
      "/Users/dhkim/miniforge3/envs/nlp/lib/python3.8/site-packages/matplotlib/backends/backend_agg.py:240: RuntimeWarning: Glyph 49324 missing from current font.\n",
      "  font.set_text(s, 0.0, flags=flags)\n",
      "/Users/dhkim/miniforge3/envs/nlp/lib/python3.8/site-packages/matplotlib/backends/backend_agg.py:240: RuntimeWarning: Glyph 44284 missing from current font.\n",
      "  font.set_text(s, 0.0, flags=flags)\n",
      "/Users/dhkim/miniforge3/envs/nlp/lib/python3.8/site-packages/matplotlib/backends/backend_agg.py:240: RuntimeWarning: Glyph 49548 missing from current font.\n",
      "  font.set_text(s, 0.0, flags=flags)\n",
      "/Users/dhkim/miniforge3/envs/nlp/lib/python3.8/site-packages/matplotlib/backends/backend_agg.py:240: RuntimeWarning: Glyph 49828 missing from current font.\n",
      "  font.set_text(s, 0.0, flags=flags)\n",
      "/Users/dhkim/miniforge3/envs/nlp/lib/python3.8/site-packages/matplotlib/backends/backend_agg.py:240: RuntimeWarning: Glyph 49884 missing from current font.\n",
      "  font.set_text(s, 0.0, flags=flags)\n",
      "/Users/dhkim/miniforge3/envs/nlp/lib/python3.8/site-packages/matplotlib/backends/backend_agg.py:240: RuntimeWarning: Glyph 51676 missing from current font.\n",
      "  font.set_text(s, 0.0, flags=flags)\n",
      "/Users/dhkim/miniforge3/envs/nlp/lib/python3.8/site-packages/matplotlib/backends/backend_agg.py:240: RuntimeWarning: Glyph 51692 missing from current font.\n",
      "  font.set_text(s, 0.0, flags=flags)\n",
      "/Users/dhkim/miniforge3/envs/nlp/lib/python3.8/site-packages/matplotlib/backends/backend_agg.py:240: RuntimeWarning: Glyph 48981 missing from current font.\n",
      "  font.set_text(s, 0.0, flags=flags)\n",
      "/Users/dhkim/miniforge3/envs/nlp/lib/python3.8/site-packages/matplotlib/backends/backend_agg.py:240: RuntimeWarning: Glyph 53461 missing from current font.\n",
      "  font.set_text(s, 0.0, flags=flags)\n",
      "/Users/dhkim/miniforge3/envs/nlp/lib/python3.8/site-packages/matplotlib/backends/backend_agg.py:240: RuntimeWarning: Glyph 49688 missing from current font.\n",
      "  font.set_text(s, 0.0, flags=flags)\n",
      "/Users/dhkim/miniforge3/envs/nlp/lib/python3.8/site-packages/matplotlib/backends/backend_agg.py:240: RuntimeWarning: Glyph 50977 missing from current font.\n",
      "  font.set_text(s, 0.0, flags=flags)\n",
      "/Users/dhkim/miniforge3/envs/nlp/lib/python3.8/site-packages/matplotlib/backends/backend_agg.py:240: RuntimeWarning: Glyph 54252 missing from current font.\n",
      "  font.set_text(s, 0.0, flags=flags)\n",
      "/Users/dhkim/miniforge3/envs/nlp/lib/python3.8/site-packages/matplotlib/backends/backend_agg.py:240: RuntimeWarning: Glyph 46020 missing from current font.\n",
      "  font.set_text(s, 0.0, flags=flags)\n",
      "/Users/dhkim/miniforge3/envs/nlp/lib/python3.8/site-packages/matplotlib/backends/backend_agg.py:203: RuntimeWarning: Glyph 44032 missing from current font.\n",
      "  font.set_text(s, 0, flags=flags)\n",
      "/Users/dhkim/miniforge3/envs/nlp/lib/python3.8/site-packages/matplotlib/backends/backend_agg.py:203: RuntimeWarning: Glyph 52768 missing from current font.\n",
      "  font.set_text(s, 0, flags=flags)\n",
      "/Users/dhkim/miniforge3/envs/nlp/lib/python3.8/site-packages/matplotlib/backends/backend_agg.py:203: RuntimeWarning: Glyph 46041 missing from current font.\n",
      "  font.set_text(s, 0, flags=flags)\n",
      "/Users/dhkim/miniforge3/envs/nlp/lib/python3.8/site-packages/matplotlib/backends/backend_agg.py:203: RuntimeWarning: Glyph 44608 missing from current font.\n",
      "  font.set_text(s, 0, flags=flags)\n",
      "/Users/dhkim/miniforge3/envs/nlp/lib/python3.8/site-packages/matplotlib/backends/backend_agg.py:203: RuntimeWarning: Glyph 52824 missing from current font.\n",
      "  font.set_text(s, 0, flags=flags)\n",
      "/Users/dhkim/miniforge3/envs/nlp/lib/python3.8/site-packages/matplotlib/backends/backend_agg.py:203: RuntimeWarning: Glyph 52236 missing from current font.\n",
      "  font.set_text(s, 0, flags=flags)\n",
      "/Users/dhkim/miniforge3/envs/nlp/lib/python3.8/site-packages/matplotlib/backends/backend_agg.py:203: RuntimeWarning: Glyph 44060 missing from current font.\n",
      "  font.set_text(s, 0, flags=flags)\n",
      "/Users/dhkim/miniforge3/envs/nlp/lib/python3.8/site-packages/matplotlib/backends/backend_agg.py:203: RuntimeWarning: Glyph 46108 missing from current font.\n",
      "  font.set_text(s, 0, flags=flags)\n",
      "/Users/dhkim/miniforge3/envs/nlp/lib/python3.8/site-packages/matplotlib/backends/backend_agg.py:203: RuntimeWarning: Glyph 51109 missing from current font.\n",
      "  font.set_text(s, 0, flags=flags)\n",
      "/Users/dhkim/miniforge3/envs/nlp/lib/python3.8/site-packages/matplotlib/backends/backend_agg.py:203: RuntimeWarning: Glyph 46972 missing from current font.\n",
      "  font.set_text(s, 0, flags=flags)\n",
      "/Users/dhkim/miniforge3/envs/nlp/lib/python3.8/site-packages/matplotlib/backends/backend_agg.py:203: RuntimeWarning: Glyph 47732 missing from current font.\n",
      "  font.set_text(s, 0, flags=flags)\n",
      "/Users/dhkim/miniforge3/envs/nlp/lib/python3.8/site-packages/matplotlib/backends/backend_agg.py:203: RuntimeWarning: Glyph 48148 missing from current font.\n",
      "  font.set_text(s, 0, flags=flags)\n",
      "/Users/dhkim/miniforge3/envs/nlp/lib/python3.8/site-packages/matplotlib/backends/backend_agg.py:203: RuntimeWarning: Glyph 45208 missing from current font.\n",
      "  font.set_text(s, 0, flags=flags)\n",
      "/Users/dhkim/miniforge3/envs/nlp/lib/python3.8/site-packages/matplotlib/backends/backend_agg.py:203: RuntimeWarning: Glyph 48374 missing from current font.\n",
      "  font.set_text(s, 0, flags=flags)\n",
      "/Users/dhkim/miniforge3/envs/nlp/lib/python3.8/site-packages/matplotlib/backends/backend_agg.py:203: RuntimeWarning: Glyph 51020 missing from current font.\n",
      "  font.set_text(s, 0, flags=flags)\n",
      "/Users/dhkim/miniforge3/envs/nlp/lib/python3.8/site-packages/matplotlib/backends/backend_agg.py:203: RuntimeWarning: Glyph 48165 missing from current font.\n",
      "  font.set_text(s, 0, flags=flags)\n",
      "/Users/dhkim/miniforge3/envs/nlp/lib/python3.8/site-packages/matplotlib/backends/backend_agg.py:203: RuntimeWarning: Glyph 48708 missing from current font.\n",
      "  font.set_text(s, 0, flags=flags)\n",
      "/Users/dhkim/miniforge3/envs/nlp/lib/python3.8/site-packages/matplotlib/backends/backend_agg.py:203: RuntimeWarning: Glyph 48724 missing from current font.\n",
      "  font.set_text(s, 0, flags=flags)\n",
      "/Users/dhkim/miniforge3/envs/nlp/lib/python3.8/site-packages/matplotlib/backends/backend_agg.py:203: RuntimeWarning: Glyph 49324 missing from current font.\n",
      "  font.set_text(s, 0, flags=flags)\n",
      "/Users/dhkim/miniforge3/envs/nlp/lib/python3.8/site-packages/matplotlib/backends/backend_agg.py:203: RuntimeWarning: Glyph 44284 missing from current font.\n",
      "  font.set_text(s, 0, flags=flags)\n",
      "/Users/dhkim/miniforge3/envs/nlp/lib/python3.8/site-packages/matplotlib/backends/backend_agg.py:203: RuntimeWarning: Glyph 49548 missing from current font.\n",
      "  font.set_text(s, 0, flags=flags)\n",
      "/Users/dhkim/miniforge3/envs/nlp/lib/python3.8/site-packages/matplotlib/backends/backend_agg.py:203: RuntimeWarning: Glyph 49828 missing from current font.\n",
      "  font.set_text(s, 0, flags=flags)\n",
      "/Users/dhkim/miniforge3/envs/nlp/lib/python3.8/site-packages/matplotlib/backends/backend_agg.py:203: RuntimeWarning: Glyph 49884 missing from current font.\n",
      "  font.set_text(s, 0, flags=flags)\n",
      "/Users/dhkim/miniforge3/envs/nlp/lib/python3.8/site-packages/matplotlib/backends/backend_agg.py:203: RuntimeWarning: Glyph 51676 missing from current font.\n",
      "  font.set_text(s, 0, flags=flags)\n",
      "/Users/dhkim/miniforge3/envs/nlp/lib/python3.8/site-packages/matplotlib/backends/backend_agg.py:203: RuntimeWarning: Glyph 51692 missing from current font.\n",
      "  font.set_text(s, 0, flags=flags)\n",
      "/Users/dhkim/miniforge3/envs/nlp/lib/python3.8/site-packages/matplotlib/backends/backend_agg.py:203: RuntimeWarning: Glyph 48981 missing from current font.\n",
      "  font.set_text(s, 0, flags=flags)\n",
      "/Users/dhkim/miniforge3/envs/nlp/lib/python3.8/site-packages/matplotlib/backends/backend_agg.py:203: RuntimeWarning: Glyph 53461 missing from current font.\n",
      "  font.set_text(s, 0, flags=flags)\n",
      "/Users/dhkim/miniforge3/envs/nlp/lib/python3.8/site-packages/matplotlib/backends/backend_agg.py:203: RuntimeWarning: Glyph 49688 missing from current font.\n",
      "  font.set_text(s, 0, flags=flags)\n",
      "/Users/dhkim/miniforge3/envs/nlp/lib/python3.8/site-packages/matplotlib/backends/backend_agg.py:203: RuntimeWarning: Glyph 50977 missing from current font.\n",
      "  font.set_text(s, 0, flags=flags)\n",
      "/Users/dhkim/miniforge3/envs/nlp/lib/python3.8/site-packages/matplotlib/backends/backend_agg.py:203: RuntimeWarning: Glyph 54252 missing from current font.\n",
      "  font.set_text(s, 0, flags=flags)\n",
      "/Users/dhkim/miniforge3/envs/nlp/lib/python3.8/site-packages/matplotlib/backends/backend_agg.py:203: RuntimeWarning: Glyph 46020 missing from current font.\n",
      "  font.set_text(s, 0, flags=flags)\n"
     ]
    },
    {
     "data": {
      "image/png": "[encoded data removed]",
      "text/plain": [
       "<Figure size 720x432 with 1 Axes>"
      ]
     },
     "metadata": {
      "needs_background": "light"
     },
     "output_type": "display_data"
    }
   ],
   "source": [
    "visualize_vectors(word_vectors, vocab)"
   ]
  },
  {
   "cell_type": "markdown",
   "metadata": {
    "id": "_d9wiA13AfLO"
   },
   "source": [
    "# LDA"
   ]
  },
  {
   "cell_type": "code",
   "execution_count": 19,
   "metadata": {
    "ExecuteTime": {
     "end_time": "2021-07-11T02:23:56.206037Z",
     "start_time": "2021-07-11T02:23:56.202036Z"
    },
    "id": "fX7Vo9usjIyC"
   },
   "outputs": [],
   "source": [
    "import enum\n",
    "import random\n",
    "import numpy as np\n",
    "import nltk\n",
    "from nltk.tokenize import word_tokenize\n",
    "from nltk.stem import PorterStemmer, porter\n",
    "from nltk.corpus import stopwords\n",
    "from collections import defaultdict\n",
    "\n",
    "topic_indices = [0, 1, 0, 1, 0, 1, 1, 0, 0, 0, 1, 0, 1, 1, 1, 0, 0]\n",
    "\n",
    "doc_ls = [\"Cute kitty\", \n",
    "\"Eat rice or cake\", \n",
    "\"Kitty and hamster\",\n",
    "\"Eat bread\", \n",
    "\"Rice, bread and cake\", \n",
    "\"Cute hamster eats bread and cake\"]\n"
   ]
  },
  {
   "cell_type": "code",
   "execution_count": 20,
   "metadata": {
    "ExecuteTime": {
     "end_time": "2021-07-11T02:23:57.220438Z",
     "start_time": "2021-07-11T02:23:56.873894Z"
    },
    "colab": {
     "base_uri": "https://localhost:8080/"
    },
    "id": "drS23C6Emu_8",
    "outputId": "16b541d1-a355-4977-e02a-8990c511c7b9"
   },
   "outputs": [
    {
     "name": "stderr",
     "output_type": "stream",
     "text": [
      "[nltk_data] Downloading package punkt to /Users/dhkim/nltk_data...\n",
      "[nltk_data]   Package punkt is already up-to-date!\n",
      "[nltk_data] Downloading package stopwords to /Users/dhkim/nltk_data...\n",
      "[nltk_data]   Package stopwords is already up-to-date!\n"
     ]
    },
    {
     "data": {
      "text/plain": [
       "True"
      ]
     },
     "execution_count": 20,
     "metadata": {},
     "output_type": "execute_result"
    }
   ],
   "source": [
    "\n",
    "nltk.download('punkt')\n",
    "nltk.download('stopwords')"
   ]
  },
  {
   "cell_type": "code",
   "execution_count": 21,
   "metadata": {
    "ExecuteTime": {
     "end_time": "2021-07-11T02:23:58.969399Z",
     "start_time": "2021-07-11T02:23:58.956148Z"
    },
    "id": "El8aoNozmmIT"
   },
   "outputs": [],
   "source": [
    "\n",
    "class LDA:\n",
    "\n",
    "    def __init__(self, docs, topic_num, alpha=0.1, beta=0.001):\n",
    "        self.alpha = alpha\n",
    "        self.beta = beta\n",
    "        self.k = topic_num\n",
    "        self.docs = docs\n",
    "\n",
    "    def randomly_analysis_topic (self):\n",
    "        dic = defaultdict()\n",
    "        t2i = defaultdict(lambda: len(t2i))\n",
    "        i2t = defaultdict()\n",
    "\n",
    "        porter = PorterStemmer()\n",
    "        stopword = stopwords.words('english')\n",
    "        stopword.append(',')\n",
    "        index = 0\n",
    "        for d, tokens in enumerate([word_tokenize(doc) for doc in self.docs]):\n",
    "            for w, token in enumerate([porter.stem(token.lower()) for token in tokens if token not in stopword]):\n",
    "                i2t[t2i[token]]= token\n",
    "                dic[(d, t2i[token], w)] = topic_indices[index]\n",
    "                # dic[(d, t2i[token], w)] = random.randint(0, self.k -1)\n",
    "                index += 1\n",
    "\n",
    "        return dic, t2i, i2t\n",
    "\n",
    "    def count_doc_topic(self, term_topic, t2i):\n",
    "        docs = np.zeros((self.k, len(self.docs)))\n",
    "        terms = np.zeros((self.k, len(t2i)))\n",
    "\n",
    "        docs.fill(self.alpha)\n",
    "        terms.fill(self.beta)\n",
    "\n",
    "        for (d, n, w) in term_topic.keys():\n",
    "            topic = term_topic[(d, n, w)]\n",
    "            docs[topic, d] += 1\n",
    "            terms[topic, n] += 1\n",
    "\n",
    "        print(docs)\n",
    "        print(terms)\n",
    "\n",
    "        return docs, terms\n",
    "\n",
    "\n",
    "\n",
    "    def iterate_assign_topic(self, term_topic, docs, terms, i2t):\n",
    "        prev = {}\n",
    "\n",
    "        while prev != term_topic:\n",
    "            for (d, n, w) in term_topic:\n",
    "                topic = [0, 0]\n",
    "\n",
    "                docs[term_topic[(d, n, w)], d] -= 1\n",
    "                terms[term_topic[(d, n, w)], n] -= 1\n",
    "\n",
    "                prev = term_topic\n",
    "\n",
    "                for t in range(self.k):\n",
    "                    p_t_d = docs[t, d] /docs[:, d].sum()\n",
    "                    p_w_t = terms[t, n] / terms[t, :].sum()\n",
    "                    prob = p_t_d * p_w_t\n",
    "\n",
    "                    if topic[1] < prob:\n",
    "                        topic = [t, prob]\n",
    "\n",
    "\n",
    "                term_topic[(d, n, w)] = topic[0]\n",
    "                docs[topic[0], d] += 1\n",
    "                terms[topic[0], n] += 1\n",
    "\n",
    "        return terms\n",
    "\n",
    "\n",
    "    def topic_modeling(self, count=3):\n",
    "        term_topic, t2i, i2t = self.randomly_analysis_topic()\n",
    "        docs, terms  = self.count_doc_topic(term_topic, t2i)\n",
    "        terms = self.iterate_assign_topic(term_topic, docs, terms, i2t)\n",
    "\n",
    "        score = terms / terms.sum(axis=1, keepdims=True)\n",
    "\n",
    "        for i in range(self.k):\n",
    "            print(f\"topic {i} =>\", end=\" \")\n",
    "            sorted_index = np.flip(np.argsort(score[i]), 0)[:count]\n",
    "            for j in sorted_index:\n",
    "                print(\"({}, {})\".format(i2t[j], score[i, j].round(3)), end=\" \")\n",
    "\n",
    "            print(\"\")\n"
   ]
  },
  {
   "cell_type": "code",
   "execution_count": 22,
   "metadata": {
    "ExecuteTime": {
     "end_time": "2021-07-11T02:24:00.172585Z",
     "start_time": "2021-07-11T02:24:00.155846Z"
    },
    "colab": {
     "base_uri": "https://localhost:8080/"
    },
    "id": "QveZ9sJVmqNG",
    "outputId": "0df8fb4d-c807-451c-d121-31cdf812ea06"
   },
   "outputs": [
    {
     "name": "stdout",
     "output_type": "stream",
     "text": [
      "[[1.1 2.1 0.1 2.1 2.1 2.1]\n",
      " [1.1 1.1 2.1 0.1 1.1 3.1]]\n",
      "[[1.001 0.001 2.001 1.001 3.001 0.001 2.001]\n",
      " [1.001 2.001 1.001 1.001 0.001 2.001 1.001]]\n",
      "topic 0 => (bread, 0.273) (cake, 0.273) (eat, 0.273) \n",
      "topic 1 => (hamster, 0.333) (kitti, 0.333) (cute, 0.333) \n"
     ]
    }
   ],
   "source": [
    "lda = LDA(doc_ls, 2)\n",
    "lda.topic_modeling(3)"
   ]
  },
  {
   "cell_type": "code",
   "execution_count": 23,
   "metadata": {
    "ExecuteTime": {
     "end_time": "2021-07-11T02:24:01.111677Z",
     "start_time": "2021-07-11T02:24:01.109103Z"
    },
    "colab": {
     "base_uri": "https://localhost:8080/",
     "height": 936
    },
    "id": "LysG8_JkmroQ",
    "outputId": "df90207c-0f09-4f45-f05c-cc3285084a01"
   },
   "outputs": [],
   "source": [
    "#pip install pyLDAvis"
   ]
  },
  {
   "cell_type": "code",
   "execution_count": 24,
   "metadata": {
    "ExecuteTime": {
     "end_time": "2021-07-11T02:24:03.941486Z",
     "start_time": "2021-07-11T02:24:02.501334Z"
    },
    "colab": {
     "base_uri": "https://localhost:8080/"
    },
    "id": "Sv8f1nFloKXv",
    "outputId": "3589d335-4285-487f-8ae8-0afbbaff0c44"
   },
   "outputs": [],
   "source": [
    "from sklearn.datasets import fetch_20newsgroups\n",
    "dataset = fetch_20newsgroups(shuffle=True, random_state=42, remove=('header', 'footer', 'quotes'))"
   ]
  },
  {
   "cell_type": "code",
   "execution_count": 25,
   "metadata": {
    "ExecuteTime": {
     "end_time": "2021-07-11T02:24:04.562150Z",
     "start_time": "2021-07-11T02:24:04.560078Z"
    },
    "id": "GiA2lB0mpJVm"
   },
   "outputs": [],
   "source": [
    "# !pip install spacy\n",
    "# !python -m spacy download en_core_web_sm\n"
   ]
  },
  {
   "cell_type": "code",
   "execution_count": 26,
   "metadata": {
    "ExecuteTime": {
     "end_time": "2021-07-11T02:24:12.997941Z",
     "start_time": "2021-07-11T02:24:05.171239Z"
    },
    "id": "JUQy0OM5or82"
   },
   "outputs": [],
   "source": [
    "import spacy\n",
    "nlp = spacy.load('en_core_web_sm')"
   ]
  },
  {
   "cell_type": "code",
   "execution_count": 27,
   "metadata": {
    "ExecuteTime": {
     "end_time": "2021-07-11T02:24:14.235745Z",
     "start_time": "2021-07-11T02:24:14.192414Z"
    },
    "colab": {
     "base_uri": "https://localhost:8080/"
    },
    "id": "DRa0IlWPvg-Y",
    "outputId": "76bb5d51-6cc4-44c2-c52c-b54d6d8f43f9"
   },
   "outputs": [
    {
     "name": "stdout",
     "output_type": "stream",
     "text": [
      "From: lerxst@wam.umd.edu (where's my thing)\n",
      "Subject: WHAT car is this!?\n",
      "Nntp-Posting-Host: rac3.wam.umd.edu\n",
      "Organization: University of Maryland, College Park\n",
      "Lines: 15\n",
      "\n",
      " I was wondering if anyone out there could enlighten me on this car I saw\n",
      "the other day. It was a 2-door sports car, looked to be from the late 60s/\n",
      "early 70s. It was called a Bricklin. The doors were really small. In addition,\n",
      "the front bumper was separate from the rest of the body. This is \n",
      "all I know. If anyone can tellme a model name, engine specs, years\n",
      "of production, where this car is made, history, or whatever info you\n",
      "have on this funky looking car, please e-mail.\n",
      "\n",
      "Thanks,\n",
      "- IL\n",
      "   ---- brought to you by your neighborhood Lerxst ----\n",
      "\n",
      "\n",
      "\n",
      "\n",
      "\n",
      "******************************\n",
      "lerxst@wam.umd.edu thing Subject car Nntp Posting Host rac3.wam.umd.edu Organization University Maryland College Park Lines car day door sports car 60s/ 70s Bricklin doors addition bumper rest body model engine specs years production car history info car e - mail Thanks IL ---- neighborhood Lerxst ----\n"
     ]
    }
   ],
   "source": [
    "print(dataset.data[0])\n",
    "doc = nlp(dataset.data[0])\n",
    "result = \" \".join([token.text for token in doc if token.is_stop==False and token.tag_[0] == 'N' ])\n",
    "print(\"*\"*30)\n",
    "print(result)\n",
    "# for token in doc:\n",
    "#     print(token.text, token.lemma_, token.tag_, token.pos_, token.is_stop, )"
   ]
  },
  {
   "cell_type": "code",
   "execution_count": 28,
   "metadata": {
    "ExecuteTime": {
     "end_time": "2021-07-11T02:24:15.096670Z",
     "start_time": "2021-07-11T02:24:15.092873Z"
    },
    "id": "eocgW8FixmuU"
   },
   "outputs": [],
   "source": [
    "def cleansing(text):\n",
    "    result = \"\"\n",
    "    if text:\n",
    "        doc = nlp(text)\n",
    "        result = \" \".join([token.text for token in doc if token.is_stop==False and token.tag_[0] in ['N', 'V'] ])\n",
    "        return result\n",
    "\n",
    "    return result"
   ]
  },
  {
   "cell_type": "code",
   "execution_count": 29,
   "metadata": {
    "ExecuteTime": {
     "end_time": "2021-07-11T02:27:56.355039Z",
     "start_time": "2021-07-11T02:24:15.903998Z"
    },
    "colab": {
     "base_uri": "https://localhost:8080/"
    },
    "id": "svQDl4GmpB30",
    "outputId": "b4986345-53e6-489e-aa05-ca79490d378e"
   },
   "outputs": [
    {
     "name": "stderr",
     "output_type": "stream",
     "text": [
      "<ipython-input-29-0ce8d868523f>:4: FutureWarning: The default value of regex will change from True to False in a future version.\n",
      "  news_df['clean_doc'] = news_df['document'].str.replace(\"[^a-zA-Z]\", \" \")\n"
     ]
    }
   ],
   "source": [
    "import pandas as pd\n",
    "\n",
    "news_df = pd.DataFrame({'document':dataset.data})\n",
    "news_df['clean_doc'] = news_df['document'].str.replace(\"[^a-zA-Z]\", \" \")\n",
    "news_df['clean_doc'] = news_df['clean_doc'].apply(lambda x: \" \".join([w.lower() for w in x.split() if len(w) > 3]))\n",
    "news_df['clean_doc'] = news_df['clean_doc'].apply(cleansing)"
   ]
  },
  {
   "cell_type": "code",
   "execution_count": 30,
   "metadata": {
    "ExecuteTime": {
     "end_time": "2021-07-11T02:27:56.971197Z",
     "start_time": "2021-07-11T02:27:56.968541Z"
    },
    "id": "x52M-d2nzIH2"
   },
   "outputs": [],
   "source": [
    "def my_tokenizer(text):\n",
    "    return text.split()"
   ]
  },
  {
   "cell_type": "code",
   "execution_count": 31,
   "metadata": {
    "ExecuteTime": {
     "end_time": "2021-07-11T02:29:48.188183Z",
     "start_time": "2021-07-11T02:27:57.568804Z"
    },
    "id": "tHADZu1nutRL"
   },
   "outputs": [],
   "source": [
    "from sklearn.feature_extraction.text import TfidfVectorizer\n",
    "from sklearn.decomposition import LatentDirichletAllocation\n",
    "\n",
    "tfidf_vect = TfidfVectorizer(tokenizer=my_tokenizer)\n",
    "tfidf = tfidf_vect.fit_transform(news_df['clean_doc'])\n",
    "lda = LatentDirichletAllocation(n_components=20, max_iter=20, learning_method='online', random_state=42)\n",
    "lda_output = lda.fit_transform(tfidf)\n"
   ]
  },
  {
   "cell_type": "code",
   "execution_count": 32,
   "metadata": {
    "ExecuteTime": {
     "end_time": "2021-07-11T02:29:55.138071Z",
     "start_time": "2021-07-11T02:29:48.820167Z"
    },
    "colab": {
     "base_uri": "https://localhost:8080/",
     "height": 1000
    },
    "id": "T2DuW7780MZO",
    "outputId": "0996c7a5-aa9e-4221-eec5-8c2384bb7116"
   },
   "outputs": [
    {
     "name": "stderr",
     "output_type": "stream",
     "text": [
      "/Users/dhkim/miniforge3/envs/nlp/lib/python3.8/site-packages/pyLDAvis/_prepare.py:246: FutureWarning: In a future version of pandas all arguments of DataFrame.drop except for the argument 'labels' will be keyword-only\n",
      "  default_term_info = default_term_info.sort_values(\n",
      "/Users/dhkim/miniforge3/envs/nlp/lib/python3.8/site-packages/sklearn/manifold/_t_sne.py:691: FutureWarning: 'square_distances' has been introduced in 0.24 to help phase out legacy squaring behavior. The 'legacy' setting will be removed in 1.1 (renaming of 0.26), and the default setting will be changed to True. In 1.3, 'square_distances' will be removed altogether, and distances will be squared by default. Set 'square_distances'=True to silence this warning.\n",
      "  warnings.warn(\n"
     ]
    },
    {
     "data": {
      "text/html": [
       "\n",
       "<link rel=\"stylesheet\" type=\"text/css\" href=\"https://cdn.jsdelivr.net/gh/bmabey/pyLDAvis@3.3.1/pyLDAvis/js/ldavis.v1.0.0.css\">\n",
       "\n",
       "\n",
       "<div id=\"ldavis_el327611402696615083205508739561\"></div>\n",
       "<script type=\"text/javascript\">\n",
       "\n",
       "var ldavis_el327611402696615083205508739561_data = {\"mdsDat\": {\"x\": [-10.878067970275879, -60.88402557373047, -2.3361191749572754, -61.385318756103516, -28.737743377685547, 1.0666056871414185, 45.14072036743164, -140.7959747314453, 61.531681060791016, -72.56305694580078, 15.984491348266602, -160.85162353515625, 85.96183013916016, -99.02083587646484, -176.76412963867188, -117.18988037109375, 108.82991790771484, 47.588096618652344, -106.46783447265625, -50.61380386352539], \"y\": [10.538727760314941, -75.5918197631836, -53.2890739440918, -12.914633750915527, 126.2969970703125, -123.55281066894531, -7.947869300842285, -98.53054809570312, -83.24056243896484, -140.39688110351562, 63.57818603515625, 68.94514465332031, 51.922935485839844, 109.93634796142578, -8.681683540344238, -37.42020034790039, -22.946203231811523, 121.934814453125, 30.176889419555664, 59.32884216308594], \"topics\": [1, 2, 3, 4, 5, 6, 7, 8, 9, 10, 11, 12, 13, 14, 15, 16, 17, 18, 19, 20], \"cluster\": [1, 1, 1, 1, 1, 1, 1, 1, 1, 1, 1, 1, 1, 1, 1, 1, 1, 1, 1, 1], \"Freq\": [80.29421423816233, 1.466574745166397, 1.3963806799405454, 1.380271931112624, 1.2722544247620795, 1.1906157314796322, 1.1772081678414537, 1.1289102295387647, 1.1093059120326925, 1.0494658253813434, 0.9709369421936093, 0.9254752031732242, 0.915606247969259, 0.8791482992639281, 0.8647871351139308, 0.8416913543366263, 0.8207901777836486, 0.7920988510290442, 0.7763006006168692, 0.7479633031019868]}, \"tinfo\": {\"Term\": [\"keith\", \"toronto\", \"caltech\", \"pittsburgh\", \"univ\", \"science\", \"pitt\", \"gordon\", \"buffalo\", \"banks\", \"pasadena\", \"henry\", \"orbit\", \"duke\", \"atheists\", \"rose\", \"armenians\", \"informatik\", \"spencer\", \"turkey\", \"genocide\", \"walker\", \"ingr\", \"surrender\", \"armenia\", \"finland\", \"jupiter\", \"serdar\", \"cramer\", \"mountain\", \"subject\", \"lines\", \"organization\", \"posting\", \"university\", \"host\", \"nntp\", \"people\", \"know\", \"think\", \"distribution\", \"time\", \"world\", \"computer\", \"reply\", \"state\", \"thanks\", \"system\", \"windows\", \"need\", \"mail\", \"problem\", \"want\", \"work\", \"help\", \"article\", \"drive\", \"david\", \"access\", \"software\", \"bony\", \"hulman\", \"louisville\", \"livni\", \"garnet\", \"nextwork\", \"ingres\", \"amdahl\", \"rickert\", \"karr\", \"mbeaving\", \"utxvms\", \"ashley\", \"byler\", \"ulkyvx\", \"darius\", \"rmit\", \"nuet\", \"liturgy\", \"radford\", \"nerve\", \"beavington\", \"vinyl\", \"zinc\", \"kepler\", \"minyos\", \"hats\", \"rosemail\", \"salah\", \"foreskin\", \"jake\", \"rose\", \"redundancy\", \"khan\", \"anthony\", \"rainbow\", \"jimmy\", \"zuma\", \"sera\", \"ists\", \"extermination\", \"alicea\", \"hernlem\", \"stpl\", \"argic\", \"azeris\", \"melkonian\", \"appressian\", \"kurds\", \"nthu\", \"ottoman\", \"turks\", \"ceremony\", \"dchhabra\", \"istanbul\", \"deepak\", \"anatolia\", \"chhabra\", \"gtonwu\", \"armenia\", \"ankara\", \"asala\", \"agdam\", \"iacovou\", \"karabag\", \"azeri\", \"erzurum\", \"serdar\", \"armenians\", \"greece\", \"turkey\", \"soviet\", \"armenian\", \"proceeded\", \"genocide\", \"passes\", \"escape\", \"serve\", \"roads\", \"optilink\", \"sysmgr\", \"baalke\", \"mcguire\", \"jartsu\", \"petaluma\", \"blaine\", \"bgardner\", \"ethan\", \"dietz\", \"dealy\", \"mercer\", \"cramer\", \"vipunen\", \"auckland\", \"kortelainen\", \"petteri\", \"phigs\", \"spss\", \"industrial\", \"lars\", \"bobc\", \"julie\", \"schnopia\", \"telos\", \"maria\", \"mohney\", \"loopback\", \"gxxor\", \"billy\", \"pyramid\", \"helsinki\", \"clayton\", \"gardner\", \"consent\", \"finland\", \"imake\", \"sutherland\", \"evans\", \"maine\", \"brandeis\", \"crchh\", \"caldwell\", \"binah\", \"deane\", \"anas\", \"vera\", \"tudelft\", \"noye\", \"rayshade\", \"webo\", \"delft\", \"winqvt\", \"fait\", \"manning\", \"newcastle\", \"ersys\", \"ndis\", \"epas\", \"suis\", \"kendig\", \"noyes\", \"comme\", \"primeau\", \"ilmenau\", \"bskendig\", \"ceux\", \"aucun\", \"markz\", \"curves\", \"susan\", \"greig\", \"nrhj\", \"desonia\", \"dundee\", \"wwiz\", \"bhjn\", \"claebaur\", \"tablet\", \"pnei\", \"gizw\", \"lavrencic\", \"nriz\", \"walveranta\", \"pmfq\", \"tbxn\", \"jobe\", \"borut\", \"csir\", \"ccdarg\", \"wmbxn\", \"wwhj\", \"jungle\", \"bxlt\", \"brunskill\", \"netanyahu\", \"schneider\", \"mbxn\", \"chimps\", \"rajan\", \"eqtm\", \"allan\", \"punisher\", \"keith\", \"caltech\", \"pasadena\", \"lloyd\", \"motto\", \"atheists\", \"zoology\", \"comet\", \"cacs\", \"fraering\", \"utzoo\", \"kipling\", \"moonbase\", \"repo\", \"televison\", \"mayans\", \"scws\", \"gehrels\", \"techbook\", \"theporch\", \"gordian\", \"violet\", \"baube\", \"staffan\", \"henry\", \"shakala\", \"mcwilliams\", \"cutter\", \"kjenks\", \"beacons\", \"resembles\", \"wallacen\", \"gloster\", \"haase\", \"trajectory\", \"rhea\", \"spencer\", \"toronto\", \"orbit\", \"jupiter\", \"titan\", \"dseg\", \"behanna\", \"mccall\", \"pyron\", \"skndiv\", \"cunixa\", \"hydro\", \"shafer\", \"trumpet\", \"calpoly\", \"tseng\", \"dillon\", \"lustig\", \"noring\", \"mksol\", \"dryden\", \"glide\", \"jubilee\", \"nolan\", \"fxwg\", \"garfiel\", \"localhost\", \"obispo\", \"infj\", \"amir\", \"backpack\", \"brewer\", \"bonilla\", \"francesca\", \"mcsnet\", \"centaur\", \"luis\", \"jody\", \"proton\", \"levine\", \"cadre\", \"chastity\", \"stafford\", \"winona\", \"egan\", \"migraine\", \"skepticism\", \"intellect\", \"computrac\", \"cbrooks\", \"migraines\", \"mitchum\", \"banks\", \"graeme\", \"stiehm\", \"cmptrc\", \"irwin\", \"herman\", \"sprocket\", \"meningitis\", \"vasomotor\", \"rhinitis\", \"cones\", \"unimi\", \"harrison\", \"tuberculosis\", \"tylenol\", \"gordon\", \"gharriso\", \"arnstein\", \"surrender\", \"pitt\", \"univ\", \"pittsburgh\", \"science\", \"gtoal\", \"dtmedin\", \"catbyte\", \"toal\", \"acpub\", \"sampling\", \"infante\", \"medin\", \"sussex\", \"shapiro\", \"econ\", \"stamber\", \"quicktime\", \"steveg\", \"wpafb\", \"lori\", \"socs\", \"fife\", \"jacques\", \"syma\", \"scopes\", \"dbase\", \"microcontroller\", \"zion\", \"zabriskie\", \"nanyang\", \"pizzabox\", \"navo\", \"passat\", \"mppa\", \"ingr\", \"duke\", \"huntsville\", \"intergraph\", \"uoknor\", \"dartmouth\", \"hades\", \"callison\", \"walla\", \"comics\", \"tammy\", \"hanover\", \"uokmax\", \"healy\", \"dang\", \"healta\", \"karlsruhe\", \"coos\", \"wolverine\", \"berger\", \"chrisb\", \"aardvark\", \"neidecker\", \"tiang\", \"internews\", \"hulk\", \"nestvx\", \"munny\", \"rupin\", \"lutz\", \"armstrong\", \"alain\", \"docks\", \"postgraduate\", \"oklahoma\", \"dock\", \"hamburg\", \"bontchev\", \"umass\", \"vesselin\", \"fbihh\", \"ulowell\", \"scot\", \"strasse\", \"fachbereich\", \"vogt\", \"koelln\", \"vladimirov\", \"smileys\", \"okstate\", \"cornerstone\", \"paparella\", \"jpaparel\", \"kohli\", \"heil\", \"kelder\", \"kask\", \"tkelder\", \"dualpage\", \"gloege\", \"patriot\", \"graders\", \"arlo\", \"kennejs\", \"stillwater\", \"garth\", \"informatik\", \"virus\", \"intercon\", \"amanda\", \"amoco\", \"chevron\", \"nagle\", \"tude\", \"skybridge\", \"unibas\", \"ganter\", \"dubinski\", \"herndon\", \"camping\", \"zmed\", \"methanol\", \"krueger\", \"basel\", \"lanmola\", \"mare\", \"roid\", \"tastes\", \"gripe\", \"lesher\", \"dannyb\", \"stalfos\", \"binky\", \"dutton\", \"boiler\", \"hottentot\", \"steatopygias\", \"nosebleeds\", \"towers\", \"steam\", \"walker\", \"cooling\", \"keeper\", \"zisfein\", \"fourd\", \"glutamate\", \"dane\", \"deblock\", \"olney\", \"surges\", \"kimd\", \"regression\", \"silverlining\", \"trinomials\", \"megan\", \"swastika\", \"homxb\", \"nodine\", \"liquids\", \"klonopin\", \"millie\", \"boucher\", \"dickeney\", \"scand\", \"trascapoulos\", \"jtrascap\", \"fdhd\", \"cytoskeleton\", \"ajpat\", \"physiol\", \"eney\", \"frankborn\", \"diccon\", \"dimension\", \"projector\", \"horton\", \"mathew\", \"acorn\", \"munroe\", \"mmtg\", \"gassing\", \"goering\", \"gassed\", \"consultants\", \"molbio\", \"mantis\", \"godwin\", \"malnutrition\", \"subgenius\", \"holywood\", \"siding\", \"impropriety\", \"agodwin\", \"spellchecker\", \"proofreading\", \"tibetans\", \"rusnews\", \"gaze\", \"mincer\", \"wangdat\", \"psxop\", \"provokes\", \"bbea\", \"posess\", \"disoriented\", \"hammerl\", \"informix\", \"ncube\", \"tampere\", \"sami\", \"cyberman\", \"eros\", \"aario\", \"hesh\", \"valerie\", \"acne\", \"anssi\", \"claude\", \"lusardi\", \"avery\", \"lehtori\", \"teenager\", \"autarch\", \"sfnet\", \"steinbroner\", \"pwwpz\", \"acscvjh\", \"ubms\", \"cranston\", \"ubvm\", \"lictor\", \"waflinemail\", \"maildoor\", \"saari\", \"proberts\", \"acsu\", \"buffalo\", \"ubvms\", \"bake\", \"timmons\", \"uark\", \"rtrace\", \"juliet\", \"timmbake\", \"uafhp\", \"henling\", \"duran\", \"dostoevsky\", \"tinnitus\", \"terminus\", \"hausmann\", \"coburn\", \"coburnn\", \"karamazov\", \"alyosha\", \"leicester\", \"sherlette\", \"portugal\", \"coupons\", \"dubin\", \"whirrr\", \"jamesf\", \"porto\", \"shakes\", \"fetishes\", \"fishes\", \"stalls\", \"snoop\", \"maddi\", \"chalmers\", \"quicken\", \"pchang\", \"dtek\", \"misfire\", \"libws\", \"ngineer\", \"ommon\", \"ense\", \"okidata\", \"bohre\", \"cheema\", \"safeties\", \"parabellum\", \"steyr\", \"cocked\", \"pnakada\", \"westfalia\", \"vanagon\", \"pkmab\", \"tarq\", \"heuge\", \"eugenehs\", \"lagalarie\", \"sunkbd\", \"harmsen\", \"anha\", \"hammarquist\", \"gdoherty\", \"ollikainen\", \"oscillator\", \"jimf\", \"frost\", \"foxvog\", \"rewording\", \"bumpers\", \"verge\", \"guncer\", \"molding\", \"gerg\", \"whores\", \"seatbelt\", \"vttoulu\", \"wobble\", \"smears\", \"wariner\", \"penetrator\", \"pspmoinnmtq\", \"dfitts\", \"fitts\", \"centerline\", \"logisitics\", \"miscreants\", \"prve\", \"fencing\", \"pedestrian\", \"cropland\", \"resevoir\", \"econoboxes\", \"protectants\", \"luxuries\", \"sighted\", \"thingy\", \"cipale\", \"joec\", \"phaed\", \"barwell\", \"unka\", \"rearing\", \"resaon\", \"cgrl\", \"hermida\", \"escher\", \"tiberio\", \"randi\", \"nptserver\", \"rasmussen\", \"protocad\", \"mothballed\", \"inls\", \"preprints\", \"braces\", \"dore\", \"dobkin\", \"wickard\", \"sogang\", \"inescn\", \"francs\", \"sculptura\", \"bodypart\", \"dkit\", \"caffey\", \"morale\", \"jpunix\", \"unkaphaed\", \"floggings\", \"detracters\", \"pucks\", \"cooley\", \"cyprs\", \"popec\", \"ruler\", \"gaze\", \"lounge\", \"bodycount\", \"quuncd\", \"apyt\", \"afkin\", \"bras\", \"wristband\", \"coice\", \"overheard\", \"xlrs\"], \"Freq\": [23.0, 26.0, 22.0, 23.0, 19.0, 50.0, 13.0, 10.0, 12.0, 8.0, 10.0, 7.0, 9.0, 7.0, 18.0, 7.0, 6.0, 6.0, 6.0, 5.0, 6.0, 6.0, 4.0, 4.0, 4.0, 5.0, 5.0, 4.0, 3.0, 6.0, 179.10129115806538, 183.26093949569437, 182.37467119055296, 145.10051600239794, 156.73596246939843, 140.12128421264111, 138.32082254672773, 105.99146204829951, 104.51567548040008, 96.58114347122432, 97.70400094932175, 82.95932691530155, 78.3757969363466, 76.27382384659619, 83.9679238207382, 72.19207816428653, 71.60813121875866, 69.2687438821548, 68.00766847040316, 64.53547830668869, 63.85944586874079, 60.27666960695132, 59.72402555938905, 59.028800832396236, 58.20022412408014, 56.271908068189845, 55.94249341161992, 55.65650627191904, 54.982923556720124, 54.165461155244586, 3.5175524892389336, 1.8174344771186812, 1.7629137326188906, 1.746264647697929, 1.2473540788644701, 1.204466556194518, 1.19303527431971, 1.2369694111591123, 1.0250364200567463, 0.9618728137119499, 0.8903937774879908, 0.8042642637926358, 0.7948928119866278, 0.7660649087634306, 0.7566268899399395, 0.8076174372272724, 0.698410013056741, 0.6936186249598918, 0.6742615517698297, 0.6226241436358687, 0.6412169662239698, 0.5687959696149629, 0.5639240521939903, 0.5616535154498675, 0.5241309296170801, 0.5179130733505851, 0.5129986577776975, 0.48660094281499366, 0.4832108311668004, 0.47737685184713946, 2.1239252258942933, 2.386803797216426, 0.8259679655439476, 0.7532388781280006, 0.74273719623907, 0.5361601366773606, 0.5543066437398991, 1.8419775644116059, 1.65022188966126, 1.3978468319432211, 1.1595112158167198, 1.0674947813608842, 1.0196128305996282, 1.0127533875382877, 0.9960396753609859, 0.9793746243772008, 0.8204008144565521, 0.8191582550918775, 0.7961182667387785, 0.7579233564580132, 0.7398459843271855, 2.7139605141652337, 0.6335808433241948, 0.6276599431145435, 0.5411783106510145, 0.5104082433632925, 0.4011190959861537, 0.3988545923666965, 0.3848037792718095, 2.9609766664912884, 0.3719441539729077, 0.36748591742820436, 0.358293903337727, 0.3485503077810996, 0.34085709368710876, 0.33908168607636396, 0.3281748465780255, 2.6131768059039744, 3.6323379490973107, 1.261297709821059, 2.033679945230617, 1.2843275003464758, 0.6260960628884803, 0.7657028204279447, 1.2467331901970955, 0.7424262550696666, 0.7407925823570158, 0.6257145133656302, 0.6108449754030194, 1.597337714519592, 1.2270217848610094, 1.0478493445796457, 0.9937096377760306, 0.693356382457594, 0.6927693800946697, 0.6926617759732998, 0.6798446310450668, 0.648944595231775, 0.6257190757046597, 0.6050114560146338, 0.5959196537218586, 2.8901300165785773, 0.551733271307859, 0.5202712074397068, 0.5019929425507607, 0.5019929425244164, 0.501752247630812, 0.49073809449393313, 0.4768628175833192, 0.45640192576029126, 0.45403876209957006, 0.43666559511634767, 0.41853633853833483, 0.4178716396056014, 0.4165133702230778, 0.40625427868019937, 0.39999717873349167, 0.3751018325034987, 0.3718698283127754, 1.0789131748413368, 1.2878747735398146, 1.3950917313135094, 0.6801178172173036, 0.7328018474086755, 0.945138947927522, 0.5374364323961116, 0.5292424281915892, 0.5124529564054622, 1.9565024247718035, 1.8059648490919444, 0.9254470090106548, 0.8103281628756382, 0.6791034808473992, 0.6574837267768993, 0.6092869547246252, 0.583029327771112, 0.5581050174329888, 0.5511740964065734, 0.5363967380431164, 0.5302498940408877, 0.4841689487219367, 0.47906197039742326, 0.47811181398950275, 0.4739620078574786, 0.45584684237264034, 0.45213626033096105, 0.4474975973575125, 0.4439093506248196, 0.4427555308731887, 0.4372704386426738, 0.42722545459569466, 0.42188617172030896, 0.41638262979471913, 0.4134257783278099, 0.4095908022625917, 0.40959080226214306, 0.40959080226207006, 0.4064484642540835, 0.42132690366419584, 0.41320321553810596, 0.8574360577198772, 0.664267797486606, 0.5945985856717766, 0.5229776415316266, 0.5022402489461738, 0.3722389385065962, 0.35702343666049, 0.3485612436689009, 0.29239664566299745, 0.29177139296668925, 0.28779383747334775, 0.2846004873267063, 0.2770217646186977, 0.2734711900419001, 0.25895104075675557, 0.24350445614546973, 0.2323097088276209, 0.21682986382010033, 0.21454601379511262, 0.21205660379348198, 0.2067263824724079, 0.2054821251693092, 0.19923851035367274, 0.18781122419730648, 0.1842549859422982, 1.6225539948778387, 0.17939440489759365, 0.17912172821197803, 0.17449694116961706, 0.16196648689922843, 1.5034204383610064, 1.157037319469693, 3.460560972186317, 2.608640892353303, 1.257102133750127, 0.5093689753800649, 0.37990611319272033, 0.36873119258140835, 1.9944943281437015, 1.1990189097139532, 1.130191480176868, 1.0526135084695996, 1.001318566844053, 0.8647287798990119, 0.595734524927355, 0.5473586848706536, 0.5236665306459377, 0.5067966567961208, 0.488197638813799, 0.47245834204923826, 0.3988551656485645, 0.3921169758554438, 0.3886819847778351, 0.3795908086538358, 0.37206465605196576, 0.36889571370648044, 4.5529335637867785, 0.3439750614415614, 0.3150217581361834, 0.31577008573673016, 0.3127751543880689, 0.31050665573293396, 0.310293806122531, 0.2890556584115302, 0.28611630819517286, 0.2837151355763623, 0.26994352150197237, 0.2645244571462707, 1.7592549000534152, 2.266329589329362, 1.0637822670485675, 0.690861791399369, 0.29859563982289117, 2.5939186856885006, 1.9861721349247639, 1.3471137409387985, 1.2840085987661198, 1.0291862028184624, 1.0136675219063327, 0.9830872607783516, 0.7845203884864365, 0.7535426728715654, 0.7417233595390131, 0.7221003142368931, 0.671749280508267, 0.670131049587399, 0.658540676260944, 0.5834485140268078, 0.5332990015449416, 0.5297292587362277, 0.5294319195559347, 0.5089028778353661, 0.5024777976137447, 0.5018923540146063, 0.4823785344528389, 0.4716125150630463, 0.4685251754631685, 0.42128367500270064, 0.39293460393460483, 0.3651355296165358, 0.3592155296063591, 0.35808763430020035, 0.3562231367995904, 0.6731079707233468, 0.633555486758819, 0.8401864720425323, 0.5307331476631313, 0.71585163761355, 2.3094310736420582, 2.065719667628619, 0.8827484655868526, 0.8214609214513066, 0.5885287079658464, 0.5447559730348022, 2.026262501384109, 2.020930054798247, 0.4220595693166087, 0.4214654576418797, 0.41775547876786856, 0.41268000133142985, 5.668154105197537, 0.3759940897320287, 0.35188410479503607, 0.34610601213085357, 0.3399318291198651, 0.3080957234038635, 0.2941296620386649, 0.26415772204293525, 0.24707383023010054, 0.24594340271587062, 0.24099850811270612, 0.23864674174484302, 0.2281945917710473, 0.20524408015936194, 0.2007394180925826, 5.381946190913005, 0.19717698617454976, 0.19118952858767924, 1.9199238404992733, 2.2716269527163506, 1.3943627676921255, 1.4906609912650681, 0.5562761263137911, 1.8341496950906968, 1.1186846716774668, 1.1186846716772967, 0.89842671432595, 0.8493321738768728, 0.8080477612299485, 0.6831785802608599, 0.5640189936765707, 0.5513228873003807, 0.5318960746464059, 0.5136166041876294, 0.477262045742276, 0.42128093295143115, 0.3945244599516884, 0.39094977674966225, 0.3830185845724318, 0.36873949935625966, 0.3498377570776473, 0.33441954206289465, 0.31301956806193043, 0.3022934785599284, 0.2968183208519852, 0.29446564921507756, 0.28954264815009095, 0.25326155978556864, 0.25241619542531113, 0.2520566855998024, 0.25148248425208397, 0.24419739009926547, 0.24067624990932143, 1.4189207915353532, 1.212634771585629, 0.5749548368624015, 0.6528761674995154, 1.3742340652046388, 2.226365710852124, 1.1442072593013668, 1.1300235329899821, 1.1032827898646467, 0.8106149558946952, 0.804076547791451, 0.760631777865281, 0.6997706867935645, 0.6916656190095906, 0.6132272939783658, 0.5683752551505332, 0.5307723809049679, 0.4380965716194857, 0.3130902542490449, 0.30475669407380235, 0.2970499382159039, 0.2855815113595877, 0.2611115994815047, 0.24571205725278064, 0.24337922116211552, 0.22974928001465234, 0.2256607107185543, 0.22466202935493557, 0.21574603861867517, 0.1770021418417373, 0.2986606618056504, 0.16713404325841247, 0.1641389523882397, 0.15603197229800572, 0.5537238145816551, 0.3458487240738321, 1.3338249111740992, 1.239514027416006, 0.9802323416725459, 0.8035013490352633, 0.7705087203324433, 0.6511495046086155, 0.31947749114653073, 0.2972258881951398, 0.2742502953611688, 0.27425029536087725, 0.2742502953607566, 0.27425029536077344, 0.24202509908775072, 0.2200070756469887, 0.2157676591190268, 0.15892803052473567, 0.15892803052477622, 0.1551964254271397, 0.1428203243504693, 0.14137298729454176, 0.14137298729274908, 0.14137298729214082, 0.14137298729207323, 0.13693208378983007, 0.14136650184711824, 0.12995293790209364, 0.12905283200348586, 0.12839222297546576, 0.12831714172048678, 0.12305763294011532, 1.0469035440144425, 0.4558404385532989, 1.7943327830239681, 1.5275434737913378, 0.5961496304792757, 0.5105029818901599, 0.44547751648499956, 0.4045817309811647, 0.3531985909230801, 0.34041736615899626, 0.31669490879956624, 0.3113107825625027, 0.3043991245307044, 0.30298627064244354, 0.27829991482741406, 0.26648039648019756, 0.23371024941935542, 0.2114589684542695, 0.20649446744193262, 0.20649041468822477, 0.20649041468330995, 0.2035159746955564, 0.1971616019019382, 0.1807988446343424, 0.17786891755097997, 0.16889427352058886, 0.16797843950708702, 0.157603161246362, 0.1533236844141793, 0.15278189227946756, 0.15278189226987843, 0.15224536304830963, 0.4590995933960021, 0.41090637405550595, 0.6914934829225496, 0.35260152744991025, 0.1659545736151583, 1.016586938169024, 0.6145698233667307, 0.4262798189045915, 0.30194595726143086, 0.24070504350027166, 0.22981237024607737, 0.1960683678974474, 0.1917686316626649, 0.204782962085009, 0.17579472446031294, 0.13839343905955825, 0.1360352329670905, 0.1320702010155108, 0.12442179126543537, 0.119746219914673, 0.11582651206215391, 0.10970744440479165, 0.1093291529420423, 0.11183495585580087, 0.10830024187965398, 0.10601903665125942, 0.09905765911060319, 0.09905765910672847, 0.0968000053578359, 0.09198680070171397, 0.08963847257899293, 0.08840369800547043, 0.0849866652657094, 0.08498666522894334, 0.08498666521089698, 0.33609855346364254, 0.3011648662046047, 0.2863011071964821, 1.142048403061322, 0.14580823959320977, 0.13311810042157082, 0.11874217835458262, 0.11832405253931126, 0.11309553190424038, 0.08521130038119208, 0.3956098474423055, 0.08233808356391475, 0.8262165430117566, 0.0802763920996977, 0.07506672625740206, 0.07448319532381095, 0.0645163361761002, 0.06175643637305612, 0.06043688211098979, 0.06013576652285877, 0.05781778355386547, 0.05781778329571609, 0.05577072341347085, 0.3911383637080096, 0.04685683014761816, 0.044080853893064896, 0.04376845713879822, 0.043528223660558175, 0.041456739413445784, 0.03930441770391118, 0.037206776335103574, 0.03720677591404805, 0.470331815645459, 0.39820963257968667, 0.3560305929036561, 0.3427128727987558, 0.31219439727333204, 0.30529439182693224, 0.2843093940733497, 0.25776767893672714, 0.244028067675232, 0.23539900385938958, 0.2184751624336812, 0.20272137387121716, 0.19228223019612872, 0.1737543970937807, 0.16198835356289407, 0.15812751750686888, 0.14056162197550087, 0.13537234877753251, 0.1328119213043483, 0.12594211561791416, 0.12432758537605317, 0.12432758537633122, 0.12432758537577089, 0.12041986628625338, 0.11063484340983001, 0.1100800457805521, 0.10700223973690981, 0.10700223973583468, 0.10528876872584096, 0.10037953098272302, 0.4416682747296513, 0.9381725878212283, 0.12322432734192555, 0.3699981283973402, 0.3462951703707431, 0.32880409495955026, 0.2710400859014526, 0.25049956055049777, 0.2320400692539032, 0.2268280133226789, 0.2138723220428897, 0.18384828169346978, 0.1677852561821754, 0.16441910745333818, 0.16072444036351105, 0.1604818522424337, 0.15980619245661953, 0.15980619245678188, 0.1580947907769019, 0.15809479077685734, 0.14768748605781798, 0.14110492657586834, 0.13185492290269205, 0.12101297853900037, 0.12099326561091148, 0.11485747425451655, 0.11005938518713183, 0.10789339753066693, 0.10997055667438767, 0.09171652327792004, 0.09117658682745562, 0.0836659392441133, 0.08213008399651851, 0.16905101078328091, 0.37854035407768055, 0.295069825871703, 0.27527981232333076, 0.20146243752822648, 0.13451480423072093, 0.13103813399819403, 0.13103813399773429, 0.1310381339915905, 0.1310381339889892, 0.1226366600961755, 0.11058650134672407, 0.1097563347685171, 0.10004786822764557, 0.08787291470207409, 0.0866146402420138, 0.08221270959756619, 0.07733803403824371, 0.06962672247418897, 0.06962672247464737, 0.0679989253348182, 0.061071882057592106, 0.0589217252967948, 0.05892172514690178, 0.05861307565038382, 0.057992293232071584, 0.05384176614185577, 0.05233523739084207, 0.05233523736742268, 0.05089205771897866, 0.04890775406823615, 0.5054772920419506, 0.3998479809907658, 0.3887673888789833, 0.16252841755047928, 0.15171703959166358, 0.09685737261052658, 0.09241352544669398, 0.08557122614538756, 0.07347867143687994, 0.05897453557562419, 0.05806600743336287, 0.06071245177962731, 0.05469703066152595, 0.053980683338196854, 0.051434593501186114, 0.04945094271946597, 0.049450942665885476, 0.04945094260370488, 0.04778356922384074, 0.0477835692229738, 0.44795661359494715, 0.044665244633324185, 0.044187648616409475, 0.035723319944880295, 0.0356800379450557, 0.03568003794272208, 0.03125348559028167, 0.03125348517145115, 0.030068136284783633, 0.029390514792297005, 0.04043435675220564, 0.12596640856872285, 0.11823273573443285, 0.08744846282639121, 0.058057792034674184, 0.04638259832565828, 0.04638259831745511, 0.0463825982088361, 0.041820257241559335, 0.03780383554240137, 0.007122799512879765, 0.007122799513033363, 0.00712279951316897, 0.007122799513106466, 0.007122799513064187, 0.007122799512898668, 0.0071227995130884935, 0.0071227995127819115, 0.007122799513147302, 0.007122799512994703, 0.0071227995131799915, 0.007122799512910833, 0.0071227995131016705, 0.007122799513032856, 0.007122799513576665, 0.0071227995129644495, 0.0071227995127366404, 0.007122799513070173, 0.007122799512955642, 0.007122799512962291, 0.007122799513170358, 0.007122799513237415, 0.007122813019721523, 0.007122804261029281, 0.007122802303024652, 0.007122801783993667, 0.007122801363623371, 0.007122801044850508, 0.00712280085135506, 0.007122800574993582, 0.007122800133975834, 0.00712279995143798, 0.007122799866796102, 0.007122799827823896, 0.007122799800529351, 0.007122799754219215, 0.007122799751872239, 0.007122799751066559, 0.007122799750918375, 0.007122799735279255, 0.007122799733089204, 0.00712279972034575, 0.007122799705584395], \"Total\": [23.0, 26.0, 22.0, 23.0, 19.0, 50.0, 13.0, 10.0, 12.0, 8.0, 10.0, 7.0, 9.0, 7.0, 18.0, 7.0, 6.0, 6.0, 6.0, 5.0, 6.0, 6.0, 4.0, 4.0, 4.0, 5.0, 5.0, 4.0, 3.0, 6.0, 179.2762321398796, 183.4425439657596, 182.5565502457175, 145.27545698395565, 156.92647554827357, 140.29622519420258, 138.49576352827745, 106.1664030295836, 104.69061646161175, 96.75608445248945, 97.89914110479606, 83.13426789649242, 78.55073791767043, 76.44876482852186, 84.16447727194377, 72.3670191454375, 71.78307220006596, 69.44368486330896, 68.18260945161221, 64.7104192880057, 64.03438684998692, 60.4516105880205, 59.898966540505455, 59.20374181378551, 58.37516510532833, 56.446849049511684, 56.1174343925959, 55.83144725300833, 55.1578645377805, 54.3404021363804, 3.721197921412118, 2.021035123999154, 1.9665305613471604, 1.949865284856753, 1.4509553788857645, 1.4080671932515683, 1.396644706822662, 1.4658468658651842, 1.2286370570261254, 1.1654734529109652, 1.093994414738965, 1.0078649024740538, 0.9984937785922067, 0.9696655830382569, 0.9602275272105127, 1.0379235660008572, 0.9025164756051665, 0.8972192678173447, 0.8778621975456778, 0.8262247811765155, 0.861936132901608, 0.7723966068375516, 0.7678350991340849, 0.7652543128457654, 0.727732376215451, 0.7215137133203902, 0.7166014092347708, 0.6902015823269106, 0.6868491993065097, 0.6809774890246717, 3.4709080692157666, 7.336285173978771, 1.70733991659355, 2.0164911030530233, 4.370820836850979, 0.874688396450536, 4.3253983999256995, 2.045917447909741, 1.8541617713068153, 1.6017867139303208, 1.3634511285435338, 1.271434739225147, 1.2235527367206565, 1.2166932695712738, 1.199979560579544, 1.1833145279942583, 1.0243406961017267, 1.0230981367380547, 1.000058979511393, 0.9618632386517237, 0.9437858660824947, 3.5854120807525125, 0.8377041436792514, 0.8315998252599062, 0.7451181923219129, 0.71434822442285, 0.605059002567028, 0.603593785986669, 0.5887436611546562, 4.540126106705887, 0.5758840392683221, 0.5714258003547698, 0.5622650040887583, 0.5524901897511361, 0.5447969753876177, 0.5430215678647416, 0.5321147282542152, 4.329369363279244, 6.204508855085255, 2.804310704321808, 5.955484042100487, 3.777067923356167, 1.3202215095201622, 2.053409281587751, 6.769535335161996, 2.6499957199337745, 4.783267845865162, 5.246053172879078, 5.878026197925043, 1.8014804918450125, 1.4311645649134794, 1.2520026451055426, 1.197853213482045, 0.8974991595701969, 0.8969121573008472, 0.8968045528963189, 0.8839874079543845, 0.8530874694032429, 0.8298618560601067, 0.809154233212099, 0.800062450484474, 3.92753064283793, 0.7558760524394503, 0.7244139847196844, 0.7061357198018793, 0.7061357198716265, 0.7058967958470121, 0.6948808781247068, 0.6816120924515013, 0.6606021070516526, 0.6581815516824054, 0.6408089501130699, 0.6226791174213409, 0.6220144623688001, 0.621020562595144, 0.6103970560104761, 0.6041399581799916, 0.5792446384602238, 0.576214648111475, 1.8713340937158323, 2.306804993541375, 3.9037541068513217, 1.834794583605314, 2.324267082272216, 5.74703525827797, 2.2207528005418142, 3.6693744155325017, 4.1352349129808115, 2.161310201181212, 2.0107624377097935, 1.1302320614555, 1.0151928979174334, 0.8838885321994826, 0.8622687930605633, 0.8140720081203314, 0.7878579601891398, 0.7628900685590077, 0.7559591478845533, 0.7411817978201197, 0.7351798294801438, 0.688953999920524, 0.6838470523575868, 0.6828968760699877, 0.6787470925985777, 0.6606556036642425, 0.6569213276584327, 0.6522826602496499, 0.6486944042312377, 0.6475406038877984, 0.6420568220923935, 0.6320585408654755, 0.6266712883383047, 0.6211676858739311, 0.6182108294524126, 0.614375853381554, 0.6143758533817071, 0.6143758533817811, 0.6112335164516104, 1.1591026446713721, 1.3026507114728225, 1.0626926192082489, 0.8695186867998893, 0.799849479121747, 0.7282285542447255, 0.7074911382599762, 0.5774898278216503, 0.5622743268968302, 0.5538121338391626, 0.49764753497710024, 0.49702228228257556, 0.4930447269921232, 0.489851376641239, 0.48227265526920404, 0.4787220793538011, 0.46420193007162014, 0.4487553464045271, 0.4375605983424759, 0.4220807532927189, 0.419796903655195, 0.4173074931070141, 0.4119772717878941, 0.41073329345600695, 0.40448939966773934, 0.3930621204905253, 0.3895058808970418, 3.4610757841552204, 0.3846452942128486, 0.38437793597362874, 0.3797478330399538, 0.3672173762130812, 3.8983815783231526, 3.295790512811224, 23.6349610565708, 22.018195741495326, 10.252883433214437, 2.3849164800510545, 2.6805211047157607, 18.060864291854653, 2.1999223379402926, 1.4044499866797595, 1.3356195196571727, 1.2580415182687001, 1.2068416555454777, 1.0701567909314096, 0.8011629299690579, 0.7527867039962203, 0.7290945780040606, 0.7122246665140726, 0.693625672234749, 0.6778863519107641, 0.6042831960355118, 0.5975449884349676, 0.5941099964980128, 0.5850188248171725, 0.577492666359931, 0.5743237349174282, 7.253569116665699, 0.5494030716097619, 0.5204497966531173, 0.5218804959326926, 0.5182031673727296, 0.5159348136251182, 0.5161450461232645, 0.49448366931320253, 0.4915443179510141, 0.489143146378089, 0.4753716644413449, 0.4699524755483277, 6.213714296653788, 26.037674438804203, 9.131769921058902, 5.7106809529945455, 3.4288920882390856, 2.799646151204708, 2.1918996016419583, 1.5528413830401273, 1.4897360634321568, 1.2349136674878765, 1.2193949873466279, 1.1888223843500245, 0.990248083377498, 0.9592730810658292, 0.9474638074061231, 0.9279536450298728, 0.877476752109285, 0.8758585234910695, 0.8642696447589084, 0.7891759793074523, 0.7391550600577322, 0.7354567263207874, 0.7351637359078926, 0.7146537249043969, 0.7082052627979406, 0.7076198209888332, 0.6881060259702301, 0.6779478385011153, 0.6742526545147046, 0.6270112211868855, 0.5986621230259743, 0.5708693632623902, 0.5649434838260541, 0.5638151119242317, 0.5619506337725186, 1.1291439378232202, 1.28930642419153, 1.9685965764001536, 1.2896173122263779, 2.560086414812993, 2.515305961204182, 2.2715944198207043, 1.0886231580426906, 1.0273356112582679, 0.7944041557776241, 0.7506306877562144, 2.803726319536815, 2.8669553952604594, 0.6279342594938018, 0.6273401487080541, 0.6236301713570436, 0.6185546946021492, 8.611292941150209, 0.5818804600345625, 0.5577587963695478, 0.5519807022468524, 0.5458065204314866, 0.5140046905319473, 0.5000043530285511, 0.47003241337389173, 0.45294852020183546, 0.4518181870759831, 0.4468733061032967, 0.44454810775516473, 0.43522532937426045, 0.4111460550256768, 0.4066141281987899, 10.981575210669222, 0.4030516763211475, 0.3970642193130082, 4.543892436162958, 13.157011569495767, 19.869427022126015, 23.156235644191227, 50.83102848544137, 2.0404204664693424, 1.3249554397129868, 1.3249554397173324, 1.1046974860952534, 1.0556029438640906, 1.0145216464576166, 0.889449348534226, 0.7702897617285391, 0.7575945866817225, 0.7381675613231202, 0.7198873723102706, 0.6835328142770262, 0.6275525704260175, 0.6007952858234028, 0.5972205448847302, 0.589290852643916, 0.5750103437380719, 0.5561088559890957, 0.540690323768266, 0.5192920768079922, 0.5085643571398568, 0.5030899558768634, 0.5007365274205098, 0.49587213716458106, 0.4599697485256617, 0.4586869639063704, 0.45832766747230796, 0.4577532523709731, 0.4504681586762673, 0.4469470718042676, 4.768403555710363, 7.982498360801768, 2.290848175969377, 4.024989255219364, 1.5810909232107486, 2.622108545436592, 1.3510491913678913, 1.336864396982213, 1.3101236489193662, 1.0174563548361777, 1.0109174680356934, 0.9674726368697605, 0.9066115440859015, 0.8985682863979572, 0.8200770599438625, 0.7752161127358675, 0.7376152615884115, 0.644937461471751, 0.5199311122473521, 0.5115975516959418, 0.5038908013280619, 0.4924226626544226, 0.4679524567334871, 0.4525529148557053, 0.4502200786703782, 0.43659020058946546, 0.43250736247427135, 0.4315028871086894, 0.42258689594036275, 0.3838429991207652, 0.6562218972734079, 0.37497401582828477, 0.37097989091121814, 0.3628770826363436, 2.0557799269550348, 1.4207805290544349, 1.5409597607641146, 1.446634139287924, 1.1877650498483265, 1.0106215633087172, 0.9776288322065301, 0.8583000378444351, 0.5266169516057995, 0.5046221461355225, 0.4813704072674442, 0.4813704072671299, 0.48137040726774205, 0.4813704072690117, 0.4491452386739908, 0.42712720597571724, 0.4228981067019339, 0.3660481428424933, 0.36604814284326503, 0.3623165394701057, 0.34994050709824587, 0.348493099138009, 0.34849309914845555, 0.34849309915044946, 0.34849309915124127, 0.34405219677489424, 0.3583531385423782, 0.3370730547282605, 0.3361774260887521, 0.33551233936734637, 0.3354372944307895, 0.3301777454395309, 6.367284198678814, 4.738111719385728, 2.001560647170732, 1.7347684711778177, 0.8033758299911335, 0.7178633965814472, 0.6527025025038887, 0.6118067162755961, 0.5604235765652527, 0.5476423516476815, 0.5239198942729778, 0.5185357687439854, 0.5119233745429786, 0.5102115629419405, 0.4855249004725757, 0.4737053907258327, 0.4409411615914394, 0.41868395390121943, 0.4137194628677197, 0.41371539999223056, 0.41371540001040435, 0.41098210826757453, 0.40529324858515403, 0.3880238302316748, 0.3850939052865911, 0.3761192688653745, 0.3752034248515536, 0.36923190184933874, 0.3605486778687731, 0.36000687807461423, 0.36000687811097465, 0.3594703582811994, 1.5762044354125542, 1.4715650516422, 6.1998587871240085, 4.01947047831187, 1.8678289000461927, 1.2240724833357528, 0.8220553679619538, 0.6337654017983119, 0.5094315072418202, 0.44819058850912935, 0.43729793502561026, 0.4066143074808361, 0.39925417607657515, 0.42873957615650604, 0.3832804548649563, 0.34587898347129326, 0.34352077868590675, 0.3395557771708122, 0.3319073366429291, 0.3272317669000258, 0.32331213421354743, 0.31719300251019983, 0.3168147572664547, 0.32482236785007895, 0.3157857869042257, 0.3135045819331673, 0.3065432050860787, 0.30654320509819377, 0.30428556764582393, 0.2994723456736721, 0.2971240196584365, 0.29588928606110265, 0.2924722104969989, 0.2924722106432828, 0.2924722107177037, 1.1723831223240662, 2.1112472070690913, 0.4941263374151227, 2.5242741525067554, 0.35478840292694497, 0.3407135842354825, 0.3263376651690559, 0.32592663223540114, 0.32069103994830567, 0.2928068968754086, 1.3727640283510467, 0.289933566995466, 2.9299284743493095, 0.28787248524076425, 0.2826622363176472, 0.28207884559495, 0.27211182221396557, 0.2693524596311208, 0.26803237982551464, 0.26773125216057253, 0.26541329339265785, 0.26541329444688727, 0.2633662074148708, 1.9289811831395989, 0.25445266890255497, 0.2516763433699063, 0.25136394290550673, 0.25112370675417517, 0.24905223361085177, 0.246899920146592, 0.24480227666398144, 0.2448022783712795, 0.6781004329862687, 0.6062669140992104, 0.5637985140665254, 0.5504844253235952, 0.5200230053921187, 0.5130623119013136, 0.4921415791906026, 0.46553559907877173, 0.451795988595174, 0.4432031182321693, 0.4262431898877849, 0.41048929451911, 0.40010365189537755, 0.38152740170982563, 0.36975633559671406, 0.3658954385843025, 0.34832963441767156, 0.3431403113708423, 0.3405798415810695, 0.33371003657391696, 0.3320955053199079, 0.3320955053232988, 0.3320955053220288, 0.32818779047587204, 0.31840276368582404, 0.3178481413882935, 0.3147701599720616, 0.3147701599768789, 0.3130566894899694, 0.30814745488151846, 2.086290048336445, 12.233894312222667, 1.030118925172917, 0.577926472430137, 0.5542235143969392, 0.5371953013640487, 0.4789713591560275, 0.458450451005125, 0.4399684146068235, 0.4347563572473458, 0.42180066644665326, 0.3917766271040259, 0.37571411085234013, 0.3723474923047253, 0.36865298546230324, 0.36841438137833843, 0.367734536936199, 0.36773453693962116, 0.3660231348646886, 0.36602313486489274, 0.3556158365743307, 0.3490332874618069, 0.33978663663152686, 0.32894146247206024, 0.3289216097131067, 0.322785818104234, 0.317987729739737, 0.3158217416923239, 0.3235869121956248, 0.2996448771342369, 0.2991165587695071, 0.2915944231243176, 0.29005843123236325, 0.6991714297193617, 0.5867157176060739, 0.5032241385809129, 0.48343408017360656, 0.4096167926810554, 0.34266907943884983, 0.3391924008004341, 0.3391924008006468, 0.3391924008287303, 0.33919240083880353, 0.3307909297487385, 0.31874076951894653, 0.3179106028525567, 0.3082023976602936, 0.2960271828374057, 0.29571330847415045, 0.29036764528693315, 0.28549230178863144, 0.27778098886609337, 0.2777809888720205, 0.27615319181406317, 0.2692261507118067, 0.2670759925404906, 0.2670759932044323, 0.26676734517384365, 0.2661465868867652, 0.2619960340452205, 0.26048950539105414, 0.26048950549175814, 0.2590463305484231, 0.2570620206920697, 0.7137564615385172, 0.6081256274053376, 0.5970486277594452, 0.37080606429293683, 0.3599948110435638, 0.3051351272944933, 0.30153868209223855, 0.2938488723245129, 0.2817563175927582, 0.26725219256012284, 0.2663453694636102, 0.2800847404135679, 0.2629746783548325, 0.26237230083790125, 0.25971224018961375, 0.25772859574273155, 0.25772859598551123, 0.25772859626557504, 0.2560612162920762, 0.2560612162935226, 2.4015128720187984, 0.2529429228605784, 0.2524667569269881, 0.24400096746405642, 0.24395768623397837, 0.24395768624432682, 0.2395311805430966, 0.23953118244287938, 0.2383457857512414, 0.23766816620493128, 0.33678713319169973, 0.334467859942753, 0.32673439233813173, 0.29594975113861743, 0.26655908863774924, 0.25488388406051976, 0.2548838840975053, 0.2548838846081474, 0.25032156763390406, 0.24630512147326078, 0.21754808247306978, 0.21754808329274808, 0.21754808545697304, 0.2175480866790902, 0.21754808749578947, 0.21754808784121543, 0.21754808860994337, 0.21754808911139747, 0.2175480896229323, 0.2175480896281082, 0.21754809024283595, 0.21754809067616587, 0.21754809075662807, 0.21754809109705656, 0.21754809116687587, 0.21754809202228023, 0.2175480926789088, 0.21754809313437015, 0.2175480937641458, 0.21754809384954538, 0.21754809385941717, 0.21754809468505434, 0.3045183052167968, 0.5383181414630337, 0.5614278257664541, 0.48238331481651, 0.34408078456877245, 0.2598718321712184, 0.3470160696830937, 0.7090246013938158, 0.9441230662004321, 0.9942137799915726, 0.25445266890255497, 0.9089762268525914, 0.28018647454195783, 0.3822051156401583, 0.38220511564987963, 0.38220511565955056, 0.38220511565767856, 0.35654591534179597, 0.35654591535033264, 1.1124096325967365, 0.3100175030871794], \"Category\": [\"Default\", \"Default\", \"Default\", \"Default\", \"Default\", \"Default\", \"Default\", \"Default\", \"Default\", \"Default\", \"Default\", \"Default\", \"Default\", \"Default\", \"Default\", \"Default\", \"Default\", \"Default\", \"Default\", \"Default\", \"Default\", \"Default\", \"Default\", \"Default\", \"Default\", \"Default\", \"Default\", \"Default\", \"Default\", \"Default\", \"Topic1\", \"Topic1\", \"Topic1\", \"Topic1\", \"Topic1\", \"Topic1\", \"Topic1\", \"Topic1\", \"Topic1\", \"Topic1\", \"Topic1\", \"Topic1\", \"Topic1\", \"Topic1\", \"Topic1\", \"Topic1\", \"Topic1\", \"Topic1\", \"Topic1\", \"Topic1\", \"Topic1\", \"Topic1\", \"Topic1\", \"Topic1\", \"Topic1\", \"Topic1\", \"Topic1\", \"Topic1\", \"Topic1\", \"Topic1\", \"Topic2\", \"Topic2\", \"Topic2\", \"Topic2\", \"Topic2\", \"Topic2\", \"Topic2\", \"Topic2\", \"Topic2\", \"Topic2\", \"Topic2\", \"Topic2\", \"Topic2\", \"Topic2\", \"Topic2\", \"Topic2\", \"Topic2\", \"Topic2\", \"Topic2\", \"Topic2\", \"Topic2\", \"Topic2\", \"Topic2\", \"Topic2\", \"Topic2\", \"Topic2\", \"Topic2\", \"Topic2\", \"Topic2\", \"Topic2\", \"Topic2\", \"Topic2\", \"Topic2\", \"Topic2\", \"Topic2\", \"Topic2\", \"Topic2\", \"Topic3\", \"Topic3\", \"Topic3\", \"Topic3\", \"Topic3\", \"Topic3\", \"Topic3\", \"Topic3\", \"Topic3\", \"Topic3\", \"Topic3\", \"Topic3\", \"Topic3\", \"Topic3\", \"Topic3\", \"Topic3\", \"Topic3\", \"Topic3\", \"Topic3\", \"Topic3\", \"Topic3\", \"Topic3\", \"Topic3\", \"Topic3\", \"Topic3\", \"Topic3\", \"Topic3\", \"Topic3\", \"Topic3\", \"Topic3\", \"Topic3\", \"Topic3\", \"Topic3\", \"Topic3\", \"Topic3\", \"Topic3\", \"Topic3\", \"Topic3\", \"Topic3\", \"Topic3\", \"Topic3\", \"Topic3\", \"Topic4\", \"Topic4\", \"Topic4\", \"Topic4\", \"Topic4\", \"Topic4\", \"Topic4\", \"Topic4\", \"Topic4\", \"Topic4\", \"Topic4\", \"Topic4\", \"Topic4\", \"Topic4\", \"Topic4\", \"Topic4\", \"Topic4\", \"Topic4\", \"Topic4\", \"Topic4\", \"Topic4\", \"Topic4\", \"Topic4\", \"Topic4\", \"Topic4\", \"Topic4\", \"Topic4\", \"Topic4\", \"Topic4\", \"Topic4\", \"Topic4\", \"Topic4\", \"Topic4\", \"Topic4\", \"Topic4\", \"Topic4\", \"Topic4\", \"Topic4\", \"Topic4\", \"Topic5\", \"Topic5\", \"Topic5\", \"Topic5\", \"Topic5\", \"Topic5\", \"Topic5\", \"Topic5\", \"Topic5\", \"Topic5\", \"Topic5\", \"Topic5\", \"Topic5\", \"Topic5\", \"Topic5\", \"Topic5\", \"Topic5\", \"Topic5\", \"Topic5\", \"Topic5\", \"Topic5\", \"Topic5\", \"Topic5\", \"Topic5\", \"Topic5\", \"Topic5\", \"Topic5\", \"Topic5\", \"Topic5\", \"Topic5\", \"Topic5\", \"Topic5\", \"Topic6\", \"Topic6\", \"Topic6\", \"Topic6\", \"Topic6\", \"Topic6\", \"Topic6\", \"Topic6\", \"Topic6\", \"Topic6\", \"Topic6\", \"Topic6\", \"Topic6\", \"Topic6\", \"Topic6\", \"Topic6\", \"Topic6\", \"Topic6\", \"Topic6\", \"Topic6\", \"Topic6\", \"Topic6\", \"Topic6\", \"Topic6\", \"Topic6\", \"Topic6\", \"Topic6\", \"Topic6\", \"Topic6\", \"Topic6\", \"Topic6\", \"Topic6\", \"Topic6\", \"Topic6\", \"Topic6\", \"Topic6\", \"Topic6\", \"Topic6\", \"Topic7\", \"Topic7\", \"Topic7\", \"Topic7\", \"Topic7\", \"Topic7\", \"Topic7\", \"Topic7\", \"Topic7\", \"Topic7\", \"Topic7\", \"Topic7\", \"Topic7\", \"Topic7\", \"Topic7\", \"Topic7\", \"Topic7\", \"Topic7\", \"Topic7\", \"Topic7\", \"Topic7\", \"Topic7\", \"Topic7\", \"Topic7\", \"Topic7\", \"Topic7\", \"Topic7\", \"Topic7\", \"Topic7\", \"Topic7\", \"Topic7\", \"Topic7\", \"Topic7\", \"Topic7\", \"Topic7\", \"Topic8\", \"Topic8\", \"Topic8\", \"Topic8\", \"Topic8\", \"Topic8\", \"Topic8\", \"Topic8\", \"Topic8\", \"Topic8\", \"Topic8\", \"Topic8\", \"Topic8\", \"Topic8\", \"Topic8\", \"Topic8\", \"Topic8\", \"Topic8\", \"Topic8\", \"Topic8\", \"Topic8\", \"Topic8\", \"Topic8\", \"Topic8\", \"Topic8\", \"Topic8\", \"Topic8\", \"Topic8\", \"Topic8\", \"Topic8\", \"Topic8\", \"Topic8\", \"Topic8\", \"Topic8\", \"Topic8\", \"Topic9\", \"Topic9\", \"Topic9\", \"Topic9\", \"Topic9\", \"Topic9\", \"Topic9\", \"Topic9\", \"Topic9\", \"Topic9\", \"Topic9\", \"Topic9\", \"Topic9\", \"Topic9\", \"Topic9\", \"Topic9\", \"Topic9\", \"Topic9\", \"Topic9\", \"Topic9\", \"Topic9\", \"Topic9\", \"Topic9\", \"Topic9\", \"Topic9\", \"Topic9\", \"Topic9\", \"Topic9\", \"Topic9\", \"Topic9\", \"Topic9\", \"Topic9\", \"Topic9\", \"Topic9\", \"Topic9\", \"Topic10\", \"Topic10\", \"Topic10\", \"Topic10\", \"Topic10\", \"Topic10\", \"Topic10\", \"Topic10\", \"Topic10\", \"Topic10\", \"Topic10\", \"Topic10\", \"Topic10\", \"Topic10\", \"Topic10\", \"Topic10\", \"Topic10\", \"Topic10\", \"Topic10\", \"Topic10\", \"Topic10\", \"Topic10\", \"Topic10\", \"Topic10\", \"Topic10\", \"Topic10\", \"Topic10\", \"Topic10\", \"Topic10\", \"Topic10\", \"Topic10\", \"Topic10\", \"Topic10\", \"Topic10\", \"Topic11\", \"Topic11\", \"Topic11\", \"Topic11\", \"Topic11\", \"Topic11\", \"Topic11\", \"Topic11\", \"Topic11\", \"Topic11\", \"Topic11\", \"Topic11\", \"Topic11\", \"Topic11\", \"Topic11\", \"Topic11\", \"Topic11\", \"Topic11\", \"Topic11\", \"Topic11\", \"Topic11\", \"Topic11\", \"Topic11\", \"Topic11\", \"Topic11\", \"Topic11\", \"Topic11\", \"Topic11\", \"Topic11\", \"Topic11\", \"Topic11\", \"Topic11\", \"Topic12\", \"Topic12\", \"Topic12\", \"Topic12\", \"Topic12\", \"Topic12\", \"Topic12\", \"Topic12\", \"Topic12\", \"Topic12\", \"Topic12\", \"Topic12\", \"Topic12\", \"Topic12\", \"Topic12\", \"Topic12\", \"Topic12\", \"Topic12\", \"Topic12\", \"Topic12\", \"Topic12\", \"Topic12\", \"Topic12\", \"Topic12\", \"Topic12\", \"Topic12\", \"Topic12\", \"Topic12\", \"Topic12\", \"Topic12\", \"Topic12\", \"Topic12\", \"Topic13\", \"Topic13\", \"Topic13\", \"Topic13\", \"Topic13\", \"Topic13\", \"Topic13\", \"Topic13\", \"Topic13\", \"Topic13\", \"Topic13\", \"Topic13\", \"Topic13\", \"Topic13\", \"Topic13\", \"Topic13\", \"Topic13\", \"Topic13\", \"Topic13\", \"Topic13\", \"Topic13\", \"Topic13\", \"Topic13\", \"Topic13\", \"Topic13\", \"Topic13\", \"Topic13\", \"Topic13\", \"Topic13\", \"Topic13\", \"Topic13\", \"Topic13\", \"Topic13\", \"Topic13\", \"Topic13\", \"Topic14\", \"Topic14\", \"Topic14\", \"Topic14\", \"Topic14\", \"Topic14\", \"Topic14\", \"Topic14\", \"Topic14\", \"Topic14\", \"Topic14\", \"Topic14\", \"Topic14\", \"Topic14\", \"Topic14\", \"Topic14\", \"Topic14\", \"Topic14\", \"Topic14\", \"Topic14\", \"Topic14\", \"Topic14\", \"Topic14\", \"Topic14\", \"Topic14\", \"Topic14\", \"Topic14\", \"Topic14\", \"Topic14\", \"Topic14\", \"Topic14\", \"Topic14\", \"Topic15\", \"Topic15\", \"Topic15\", \"Topic15\", \"Topic15\", \"Topic15\", \"Topic15\", \"Topic15\", \"Topic15\", \"Topic15\", \"Topic15\", \"Topic15\", \"Topic15\", \"Topic15\", \"Topic15\", \"Topic15\", \"Topic15\", \"Topic15\", \"Topic15\", \"Topic15\", \"Topic15\", \"Topic15\", \"Topic15\", \"Topic15\", \"Topic15\", \"Topic15\", \"Topic15\", \"Topic15\", \"Topic15\", \"Topic15\", \"Topic16\", \"Topic16\", \"Topic16\", \"Topic16\", \"Topic16\", \"Topic16\", \"Topic16\", \"Topic16\", \"Topic16\", \"Topic16\", \"Topic16\", \"Topic16\", \"Topic16\", \"Topic16\", \"Topic16\", \"Topic16\", \"Topic16\", \"Topic16\", \"Topic16\", \"Topic16\", \"Topic16\", \"Topic16\", \"Topic16\", \"Topic16\", \"Topic16\", \"Topic16\", \"Topic16\", \"Topic16\", \"Topic16\", \"Topic16\", \"Topic16\", \"Topic16\", \"Topic16\", \"Topic17\", \"Topic17\", \"Topic17\", \"Topic17\", \"Topic17\", \"Topic17\", \"Topic17\", \"Topic17\", \"Topic17\", \"Topic17\", \"Topic17\", \"Topic17\", \"Topic17\", \"Topic17\", \"Topic17\", \"Topic17\", \"Topic17\", \"Topic17\", \"Topic17\", \"Topic17\", \"Topic17\", \"Topic17\", \"Topic17\", \"Topic17\", \"Topic17\", \"Topic17\", \"Topic17\", \"Topic17\", \"Topic17\", \"Topic17\", \"Topic17\", \"Topic18\", \"Topic18\", \"Topic18\", \"Topic18\", \"Topic18\", \"Topic18\", \"Topic18\", \"Topic18\", \"Topic18\", \"Topic18\", \"Topic18\", \"Topic18\", \"Topic18\", \"Topic18\", \"Topic18\", \"Topic18\", \"Topic18\", \"Topic18\", \"Topic18\", \"Topic18\", \"Topic18\", \"Topic18\", \"Topic18\", \"Topic18\", \"Topic18\", \"Topic18\", \"Topic18\", \"Topic18\", \"Topic18\", \"Topic18\", \"Topic19\", \"Topic19\", \"Topic19\", \"Topic19\", \"Topic19\", \"Topic19\", \"Topic19\", \"Topic19\", \"Topic19\", \"Topic19\", \"Topic19\", \"Topic19\", \"Topic19\", \"Topic19\", \"Topic19\", \"Topic19\", \"Topic19\", \"Topic19\", \"Topic19\", \"Topic19\", \"Topic19\", \"Topic19\", \"Topic19\", \"Topic19\", \"Topic19\", \"Topic19\", \"Topic19\", \"Topic19\", \"Topic19\", \"Topic19\", \"Topic19\", \"Topic20\", \"Topic20\", \"Topic20\", \"Topic20\", \"Topic20\", \"Topic20\", \"Topic20\", \"Topic20\", \"Topic20\", \"Topic20\", \"Topic20\", \"Topic20\", \"Topic20\", \"Topic20\", \"Topic20\", \"Topic20\", \"Topic20\", \"Topic20\", \"Topic20\", \"Topic20\", \"Topic20\", \"Topic20\", \"Topic20\", \"Topic20\", \"Topic20\", \"Topic20\", \"Topic20\", \"Topic20\", \"Topic20\", \"Topic20\", \"Topic20\", \"Topic20\", \"Topic20\", \"Topic20\", \"Topic20\", \"Topic20\", \"Topic20\", \"Topic20\", \"Topic20\", \"Topic20\", \"Topic20\", \"Topic20\", \"Topic20\", \"Topic20\", \"Topic20\", \"Topic20\", \"Topic20\", \"Topic20\", \"Topic20\", \"Topic20\", \"Topic20\", \"Topic20\"], \"logprob\": [30.0, 29.0, 28.0, 27.0, 26.0, 25.0, 24.0, 23.0, 22.0, 21.0, 20.0, 19.0, 18.0, 17.0, 16.0, 15.0, 14.0, 13.0, 12.0, 11.0, 10.0, 9.0, 8.0, 7.0, 6.0, 5.0, 4.0, 3.0, 2.0, 1.0, -5.6556, -5.6326, -5.6374, -5.8661, -5.7889, -5.901, -5.9139, -6.1801, -6.1942, -6.2731, -6.2616, -6.4252, -6.482, -6.5092, -6.4131, -6.5642, -6.5723, -6.6055, -6.6239, -6.6763, -6.6868, -6.7446, -6.7538, -6.7655, -6.7796, -6.8133, -6.8192, -6.8243, -6.8365, -6.8515, -5.583, -6.2433, -6.2738, -6.2833, -6.6197, -6.6547, -6.6642, -6.6281, -6.816, -6.8796, -6.9568, -7.0586, -7.0703, -7.1072, -7.1196, -7.0544, -7.1997, -7.2066, -7.2349, -7.3145, -7.2851, -7.405, -7.4136, -7.4176, -7.4867, -7.4987, -7.5082, -7.561, -7.568, -7.5802, -6.0875, -5.9708, -7.0319, -7.1241, -7.1381, -7.4641, -7.4308, -6.1808, -6.2908, -6.4568, -6.6437, -6.7264, -6.7723, -6.779, -6.7957, -6.8125, -6.9896, -6.9912, -7.0197, -7.0689, -7.093, -5.7933, -7.2481, -7.2574, -7.4057, -7.4642, -7.7052, -7.7108, -7.7467, -5.7062, -7.7807, -7.7928, -7.8181, -7.8457, -7.868, -7.8732, -7.9059, -5.8311, -5.5018, -6.5595, -6.0818, -6.5415, -7.2599, -7.0586, -6.5712, -7.0895, -7.0917, -7.2605, -7.2846, -6.3117, -6.5755, -6.7333, -6.7864, -7.1463, -7.1471, -7.1473, -7.166, -7.2125, -7.2489, -7.2826, -7.2977, -5.7188, -7.3748, -7.4335, -7.4693, -7.4693, -7.4697, -7.4919, -7.5206, -7.5645, -7.5697, -7.6087, -7.6511, -7.6527, -7.6559, -7.6809, -7.6964, -7.7606, -7.7693, -6.7041, -6.5271, -6.4471, -7.1656, -7.091, -6.8365, -7.401, -7.4164, -7.4486, -6.0274, -6.1075, -6.7761, -6.9089, -7.0856, -7.1179, -7.1941, -7.2381, -7.2818, -7.2943, -7.3215, -7.333, -7.4239, -7.4345, -7.4365, -7.4452, -7.4842, -7.4924, -7.5027, -7.5107, -7.5133, -7.5258, -7.549, -7.5616, -7.5747, -7.5819, -7.5912, -7.5912, -7.5912, -7.5989, -7.5629, -7.5824, -6.7861, -7.0413, -7.1521, -7.2805, -7.321, -7.6205, -7.6622, -7.6862, -7.8619, -7.8641, -7.8778, -7.8889, -7.9159, -7.9288, -7.9834, -8.0449, -8.092, -8.1609, -8.1715, -8.1832, -8.2086, -8.2147, -8.2455, -8.3046, -8.3237, -6.1483, -8.3504, -8.352, -8.3781, -8.4526, -6.2245, -6.4864, -5.3908, -5.6734, -6.4035, -7.3069, -7.6001, -7.63, -5.9306, -6.4394, -6.4986, -6.5697, -6.6196, -6.7663, -7.1389, -7.2236, -7.2678, -7.3006, -7.338, -7.3708, -7.5401, -7.5571, -7.5659, -7.5896, -7.6096, -7.6182, -5.1052, -7.6881, -7.7761, -7.7737, -7.7832, -7.7905, -7.7912, -7.8621, -7.8723, -7.8807, -7.9305, -7.9508, -6.0561, -5.8028, -6.5591, -6.9908, -7.8296, -5.6259, -5.8928, -6.2811, -6.3291, -6.5503, -6.5655, -6.5961, -6.8217, -6.862, -6.8778, -6.9046, -6.9769, -6.9793, -6.9968, -7.1179, -7.2077, -7.2144, -7.215, -7.2546, -7.2673, -7.2684, -7.3081, -7.3307, -7.3372, -7.4435, -7.5132, -7.5865, -7.6029, -7.606, -7.6113, -6.9749, -7.0355, -6.7532, -7.2126, -6.9133, -5.7245, -5.8361, -6.6863, -6.7582, -7.0917, -7.169, -5.8553, -5.858, -7.4241, -7.4256, -7.4344, -7.4466, -4.8267, -7.5397, -7.606, -7.6225, -7.6405, -7.7389, -7.7853, -7.8927, -7.9596, -7.9642, -7.9845, -7.9943, -8.0391, -8.1451, -8.1673, -4.8785, -8.1852, -8.216, -5.9093, -5.741, -6.2291, -6.1623, -7.148, -5.8995, -6.3939, -6.3939, -6.6132, -6.6694, -6.7192, -6.8871, -7.0788, -7.1015, -7.1374, -7.1724, -7.2458, -7.3705, -7.4362, -7.4453, -7.4658, -7.5038, -7.5564, -7.6014, -7.6676, -7.7024, -7.7207, -7.7287, -7.7455, -7.8794, -7.8828, -7.8842, -7.8865, -7.9159, -7.9304, -6.1562, -6.3133, -7.0595, -6.9325, -6.1104, -5.6279, -6.2936, -6.3061, -6.33, -6.6383, -6.6464, -6.7019, -6.7853, -6.797, -6.9173, -6.9933, -7.0617, -7.2536, -7.5896, -7.6166, -7.6422, -7.6815, -7.7711, -7.8319, -7.8414, -7.8991, -7.917, -7.9215, -7.962, -8.1599, -7.6368, -8.2173, -8.2354, -8.286, -7.0194, -7.4901, -6.0923, -6.1656, -6.4003, -6.5991, -6.6411, -6.8094, -7.5214, -7.5936, -7.6741, -7.6741, -7.6741, -7.6741, -7.7991, -7.8945, -7.9139, -8.2197, -8.2197, -8.2434, -8.3265, -8.3367, -8.3367, -8.3367, -8.3367, -8.3686, -8.3368, -8.4209, -8.4279, -8.433, -8.4336, -8.4755, -6.3345, -7.166, -5.785, -5.946, -6.8869, -7.042, -7.1782, -7.2745, -7.4104, -7.4472, -7.5195, -7.5366, -7.5591, -7.5637, -7.6487, -7.6921, -7.8233, -7.9234, -7.9471, -7.9471, -7.9471, -7.9616, -7.9934, -8.08, -8.0963, -8.1481, -8.1536, -8.2173, -8.2448, -8.2484, -8.2484, -8.2519, -7.1481, -7.259, -6.7385, -7.4121, -8.1657, -6.3126, -6.8158, -7.1817, -7.5265, -7.7532, -7.7995, -7.9583, -7.9805, -7.9148, -8.0674, -8.3067, -8.3238, -8.3534, -8.4131, -8.4514, -8.4847, -8.5389, -8.5424, -8.5197, -8.5519, -8.5731, -8.6411, -8.6411, -8.6641, -8.7151, -8.741, -8.7548, -8.7943, -8.7943, -8.7943, -7.4194, -7.5291, -7.5632, -6.1797, -8.238, -8.3291, -8.4433, -8.4469, -8.4921, -8.7752, -7.2399, -8.8095, -6.5034, -8.8348, -8.9019, -8.9097, -9.0534, -9.0971, -9.1187, -9.1237, -9.163, -9.163, -9.199, -7.2512, -9.3732, -9.4343, -9.4414, -9.4469, -9.4956, -9.549, -9.6038, -9.6038, -7.0398, -7.2062, -7.3182, -7.3563, -7.4496, -7.4719, -7.5432, -7.6412, -7.6959, -7.7319, -7.8065, -7.8814, -7.9343, -8.0356, -8.1057, -8.1298, -8.2476, -8.2852, -8.3043, -8.3574, -8.3703, -8.3703, -8.3703, -8.4022, -8.487, -8.492, -8.5204, -8.5204, -8.5365, -8.5843, -7.1027, -6.3493, -8.3792, -7.2546, -7.3208, -7.3726, -7.5658, -7.6446, -7.7212, -7.7439, -7.8027, -7.954, -8.0454, -8.0657, -8.0884, -8.0899, -8.0941, -8.0941, -8.1049, -8.1049, -8.173, -8.2186, -8.2864, -8.3722, -8.3723, -8.4244, -8.4671, -8.4869, -8.4679, -8.6494, -8.6553, -8.7412, -8.7598, -8.0379, -7.1962, -7.4453, -7.5147, -7.8269, -8.2308, -8.257, -8.257, -8.257, -8.257, -8.3233, -8.4267, -8.4342, -8.5268, -8.6566, -8.671, -8.7232, -8.7843, -8.8893, -8.8893, -8.913, -9.0204, -9.0563, -9.0563, -9.0615, -9.0722, -9.1464, -9.1748, -9.1748, -9.2028, -9.2426, -6.8868, -7.1213, -7.1494, -8.0215, -8.0903, -8.5391, -8.5861, -8.663, -8.8153, -9.0352, -9.0508, -9.0062, -9.1105, -9.1237, -9.172, -9.2114, -9.2114, -9.2114, -9.2457, -9.2457, -7.0076, -9.3131, -9.3239, -9.5365, -9.5378, -9.5378, -9.6702, -9.6702, -9.7089, -9.7317, -9.4127, -8.2391, -8.3025, -8.6041, -9.0137, -9.2382, -9.2382, -9.2382, -9.3418, -9.4427, -11.1119, -11.1119, -11.1119, -11.1119, -11.1119, -11.1119, -11.1119, -11.1119, -11.1119, -11.1119, -11.1119, -11.1119, -11.1119, -11.1119, -11.1119, -11.1119, -11.1119, -11.1119, -11.1119, -11.1119, -11.1119, -11.1119, -11.1119, -11.1119, -11.1119, -11.1119, -11.1119, -11.1119, -11.1119, -11.1119, -11.1119, -11.1119, -11.1119, -11.1119, -11.1119, -11.1119, -11.1119, -11.1119, -11.1119, -11.1119, -11.1119, -11.1119, -11.1119], \"loglift\": [30.0, 29.0, 28.0, 27.0, 26.0, 25.0, 24.0, 23.0, 22.0, 21.0, 20.0, 19.0, 18.0, 17.0, 16.0, 15.0, 14.0, 13.0, 12.0, 11.0, 10.0, 9.0, 8.0, 7.0, 6.0, 5.0, 4.0, 3.0, 2.0, 1.0, 0.2185, 0.2185, 0.2185, 0.2183, 0.2183, 0.2182, 0.2182, 0.2178, 0.2178, 0.2177, 0.2175, 0.2174, 0.2172, 0.2172, 0.2171, 0.2171, 0.217, 0.217, 0.2169, 0.2168, 0.2167, 0.2166, 0.2165, 0.2165, 0.2165, 0.2164, 0.2164, 0.2163, 0.2163, 0.2162, 4.166, 4.1161, 4.1129, 4.112, 4.071, 4.0661, 4.0647, 4.0525, 4.0411, 4.0302, 4.0163, 3.9966, 3.9942, 3.9866, 3.9839, 3.9714, 3.9659, 3.9649, 3.9584, 3.9393, 3.9264, 3.9163, 3.9136, 3.9129, 3.894, 3.8907, 3.888, 3.8727, 3.8706, 3.867, 3.7311, 3.0994, 3.4961, 3.2375, 2.4499, 3.7328, 2.1677, 4.1663, 4.1548, 4.1351, 4.1093, 4.0965, 4.089, 4.0878, 4.085, 4.0821, 4.0493, 4.049, 4.0432, 4.033, 4.0278, 3.9928, 3.992, 3.9899, 3.9515, 3.9351, 3.8602, 3.857, 3.846, 3.8439, 3.8341, 3.8298, 3.8207, 3.8106, 3.8023, 3.8004, 3.788, 3.7664, 3.7359, 3.4723, 3.1968, 3.1926, 3.5252, 3.2848, 2.5794, 2.9989, 2.4061, 2.1449, 2.0072, 4.1626, 4.129, 4.1049, 4.096, 4.0248, 4.0246, 4.0246, 4.0203, 4.0094, 4.0005, 3.9921, 3.9883, 3.9762, 3.9681, 3.9519, 3.9417, 3.9417, 3.9415, 3.9351, 3.9257, 3.9131, 3.9116, 3.8993, 3.8856, 3.8851, 3.8834, 3.8758, 3.8705, 3.8484, 3.845, 3.7322, 3.7, 3.2539, 3.2905, 3.1286, 2.4778, 2.8641, 2.3466, 2.1948, 4.2648, 4.257, 4.1645, 4.139, 4.1008, 4.0932, 4.0746, 4.0633, 4.0518, 4.0484, 4.041, 4.0376, 4.0116, 4.0085, 4.0079, 4.0053, 3.9933, 3.9908, 3.9876, 3.985, 3.9842, 3.9803, 3.9727, 3.9687, 3.9644, 3.962, 3.9589, 3.9589, 3.9589, 3.9564, 3.3524, 3.2162, 4.2161, 4.1614, 4.1342, 4.0996, 4.0881, 3.9915, 3.9765, 3.9677, 3.8989, 3.898, 3.8923, 3.8877, 3.8763, 3.8708, 3.847, 3.8194, 3.7976, 3.7646, 3.7595, 3.7537, 3.7411, 3.7381, 3.7226, 3.6922, 3.6821, 3.6731, 3.668, 3.6671, 3.6531, 3.6121, 3.4779, 3.3839, 2.5094, 2.2977, 2.3319, 2.887, 2.4769, 0.5393, 4.344, 4.2839, 4.275, 4.2637, 4.2553, 4.2289, 4.1458, 4.1233, 4.1111, 4.1017, 4.0908, 4.081, 4.0266, 4.0208, 4.0177, 4.0095, 4.0024, 3.9993, 3.9763, 3.9738, 3.94, 3.9396, 3.9371, 3.9342, 3.9332, 3.9051, 3.9009, 3.8973, 3.8761, 3.8673, 3.1802, 2.0006, 2.2921, 2.3299, 2.0011, 4.4076, 4.3854, 4.3418, 4.3353, 4.3017, 4.2991, 4.2939, 4.251, 4.2425, 4.2391, 4.2331, 4.2168, 4.2162, 4.2121, 4.1819, 4.1575, 4.1558, 4.1556, 4.1444, 4.1407, 4.1404, 4.1287, 4.121, 4.1199, 4.0863, 4.0629, 4.037, 4.0311, 4.03, 4.0281, 3.9666, 3.7734, 3.6325, 3.5961, 3.2096, 4.416, 4.4064, 4.2918, 4.2778, 4.2015, 4.1809, 4.1767, 4.1517, 4.1041, 4.1037, 4.1008, 4.0967, 4.0832, 4.0647, 4.0408, 4.0347, 4.0279, 3.9896, 3.9708, 3.9252, 3.8953, 3.8933, 3.884, 3.8794, 3.8558, 3.8067, 3.7956, 3.7883, 3.7865, 3.7706, 3.6399, 2.745, 1.8447, 1.7584, -0.0136, 4.4503, 4.3877, 4.3877, 4.3502, 4.3395, 4.3293, 4.293, 4.2452, 4.2391, 4.2292, 4.2193, 4.1977, 4.1584, 4.1363, 4.1332, 4.1261, 4.1126, 4.0934, 4.0764, 4.0507, 4.0367, 4.0292, 4.026, 4.0189, 3.9602, 3.9596, 3.959, 3.9579, 3.9446, 3.9379, 3.3448, 2.6724, 3.1745, 2.738, 4.4944, 4.4711, 4.4685, 4.4666, 4.4628, 4.4074, 4.4057, 4.3941, 4.3757, 4.373, 4.344, 4.3243, 4.3056, 4.2479, 4.1275, 4.1166, 4.1062, 4.0899, 4.0512, 4.0239, 4.0195, 3.9927, 3.9841, 3.982, 3.9624, 3.8606, 3.8475, 3.8266, 3.8192, 3.7907, 3.3229, 3.2217, 4.5383, 4.5281, 4.4906, 4.4533, 4.4445, 4.4064, 4.1828, 4.1533, 4.12, 4.12, 4.12, 4.12, 4.0643, 4.0192, 4.0097, 3.8483, 3.8483, 3.8348, 3.7864, 3.7804, 3.7804, 3.7804, 3.7804, 3.7613, 3.7525, 3.7295, 3.7252, 3.722, 3.7217, 3.6956, 2.8773, 2.3414, 4.584, 4.5661, 4.395, 4.3525, 4.3114, 4.2798, 4.2317, 4.2179, 4.1899, 4.1831, 4.1735, 4.1722, 4.1368, 4.1181, 4.0585, 4.0103, 3.9984, 3.9984, 3.9984, 3.9905, 3.9728, 3.9297, 3.9209, 3.8927, 3.8897, 3.842, 3.8383, 3.8362, 3.8362, 3.8342, 3.4598, 3.4176, 2.4999, 2.2598, 2.2725, 4.5482, 4.4431, 4.3374, 4.2109, 4.1123, 4.0906, 4.0046, 4.0007, 3.9951, 3.9545, 3.818, 3.8076, 3.7897, 3.7528, 3.7287, 3.7074, 3.6723, 3.67, 3.6677, 3.6638, 3.6498, 3.6043, 3.6043, 3.5887, 3.5536, 3.5356, 3.5259, 3.4981, 3.4981, 3.4981, 3.4846, 2.7866, 4.2047, 3.9573, 3.8612, 3.8106, 3.7395, 3.7372, 3.7082, 3.5161, 3.5063, 3.4916, 3.4846, 3.4734, 3.4246, 3.4188, 3.3111, 3.2776, 3.2609, 3.2571, 3.2265, 3.2265, 3.1981, 3.1548, 3.0584, 3.0083, 3.0025, 2.9979, 2.9574, 2.9128, 2.8665, 2.8665, 4.4117, 4.3572, 4.3178, 4.3036, 4.2673, 4.2584, 4.2288, 4.1864, 4.1616, 4.1448, 4.1092, 4.072, 4.0448, 3.991, 3.9522, 3.9386, 3.87, 3.8474, 3.8358, 3.8031, 3.795, 3.795, 3.795, 3.7749, 3.7204, 3.7171, 3.6985, 3.6985, 3.6878, 3.6559, 3.2249, 2.2095, 2.6541, 4.3567, 4.3324, 4.3118, 4.2333, 4.1983, 4.1629, 4.1521, 4.1235, 4.0461, 3.9965, 3.9852, 3.9725, 3.9716, 3.9693, 3.9693, 3.9632, 3.9632, 3.9239, 3.897, 3.856, 3.8027, 3.8026, 3.7694, 3.7417, 3.7286, 3.7234, 3.6188, 3.6146, 3.5541, 3.5409, 3.383, 4.4, 4.3044, 4.2751, 4.1286, 3.9031, 3.8872, 3.8872, 3.8872, 3.8872, 3.846, 3.7797, 3.7747, 3.7131, 3.6237, 3.6103, 3.5764, 3.5322, 3.4546, 3.4546, 3.4368, 3.3547, 3.3269, 3.3269, 3.3228, 3.3145, 3.256, 3.2333, 3.2333, 3.2109, 3.1789, 4.5133, 4.4391, 4.4294, 4.0336, 3.9943, 3.7109, 3.6758, 3.6247, 3.5143, 3.3473, 3.3352, 3.3294, 3.2881, 3.2772, 3.2391, 3.2075, 3.2075, 3.2075, 3.1797, 3.1797, 3.1792, 3.1244, 3.1156, 2.937, 2.936, 2.936, 2.8218, 2.8218, 2.7881, 2.7682, 2.7386, 3.919, 3.8791, 3.6764, 3.3714, 3.1917, 3.1917, 3.1917, 3.1062, 3.0214, 1.4765, 1.4765, 1.4765, 1.4765, 1.4765, 1.4765, 1.4765, 1.4765, 1.4765, 1.4765, 1.4765, 1.4765, 1.4765, 1.4765, 1.4765, 1.4765, 1.4765, 1.4765, 1.4765, 1.4765, 1.4765, 1.4765, 1.1401, 0.5704, 0.5284, 0.6801, 1.018, 1.2987, 1.0095, 0.295, 0.0086, -0.0431, 1.3198, 0.0466, 1.2234, 0.9129, 0.9129, 0.9129, 0.9129, 0.9824, 0.9824, -0.1554, 1.1222]}, \"token.table\": {\"Topic\": [1, 10, 1, 3, 1, 6, 13, 2, 13, 5, 1, 2, 3, 3, 1, 3, 1, 3, 1, 3, 1, 2, 1, 4, 3, 4, 1, 9, 2, 8, 4, 5, 4, 12, 2, 5, 1, 16, 2, 7, 9, 5, 11, 8, 1, 6, 10, 8, 1, 3, 9, 13, 1, 4, 7, 11, 1, 1, 4, 1, 1, 1, 4, 5, 8, 1, 1, 11, 2, 11, 1, 3, 4, 5, 3, 6, 4, 8, 1, 1, 1, 1, 8, 8, 10, 1, 10, 6, 10, 9, 1, 3, 4, 1, 4, 3, 12, 1, 4, 14, 7, 8, 1, 4, 8, 2, 1, 3, 8, 1, 9, 1, 3, 6, 10, 11, 12, 11, 2, 11, 11, 1, 1, 4, 1, 7, 3, 1, 2, 1, 10, 8, 1, 4, 10, 1, 12, 1, 10, 2, 1, 9, 13, 1, 10, 3, 3, 1, 2, 4, 1, 2, 1, 8, 8, 1, 7, 11, 2, 1, 1, 6, 2, 1, 2, 7, 1, 4, 3, 1, 8, 1, 2, 2, 1, 6, 2, 1, 8, 8, 1, 5, 1, 15, 1, 15, 7, 2, 8, 4, 10, 3, 4, 9, 2, 8, 7, 1, 1, 3, 1, 2, 2, 1, 8, 8, 5, 6, 3, 2, 1, 11, 4, 1, 7, 1, 19, 3, 1, 1, 6, 1, 3, 1, 4, 4, 4, 1, 9, 1, 9, 1, 1, 1, 1, 3, 1, 1, 8, 1, 6, 1, 4, 8, 2, 2, 5, 1, 2, 1, 7, 2, 2, 1, 3, 1, 2, 1, 1, 10, 1, 6, 1, 9, 3, 1, 3, 1, 3, 8, 10, 1, 9, 8, 1, 1, 3, 1, 7, 9, 1, 1, 3, 1, 1, 9, 1, 10, 1, 4, 4, 1, 11, 7, 1, 1, 1, 1, 10, 1, 7, 1, 8, 8, 5, 1, 3, 1, 3, 1, 2, 12, 12, 1, 9, 1, 11, 11, 2, 7, 5, 12, 2, 4, 1, 1, 13, 11, 1, 5, 1, 9, 1, 1, 6, 2, 14, 7, 3], \"Freq\": [0.9971379505152458, 0.9473258916268715, 0.47931973830646163, 0.7865130384980923, 0.5130334113830588, 0.5130334113830588, 1.1528916009420576, 0.6821995007028049, 1.244747430366478, 1.2283925623594047, 0.6863699318687685, 0.2287899772895895, 0.9774233419956188, 0.8333475276170857, 0.22025819911102765, 0.660774597333083, 0.7574486499340952, 0.7574486499340952, 0.3223462238047718, 0.6446924476095436, 0.9920837202246713, 1.0015084935330463, 0.9966300454468227, 1.3804261390494206, 0.8450838524690641, 0.798720357268655, 0.3483797404759163, 0.6967594809518326, 1.2946716636862665, 0.9124505513399401, 1.1312378332561068, 1.1313643786186294, 1.1150701641404488, 0.6912597821673346, 1.0749226685803595, 0.994647583668784, 0.8991413297571237, 0.08174012088701124, 1.031283380056345, 0.7487162214106308, 0.7951318968140625, 0.9850344718244187, 0.7480190229146367, 1.0554492870157284, 0.8629226582899681, 0.13625094604578442, 0.7547423634211737, 0.8856266827485381, 0.8328083614720448, 1.1937388725426792, 0.8804388593972066, 1.3930226903365204, 0.512327350867177, 0.2561636754335885, 0.71202250666404, 0.9828431413758398, 0.9941298616200215, 0.4302431539074221, 0.4302431539074221, 0.728457316295789, 0.9951559593690441, 0.2546129084501366, 0.7638387253504098, 0.8847740513680097, 0.820078818083363, 0.8627363629935632, 1.4103882968717565, 1.2193976015722887, 0.9634620821386901, 0.7627449304037074, 1.0030189571520125, 1.2025014551770288, 1.2358583307786708, 1.1597311743714733, 1.3998774908525031, 1.2502352331316424, 1.2050198387809383, 1.1396313322218425, 0.8529634903116452, 1.0010302326870875, 0.703838474381068, 0.9979073456606314, 1.3528961026417032, 1.0715639898667475, 0.7547423634236492, 0.8769184387651932, 0.1252740626807419, 1.3731952615304124, 1.3891061830835967, 1.2588050965331654, 0.8362483826737304, 0.2090620956684326, 1.1722127400365243, 0.7254726909426054, 0.2418242303142018, 0.733432962183412, 1.0228830892220901, 0.8700138028208635, 0.1740027605641727, 1.2164630741104556, 0.794886325672452, 1.4120200068116577, 0.545020139548827, 0.545020139548827, 1.413188226698614, 0.6892010702409969, 0.738603131891378, 0.1477206263782756, 1.3596993054949988, 0.45530808687101804, 0.45530808687101804, 0.35659386759779144, 0.35659386759779144, 0.9410058768875637, 0.9801901288809928, 0.740165499812434, 0.6489462122645764, 1.0336209644496832, 1.3954759048937107, 1.2899628678651072, 1.1128814750503233, 0.9935732069510826, 0.4335000153024699, 0.4335000153024699, 0.4135894966668536, 0.6893158277780893, 0.8172921117239145, 0.9978885733112738, 0.9895919057767139, 0.8730390869982888, 0.4365195434991444, 0.8411685489474855, 0.9005955095551583, 0.45029775477757916, 1.1242911152253434, 0.7852641477880759, 0.15705282955761518, 0.6291413813764513, 0.20971379379215044, 0.716001711183211, 0.3488020782092256, 0.6976041564184512, 0.9992202848447594, 0.7453436046095727, 0.24844786820319092, 1.3420689634269065, 0.6243028433831178, 0.2881090423768973, 0.5762180847537945, 1.1142071714907118, 0.9247703055673926, 0.23119257639184815, 0.5079760942328956, 0.5079760942328956, 1.360241196833583, 0.8755523274992484, 0.17511046549984968, 1.3557203220640504, 0.8580204014963468, 1.070761888281383, 0.8462040598302473, 0.1269306089745371, 1.3741315251088155, 0.4959109407851948, 0.4959109407851948, 0.9344425120450353, 1.0029552174669034, 1.4161583559044009, 0.9999410239669846, 0.781223629182101, 0.3906118145910505, 0.9975875608994923, 1.1391309510715855, 1.0257118866275574, 0.8386037904175099, 0.41930189520875494, 1.0170195364926908, 1.100138783015906, 0.7756108099958147, 1.1417369051957353, 0.9994629939993417, 0.9253646232303666, 0.6826105201916809, 0.34130526009584045, 0.3961534839656541, 0.3961534839656541, 1.4040513436503415, 0.9140814491622493, 0.6439807767372971, 0.8348268291513744, 1.298212763150309, 0.9762376949443103, 1.2499024287347253, 1.3322130527186418, 1.3859750432157723, 1.2671444978312163, 1.2481855595073794, 0.7461235789121227, 0.9202614030923304, 0.1533769005153884, 1.0044750245042529, 1.160178767113076, 0.710193380538011, 0.9964203704456546, 1.3992790706209155, 1.1570463061663516, 1.322822804378201, 1.1500615400001628, 1.0396488396850823, 1.114554753636409, 0.48643339050458223, 0.48643339050458223, 1.110197978303762, 0.8760623700725407, 0.10950779625906759, 0.9969513542791624, 1.4010381045720814, 1.0595623816140003, 0.8989494253709986, 0.8778018455612502, 0.09753353839569447, 0.7547182000920294, 0.3773591000460147, 0.9984326206329395, 1.1149363868691262, 1.4161583557645225, 1.4166376811501045, 0.8360561166871093, 0.15201020303401988, 0.9500680653817206, 0.04318491206280548, 1.0591839515418697, 0.9981038986923574, 0.9925293869984997, 0.4869949741469821, 0.4869949741469821, 0.947307351457185, 0.7754238335042304, 0.7754238335042304, 0.6068346857076337, 0.30341734285381683, 0.5343781227297262, 0.5343781227297262, 0.6712598456508672, 1.2103243848193885, 1.1432642802373685, 1.3491966518080816, 0.5857064491265335, 0.5857064491265335, 0.9980457637559808, 1.3283975323839154, 0.8139100105123529, 1.1080130136455046, 0.8506256746125106, 0.1701251349225021, 0.6815438442516668, 0.2726175377006667, 1.005819895202495, 0.5184083747112586, 0.9856862132924207, 0.5778550152400549, 0.5778550152400549, 0.9836511573697669, 0.01967302314739534, 1.0786545332505684, 0.4619610460968193, 0.692941569145229, 0.7624779750001593, 0.19061949375003984, 1.0098479530394449, 1.3547059670402763, 0.3566681929801206, 0.7133363859602412, 0.8097732062794725, 0.99373574498904, 0.5295112612703221, 0.26475563063516105, 0.6437373540257687, 0.32186867701288435, 0.9185915186647029, 0.9949283644708388, 0.6795486199431314, 0.8218998370496206, 0.9984591814732916, 0.4401512641634798, 0.4401512641634798, 0.7676654925166893, 1.319967192981166, 0.8175780556219522, 0.2725260185406507, 0.6987316654674542, 0.9936108680842283, 0.9892004358605979, 1.3715641703680734, 1.0030219910249794, 1.0025209323929425, 0.9983849271799736, 0.8749181726336147, 0.9052251974743556, 0.921741304370584, 0.07681177536421534, 0.6344354688598888, 1.042456021896205, 1.0776400366074406, 1.3108048475304703, 0.6716498561197065, 0.33582492805985326, 0.2789079685897969, 0.8367239057693906, 0.9707617009678167, 1.0414198423419785, 1.1650937386784175, 0.8419173473135083, 0.9059143970259296, 0.05032857761255164, 1.0004685280254306, 1.1030082360226927, 0.6324746953636814, 0.992196471516423, 0.8286091181929017, 1.2692643224166087, 0.9894900685930915, 1.3023629697675136, 1.322968225772843, 0.8442181689457039, 0.8064699812815254, 0.16129399625630508, 0.763286733145252, 1.001686731263155, 1.3602114202549793, 0.9973217591247838, 0.973391741745633, 0.9965586328238113, 0.9929887620120429, 1.4134452658437933, 1.306755131220733, 0.8169450858619688, 0.909123001984028, 0.9775565490403078], \"Term\": [\"access\", \"acpub\", \"acsu\", \"alicea\", \"allan\", \"allan\", \"amanda\", \"amdahl\", \"amoco\", \"anas\", \"anthony\", \"anthony\", \"appressian\", \"argic\", \"armenia\", \"armenia\", \"armenian\", \"armenian\", \"armenians\", \"armenians\", \"article\", \"ashley\", \"atheists\", \"auckland\", \"azeris\", \"baalke\", \"banks\", \"banks\", \"beavington\", \"behanna\", \"bgardner\", \"binah\", \"blaine\", \"bontchev\", \"bony\", \"brandeis\", \"buffalo\", \"buffalo\", \"byler\", \"cacs\", \"cadre\", \"caldwell\", \"callison\", \"calpoly\", \"caltech\", \"caltech\", \"catbyte\", \"centaur\", \"centerline\", \"ceremony\", \"chastity\", \"chevron\", \"clayton\", \"clayton\", \"comet\", \"comics\", \"computer\", \"consent\", \"consent\", \"consultants\", \"cooling\", \"cramer\", \"cramer\", \"crchh\", \"cunixa\", \"curves\", \"cyprs\", \"dang\", \"darius\", \"dartmouth\", \"david\", \"dchhabra\", \"dealy\", \"deane\", \"deepak\", \"desonia\", \"dietz\", \"dillon\", \"dimension\", \"distribution\", \"dock\", \"drive\", \"dryden\", \"dseg\", \"dtmedin\", \"duke\", \"duke\", \"dundee\", \"econ\", \"egan\", \"escape\", \"escape\", \"ethan\", \"evans\", \"evans\", \"extermination\", \"fbihh\", \"finland\", \"finland\", \"fourd\", \"fraering\", \"fxwg\", \"gardner\", \"gardner\", \"garfiel\", \"garnet\", \"genocide\", \"genocide\", \"glide\", \"gordon\", \"gordon\", \"greece\", \"greece\", \"greig\", \"gtoal\", \"hades\", \"hamburg\", \"hanover\", \"hats\", \"healta\", \"healy\", \"help\", \"helsinki\", \"helsinki\", \"henry\", \"henry\", \"hernlem\", \"host\", \"hulman\", \"huntsville\", \"huntsville\", \"hydro\", \"imake\", \"imake\", \"infante\", \"informatik\", \"informatik\", \"ingr\", \"ingr\", \"ingres\", \"intellect\", \"intellect\", \"intercon\", \"intergraph\", \"intergraph\", \"istanbul\", \"ists\", \"jake\", \"jake\", \"jartsu\", \"jimmy\", \"jimmy\", \"jody\", \"jody\", \"jubilee\", \"jupiter\", \"jupiter\", \"karlsruhe\", \"karr\", \"keeper\", \"keith\", \"keith\", \"kepler\", \"khan\", \"khan\", \"kipling\", \"know\", \"kortelainen\", \"kurds\", \"levine\", \"levine\", \"lines\", \"liturgy\", \"livni\", \"lloyd\", \"lloyd\", \"louisville\", \"lounge\", \"luis\", \"lustig\", \"mail\", \"maine\", \"mantis\", \"mantis\", \"mathew\", \"mathew\", \"mayans\", \"mbeaving\", \"mccall\", \"mcguire\", \"medin\", \"melkonian\", \"mercer\", \"migraine\", \"minyos\", \"mksol\", \"moonbase\", \"motto\", \"mountain\", \"mountain\", \"need\", \"nerve\", \"nextwork\", \"nntp\", \"nolan\", \"noring\", \"noye\", \"nrhj\", \"nthu\", \"nuet\", \"oklahoma\", \"oklahoma\", \"optilink\", \"orbit\", \"orbit\", \"organization\", \"oscillator\", \"ottoman\", \"overheard\", \"pasadena\", \"pasadena\", \"passes\", \"passes\", \"people\", \"petaluma\", \"petteri\", \"phigs\", \"pitt\", \"pitt\", \"pittsburgh\", \"pittsburgh\", \"popec\", \"posting\", \"problem\", \"proceeded\", \"proceeded\", \"projector\", \"proton\", \"proton\", \"punisher\", \"punisher\", \"pyramid\", \"pyramid\", \"pyron\", \"radford\", \"rainbow\", \"rayshade\", \"redundancy\", \"redundancy\", \"reply\", \"repo\", \"rickert\", \"rmit\", \"roads\", \"roads\", \"rose\", \"rose\", \"ruler\", \"rusnews\", \"sampling\", \"schneider\", \"schneider\", \"science\", \"science\", \"sera\", \"serdar\", \"serdar\", \"serve\", \"serve\", \"shafer\", \"shapiro\", \"skepticism\", \"skepticism\", \"skndiv\", \"software\", \"soviet\", \"soviet\", \"spencer\", \"spencer\", \"stafford\", \"state\", \"steam\", \"stpl\", \"subject\", \"surrender\", \"surrender\", \"susan\", \"sussex\", \"sutherland\", \"sutherland\", \"sysmgr\", \"system\", \"tammy\", \"televison\", \"thanks\", \"think\", \"time\", \"titan\", \"toal\", \"toronto\", \"toronto\", \"towers\", \"trumpet\", \"tseng\", \"tudelft\", \"turkey\", \"turkey\", \"turks\", \"turks\", \"ubvms\", \"ulkyvx\", \"ulowell\", \"umass\", \"univ\", \"univ\", \"university\", \"uokmax\", \"uoknor\", \"utxvms\", \"utzoo\", \"vera\", \"vesselin\", \"vinyl\", \"vipunen\", \"virus\", \"walker\", \"walker\", \"walla\", \"want\", \"webo\", \"windows\", \"winona\", \"work\", \"world\", \"wwiz\", \"zinc\", \"zisfein\", \"zoology\", \"zuma\"]}, \"R\": 30, \"lambda.step\": 0.01, \"plot.opts\": {\"xlab\": \"PC1\", \"ylab\": \"PC2\"}, \"topic.order\": [17, 3, 4, 1, 19, 11, 20, 10, 9, 15, 7, 5, 12, 8, 16, 14, 6, 13, 2, 18]};\n",
       "\n",
       "function LDAvis_load_lib(url, callback){\n",
       "  var s = document.createElement('script');\n",
       "  s.src = url;\n",
       "  s.async = true;\n",
       "  s.onreadystatechange = s.onload = callback;\n",
       "  s.onerror = function(){console.warn(\"failed to load library \" + url);};\n",
       "  document.getElementsByTagName(\"head\")[0].appendChild(s);\n",
       "}\n",
       "\n",
       "if(typeof(LDAvis) !== \"undefined\"){\n",
       "   // already loaded: just create the visualization\n",
       "   !function(LDAvis){\n",
       "       new LDAvis(\"#\" + \"ldavis_el327611402696615083205508739561\", ldavis_el327611402696615083205508739561_data);\n",
       "   }(LDAvis);\n",
       "}else if(typeof define === \"function\" && define.amd){\n",
       "   // require.js is available: use it to load d3/LDAvis\n",
       "   require.config({paths: {d3: \"https://d3js.org/d3.v5\"}});\n",
       "   require([\"d3\"], function(d3){\n",
       "      window.d3 = d3;\n",
       "      LDAvis_load_lib(\"https://cdn.jsdelivr.net/gh/bmabey/pyLDAvis@3.3.1/pyLDAvis/js/ldavis.v3.0.0.js\", function(){\n",
       "        new LDAvis(\"#\" + \"ldavis_el327611402696615083205508739561\", ldavis_el327611402696615083205508739561_data);\n",
       "      });\n",
       "    });\n",
       "}else{\n",
       "    // require.js not available: dynamically load d3 & LDAvis\n",
       "    LDAvis_load_lib(\"https://d3js.org/d3.v5.js\", function(){\n",
       "         LDAvis_load_lib(\"https://cdn.jsdelivr.net/gh/bmabey/pyLDAvis@3.3.1/pyLDAvis/js/ldavis.v3.0.0.js\", function(){\n",
       "                 new LDAvis(\"#\" + \"ldavis_el327611402696615083205508739561\", ldavis_el327611402696615083205508739561_data);\n",
       "            })\n",
       "         });\n",
       "}\n",
       "</script>"
      ],
      "text/plain": [
       "<IPython.core.display.HTML object>"
      ]
     },
     "execution_count": 32,
     "metadata": {},
     "output_type": "execute_result"
    }
   ],
   "source": [
    "import pyLDAvis\n",
    "import pyLDAvis.sklearn\n",
    "\n",
    "pyLDAvis.enable_notebook()\n",
    "vis = pyLDAvis.sklearn.prepare(lda, tfidf, tfidf_vect, mds='tsne')\n",
    "pyLDAvis.display(vis)"
   ]
  },
  {
   "cell_type": "code",
   "execution_count": 33,
   "metadata": {
    "ExecuteTime": {
     "end_time": "2021-07-11T03:16:16.908126Z",
     "start_time": "2021-07-11T02:29:55.853097Z"
    },
    "colab": {
     "base_uri": "https://localhost:8080/"
    },
    "id": "f6Yk8Lg60k-b",
    "outputId": "e6f868d7-0ca2-4f28-e48c-801c8fae33d1"
   },
   "outputs": [
    {
     "name": "stderr",
     "output_type": "stream",
     "text": [
      "/Users/dhkim/miniforge3/envs/nlp/lib/python3.8/site-packages/ipykernel/ipkernel.py:283: DeprecationWarning: `should_run_async` will not call `transform_cell` automatically in the future. Please pass the result to `transformed_cell` argument and any exception that happen during thetransform in `preprocessing_exc_tuple` in IPython 7.17 and above.\n",
      "  and should_run_async(code)\n"
     ]
    },
    {
     "ename": "KeyboardInterrupt",
     "evalue": "",
     "output_type": "error",
     "traceback": [
      "\u001b[0;31m---------------------------------------------------------------------------\u001b[0m",
      "\u001b[0;31mKeyboardInterrupt\u001b[0m                         Traceback (most recent call last)",
      "\u001b[0;32m<ipython-input-33-9644713ca71f>\u001b[0m in \u001b[0;36m<module>\u001b[0;34m\u001b[0m\n\u001b[1;32m     21\u001b[0m     \u001b[0;32mreturn\u001b[0m \u001b[0mgs_lda\u001b[0m\u001b[0;34m.\u001b[0m\u001b[0mbest_estimator_\u001b[0m\u001b[0;34m\u001b[0m\u001b[0;34m\u001b[0m\u001b[0m\n\u001b[1;32m     22\u001b[0m \u001b[0;34m\u001b[0m\u001b[0m\n\u001b[0;32m---> 23\u001b[0;31m \u001b[0mlda_pipeline\u001b[0m \u001b[0;34m=\u001b[0m \u001b[0mtuning_hyperparams\u001b[0m\u001b[0;34m(\u001b[0m\u001b[0mnews_df\u001b[0m\u001b[0;34m[\u001b[0m\u001b[0;34m'clean_doc'\u001b[0m\u001b[0;34m]\u001b[0m\u001b[0;34m)\u001b[0m\u001b[0;34m\u001b[0m\u001b[0;34m\u001b[0m\u001b[0m\n\u001b[0m",
      "\u001b[0;32m<ipython-input-33-9644713ca71f>\u001b[0m in \u001b[0;36mtuning_hyperparams\u001b[0;34m(train_data, n_jobs)\u001b[0m\n\u001b[1;32m     13\u001b[0m                      }\n\u001b[1;32m     14\u001b[0m     \u001b[0mgs_lda\u001b[0m \u001b[0;34m=\u001b[0m \u001b[0mGridSearchCV\u001b[0m\u001b[0;34m(\u001b[0m\u001b[0mlda_pipeline\u001b[0m\u001b[0;34m,\u001b[0m \u001b[0msearch_params\u001b[0m\u001b[0;34m,\u001b[0m \u001b[0mn_jobs\u001b[0m\u001b[0;34m=\u001b[0m\u001b[0mn_jobs\u001b[0m\u001b[0;34m)\u001b[0m\u001b[0;34m\u001b[0m\u001b[0;34m\u001b[0m\u001b[0m\n\u001b[0;32m---> 15\u001b[0;31m     \u001b[0mgs_lda\u001b[0m \u001b[0;34m=\u001b[0m \u001b[0mgs_lda\u001b[0m\u001b[0;34m.\u001b[0m\u001b[0mfit\u001b[0m\u001b[0;34m(\u001b[0m\u001b[0mtrain_data\u001b[0m\u001b[0;34m)\u001b[0m\u001b[0;34m\u001b[0m\u001b[0;34m\u001b[0m\u001b[0m\n\u001b[0m\u001b[1;32m     16\u001b[0m     \u001b[0mprint\u001b[0m\u001b[0;34m(\u001b[0m\u001b[0;34m\"Best score: {0}\"\u001b[0m\u001b[0;34m.\u001b[0m\u001b[0mformat\u001b[0m\u001b[0;34m(\u001b[0m\u001b[0mgs_lda\u001b[0m\u001b[0;34m.\u001b[0m\u001b[0mbest_score_\u001b[0m\u001b[0;34m)\u001b[0m\u001b[0;34m)\u001b[0m\u001b[0;34m\u001b[0m\u001b[0;34m\u001b[0m\u001b[0m\n\u001b[1;32m     17\u001b[0m     \u001b[0mprint\u001b[0m\u001b[0;34m(\u001b[0m\u001b[0;34m\"Best parameters set:\"\u001b[0m\u001b[0;34m)\u001b[0m\u001b[0;34m\u001b[0m\u001b[0;34m\u001b[0m\u001b[0m\n",
      "\u001b[0;32m~/miniforge3/envs/nlp/lib/python3.8/site-packages/sklearn/utils/validation.py\u001b[0m in \u001b[0;36minner_f\u001b[0;34m(*args, **kwargs)\u001b[0m\n\u001b[1;32m     61\u001b[0m             \u001b[0mextra_args\u001b[0m \u001b[0;34m=\u001b[0m \u001b[0mlen\u001b[0m\u001b[0;34m(\u001b[0m\u001b[0margs\u001b[0m\u001b[0;34m)\u001b[0m \u001b[0;34m-\u001b[0m \u001b[0mlen\u001b[0m\u001b[0;34m(\u001b[0m\u001b[0mall_args\u001b[0m\u001b[0;34m)\u001b[0m\u001b[0;34m\u001b[0m\u001b[0;34m\u001b[0m\u001b[0m\n\u001b[1;32m     62\u001b[0m             \u001b[0;32mif\u001b[0m \u001b[0mextra_args\u001b[0m \u001b[0;34m<=\u001b[0m \u001b[0;36m0\u001b[0m\u001b[0;34m:\u001b[0m\u001b[0;34m\u001b[0m\u001b[0;34m\u001b[0m\u001b[0m\n\u001b[0;32m---> 63\u001b[0;31m                 \u001b[0;32mreturn\u001b[0m \u001b[0mf\u001b[0m\u001b[0;34m(\u001b[0m\u001b[0;34m*\u001b[0m\u001b[0margs\u001b[0m\u001b[0;34m,\u001b[0m \u001b[0;34m**\u001b[0m\u001b[0mkwargs\u001b[0m\u001b[0;34m)\u001b[0m\u001b[0;34m\u001b[0m\u001b[0;34m\u001b[0m\u001b[0m\n\u001b[0m\u001b[1;32m     64\u001b[0m \u001b[0;34m\u001b[0m\u001b[0m\n\u001b[1;32m     65\u001b[0m             \u001b[0;31m# extra_args > 0\u001b[0m\u001b[0;34m\u001b[0m\u001b[0;34m\u001b[0m\u001b[0;34m\u001b[0m\u001b[0m\n",
      "\u001b[0;32m~/miniforge3/envs/nlp/lib/python3.8/site-packages/sklearn/model_selection/_search.py\u001b[0m in \u001b[0;36mfit\u001b[0;34m(self, X, y, groups, **fit_params)\u001b[0m\n\u001b[1;32m    839\u001b[0m                 \u001b[0;32mreturn\u001b[0m \u001b[0mresults\u001b[0m\u001b[0;34m\u001b[0m\u001b[0;34m\u001b[0m\u001b[0m\n\u001b[1;32m    840\u001b[0m \u001b[0;34m\u001b[0m\u001b[0m\n\u001b[0;32m--> 841\u001b[0;31m             \u001b[0mself\u001b[0m\u001b[0;34m.\u001b[0m\u001b[0m_run_search\u001b[0m\u001b[0;34m(\u001b[0m\u001b[0mevaluate_candidates\u001b[0m\u001b[0;34m)\u001b[0m\u001b[0;34m\u001b[0m\u001b[0;34m\u001b[0m\u001b[0m\n\u001b[0m\u001b[1;32m    842\u001b[0m \u001b[0;34m\u001b[0m\u001b[0m\n\u001b[1;32m    843\u001b[0m             \u001b[0;31m# multimetric is determined here because in the case of a callable\u001b[0m\u001b[0;34m\u001b[0m\u001b[0;34m\u001b[0m\u001b[0;34m\u001b[0m\u001b[0m\n",
      "\u001b[0;32m~/miniforge3/envs/nlp/lib/python3.8/site-packages/sklearn/model_selection/_search.py\u001b[0m in \u001b[0;36m_run_search\u001b[0;34m(self, evaluate_candidates)\u001b[0m\n\u001b[1;32m   1294\u001b[0m     \u001b[0;32mdef\u001b[0m \u001b[0m_run_search\u001b[0m\u001b[0;34m(\u001b[0m\u001b[0mself\u001b[0m\u001b[0;34m,\u001b[0m \u001b[0mevaluate_candidates\u001b[0m\u001b[0;34m)\u001b[0m\u001b[0;34m:\u001b[0m\u001b[0;34m\u001b[0m\u001b[0;34m\u001b[0m\u001b[0m\n\u001b[1;32m   1295\u001b[0m         \u001b[0;34m\"\"\"Search all candidates in param_grid\"\"\"\u001b[0m\u001b[0;34m\u001b[0m\u001b[0;34m\u001b[0m\u001b[0m\n\u001b[0;32m-> 1296\u001b[0;31m         \u001b[0mevaluate_candidates\u001b[0m\u001b[0;34m(\u001b[0m\u001b[0mParameterGrid\u001b[0m\u001b[0;34m(\u001b[0m\u001b[0mself\u001b[0m\u001b[0;34m.\u001b[0m\u001b[0mparam_grid\u001b[0m\u001b[0;34m)\u001b[0m\u001b[0;34m)\u001b[0m\u001b[0;34m\u001b[0m\u001b[0;34m\u001b[0m\u001b[0m\n\u001b[0m\u001b[1;32m   1297\u001b[0m \u001b[0;34m\u001b[0m\u001b[0m\n\u001b[1;32m   1298\u001b[0m \u001b[0;34m\u001b[0m\u001b[0m\n",
      "\u001b[0;32m~/miniforge3/envs/nlp/lib/python3.8/site-packages/sklearn/model_selection/_search.py\u001b[0m in \u001b[0;36mevaluate_candidates\u001b[0;34m(candidate_params, cv, more_results)\u001b[0m\n\u001b[1;32m    793\u001b[0m                               n_splits, n_candidates, n_candidates * n_splits))\n\u001b[1;32m    794\u001b[0m \u001b[0;34m\u001b[0m\u001b[0m\n\u001b[0;32m--> 795\u001b[0;31m                 out = parallel(delayed(_fit_and_score)(clone(base_estimator),\n\u001b[0m\u001b[1;32m    796\u001b[0m                                                        \u001b[0mX\u001b[0m\u001b[0;34m,\u001b[0m \u001b[0my\u001b[0m\u001b[0;34m,\u001b[0m\u001b[0;34m\u001b[0m\u001b[0;34m\u001b[0m\u001b[0m\n\u001b[1;32m    797\u001b[0m                                                        \u001b[0mtrain\u001b[0m\u001b[0;34m=\u001b[0m\u001b[0mtrain\u001b[0m\u001b[0;34m,\u001b[0m \u001b[0mtest\u001b[0m\u001b[0;34m=\u001b[0m\u001b[0mtest\u001b[0m\u001b[0;34m,\u001b[0m\u001b[0;34m\u001b[0m\u001b[0;34m\u001b[0m\u001b[0m\n",
      "\u001b[0;32m~/miniforge3/envs/nlp/lib/python3.8/site-packages/joblib/parallel.py\u001b[0m in \u001b[0;36m__call__\u001b[0;34m(self, iterable)\u001b[0m\n\u001b[1;32m   1042\u001b[0m                 \u001b[0mself\u001b[0m\u001b[0;34m.\u001b[0m\u001b[0m_iterating\u001b[0m \u001b[0;34m=\u001b[0m \u001b[0mself\u001b[0m\u001b[0;34m.\u001b[0m\u001b[0m_original_iterator\u001b[0m \u001b[0;32mis\u001b[0m \u001b[0;32mnot\u001b[0m \u001b[0;32mNone\u001b[0m\u001b[0;34m\u001b[0m\u001b[0;34m\u001b[0m\u001b[0m\n\u001b[1;32m   1043\u001b[0m \u001b[0;34m\u001b[0m\u001b[0m\n\u001b[0;32m-> 1044\u001b[0;31m             \u001b[0;32mwhile\u001b[0m \u001b[0mself\u001b[0m\u001b[0;34m.\u001b[0m\u001b[0mdispatch_one_batch\u001b[0m\u001b[0;34m(\u001b[0m\u001b[0miterator\u001b[0m\u001b[0;34m)\u001b[0m\u001b[0;34m:\u001b[0m\u001b[0;34m\u001b[0m\u001b[0;34m\u001b[0m\u001b[0m\n\u001b[0m\u001b[1;32m   1045\u001b[0m                 \u001b[0;32mpass\u001b[0m\u001b[0;34m\u001b[0m\u001b[0;34m\u001b[0m\u001b[0m\n\u001b[1;32m   1046\u001b[0m \u001b[0;34m\u001b[0m\u001b[0m\n",
      "\u001b[0;32m~/miniforge3/envs/nlp/lib/python3.8/site-packages/joblib/parallel.py\u001b[0m in \u001b[0;36mdispatch_one_batch\u001b[0;34m(self, iterator)\u001b[0m\n\u001b[1;32m    857\u001b[0m                 \u001b[0;32mreturn\u001b[0m \u001b[0;32mFalse\u001b[0m\u001b[0;34m\u001b[0m\u001b[0;34m\u001b[0m\u001b[0m\n\u001b[1;32m    858\u001b[0m             \u001b[0;32melse\u001b[0m\u001b[0;34m:\u001b[0m\u001b[0;34m\u001b[0m\u001b[0;34m\u001b[0m\u001b[0m\n\u001b[0;32m--> 859\u001b[0;31m                 \u001b[0mself\u001b[0m\u001b[0;34m.\u001b[0m\u001b[0m_dispatch\u001b[0m\u001b[0;34m(\u001b[0m\u001b[0mtasks\u001b[0m\u001b[0;34m)\u001b[0m\u001b[0;34m\u001b[0m\u001b[0;34m\u001b[0m\u001b[0m\n\u001b[0m\u001b[1;32m    860\u001b[0m                 \u001b[0;32mreturn\u001b[0m \u001b[0;32mTrue\u001b[0m\u001b[0;34m\u001b[0m\u001b[0;34m\u001b[0m\u001b[0m\n\u001b[1;32m    861\u001b[0m \u001b[0;34m\u001b[0m\u001b[0m\n",
      "\u001b[0;32m~/miniforge3/envs/nlp/lib/python3.8/site-packages/joblib/parallel.py\u001b[0m in \u001b[0;36m_dispatch\u001b[0;34m(self, batch)\u001b[0m\n\u001b[1;32m    775\u001b[0m         \u001b[0;32mwith\u001b[0m \u001b[0mself\u001b[0m\u001b[0;34m.\u001b[0m\u001b[0m_lock\u001b[0m\u001b[0;34m:\u001b[0m\u001b[0;34m\u001b[0m\u001b[0;34m\u001b[0m\u001b[0m\n\u001b[1;32m    776\u001b[0m             \u001b[0mjob_idx\u001b[0m \u001b[0;34m=\u001b[0m \u001b[0mlen\u001b[0m\u001b[0;34m(\u001b[0m\u001b[0mself\u001b[0m\u001b[0;34m.\u001b[0m\u001b[0m_jobs\u001b[0m\u001b[0;34m)\u001b[0m\u001b[0;34m\u001b[0m\u001b[0;34m\u001b[0m\u001b[0m\n\u001b[0;32m--> 777\u001b[0;31m             \u001b[0mjob\u001b[0m \u001b[0;34m=\u001b[0m \u001b[0mself\u001b[0m\u001b[0;34m.\u001b[0m\u001b[0m_backend\u001b[0m\u001b[0;34m.\u001b[0m\u001b[0mapply_async\u001b[0m\u001b[0;34m(\u001b[0m\u001b[0mbatch\u001b[0m\u001b[0;34m,\u001b[0m \u001b[0mcallback\u001b[0m\u001b[0;34m=\u001b[0m\u001b[0mcb\u001b[0m\u001b[0;34m)\u001b[0m\u001b[0;34m\u001b[0m\u001b[0;34m\u001b[0m\u001b[0m\n\u001b[0m\u001b[1;32m    778\u001b[0m             \u001b[0;31m# A job can complete so quickly than its callback is\u001b[0m\u001b[0;34m\u001b[0m\u001b[0;34m\u001b[0m\u001b[0;34m\u001b[0m\u001b[0m\n\u001b[1;32m    779\u001b[0m             \u001b[0;31m# called before we get here, causing self._jobs to\u001b[0m\u001b[0;34m\u001b[0m\u001b[0;34m\u001b[0m\u001b[0;34m\u001b[0m\u001b[0m\n",
      "\u001b[0;32m~/miniforge3/envs/nlp/lib/python3.8/site-packages/joblib/_parallel_backends.py\u001b[0m in \u001b[0;36mapply_async\u001b[0;34m(self, func, callback)\u001b[0m\n\u001b[1;32m    206\u001b[0m     \u001b[0;32mdef\u001b[0m \u001b[0mapply_async\u001b[0m\u001b[0;34m(\u001b[0m\u001b[0mself\u001b[0m\u001b[0;34m,\u001b[0m \u001b[0mfunc\u001b[0m\u001b[0;34m,\u001b[0m \u001b[0mcallback\u001b[0m\u001b[0;34m=\u001b[0m\u001b[0;32mNone\u001b[0m\u001b[0;34m)\u001b[0m\u001b[0;34m:\u001b[0m\u001b[0;34m\u001b[0m\u001b[0;34m\u001b[0m\u001b[0m\n\u001b[1;32m    207\u001b[0m         \u001b[0;34m\"\"\"Schedule a func to be run\"\"\"\u001b[0m\u001b[0;34m\u001b[0m\u001b[0;34m\u001b[0m\u001b[0m\n\u001b[0;32m--> 208\u001b[0;31m         \u001b[0mresult\u001b[0m \u001b[0;34m=\u001b[0m \u001b[0mImmediateResult\u001b[0m\u001b[0;34m(\u001b[0m\u001b[0mfunc\u001b[0m\u001b[0;34m)\u001b[0m\u001b[0;34m\u001b[0m\u001b[0;34m\u001b[0m\u001b[0m\n\u001b[0m\u001b[1;32m    209\u001b[0m         \u001b[0;32mif\u001b[0m \u001b[0mcallback\u001b[0m\u001b[0;34m:\u001b[0m\u001b[0;34m\u001b[0m\u001b[0;34m\u001b[0m\u001b[0m\n\u001b[1;32m    210\u001b[0m             \u001b[0mcallback\u001b[0m\u001b[0;34m(\u001b[0m\u001b[0mresult\u001b[0m\u001b[0;34m)\u001b[0m\u001b[0;34m\u001b[0m\u001b[0;34m\u001b[0m\u001b[0m\n",
      "\u001b[0;32m~/miniforge3/envs/nlp/lib/python3.8/site-packages/joblib/_parallel_backends.py\u001b[0m in \u001b[0;36m__init__\u001b[0;34m(self, batch)\u001b[0m\n\u001b[1;32m    570\u001b[0m         \u001b[0;31m# Don't delay the application, to avoid keeping the input\u001b[0m\u001b[0;34m\u001b[0m\u001b[0;34m\u001b[0m\u001b[0;34m\u001b[0m\u001b[0m\n\u001b[1;32m    571\u001b[0m         \u001b[0;31m# arguments in memory\u001b[0m\u001b[0;34m\u001b[0m\u001b[0;34m\u001b[0m\u001b[0;34m\u001b[0m\u001b[0m\n\u001b[0;32m--> 572\u001b[0;31m         \u001b[0mself\u001b[0m\u001b[0;34m.\u001b[0m\u001b[0mresults\u001b[0m \u001b[0;34m=\u001b[0m \u001b[0mbatch\u001b[0m\u001b[0;34m(\u001b[0m\u001b[0;34m)\u001b[0m\u001b[0;34m\u001b[0m\u001b[0;34m\u001b[0m\u001b[0m\n\u001b[0m\u001b[1;32m    573\u001b[0m \u001b[0;34m\u001b[0m\u001b[0m\n\u001b[1;32m    574\u001b[0m     \u001b[0;32mdef\u001b[0m \u001b[0mget\u001b[0m\u001b[0;34m(\u001b[0m\u001b[0mself\u001b[0m\u001b[0;34m)\u001b[0m\u001b[0;34m:\u001b[0m\u001b[0;34m\u001b[0m\u001b[0;34m\u001b[0m\u001b[0m\n",
      "\u001b[0;32m~/miniforge3/envs/nlp/lib/python3.8/site-packages/joblib/parallel.py\u001b[0m in \u001b[0;36m__call__\u001b[0;34m(self)\u001b[0m\n\u001b[1;32m    260\u001b[0m         \u001b[0;31m# change the default number of processes to -1\u001b[0m\u001b[0;34m\u001b[0m\u001b[0;34m\u001b[0m\u001b[0;34m\u001b[0m\u001b[0m\n\u001b[1;32m    261\u001b[0m         \u001b[0;32mwith\u001b[0m \u001b[0mparallel_backend\u001b[0m\u001b[0;34m(\u001b[0m\u001b[0mself\u001b[0m\u001b[0;34m.\u001b[0m\u001b[0m_backend\u001b[0m\u001b[0;34m,\u001b[0m \u001b[0mn_jobs\u001b[0m\u001b[0;34m=\u001b[0m\u001b[0mself\u001b[0m\u001b[0;34m.\u001b[0m\u001b[0m_n_jobs\u001b[0m\u001b[0;34m)\u001b[0m\u001b[0;34m:\u001b[0m\u001b[0;34m\u001b[0m\u001b[0;34m\u001b[0m\u001b[0m\n\u001b[0;32m--> 262\u001b[0;31m             return [func(*args, **kwargs)\n\u001b[0m\u001b[1;32m    263\u001b[0m                     for func, args, kwargs in self.items]\n\u001b[1;32m    264\u001b[0m \u001b[0;34m\u001b[0m\u001b[0m\n",
      "\u001b[0;32m~/miniforge3/envs/nlp/lib/python3.8/site-packages/joblib/parallel.py\u001b[0m in \u001b[0;36m<listcomp>\u001b[0;34m(.0)\u001b[0m\n\u001b[1;32m    260\u001b[0m         \u001b[0;31m# change the default number of processes to -1\u001b[0m\u001b[0;34m\u001b[0m\u001b[0;34m\u001b[0m\u001b[0;34m\u001b[0m\u001b[0m\n\u001b[1;32m    261\u001b[0m         \u001b[0;32mwith\u001b[0m \u001b[0mparallel_backend\u001b[0m\u001b[0;34m(\u001b[0m\u001b[0mself\u001b[0m\u001b[0;34m.\u001b[0m\u001b[0m_backend\u001b[0m\u001b[0;34m,\u001b[0m \u001b[0mn_jobs\u001b[0m\u001b[0;34m=\u001b[0m\u001b[0mself\u001b[0m\u001b[0;34m.\u001b[0m\u001b[0m_n_jobs\u001b[0m\u001b[0;34m)\u001b[0m\u001b[0;34m:\u001b[0m\u001b[0;34m\u001b[0m\u001b[0;34m\u001b[0m\u001b[0m\n\u001b[0;32m--> 262\u001b[0;31m             return [func(*args, **kwargs)\n\u001b[0m\u001b[1;32m    263\u001b[0m                     for func, args, kwargs in self.items]\n\u001b[1;32m    264\u001b[0m \u001b[0;34m\u001b[0m\u001b[0m\n",
      "\u001b[0;32m~/miniforge3/envs/nlp/lib/python3.8/site-packages/sklearn/utils/fixes.py\u001b[0m in \u001b[0;36m__call__\u001b[0;34m(self, *args, **kwargs)\u001b[0m\n\u001b[1;32m    220\u001b[0m     \u001b[0;32mdef\u001b[0m \u001b[0m__call__\u001b[0m\u001b[0;34m(\u001b[0m\u001b[0mself\u001b[0m\u001b[0;34m,\u001b[0m \u001b[0;34m*\u001b[0m\u001b[0margs\u001b[0m\u001b[0;34m,\u001b[0m \u001b[0;34m**\u001b[0m\u001b[0mkwargs\u001b[0m\u001b[0;34m)\u001b[0m\u001b[0;34m:\u001b[0m\u001b[0;34m\u001b[0m\u001b[0;34m\u001b[0m\u001b[0m\n\u001b[1;32m    221\u001b[0m         \u001b[0;32mwith\u001b[0m \u001b[0mconfig_context\u001b[0m\u001b[0;34m(\u001b[0m\u001b[0;34m**\u001b[0m\u001b[0mself\u001b[0m\u001b[0;34m.\u001b[0m\u001b[0mconfig\u001b[0m\u001b[0;34m)\u001b[0m\u001b[0;34m:\u001b[0m\u001b[0;34m\u001b[0m\u001b[0;34m\u001b[0m\u001b[0m\n\u001b[0;32m--> 222\u001b[0;31m             \u001b[0;32mreturn\u001b[0m \u001b[0mself\u001b[0m\u001b[0;34m.\u001b[0m\u001b[0mfunction\u001b[0m\u001b[0;34m(\u001b[0m\u001b[0;34m*\u001b[0m\u001b[0margs\u001b[0m\u001b[0;34m,\u001b[0m \u001b[0;34m**\u001b[0m\u001b[0mkwargs\u001b[0m\u001b[0;34m)\u001b[0m\u001b[0;34m\u001b[0m\u001b[0;34m\u001b[0m\u001b[0m\n\u001b[0m",
      "\u001b[0;32m~/miniforge3/envs/nlp/lib/python3.8/site-packages/sklearn/model_selection/_validation.py\u001b[0m in \u001b[0;36m_fit_and_score\u001b[0;34m(estimator, X, y, scorer, train, test, verbose, parameters, fit_params, return_train_score, return_parameters, return_n_test_samples, return_times, return_estimator, split_progress, candidate_progress, error_score)\u001b[0m\n\u001b[1;32m    594\u001b[0m     \u001b[0;32mtry\u001b[0m\u001b[0;34m:\u001b[0m\u001b[0;34m\u001b[0m\u001b[0;34m\u001b[0m\u001b[0m\n\u001b[1;32m    595\u001b[0m         \u001b[0;32mif\u001b[0m \u001b[0my_train\u001b[0m \u001b[0;32mis\u001b[0m \u001b[0;32mNone\u001b[0m\u001b[0;34m:\u001b[0m\u001b[0;34m\u001b[0m\u001b[0;34m\u001b[0m\u001b[0m\n\u001b[0;32m--> 596\u001b[0;31m             \u001b[0mestimator\u001b[0m\u001b[0;34m.\u001b[0m\u001b[0mfit\u001b[0m\u001b[0;34m(\u001b[0m\u001b[0mX_train\u001b[0m\u001b[0;34m,\u001b[0m \u001b[0;34m**\u001b[0m\u001b[0mfit_params\u001b[0m\u001b[0;34m)\u001b[0m\u001b[0;34m\u001b[0m\u001b[0;34m\u001b[0m\u001b[0m\n\u001b[0m\u001b[1;32m    597\u001b[0m         \u001b[0;32melse\u001b[0m\u001b[0;34m:\u001b[0m\u001b[0;34m\u001b[0m\u001b[0;34m\u001b[0m\u001b[0m\n\u001b[1;32m    598\u001b[0m             \u001b[0mestimator\u001b[0m\u001b[0;34m.\u001b[0m\u001b[0mfit\u001b[0m\u001b[0;34m(\u001b[0m\u001b[0mX_train\u001b[0m\u001b[0;34m,\u001b[0m \u001b[0my_train\u001b[0m\u001b[0;34m,\u001b[0m \u001b[0;34m**\u001b[0m\u001b[0mfit_params\u001b[0m\u001b[0;34m)\u001b[0m\u001b[0;34m\u001b[0m\u001b[0;34m\u001b[0m\u001b[0m\n",
      "\u001b[0;32m~/miniforge3/envs/nlp/lib/python3.8/site-packages/sklearn/pipeline.py\u001b[0m in \u001b[0;36mfit\u001b[0;34m(self, X, y, **fit_params)\u001b[0m\n\u001b[1;32m    344\u001b[0m             \u001b[0;32mif\u001b[0m \u001b[0mself\u001b[0m\u001b[0;34m.\u001b[0m\u001b[0m_final_estimator\u001b[0m \u001b[0;34m!=\u001b[0m \u001b[0;34m'passthrough'\u001b[0m\u001b[0;34m:\u001b[0m\u001b[0;34m\u001b[0m\u001b[0;34m\u001b[0m\u001b[0m\n\u001b[1;32m    345\u001b[0m                 \u001b[0mfit_params_last_step\u001b[0m \u001b[0;34m=\u001b[0m \u001b[0mfit_params_steps\u001b[0m\u001b[0;34m[\u001b[0m\u001b[0mself\u001b[0m\u001b[0;34m.\u001b[0m\u001b[0msteps\u001b[0m\u001b[0;34m[\u001b[0m\u001b[0;34m-\u001b[0m\u001b[0;36m1\u001b[0m\u001b[0;34m]\u001b[0m\u001b[0;34m[\u001b[0m\u001b[0;36m0\u001b[0m\u001b[0;34m]\u001b[0m\u001b[0;34m]\u001b[0m\u001b[0;34m\u001b[0m\u001b[0;34m\u001b[0m\u001b[0m\n\u001b[0;32m--> 346\u001b[0;31m                 \u001b[0mself\u001b[0m\u001b[0;34m.\u001b[0m\u001b[0m_final_estimator\u001b[0m\u001b[0;34m.\u001b[0m\u001b[0mfit\u001b[0m\u001b[0;34m(\u001b[0m\u001b[0mXt\u001b[0m\u001b[0;34m,\u001b[0m \u001b[0my\u001b[0m\u001b[0;34m,\u001b[0m \u001b[0;34m**\u001b[0m\u001b[0mfit_params_last_step\u001b[0m\u001b[0;34m)\u001b[0m\u001b[0;34m\u001b[0m\u001b[0;34m\u001b[0m\u001b[0m\n\u001b[0m\u001b[1;32m    347\u001b[0m \u001b[0;34m\u001b[0m\u001b[0m\n\u001b[1;32m    348\u001b[0m         \u001b[0;32mreturn\u001b[0m \u001b[0mself\u001b[0m\u001b[0;34m\u001b[0m\u001b[0;34m\u001b[0m\u001b[0m\n",
      "\u001b[0;32m~/miniforge3/envs/nlp/lib/python3.8/site-packages/sklearn/decomposition/_lda.py\u001b[0m in \u001b[0;36mfit\u001b[0;34m(self, X, y)\u001b[0m\n\u001b[1;32m    578\u001b[0m                 \u001b[0;32melse\u001b[0m\u001b[0;34m:\u001b[0m\u001b[0;34m\u001b[0m\u001b[0;34m\u001b[0m\u001b[0m\n\u001b[1;32m    579\u001b[0m                     \u001b[0;31m# batch update\u001b[0m\u001b[0;34m\u001b[0m\u001b[0;34m\u001b[0m\u001b[0;34m\u001b[0m\u001b[0m\n\u001b[0;32m--> 580\u001b[0;31m                     self._em_step(X, total_samples=n_samples,\n\u001b[0m\u001b[1;32m    581\u001b[0m                                   batch_update=True, parallel=parallel)\n\u001b[1;32m    582\u001b[0m \u001b[0;34m\u001b[0m\u001b[0m\n",
      "\u001b[0;32m~/miniforge3/envs/nlp/lib/python3.8/site-packages/sklearn/decomposition/_lda.py\u001b[0m in \u001b[0;36m_em_step\u001b[0;34m(self, X, total_samples, batch_update, parallel)\u001b[0m\n\u001b[1;32m    454\u001b[0m \u001b[0;34m\u001b[0m\u001b[0m\n\u001b[1;32m    455\u001b[0m         \u001b[0;31m# E-step\u001b[0m\u001b[0;34m\u001b[0m\u001b[0;34m\u001b[0m\u001b[0;34m\u001b[0m\u001b[0m\n\u001b[0;32m--> 456\u001b[0;31m         _, suff_stats = self._e_step(X, cal_sstats=True, random_init=True,\n\u001b[0m\u001b[1;32m    457\u001b[0m                                      parallel=parallel)\n\u001b[1;32m    458\u001b[0m \u001b[0;34m\u001b[0m\u001b[0m\n",
      "\u001b[0;32m~/miniforge3/envs/nlp/lib/python3.8/site-packages/sklearn/decomposition/_lda.py\u001b[0m in \u001b[0;36m_e_step\u001b[0;34m(self, X, cal_sstats, random_init, parallel)\u001b[0m\n\u001b[1;32m    401\u001b[0m             parallel = Parallel(n_jobs=n_jobs, verbose=max(0,\n\u001b[1;32m    402\u001b[0m                                                            self.verbose - 1))\n\u001b[0;32m--> 403\u001b[0;31m         results = parallel(\n\u001b[0m\u001b[1;32m    404\u001b[0m             delayed(_update_doc_distribution)(X[idx_slice, :],\n\u001b[1;32m    405\u001b[0m                                               \u001b[0mself\u001b[0m\u001b[0;34m.\u001b[0m\u001b[0mexp_dirichlet_component_\u001b[0m\u001b[0;34m,\u001b[0m\u001b[0;34m\u001b[0m\u001b[0;34m\u001b[0m\u001b[0m\n",
      "\u001b[0;32m~/miniforge3/envs/nlp/lib/python3.8/site-packages/joblib/parallel.py\u001b[0m in \u001b[0;36m__call__\u001b[0;34m(self, iterable)\u001b[0m\n\u001b[1;32m   1039\u001b[0m             \u001b[0;31m# remaining jobs.\u001b[0m\u001b[0;34m\u001b[0m\u001b[0;34m\u001b[0m\u001b[0;34m\u001b[0m\u001b[0m\n\u001b[1;32m   1040\u001b[0m             \u001b[0mself\u001b[0m\u001b[0;34m.\u001b[0m\u001b[0m_iterating\u001b[0m \u001b[0;34m=\u001b[0m \u001b[0;32mFalse\u001b[0m\u001b[0;34m\u001b[0m\u001b[0;34m\u001b[0m\u001b[0m\n\u001b[0;32m-> 1041\u001b[0;31m             \u001b[0;32mif\u001b[0m \u001b[0mself\u001b[0m\u001b[0;34m.\u001b[0m\u001b[0mdispatch_one_batch\u001b[0m\u001b[0;34m(\u001b[0m\u001b[0miterator\u001b[0m\u001b[0;34m)\u001b[0m\u001b[0;34m:\u001b[0m\u001b[0;34m\u001b[0m\u001b[0;34m\u001b[0m\u001b[0m\n\u001b[0m\u001b[1;32m   1042\u001b[0m                 \u001b[0mself\u001b[0m\u001b[0;34m.\u001b[0m\u001b[0m_iterating\u001b[0m \u001b[0;34m=\u001b[0m \u001b[0mself\u001b[0m\u001b[0;34m.\u001b[0m\u001b[0m_original_iterator\u001b[0m \u001b[0;32mis\u001b[0m \u001b[0;32mnot\u001b[0m \u001b[0;32mNone\u001b[0m\u001b[0;34m\u001b[0m\u001b[0;34m\u001b[0m\u001b[0m\n\u001b[1;32m   1043\u001b[0m \u001b[0;34m\u001b[0m\u001b[0m\n",
      "\u001b[0;32m~/miniforge3/envs/nlp/lib/python3.8/site-packages/joblib/parallel.py\u001b[0m in \u001b[0;36mdispatch_one_batch\u001b[0;34m(self, iterator)\u001b[0m\n\u001b[1;32m    857\u001b[0m                 \u001b[0;32mreturn\u001b[0m \u001b[0;32mFalse\u001b[0m\u001b[0;34m\u001b[0m\u001b[0;34m\u001b[0m\u001b[0m\n\u001b[1;32m    858\u001b[0m             \u001b[0;32melse\u001b[0m\u001b[0;34m:\u001b[0m\u001b[0;34m\u001b[0m\u001b[0;34m\u001b[0m\u001b[0m\n\u001b[0;32m--> 859\u001b[0;31m                 \u001b[0mself\u001b[0m\u001b[0;34m.\u001b[0m\u001b[0m_dispatch\u001b[0m\u001b[0;34m(\u001b[0m\u001b[0mtasks\u001b[0m\u001b[0;34m)\u001b[0m\u001b[0;34m\u001b[0m\u001b[0;34m\u001b[0m\u001b[0m\n\u001b[0m\u001b[1;32m    860\u001b[0m                 \u001b[0;32mreturn\u001b[0m \u001b[0;32mTrue\u001b[0m\u001b[0;34m\u001b[0m\u001b[0;34m\u001b[0m\u001b[0m\n\u001b[1;32m    861\u001b[0m \u001b[0;34m\u001b[0m\u001b[0m\n",
      "\u001b[0;32m~/miniforge3/envs/nlp/lib/python3.8/site-packages/joblib/parallel.py\u001b[0m in \u001b[0;36m_dispatch\u001b[0;34m(self, batch)\u001b[0m\n\u001b[1;32m    775\u001b[0m         \u001b[0;32mwith\u001b[0m \u001b[0mself\u001b[0m\u001b[0;34m.\u001b[0m\u001b[0m_lock\u001b[0m\u001b[0;34m:\u001b[0m\u001b[0;34m\u001b[0m\u001b[0;34m\u001b[0m\u001b[0m\n\u001b[1;32m    776\u001b[0m             \u001b[0mjob_idx\u001b[0m \u001b[0;34m=\u001b[0m \u001b[0mlen\u001b[0m\u001b[0;34m(\u001b[0m\u001b[0mself\u001b[0m\u001b[0;34m.\u001b[0m\u001b[0m_jobs\u001b[0m\u001b[0;34m)\u001b[0m\u001b[0;34m\u001b[0m\u001b[0;34m\u001b[0m\u001b[0m\n\u001b[0;32m--> 777\u001b[0;31m             \u001b[0mjob\u001b[0m \u001b[0;34m=\u001b[0m \u001b[0mself\u001b[0m\u001b[0;34m.\u001b[0m\u001b[0m_backend\u001b[0m\u001b[0;34m.\u001b[0m\u001b[0mapply_async\u001b[0m\u001b[0;34m(\u001b[0m\u001b[0mbatch\u001b[0m\u001b[0;34m,\u001b[0m \u001b[0mcallback\u001b[0m\u001b[0;34m=\u001b[0m\u001b[0mcb\u001b[0m\u001b[0;34m)\u001b[0m\u001b[0;34m\u001b[0m\u001b[0;34m\u001b[0m\u001b[0m\n\u001b[0m\u001b[1;32m    778\u001b[0m             \u001b[0;31m# A job can complete so quickly than its callback is\u001b[0m\u001b[0;34m\u001b[0m\u001b[0;34m\u001b[0m\u001b[0;34m\u001b[0m\u001b[0m\n\u001b[1;32m    779\u001b[0m             \u001b[0;31m# called before we get here, causing self._jobs to\u001b[0m\u001b[0;34m\u001b[0m\u001b[0;34m\u001b[0m\u001b[0;34m\u001b[0m\u001b[0m\n",
      "\u001b[0;32m~/miniforge3/envs/nlp/lib/python3.8/site-packages/joblib/_parallel_backends.py\u001b[0m in \u001b[0;36mapply_async\u001b[0;34m(self, func, callback)\u001b[0m\n\u001b[1;32m    206\u001b[0m     \u001b[0;32mdef\u001b[0m \u001b[0mapply_async\u001b[0m\u001b[0;34m(\u001b[0m\u001b[0mself\u001b[0m\u001b[0;34m,\u001b[0m \u001b[0mfunc\u001b[0m\u001b[0;34m,\u001b[0m \u001b[0mcallback\u001b[0m\u001b[0;34m=\u001b[0m\u001b[0;32mNone\u001b[0m\u001b[0;34m)\u001b[0m\u001b[0;34m:\u001b[0m\u001b[0;34m\u001b[0m\u001b[0;34m\u001b[0m\u001b[0m\n\u001b[1;32m    207\u001b[0m         \u001b[0;34m\"\"\"Schedule a func to be run\"\"\"\u001b[0m\u001b[0;34m\u001b[0m\u001b[0;34m\u001b[0m\u001b[0m\n\u001b[0;32m--> 208\u001b[0;31m         \u001b[0mresult\u001b[0m \u001b[0;34m=\u001b[0m \u001b[0mImmediateResult\u001b[0m\u001b[0;34m(\u001b[0m\u001b[0mfunc\u001b[0m\u001b[0;34m)\u001b[0m\u001b[0;34m\u001b[0m\u001b[0;34m\u001b[0m\u001b[0m\n\u001b[0m\u001b[1;32m    209\u001b[0m         \u001b[0;32mif\u001b[0m \u001b[0mcallback\u001b[0m\u001b[0;34m:\u001b[0m\u001b[0;34m\u001b[0m\u001b[0;34m\u001b[0m\u001b[0m\n\u001b[1;32m    210\u001b[0m             \u001b[0mcallback\u001b[0m\u001b[0;34m(\u001b[0m\u001b[0mresult\u001b[0m\u001b[0;34m)\u001b[0m\u001b[0;34m\u001b[0m\u001b[0;34m\u001b[0m\u001b[0m\n",
      "\u001b[0;32m~/miniforge3/envs/nlp/lib/python3.8/site-packages/joblib/_parallel_backends.py\u001b[0m in \u001b[0;36m__init__\u001b[0;34m(self, batch)\u001b[0m\n\u001b[1;32m    570\u001b[0m         \u001b[0;31m# Don't delay the application, to avoid keeping the input\u001b[0m\u001b[0;34m\u001b[0m\u001b[0;34m\u001b[0m\u001b[0;34m\u001b[0m\u001b[0m\n\u001b[1;32m    571\u001b[0m         \u001b[0;31m# arguments in memory\u001b[0m\u001b[0;34m\u001b[0m\u001b[0;34m\u001b[0m\u001b[0;34m\u001b[0m\u001b[0m\n\u001b[0;32m--> 572\u001b[0;31m         \u001b[0mself\u001b[0m\u001b[0;34m.\u001b[0m\u001b[0mresults\u001b[0m \u001b[0;34m=\u001b[0m \u001b[0mbatch\u001b[0m\u001b[0;34m(\u001b[0m\u001b[0;34m)\u001b[0m\u001b[0;34m\u001b[0m\u001b[0;34m\u001b[0m\u001b[0m\n\u001b[0m\u001b[1;32m    573\u001b[0m \u001b[0;34m\u001b[0m\u001b[0m\n\u001b[1;32m    574\u001b[0m     \u001b[0;32mdef\u001b[0m \u001b[0mget\u001b[0m\u001b[0;34m(\u001b[0m\u001b[0mself\u001b[0m\u001b[0;34m)\u001b[0m\u001b[0;34m:\u001b[0m\u001b[0;34m\u001b[0m\u001b[0;34m\u001b[0m\u001b[0m\n",
      "\u001b[0;32m~/miniforge3/envs/nlp/lib/python3.8/site-packages/joblib/parallel.py\u001b[0m in \u001b[0;36m__call__\u001b[0;34m(self)\u001b[0m\n\u001b[1;32m    260\u001b[0m         \u001b[0;31m# change the default number of processes to -1\u001b[0m\u001b[0;34m\u001b[0m\u001b[0;34m\u001b[0m\u001b[0;34m\u001b[0m\u001b[0m\n\u001b[1;32m    261\u001b[0m         \u001b[0;32mwith\u001b[0m \u001b[0mparallel_backend\u001b[0m\u001b[0;34m(\u001b[0m\u001b[0mself\u001b[0m\u001b[0;34m.\u001b[0m\u001b[0m_backend\u001b[0m\u001b[0;34m,\u001b[0m \u001b[0mn_jobs\u001b[0m\u001b[0;34m=\u001b[0m\u001b[0mself\u001b[0m\u001b[0;34m.\u001b[0m\u001b[0m_n_jobs\u001b[0m\u001b[0;34m)\u001b[0m\u001b[0;34m:\u001b[0m\u001b[0;34m\u001b[0m\u001b[0;34m\u001b[0m\u001b[0m\n\u001b[0;32m--> 262\u001b[0;31m             return [func(*args, **kwargs)\n\u001b[0m\u001b[1;32m    263\u001b[0m                     for func, args, kwargs in self.items]\n\u001b[1;32m    264\u001b[0m \u001b[0;34m\u001b[0m\u001b[0m\n",
      "\u001b[0;32m~/miniforge3/envs/nlp/lib/python3.8/site-packages/joblib/parallel.py\u001b[0m in \u001b[0;36m<listcomp>\u001b[0;34m(.0)\u001b[0m\n\u001b[1;32m    260\u001b[0m         \u001b[0;31m# change the default number of processes to -1\u001b[0m\u001b[0;34m\u001b[0m\u001b[0;34m\u001b[0m\u001b[0;34m\u001b[0m\u001b[0m\n\u001b[1;32m    261\u001b[0m         \u001b[0;32mwith\u001b[0m \u001b[0mparallel_backend\u001b[0m\u001b[0;34m(\u001b[0m\u001b[0mself\u001b[0m\u001b[0;34m.\u001b[0m\u001b[0m_backend\u001b[0m\u001b[0;34m,\u001b[0m \u001b[0mn_jobs\u001b[0m\u001b[0;34m=\u001b[0m\u001b[0mself\u001b[0m\u001b[0;34m.\u001b[0m\u001b[0m_n_jobs\u001b[0m\u001b[0;34m)\u001b[0m\u001b[0;34m:\u001b[0m\u001b[0;34m\u001b[0m\u001b[0;34m\u001b[0m\u001b[0m\n\u001b[0;32m--> 262\u001b[0;31m             return [func(*args, **kwargs)\n\u001b[0m\u001b[1;32m    263\u001b[0m                     for func, args, kwargs in self.items]\n\u001b[1;32m    264\u001b[0m \u001b[0;34m\u001b[0m\u001b[0m\n",
      "\u001b[0;32m~/miniforge3/envs/nlp/lib/python3.8/site-packages/sklearn/utils/fixes.py\u001b[0m in \u001b[0;36m__call__\u001b[0;34m(self, *args, **kwargs)\u001b[0m\n\u001b[1;32m    220\u001b[0m     \u001b[0;32mdef\u001b[0m \u001b[0m__call__\u001b[0m\u001b[0;34m(\u001b[0m\u001b[0mself\u001b[0m\u001b[0;34m,\u001b[0m \u001b[0;34m*\u001b[0m\u001b[0margs\u001b[0m\u001b[0;34m,\u001b[0m \u001b[0;34m**\u001b[0m\u001b[0mkwargs\u001b[0m\u001b[0;34m)\u001b[0m\u001b[0;34m:\u001b[0m\u001b[0;34m\u001b[0m\u001b[0;34m\u001b[0m\u001b[0m\n\u001b[1;32m    221\u001b[0m         \u001b[0;32mwith\u001b[0m \u001b[0mconfig_context\u001b[0m\u001b[0;34m(\u001b[0m\u001b[0;34m**\u001b[0m\u001b[0mself\u001b[0m\u001b[0;34m.\u001b[0m\u001b[0mconfig\u001b[0m\u001b[0;34m)\u001b[0m\u001b[0;34m:\u001b[0m\u001b[0;34m\u001b[0m\u001b[0;34m\u001b[0m\u001b[0m\n\u001b[0;32m--> 222\u001b[0;31m             \u001b[0;32mreturn\u001b[0m \u001b[0mself\u001b[0m\u001b[0;34m.\u001b[0m\u001b[0mfunction\u001b[0m\u001b[0;34m(\u001b[0m\u001b[0;34m*\u001b[0m\u001b[0margs\u001b[0m\u001b[0;34m,\u001b[0m \u001b[0;34m**\u001b[0m\u001b[0mkwargs\u001b[0m\u001b[0;34m)\u001b[0m\u001b[0;34m\u001b[0m\u001b[0;34m\u001b[0m\u001b[0m\n\u001b[0m",
      "\u001b[0;32m~/miniforge3/envs/nlp/lib/python3.8/site-packages/sklearn/decomposition/_lda.py\u001b[0m in \u001b[0;36m_update_doc_distribution\u001b[0;34m(X, exp_topic_word_distr, doc_topic_prior, max_iters, mean_change_tol, cal_sstats, random_state)\u001b[0m\n\u001b[1;32m    115\u001b[0m \u001b[0;34m\u001b[0m\u001b[0m\n\u001b[1;32m    116\u001b[0m             doc_topic_d = (exp_doc_topic_d *\n\u001b[0;32m--> 117\u001b[0;31m                            np.dot(cnts / norm_phi, exp_topic_word_d.T))\n\u001b[0m\u001b[1;32m    118\u001b[0m             \u001b[0;31m# Note: adds doc_topic_prior to doc_topic_d, in-place.\u001b[0m\u001b[0;34m\u001b[0m\u001b[0;34m\u001b[0m\u001b[0;34m\u001b[0m\u001b[0m\n\u001b[1;32m    119\u001b[0m             _dirichlet_expectation_1d(doc_topic_d, doc_topic_prior,\n",
      "\u001b[0;32m<__array_function__ internals>\u001b[0m in \u001b[0;36mdot\u001b[0;34m(*args, **kwargs)\u001b[0m\n",
      "\u001b[0;31mKeyboardInterrupt\u001b[0m: "
     ]
    }
   ],
   "source": [
    "from sklearn.model_selection import GridSearchCV\n",
    "from sklearn.pipeline import Pipeline\n",
    "from sklearn.decomposition import LatentDirichletAllocation\n",
    "from sklearn.feature_extraction.text import TfidfVectorizer\n",
    "\n",
    "\n",
    "def tuning_hyperparams(train_data, n_jobs=1) :                \n",
    "    lda_pipeline = Pipeline([('tfidf_vect', TfidfVectorizer(tokenizer = my_tokenizer)),\n",
    "                              ('lda', LatentDirichletAllocation(max_iter=10, random_state=100))])\n",
    "    search_params = {'tfidf_vect__ngram_range': [(1, 1), (1, 2)],\n",
    "                    'lda__n_components': [5, 10, 20],\n",
    "                     'lda__max_iter': [20, 30, 50],\n",
    "                     }\n",
    "    gs_lda = GridSearchCV(lda_pipeline, search_params, n_jobs=n_jobs)\n",
    "    gs_lda = gs_lda.fit(train_data)\n",
    "    print(\"Best score: {0}\".format(gs_lda.best_score_))  \n",
    "    print(\"Best parameters set:\")  \n",
    "    best_parameters = gs_lda.best_estimator_.get_params()  \n",
    "    for param_name in sorted(list(best_parameters.keys())):  \n",
    "        print(\"\\t{0}: {1}\".format(param_name, best_parameters[param_name]))\n",
    "    return gs_lda.best_estimator_\n",
    "    \n",
    "lda_pipeline = tuning_hyperparams(news_df['clean_doc'])"
   ]
  },
  {
   "cell_type": "code",
   "execution_count": null,
   "metadata": {
    "ExecuteTime": {
     "end_time": "2021-07-11T03:16:16.917126Z",
     "start_time": "2021-07-11T02:24:19.014Z"
    },
    "colab": {
     "base_uri": "https://localhost:8080/",
     "height": 1000
    },
    "id": "gBLxyMbH6sL7",
    "outputId": "e0934171-bd25-47a1-c023-a2b4d002ccab"
   },
   "outputs": [],
   "source": [
    "tfidf_vect = lda_pipeline.named_steps['tfidf_vect']\n",
    "tfidf = tfidf_vect.fit_transform(news_df['clean_doc'])\n",
    "lda = lda_pipeline.named_steps['lda']\n",
    "vis = pyLDAvis.sklearn.prepare(lda, tfidf, tfidf_vect, mds='tsne')\n",
    "pyLDAvis.display(vis)"
   ]
  },
  {
   "cell_type": "code",
   "execution_count": null,
   "metadata": {
    "id": "KNEJHUTO67N4"
   },
   "outputs": [],
   "source": []
  }
 ],
 "metadata": {
  "colab": {
   "collapsed_sections": [],
   "name": "12. Prac Topic modeling.ipynb",
   "provenance": []
  },
  "kernelspec": {
   "display_name": "Python 3",
   "language": "python",
   "name": "python3"
  },
  "language_info": {
   "codemirror_mode": {
    "name": "ipython",
    "version": 3
   },
   "file_extension": ".py",
   "mimetype": "text/x-python",
   "name": "python",
   "nbconvert_exporter": "python",
   "pygments_lexer": "ipython3",
   "version": "3.8.10"
  },
  "varInspector": {
   "cols": {
    "lenName": 16,
    "lenType": 16,
    "lenVar": 40
   },
   "kernels_config": {
    "python": {
     "delete_cmd_postfix": "",
     "delete_cmd_prefix": "del ",
     "library": "var_list.py",
     "varRefreshCmd": "print(var_dic_list())"
    },
    "r": {
     "delete_cmd_postfix": ") ",
     "delete_cmd_prefix": "rm(",
     "library": "var_list.r",
     "varRefreshCmd": "cat(var_dic_list()) "
    }
   },
   "types_to_exclude": [
    "module",
    "function",
    "builtin_function_or_method",
    "instance",
    "_Feature"
   ],
   "window_display": false
  }
 },
 "nbformat": 4,
 "nbformat_minor": 1
}
