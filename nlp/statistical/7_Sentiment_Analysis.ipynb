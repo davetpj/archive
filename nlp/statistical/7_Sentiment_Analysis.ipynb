{
 "cells": [
  {
   "cell_type": "markdown",
   "metadata": {
    "id": "yPyMXdYHE0wn"
   },
   "source": [
    "# Sentiment Analysis"
   ]
  },
  {
   "cell_type": "markdown",
   "metadata": {
    "id": "j61gv6QEE71q"
   },
   "source": [
    "# 사전기반 감정분석"
   ]
  },
  {
   "cell_type": "code",
   "execution_count": 1,
   "metadata": {
    "ExecuteTime": {
     "end_time": "2021-07-11T01:54:31.148777Z",
     "start_time": "2021-07-11T01:54:31.146207Z"
    },
    "colab": {
     "base_uri": "https://localhost:8080/"
    },
    "id": "rVgDReTWWlDi",
    "outputId": "de95bbc6-a5fd-4f1e-808d-8d0f3e2a580b"
   },
   "outputs": [],
   "source": [
    "#KnuSentiLex 다운로드\n",
    "#!wget https://raw.githubusercontent.com/park1200656/KnuSentiLex/master/neg_pol_word.txt\n",
    "#!wget https://raw.githubusercontent.com/park1200656/KnuSentiLex/master/pos_pol_word.txt"
   ]
  },
  {
   "cell_type": "code",
   "execution_count": 2,
   "metadata": {
    "ExecuteTime": {
     "end_time": "2021-07-11T01:54:49.329013Z",
     "start_time": "2021-07-11T01:54:49.319979Z"
    },
    "colab": {
     "base_uri": "https://localhost:8080/"
    },
    "id": "p3o_a5Zoc7Qy",
    "outputId": "bb3815bf-0581-49ba-8653-cd43ce63c27c"
   },
   "outputs": [
    {
     "name": "stdout",
     "output_type": "stream",
     "text": [
      "['(-;', '(^^)', '(^-^)', '(^^*', '(^_^)', '(^o^)', '*^^*', '/^o^\\\\', ':(', \":'-(\"]\n",
      "['가난', '가난뱅이', '가난살이', '가난살이하다', '가난설음', '가난에', '가난에 쪼들려서', '가난하게', '가난하고', '가난하고 어렵다']\n"
     ]
    }
   ],
   "source": [
    "dct = {}\n",
    "\n",
    "\n",
    "with open('../DATA/pos_pol_word.txt') as pos, open('../DATA/neg_pol_word.txt') as neg:\n",
    "    dct['pos'] = pos.read().split('\\n')[19:]\n",
    "    dct['neg'] = neg.read().split(\"\\n\")[19:]\n",
    "\n",
    "\n",
    "print(dct['pos'][:10])\n",
    "print(dct['neg'][:10])"
   ]
  },
  {
   "cell_type": "code",
   "execution_count": 3,
   "metadata": {
    "ExecuteTime": {
     "end_time": "2021-07-11T01:57:34.654701Z",
     "start_time": "2021-07-11T01:57:34.652020Z"
    },
    "id": "IzR_KFqQQ-pN"
   },
   "outputs": [],
   "source": [
    "txt = \"코로나19의 여파로 전 세계 교사들과 학생들 모두 혼란스러운 시기를 보내고 있습니다. 초유의 상황에서도, 학생들을 위해 최선을 다하려는 선생님들의 노력이 계속되고 있는데요. 어려움 속에서, 선생님들은 어떤 방법으로 사랑을 전하고 있을까요? 뉴스G에서 전해드립니다. [리포트] 중국 저장성의 한 산골 마을. 초등학교 교사 왕진량 씨는 지난 2월 말부터, 매일 새벽 다섯 시면 부지런히 집을 나섭니다. 온라인 수업을 받을 수 없는, 깊은 산골 마을에 살고 있는 학생들을 찾아가기 위해서인데요. 선생님이 하루 동안 이동하는 거리는 대략 30km정도. 차도 없이 도보로 네 개의 마을을 돌아다니며 학생들을 만납니다. 매일 이어지는 강행군이지만, 오로지 아이들의 학습이 중단되어서는 안 된다는 생각뿐입니다. 혹시 모를 사태에 대비해 학생들과의 접촉은 최대한 줄입니다. 숙제를 내주고, 검사 후에 모르는 문제를 알려주는 식으로 일대일 수업을 진행하고 있는데요. 아이들에게 배우는 즐거움이 얼마나 소중한 것인지 잘 알기에, 선생님은 이렇게라도 수업을 할 수 있다는 데서 행복을 느낍니다. 영국의 한 초등학교 교사인 젠 포울스 씨는 매일 아침, 무거운 짐을 앞 뒤, 양 옆으로 짊어지고 씩씩하게 발걸음을 옮깁니다. 코로나19로 학교가 문을 닫은 뒤, 형편이 어려운 학생들을 위해 매일 78인분의 점심 도시락을 배달하고 있는데요. 선생님이 재직 중인 초등학교는 전체 학생의 41퍼센트가 무상 급식 대상자이기 때문입니다. 도시락의 무게는 18kg, 걸어야 하는 거리는 8km에 달하지만 기다리는 학생들을 생각하며 지치지 않고 발걸음을 재촉합니다. 학생들은 창문을 통해서 반갑게 인사하기도 하고, 선생님이 볼 수 있게 감사 메시지를 붙여 놓기도 하는데요. 선생님이 정성껏 준비해 손수 배달한 사랑의 도시락. 봉쇄된 도시의 굶주린 아이들에게 소중한 한 끼 식사, 그 이상의 의미가 되고 있습니다. 미국 사우스다코타 주의 중학교 수학 교사인 크리스 와바 씨는, 커다란 화이트보드를 들고 학생의 집을 찾았습니다. 온라인 수업 후, 학생에게 이메일로 방정식 풀이법에 대한 질문을 받았기 때문인데요. 이메일로 답변해주는 것보다 직접 풀이 과정을 보여주는 게 낫다는 생각이었죠. 깜짝 놀란 학생을 마주한 채, 선생님은 현관문 앞에서 열정적으로 문제를 풀기 시작했습니다. 이 열정적인 강의는, 학생이 풀이법을 완벽히 이해할 때까지 이어졌는데요. 바이러스는 전 세계 교실에 혼란을 불러왔지만, 선생님들의 노력은 저마다의 방식으로 계속되고 있습니다. 어려움 속에서도 학생들을 위해 안간힘을 쓰고 있는 모든 선생님들에게, 응원과 박수를 함께 보냅니다.\""
   ]
  },
  {
   "cell_type": "code",
   "execution_count": 4,
   "metadata": {
    "ExecuteTime": {
     "end_time": "2021-07-11T01:57:35.591348Z",
     "start_time": "2021-07-11T01:57:35.587265Z"
    },
    "id": "ZTgyj8kJSCkG"
   },
   "outputs": [],
   "source": [
    "def analyze_sentiment(txt, dct):\n",
    "    pos = []\n",
    "    neg = []\n",
    "\n",
    "    for p in dct['pos']:\n",
    "        if p in txt:\n",
    "            pos.append(p)\n",
    "\n",
    "#   for t in txt:\n",
    "#       if t in pos:\n",
    "#           pos.append(t)\n",
    "\n",
    "    for n in dct['neg']:\n",
    "        if n in txt:\n",
    "            neg.append(n)\n",
    "\n",
    "    return (len(pos)/(len(pos) + len(neg)), pos), (len(neg)/(len(pos) + len(neg)), neg)"
   ]
  },
  {
   "cell_type": "code",
   "execution_count": 5,
   "metadata": {
    "ExecuteTime": {
     "end_time": "2021-07-11T01:57:36.727306Z",
     "start_time": "2021-07-11T01:57:36.710612Z"
    },
    "colab": {
     "base_uri": "https://localhost:8080/"
    },
    "id": "TVRRF_5SSiNf",
    "outputId": "7c62c443-6d5d-48d5-a84d-5ef3b5a66d18"
   },
   "outputs": [
    {
     "name": "stdout",
     "output_type": "stream",
     "text": [
      "(0.6470588235294118, ['낫다', '대상', '사랑을', '씩씩하게', '열정', '운', '잘', '정', '정성껏', '함께', '감사', '복을', '부지런', '부지런히', '사랑', '사랑의', '소중한', '즐거움', '즐거움이', '행복', '행복을', ''])\n",
      "(0.35294117647058826, ['방정', '어려운', '어려움', '해', '혼란스러운', '화', '굶주린', '모르는', '바이러스', '우는', '짐', ''])\n"
     ]
    }
   ],
   "source": [
    "pos, neg = analyze_sentiment(txt, dct)\n",
    "print(pos)\n",
    "print(neg)"
   ]
  },
  {
   "cell_type": "markdown",
   "metadata": {
    "id": "anKdEE0eEk8z"
   },
   "source": [
    "# 나이브 베이즈 분류기 활용 감정분석"
   ]
  },
  {
   "cell_type": "code",
   "execution_count": 6,
   "metadata": {
    "ExecuteTime": {
     "end_time": "2021-07-11T01:57:39.892294Z",
     "start_time": "2021-07-11T01:57:39.888674Z"
    },
    "id": "IoLvW8daCLbo"
   },
   "outputs": [],
   "source": [
    "text = [(\"I love you\", \"P\"),\n",
    "        (\"love happy weekend\", \"P\"),\n",
    "        (\"bore work job\", \"N\"),\n",
    "        (\"I hate you\", \"N\"),\n",
    "        (\"bore weekend\", \"N\"),\n",
    "        (\"happy together\", \"P\")]"
   ]
  },
  {
   "cell_type": "code",
   "execution_count": 7,
   "metadata": {
    "ExecuteTime": {
     "end_time": "2021-07-11T01:57:41.674971Z",
     "start_time": "2021-07-11T01:57:41.663146Z"
    },
    "colab": {
     "base_uri": "https://localhost:8080/"
    },
    "id": "kue74JQriF2P",
    "outputId": "ab1b3bea-7290-466b-f447-bd10ad303837"
   },
   "outputs": [
    {
     "data": {
      "text/plain": [
       "defaultdict(<function __main__.<lambda>()>,\n",
       "            {'I': [1, 1],\n",
       "             'love': [2, 0],\n",
       "             'you': [1, 1],\n",
       "             'happy': [2, 0],\n",
       "             'weekend': [1, 1],\n",
       "             'bore': [0, 2],\n",
       "             'work': [0, 1],\n",
       "             'job': [0, 1],\n",
       "             'hate': [0, 1],\n",
       "             'together': [1, 0]})"
      ]
     },
     "execution_count": 7,
     "metadata": {},
     "output_type": "execute_result"
    }
   ],
   "source": [
    "from collections import defaultdict\n",
    "\n",
    "# 범주에 속하는 토큰수 세기 0(긍정), 1(부정))\n",
    "doccnt0 = 0\n",
    "doccnt1 = 0\n",
    "\n",
    "# 토큰별로 문서내 빈도수 카운팅\n",
    "wordfreq = defaultdict(lambda: [0, 0])\n",
    "for doc, target in text:\n",
    "    label = 0 if target == 'P' else 1\n",
    "    words = doc.split()\n",
    "    for word in words:\n",
    "        wordfreq[word][label] += 1\n",
    "\n",
    "for key, (cnt0, cnt1) in wordfreq.items():\n",
    "    doccnt0 += cnt0\n",
    "    doccnt1 += cnt1\n",
    "\n",
    "wordfreq"
   ]
  },
  {
   "cell_type": "code",
   "execution_count": 8,
   "metadata": {
    "ExecuteTime": {
     "end_time": "2021-07-11T01:57:45.719968Z",
     "start_time": "2021-07-11T01:57:45.716187Z"
    },
    "colab": {
     "base_uri": "https://localhost:8080/"
    },
    "id": "T_F5iowywxCT",
    "outputId": "3aff5db1-f892-407b-f994-445485bd594b"
   },
   "outputs": [
    {
     "data": {
      "text/plain": [
       "8"
      ]
     },
     "execution_count": 8,
     "metadata": {},
     "output_type": "execute_result"
    }
   ],
   "source": [
    "doccnt1"
   ]
  },
  {
   "cell_type": "code",
   "execution_count": 9,
   "metadata": {
    "ExecuteTime": {
     "end_time": "2021-07-11T01:57:46.605643Z",
     "start_time": "2021-07-11T01:57:46.600291Z"
    },
    "colab": {
     "base_uri": "https://localhost:8080/"
    },
    "id": "N3DJjU95vJN8",
    "outputId": "f5a57c0c-3403-4cde-99ab-c47480d12a13"
   },
   "outputs": [
    {
     "data": {
      "text/plain": [
       "defaultdict(<function __main__.<lambda>()>,\n",
       "            {'I': [0.16666666666666666, 0.16666666666666666],\n",
       "             'love': [0.2777777777777778, 0.05555555555555555],\n",
       "             'you': [0.16666666666666666, 0.16666666666666666],\n",
       "             'happy': [0.2777777777777778, 0.05555555555555555],\n",
       "             'weekend': [0.16666666666666666, 0.16666666666666666],\n",
       "             'bore': [0.05555555555555555, 0.2777777777777778],\n",
       "             'work': [0.05555555555555555, 0.16666666666666666],\n",
       "             'job': [0.05555555555555555, 0.16666666666666666],\n",
       "             'hate': [0.05555555555555555, 0.16666666666666666],\n",
       "             'together': [0.16666666666666666, 0.05555555555555555]})"
      ]
     },
     "execution_count": 9,
     "metadata": {},
     "output_type": "execute_result"
    }
   ],
   "source": [
    "k = 0.5\n",
    "\n",
    "wordprobs = defaultdict(lambda: [0, 0])\n",
    "for key, (cnt0, cnt1) in wordfreq.items():\n",
    "    wordprobs[key][0] = (cnt0 + k) / (doccnt0 + 2*k)\n",
    "    wordprobs[key][1] = (cnt1 + k) / (doccnt1 + 2*k)\n",
    "\n",
    "\n",
    "wordprobs"
   ]
  },
  {
   "cell_type": "code",
   "execution_count": 10,
   "metadata": {
    "ExecuteTime": {
     "end_time": "2021-07-11T01:57:48.557705Z",
     "start_time": "2021-07-11T01:57:48.552747Z"
    },
    "colab": {
     "base_uri": "https://localhost:8080/"
    },
    "id": "Ffr9IjijvQ7t",
    "outputId": "2059f8d0-d8c6-4759-851a-f9a0098b7bc6"
   },
   "outputs": [
    {
     "name": "stdout",
     "output_type": "stream",
     "text": [
      "happy weekend\n",
      "긍정확률 : 83.33333333333333%\n",
      "부정확률 : 16.666666666666664%\n"
     ]
    }
   ],
   "source": [
    "import math\n",
    "\n",
    "doc = \"happy weekend\"\n",
    "\n",
    "tokens = doc.split()\n",
    "\n",
    "# 초기값은 모두 0으로 처리\n",
    "log_prob1 = log_prob0 = 0.0\n",
    "\n",
    "# 모든 단어에 대해 반복\n",
    "for word, (prob0, prob1) in wordprobs.items():\n",
    "    if word in tokens:\n",
    "        log_prob1 += math.log(prob1)\n",
    "        log_prob0 += math.log(prob0)\n",
    "\n",
    "log_prob0 += math.log(doccnt0/(doccnt0 + doccnt1))\n",
    "log_prob1 += math.log(doccnt1/(doccnt0 + doccnt1))\n",
    "\n",
    "prob0 = math.exp(log_prob0)\n",
    "prob1 = math.exp(log_prob1)\n",
    "\n",
    "print(doc)\n",
    "print(\"긍정확률 : {}%\".format(prob0 / (prob0 + prob1)*100))\n",
    "print(\"부정확률 : {}%\".format(prob1 / (prob0 + prob1)*100))"
   ]
  },
  {
   "cell_type": "code",
   "execution_count": 11,
   "metadata": {
    "ExecuteTime": {
     "end_time": "2021-07-11T01:57:50.453864Z",
     "start_time": "2021-07-11T01:57:49.508807Z"
    },
    "id": "b8MGr_sZibyp"
   },
   "outputs": [],
   "source": [
    "from sklearn.naive_bayes import MultinomialNB\n",
    "from sklearn.feature_extraction.text import TfidfTransformer\n",
    "from sklearn.feature_extraction.text import CountVectorizer\n",
    "X_train = [t[0] for t in text]\n",
    "Y_train = [t[1] for t in text]\n",
    "X_train\n",
    "\n",
    "\n",
    "count_vect = CountVectorizer()\n",
    "X_train_counts = count_vect.fit_transform(X_train)\n",
    "clf = MultinomialNB().fit(X_train_counts, Y_train)"
   ]
  },
  {
   "cell_type": "code",
   "execution_count": 12,
   "metadata": {
    "ExecuteTime": {
     "end_time": "2021-07-11T01:57:50.480717Z",
     "start_time": "2021-07-11T01:57:50.476129Z"
    },
    "colab": {
     "base_uri": "https://localhost:8080/"
    },
    "id": "x8zJ50ooDOTq",
    "outputId": "bb92d9b3-8ebc-4f32-a796-61c36311a025"
   },
   "outputs": [
    {
     "name": "stdout",
     "output_type": "stream",
     "text": [
      "['P']\n",
      "[[0.25 0.75]]\n"
     ]
    }
   ],
   "source": [
    "print(clf.predict(count_vect.transform([\"happy weekend\"])))\n",
    "print(clf.predict_proba(count_vect.transform([\"happy weekend\"])))"
   ]
  },
  {
   "cell_type": "markdown",
   "metadata": {
    "id": "ZFINscB8FS7Q"
   },
   "source": [
    "## 네이버 영화 리뷰 감정분석"
   ]
  },
  {
   "cell_type": "code",
   "execution_count": 15,
   "metadata": {
    "ExecuteTime": {
     "end_time": "2021-07-11T01:58:11.157049Z",
     "start_time": "2021-07-11T01:58:08.132314Z"
    },
    "colab": {
     "base_uri": "https://localhost:8080/"
    },
    "id": "ovFtoItjDfFs",
    "outputId": "1cae0180-8dd0-40c3-e8ef-81e52ecc5cea"
   },
   "outputs": [
    {
     "name": "stdout",
     "output_type": "stream",
     "text": [
      "--2021-07-11 10:58:08--  https://github.com/e9t/nsmc/raw/master/ratings.txt\n",
      "Resolving github.com (github.com)... 52.78.231.108\n",
      "Connecting to github.com (github.com)|52.78.231.108|:443... connected.\n",
      "HTTP request sent, awaiting response... 302 Found\n",
      "Location: https://raw.githubusercontent.com/e9t/nsmc/master/ratings.txt [following]\n",
      "--2021-07-11 10:58:08--  https://raw.githubusercontent.com/e9t/nsmc/master/ratings.txt\n",
      "Resolving raw.githubusercontent.com (raw.githubusercontent.com)... 185.199.108.133, 185.199.109.133, 185.199.110.133, ...\n",
      "Connecting to raw.githubusercontent.com (raw.githubusercontent.com)|185.199.108.133|:443... connected.\n",
      "HTTP request sent, awaiting response... 200 OK\n",
      "Length: 19515078 (19M) [text/plain]\n",
      "Saving to: `ratings.txt'\n",
      "\n",
      "ratings.txt         100%[===================>]  18.61M  24.5MB/s    in 0.8s    \n",
      "\n",
      "2021-07-11 10:58:11 (24.5 MB/s) - `ratings.txt' saved [19515078/19515078]\n",
      "\n"
     ]
    }
   ],
   "source": [
    "# 네이버 영화 리뷰 다운로드\n",
    "#!wget https://github.com/e9t/nsmc/raw/master/ratings.txt"
   ]
  },
  {
   "cell_type": "code",
   "execution_count": 16,
   "metadata": {
    "ExecuteTime": {
     "end_time": "2021-07-11T01:58:49.589793Z",
     "start_time": "2021-07-11T01:58:49.070018Z"
    },
    "colab": {
     "base_uri": "https://localhost:8080/",
     "height": 423
    },
    "id": "gQIY8T7NFe0n",
    "outputId": "70618422-d2e6-4212-c6c0-62a6a2c2237f"
   },
   "outputs": [
    {
     "data": {
      "text/html": [
       "<div>\n",
       "<style scoped>\n",
       "    .dataframe tbody tr th:only-of-type {\n",
       "        vertical-align: middle;\n",
       "    }\n",
       "\n",
       "    .dataframe tbody tr th {\n",
       "        vertical-align: top;\n",
       "    }\n",
       "\n",
       "    .dataframe thead th {\n",
       "        text-align: right;\n",
       "    }\n",
       "</style>\n",
       "<table border=\"1\" class=\"dataframe\">\n",
       "  <thead>\n",
       "    <tr style=\"text-align: right;\">\n",
       "      <th></th>\n",
       "      <th>id</th>\n",
       "      <th>document</th>\n",
       "      <th>label</th>\n",
       "    </tr>\n",
       "  </thead>\n",
       "  <tbody>\n",
       "    <tr>\n",
       "      <th>0</th>\n",
       "      <td>8112052</td>\n",
       "      <td>어릴때보고 지금다시봐도 재밌어요ㅋㅋ</td>\n",
       "      <td>1</td>\n",
       "    </tr>\n",
       "    <tr>\n",
       "      <th>1</th>\n",
       "      <td>8132799</td>\n",
       "      <td>디자인을 배우는 학생으로, 외국디자이너와 그들이 일군 전통을 통해 발전해가는 문화산...</td>\n",
       "      <td>1</td>\n",
       "    </tr>\n",
       "    <tr>\n",
       "      <th>2</th>\n",
       "      <td>4655635</td>\n",
       "      <td>폴리스스토리 시리즈는 1부터 뉴까지 버릴께 하나도 없음.. 최고.</td>\n",
       "      <td>1</td>\n",
       "    </tr>\n",
       "    <tr>\n",
       "      <th>3</th>\n",
       "      <td>9251303</td>\n",
       "      <td>와.. 연기가 진짜 개쩔구나.. 지루할거라고 생각했는데 몰입해서 봤다.. 그래 이런...</td>\n",
       "      <td>1</td>\n",
       "    </tr>\n",
       "    <tr>\n",
       "      <th>4</th>\n",
       "      <td>10067386</td>\n",
       "      <td>안개 자욱한 밤하늘에 떠 있는 초승달 같은 영화.</td>\n",
       "      <td>1</td>\n",
       "    </tr>\n",
       "    <tr>\n",
       "      <th>...</th>\n",
       "      <td>...</td>\n",
       "      <td>...</td>\n",
       "      <td>...</td>\n",
       "    </tr>\n",
       "    <tr>\n",
       "      <th>199995</th>\n",
       "      <td>8963373</td>\n",
       "      <td>포켓 몬스터 짜가 ㅡㅡ;;</td>\n",
       "      <td>0</td>\n",
       "    </tr>\n",
       "    <tr>\n",
       "      <th>199996</th>\n",
       "      <td>3302770</td>\n",
       "      <td>쓰.레.기</td>\n",
       "      <td>0</td>\n",
       "    </tr>\n",
       "    <tr>\n",
       "      <th>199997</th>\n",
       "      <td>5458175</td>\n",
       "      <td>완전 사이코영화. 마지막은 더욱더 이 영화의질을 떨어트린다.</td>\n",
       "      <td>0</td>\n",
       "    </tr>\n",
       "    <tr>\n",
       "      <th>199998</th>\n",
       "      <td>6908648</td>\n",
       "      <td>왜난 재미없었지 ㅠㅠ 라따뚜이 보고나서 스머프 봐서 그런가 ㅋㅋ</td>\n",
       "      <td>0</td>\n",
       "    </tr>\n",
       "    <tr>\n",
       "      <th>199999</th>\n",
       "      <td>8548411</td>\n",
       "      <td>포풍저그가나가신다영차영차영차</td>\n",
       "      <td>0</td>\n",
       "    </tr>\n",
       "  </tbody>\n",
       "</table>\n",
       "<p>199992 rows × 3 columns</p>\n",
       "</div>"
      ],
      "text/plain": [
       "              id                                           document  label\n",
       "0        8112052                                어릴때보고 지금다시봐도 재밌어요ㅋㅋ      1\n",
       "1        8132799  디자인을 배우는 학생으로, 외국디자이너와 그들이 일군 전통을 통해 발전해가는 문화산...      1\n",
       "2        4655635               폴리스스토리 시리즈는 1부터 뉴까지 버릴께 하나도 없음.. 최고.      1\n",
       "3        9251303  와.. 연기가 진짜 개쩔구나.. 지루할거라고 생각했는데 몰입해서 봤다.. 그래 이런...      1\n",
       "4       10067386                        안개 자욱한 밤하늘에 떠 있는 초승달 같은 영화.      1\n",
       "...          ...                                                ...    ...\n",
       "199995   8963373                                     포켓 몬스터 짜가 ㅡㅡ;;      0\n",
       "199996   3302770                                              쓰.레.기      0\n",
       "199997   5458175                  완전 사이코영화. 마지막은 더욱더 이 영화의질을 떨어트린다.      0\n",
       "199998   6908648                왜난 재미없었지 ㅠㅠ 라따뚜이 보고나서 스머프 봐서 그런가 ㅋㅋ      0\n",
       "199999   8548411                                    포풍저그가나가신다영차영차영차      0\n",
       "\n",
       "[199992 rows x 3 columns]"
      ]
     },
     "execution_count": 16,
     "metadata": {},
     "output_type": "execute_result"
    }
   ],
   "source": [
    "import pandas as pd\n",
    "import numpy as np\n",
    "df = pd.read_csv(\"../DATA/ratings.txt\", sep='\\t').dropna()\n",
    "df"
   ]
  },
  {
   "cell_type": "code",
   "execution_count": 17,
   "metadata": {
    "ExecuteTime": {
     "end_time": "2021-07-11T01:58:55.507363Z",
     "start_time": "2021-07-11T01:58:52.857953Z"
    },
    "id": "gJnjV-KQFnga"
   },
   "outputs": [],
   "source": [
    "from sklearn.model_selection import train_test_split\n",
    "from sklearn.feature_extraction.text import CountVectorizer\n",
    "from sklearn.feature_extraction.text import TfidfTransformer\n",
    "from sklearn.naive_bayes import MultinomialNB\n",
    "\n",
    "X_train, X_test, y_train, y_test = train_test_split(\n",
    "    df['document'], df['label'], random_state=42)\n",
    "count_vect = CountVectorizer()\n",
    "X_train_counts = count_vect.fit_transform(X_train)\n",
    "tfidf_transformer = TfidfTransformer()\n",
    "X_train_tfidf = tfidf_transformer.fit_transform(X_train_counts)\n",
    "\n",
    "clf = MultinomialNB().fit(X_train_tfidf, y_train)"
   ]
  },
  {
   "cell_type": "code",
   "execution_count": 18,
   "metadata": {
    "ExecuteTime": {
     "end_time": "2021-07-11T01:58:55.596067Z",
     "start_time": "2021-07-11T01:58:55.590534Z"
    },
    "colab": {
     "base_uri": "https://localhost:8080/"
    },
    "id": "2Qecu_93Hwu7",
    "outputId": "ce1e2f23-eb8e-4350-d288-c3bd324fc09e"
   },
   "outputs": [
    {
     "data": {
      "text/plain": [
       "189879                                       모피너무많이입고나와 불쾌함\n",
       "87482                        결말이 ㅠ ㅠ 멜비푸포 완전멋져요 ㅠ이제서야알다니 ㅠㅠ\n",
       "36369                                 타케모토 노보루 감독, 최고의 걸작이다\n",
       "82006       진짜 인생 애니메이션 어릴땐 상상력자극으로 재밌고 커서는 우정간의 감동을 보며 재밌고\n",
       "89163     몇몇 맞지않는 전개도 있지만 이 정도면 훌륭하다. 우리 이순신장군님 영화도 이렇게 ...\n",
       "79195     번개치고 귀신튀어나오는 성궤나 불사의 영약 성배나 고대 중남미문명 외계인 개입설이나...\n",
       "94218     우리나라 몇 안되는 진행 몰입도 좋은 영화중 하나. 2편이 기대되는데 안나올듯 하다...\n",
       "124006    네러티브는 하나도 없는 예쁜 음악 동영상. 취미로 영화만드는 것은 이걸로 끝나길 ....\n",
       "27053                              나이를 먹을수록 가슴깊이 느낄 수 있는 영화\n",
       "82529                         진ㅉ ㅏ잼잇따!!!!!!!후끈후끈화끈화끈 액숀!!!!\n",
       "Name: document, dtype: object"
      ]
     },
     "execution_count": 18,
     "metadata": {},
     "output_type": "execute_result"
    }
   ],
   "source": [
    "X_test[:10]"
   ]
  },
  {
   "cell_type": "code",
   "execution_count": 19,
   "metadata": {
    "ExecuteTime": {
     "end_time": "2021-07-11T01:58:56.257064Z",
     "start_time": "2021-07-11T01:58:55.673148Z"
    },
    "colab": {
     "base_uri": "https://localhost:8080/"
    },
    "id": "xPzdSWaRFvV1",
    "outputId": "01d8b114-6421-4795-aa30-3f4e0bfc54a1"
   },
   "outputs": [
    {
     "data": {
      "text/plain": [
       "0.828213128525141"
      ]
     },
     "execution_count": 19,
     "metadata": {},
     "output_type": "execute_result"
    }
   ],
   "source": [
    "X_new_counts = count_vect.transform(X_test)\n",
    "X_new_tfidf = tfidf_transformer.transform(X_new_counts)\n",
    "\n",
    "predicted = clf.predict(X_new_counts)\n",
    "np.mean(predicted == y_test)"
   ]
  }
 ],
 "metadata": {
  "colab": {
   "collapsed_sections": [],
   "name": "11 Prac. Sentiment Analysis.ipynb",
   "provenance": []
  },
  "kernelspec": {
   "display_name": "Python 3",
   "language": "python",
   "name": "python3"
  },
  "language_info": {
   "codemirror_mode": {
    "name": "ipython",
    "version": 3
   },
   "file_extension": ".py",
   "mimetype": "text/x-python",
   "name": "python",
   "nbconvert_exporter": "python",
   "pygments_lexer": "ipython3",
   "version": "3.8.10"
  },
  "varInspector": {
   "cols": {
    "lenName": 16,
    "lenType": 16,
    "lenVar": 40
   },
   "kernels_config": {
    "python": {
     "delete_cmd_postfix": "",
     "delete_cmd_prefix": "del ",
     "library": "var_list.py",
     "varRefreshCmd": "print(var_dic_list())"
    },
    "r": {
     "delete_cmd_postfix": ") ",
     "delete_cmd_prefix": "rm(",
     "library": "var_list.r",
     "varRefreshCmd": "cat(var_dic_list()) "
    }
   },
   "types_to_exclude": [
    "module",
    "function",
    "builtin_function_or_method",
    "instance",
    "_Feature"
   ],
   "window_display": false
  }
 },
 "nbformat": 4,
 "nbformat_minor": 1
}
