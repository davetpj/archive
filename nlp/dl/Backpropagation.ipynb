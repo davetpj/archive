{
 "cells": [
  {
   "cell_type": "markdown",
   "id": "3f98aa0f",
   "metadata": {},
   "source": [
    "# Backpropagation"
   ]
  },
  {
   "cell_type": "markdown",
   "id": "efe96ac9",
   "metadata": {},
   "source": [
    "## Add Layer"
   ]
  },
  {
   "cell_type": "code",
   "execution_count": 1,
   "id": "11c4a1eb",
   "metadata": {
    "ExecuteTime": {
     "end_time": "2021-07-19T03:29:00.783216Z",
     "start_time": "2021-07-19T03:29:00.776737Z"
    }
   },
   "outputs": [],
   "source": [
    "class AddLayer:\n",
    "    def __init__(self):\n",
    "        self.x = None\n",
    "        self.y = None\n",
    "\n",
    "    def forward(self, x, y):\n",
    "        self.x = x\n",
    "        self.y = y\n",
    "        return x + y\n",
    "\n",
    "    def backward(self, dout):\n",
    "        dx = dout * 1\n",
    "        dy = dout * 1\n",
    "\n",
    "        return dx, dy"
   ]
  },
  {
   "cell_type": "markdown",
   "id": "9e65e873",
   "metadata": {},
   "source": [
    "## Mul Layer"
   ]
  },
  {
   "cell_type": "code",
   "execution_count": 2,
   "id": "bc1d5bc9",
   "metadata": {
    "ExecuteTime": {
     "end_time": "2021-07-19T03:30:35.118716Z",
     "start_time": "2021-07-19T03:30:35.113237Z"
    }
   },
   "outputs": [],
   "source": [
    "class MulLayer:\n",
    "    def __init__(self):\n",
    "        self.x = None\n",
    "        self.y = None\n",
    "\n",
    "    def forward(self, x, y):\n",
    "        self.x = x\n",
    "        self.y = y                \n",
    "        out = x * y\n",
    "\n",
    "        return out\n",
    "\n",
    "    def backward(self, dout):\n",
    "        dx = dout * self.y  # x와 y를 바꾼다.\n",
    "        dy = dout * self.x\n",
    "\n",
    "        return dx, dy"
   ]
  },
  {
   "cell_type": "markdown",
   "id": "8a07408b",
   "metadata": {},
   "source": [
    "## Relu"
   ]
  },
  {
   "cell_type": "code",
   "execution_count": 4,
   "id": "b15e176c",
   "metadata": {
    "ExecuteTime": {
     "end_time": "2021-07-19T03:31:40.304349Z",
     "start_time": "2021-07-19T03:31:40.298637Z"
    }
   },
   "outputs": [],
   "source": [
    "class Relu:\n",
    "    def __init__(self):\n",
    "        self.mask = None\n",
    "\n",
    "    def forward(self, x):\n",
    "        # 강사님은 self 안 하셨음\n",
    "        # 0이였냐 아니였냐를 기억해야하므로 mask 를 다 self 를 붙여준다.\n",
    "        self.mask = (x <= 0)\n",
    "        out = x.copy()\n",
    "        out[self.mask] = 0\n",
    "\n",
    "        return out\n",
    "\n",
    "    def backward(self, dout):\n",
    "        dout[self.mask] = 0\n",
    "        return dout"
   ]
  },
  {
   "cell_type": "markdown",
   "id": "f1baeeda",
   "metadata": {
    "ExecuteTime": {
     "end_time": "2021-07-19T03:30:59.704163Z",
     "start_time": "2021-07-19T03:30:59.700520Z"
    }
   },
   "source": [
    "## Sigmoid"
   ]
  },
  {
   "cell_type": "code",
   "execution_count": 5,
   "id": "c5d9cfc8",
   "metadata": {
    "ExecuteTime": {
     "end_time": "2021-07-19T03:31:51.522646Z",
     "start_time": "2021-07-19T03:31:51.516706Z"
    }
   },
   "outputs": [],
   "source": [
    "def sigmoid(x):\n",
    "    return 1 / (1 + np.exp(-x))\n",
    "\n",
    "class Sigmoid:\n",
    "    def __init__(self):\n",
    "        self.out = None\n",
    "\n",
    "    def forward(self, x):\n",
    "        out = sigmoid(x)\n",
    "        self.out = out\n",
    "        return out\n",
    "\n",
    "    def backward(self, dout):\n",
    "        return dout * (1.0 - self.out) * self.out\n"
   ]
  },
  {
   "cell_type": "markdown",
   "id": "6e6ee437",
   "metadata": {},
   "source": [
    "## Affine"
   ]
  },
  {
   "cell_type": "code",
   "execution_count": 6,
   "id": "f9a2ef9c",
   "metadata": {
    "ExecuteTime": {
     "end_time": "2021-07-19T03:31:56.519960Z",
     "start_time": "2021-07-19T03:31:56.512862Z"
    }
   },
   "outputs": [],
   "source": [
    "class Affine:\n",
    "    def __init__(self, W, b):\n",
    "        self.W = W\n",
    "        self.b = b\n",
    "        \n",
    "        self.x = None\n",
    "        self.dW = None\n",
    "        self.db = None\n",
    "\n",
    "    def forward(self, x):\n",
    "        self.x = x\n",
    "        out = np.dot(self.x, self.W) + self.b\n",
    "\n",
    "        return out\n",
    "\n",
    "    def backward(self, dout):\n",
    "        dx = np.dot(dout, self.W.T)\n",
    "        self.dW = np.dot(self.x.T, dout)\n",
    "        self.db = np.sum(dout, axis=0)\n",
    "        return dx\n"
   ]
  },
  {
   "cell_type": "markdown",
   "id": "ba6f4dba",
   "metadata": {},
   "source": [
    "## Softmax With Loss"
   ]
  },
  {
   "cell_type": "code",
   "execution_count": 7,
   "id": "39e8c1f5",
   "metadata": {
    "ExecuteTime": {
     "end_time": "2021-07-19T03:32:03.159991Z",
     "start_time": "2021-07-19T03:32:03.152714Z"
    }
   },
   "outputs": [],
   "source": [
    "class SoftmaxWithLoss:\n",
    "    def __init__(self):\n",
    "        self.loss = None # 손실함수\n",
    "        self.y = None    # softmax의 출력\n",
    "        self.t = None    # 정답 레이블(원-핫 인코딩 형태)\n",
    "        \n",
    "    def forward(self, x, t):\n",
    "        self.t = t\n",
    "        self.y = softmax(x)\n",
    "        self.loss = cross_entropy_error(self.y, self.t)\n",
    "        \n",
    "        return self.loss\n",
    "\n",
    "    def backward(self, dout=1):\n",
    "        batch_size = self.t.shape[0]\n",
    "        ## 원핫 인코딩 상태랑 합하면 1 그리고 원핫 인코딩이 아닐떄는 그냥 1을 빼준다는 의미인데 다시 생각해보자\n",
    "        if self.t.size == self.y.size: # 정답 레이블이 원-핫 인코딩 형태일 때\n",
    "            dx = (self.y - self.t) / batch_size\n",
    "        else:\n",
    "            dx = self.y.copy()\n",
    "            dx[np.arange(batch_size), self.t] -= 1\n",
    "            dx = dx / batch_size\n",
    "        \n",
    "        return dx"
   ]
  },
  {
   "cell_type": "code",
   "execution_count": null,
   "id": "0323f785",
   "metadata": {},
   "outputs": [],
   "source": []
  }
 ],
 "metadata": {
  "kernelspec": {
   "display_name": "Python 3",
   "language": "python",
   "name": "python3"
  },
  "language_info": {
   "codemirror_mode": {
    "name": "ipython",
    "version": 3
   },
   "file_extension": ".py",
   "mimetype": "text/x-python",
   "name": "python",
   "nbconvert_exporter": "python",
   "pygments_lexer": "ipython3",
   "version": "3.8.10"
  }
 },
 "nbformat": 4,
 "nbformat_minor": 5
}
