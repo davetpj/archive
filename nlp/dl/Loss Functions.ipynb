{
 "cells": [
  {
   "cell_type": "markdown",
   "id": "6ec0aad5",
   "metadata": {},
   "source": [
    "# Mean Absolute Error, MAE"
   ]
  },
  {
   "cell_type": "markdown",
   "id": "1bd5bdec",
   "metadata": {},
   "source": [
    "# Mean Squared Error, MSE"
   ]
  },
  {
   "cell_type": "markdown",
   "id": "2260eb55",
   "metadata": {},
   "source": [
    "# Root Mean Square Error, RMSE"
   ]
  },
  {
   "cell_type": "markdown",
   "id": "a3dee6ed",
   "metadata": {},
   "source": [
    "# Classification\n",
    "### Binary cross-entropy\n",
    "### Categorical cross-entropy"
   ]
  },
  {
   "cell_type": "markdown",
   "id": "f21b92b5",
   "metadata": {},
   "source": [
    "# Binary cross-entropy"
   ]
  },
  {
   "cell_type": "markdown",
   "id": "5d4ebdde",
   "metadata": {},
   "source": [
    "# Categorical cross-entropy"
   ]
  },
  {
   "cell_type": "code",
   "execution_count": 1,
   "id": "e89285c2",
   "metadata": {
    "ExecuteTime": {
     "end_time": "2021-07-19T03:27:17.937247Z",
     "start_time": "2021-07-19T03:27:17.932174Z"
    }
   },
   "outputs": [],
   "source": [
    "def cross_entropy_error(y, t):\n",
    "    if y.ndim == 1:\n",
    "        t = t.reshape(1, t.size)\n",
    "        y = y.reshape(1, y.size)\n",
    "\n",
    "    \n",
    "    batch_size = y.shape[0]\n",
    "    \n",
    "    delta = 1e-7\n",
    "    return -np.sum(np.log(y[np.arange(batch_size), t] + delta))/batch_size"
   ]
  },
  {
   "cell_type": "code",
   "execution_count": null,
   "id": "e66a1c78",
   "metadata": {},
   "outputs": [],
   "source": []
  }
 ],
 "metadata": {
  "kernelspec": {
   "display_name": "Python 3",
   "language": "python",
   "name": "python3"
  },
  "language_info": {
   "codemirror_mode": {
    "name": "ipython",
    "version": 3
   },
   "file_extension": ".py",
   "mimetype": "text/x-python",
   "name": "python",
   "nbconvert_exporter": "python",
   "pygments_lexer": "ipython3",
   "version": "3.8.10"
  }
 },
 "nbformat": 4,
 "nbformat_minor": 5
}
