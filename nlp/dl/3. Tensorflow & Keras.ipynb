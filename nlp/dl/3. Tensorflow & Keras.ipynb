{
 "cells": [
  {
   "cell_type": "code",
   "execution_count": 2,
   "metadata": {
    "ExecuteTime": {
     "end_time": "2021-07-19T11:11:22.304159Z",
     "start_time": "2021-07-19T11:11:18.127080Z"
    },
    "id": "i1gz__wUUVY3"
   },
   "outputs": [],
   "source": [
    "import tensorflow as tf\n",
    "import numpy as np\n",
    "import matplotlib.pyplot as plt"
   ]
  },
  {
   "cell_type": "code",
   "execution_count": 3,
   "metadata": {
    "ExecuteTime": {
     "end_time": "2021-07-19T11:11:23.168930Z",
     "start_time": "2021-07-19T11:11:23.165713Z"
    },
    "colab": {
     "base_uri": "https://localhost:8080/"
    },
    "executionInfo": {
     "elapsed": 275,
     "status": "ok",
     "timestamp": 1626403717122,
     "user": {
      "displayName": "홍경수",
      "photoUrl": "",
      "userId": "10514684854108920109"
     },
     "user_tz": -540
    },
    "id": "0zf2dr4GNdN0",
    "outputId": "61419bfc-3c64-4e03-84d6-c6c9046445dc"
   },
   "outputs": [],
   "source": [
    "# 텐서 만들기 텐서플로우에서 관리하는 데이타?"
   ]
  },
  {
   "cell_type": "code",
   "execution_count": 5,
   "metadata": {
    "ExecuteTime": {
     "end_time": "2021-07-19T11:11:30.745613Z",
     "start_time": "2021-07-19T11:11:30.734456Z"
    }
   },
   "outputs": [
    {
     "name": "stdout",
     "output_type": "stream",
     "text": [
      "tf.Tensor(2.0, shape=(), dtype=float32)\n",
      "tf.Tensor(8.0, shape=(), dtype=float32)\n",
      "<tf.Variable 'Variable:0' shape=() dtype=float32, numpy=10.0>\n",
      "tf.Tensor(12.0, shape=(), dtype=float32)\n"
     ]
    },
    {
     "data": {
      "text/plain": [
       "2.0"
      ]
     },
     "execution_count": 5,
     "metadata": {},
     "output_type": "execute_result"
    }
   ],
   "source": [
    "# 텐서 만들기 텐서플로우에서 관리하는 데이타?\n",
    "a = tf.constant(2.0)\n",
    "y = tf.constant(8.0)\n",
    "x = tf.Variable(10.0)\n",
    "\n",
    "loss = tf.math.abs(a*x - y)\n",
    "print(a)\n",
    "print(y)\n",
    "print(x)\n",
    "print(loss)"
   ]
  },
  {
   "cell_type": "code",
   "execution_count": 9,
   "metadata": {
    "ExecuteTime": {
     "end_time": "2021-07-19T04:18:14.619265Z",
     "start_time": "2021-07-19T04:18:14.615595Z"
    }
   },
   "outputs": [
    {
     "data": {
      "text/plain": [
       "12.0"
      ]
     },
     "execution_count": 9,
     "metadata": {},
     "output_type": "execute_result"
    }
   ],
   "source": [
    "# 스칼라 값을 가져오려면?\n",
    "loss.numpy()"
   ]
  },
  {
   "cell_type": "code",
   "execution_count": null,
   "metadata": {},
   "outputs": [],
   "source": [
    "# 내가 했던것을 테이프에 기록함? 그래야지 역전파때 미분을 할수있음. 테이프에 기록된 연산의 그레디언트를 계산."
   ]
  },
  {
   "cell_type": "code",
   "execution_count": 6,
   "metadata": {
    "ExecuteTime": {
     "end_time": "2021-07-19T11:13:58.865895Z",
     "start_time": "2021-07-19T11:13:58.852423Z"
    },
    "colab": {
     "base_uri": "https://localhost:8080/"
    },
    "executionInfo": {
     "elapsed": 272,
     "status": "ok",
     "timestamp": 1626404062261,
     "user": {
      "displayName": "홍경수",
      "photoUrl": "",
      "userId": "10514684854108920109"
     },
     "user_tz": -540
    },
    "id": "dbb03OrpO8gB",
    "outputId": "be1a125e-70fe-4d90-a397-17252f9a5e1a"
   },
   "outputs": [
    {
     "name": "stdout",
     "output_type": "stream",
     "text": [
      "x = 10.0, dx = 2.0\n",
      "x = 8.0, dx = 2.0\n",
      "x = 6.0, dx = 2.0\n",
      "x = 4.0, dx = 0.0\n"
     ]
    }
   ],
   "source": [
    "def train_func():\n",
    "    with tf.GradientTape() as tape:\n",
    "        # a*x -> 예측값\n",
    "        # y   -> 라벨\n",
    "        loss = tf.math.abs(a*x-y)\n",
    "\n",
    "    dx = tape.gradient(loss, x)  # 미분값 x 파라미터 loss 목적함수?\n",
    "    print('x = {}, dx = {}'.format(x.numpy(), dx))\n",
    "\n",
    "    # 이렇게 해도 되고\n",
    "    # x = x - dx\n",
    "    # 이렇게 한다 x가 업데이트? assign 은 계산한걸 자기 자신한테\n",
    "    #x.assign(x-dx)\n",
    "    x.assign_sub(dx)\n",
    "\n",
    "\n",
    "# Run train_func() UDF repeately\n",
    "for i in range(4):\n",
    "    train_func()"
   ]
  },
  {
   "cell_type": "markdown",
   "metadata": {
    "id": "u8TvQSQhUVY5"
   },
   "source": [
    "GradientTape : https://www.tensorflow.org/guide/autodiff?hl=ko"
   ]
  },
  {
   "cell_type": "code",
   "execution_count": 14,
   "metadata": {
    "ExecuteTime": {
     "end_time": "2021-07-19T04:43:48.927699Z",
     "start_time": "2021-07-19T04:43:31.837628Z"
    },
    "colab": {
     "base_uri": "https://localhost:8080/"
    },
    "executionInfo": {
     "elapsed": 18721,
     "status": "ok",
     "timestamp": 1626402102320,
     "user": {
      "displayName": "홍경수",
      "photoUrl": "",
      "userId": "10514684854108920109"
     },
     "user_tz": -540
    },
    "id": "mB1gvjfwUVY6",
    "outputId": "3809a280-1d43-4242-d81f-a0567b8ae30b"
   },
   "outputs": [
    {
     "name": "stdout",
     "output_type": "stream",
     "text": [
      "epoch = 0, loss = 15.339600563049316\n",
      "epoch = 500, loss = 3.654714584350586\n",
      "epoch = 1000, loss = 2.3881609439849854\n",
      "epoch = 1500, loss = 2.092434883117676\n",
      "epoch = 2000, loss = 1.8692306280136108\n",
      "epoch = 2500, loss = 1.6479506492614746\n",
      "epoch = 3000, loss = 1.426693320274353\n",
      "epoch = 3500, loss = 1.2054353952407837\n",
      "epoch = 4000, loss = 0.9841771721839905\n",
      "epoch = 4500, loss = 0.7629193067550659\n",
      "epoch = 5000, loss = 0.5416615009307861\n",
      "epoch = 5500, loss = 0.3204036056995392\n",
      "epoch = 6000, loss = 0.09914541989564896\n",
      "epoch = 6500, loss = 0.06283137202262878\n",
      "epoch = 7000, loss = 0.06284035742282867\n",
      "epoch = 7500, loss = 0.06293746829032898\n",
      "epoch = 8000, loss = 0.06293746829032898\n",
      "epoch = 8500, loss = 0.06293746829032898\n",
      "epoch = 9000, loss = 0.06293746829032898\n",
      "epoch = 9500, loss = 0.06293746829032898\n",
      "CPU times: user 16.5 s, sys: 250 ms, total: 16.8 s\n",
      "Wall time: 17.1 s\n"
     ]
    }
   ],
   "source": [
    "%%time\n",
    "# 지금 이것은 회귀문제임 그래서 MSE 로 해보자 ( 예측값 - 라벨 )\n",
    "# 2차함수에 대해서 해보자\n",
    "# 데이터 집합 생성\n",
    "x = np.array(np.arange(-5, 5, 0.1))\n",
    "y = 2*x*x + 3*x + 5  # 이런 데이터가 있다고 하자 (피피티 그래프 참조)\n",
    "\n",
    "\n",
    "# 계수 설정 : 초기값\n",
    "lr = 0.001\n",
    "\n",
    "w1 = tf.Variable(1.0)\n",
    "w2 = tf.Variable(1.0)\n",
    "b = tf.Variable(1.0)\n",
    "\n",
    "# 학습\n",
    "histLoss = []  # 로스 기록 찍어보기 위함.\n",
    "for epoch in range(10000):\n",
    "    with tf.GradientTape() as tape:\n",
    "        # 제곱하고 평균하는거임 근데 그냥 rmse 를 해보자\n",
    "        loss = tf.sqrt(tf.reduce_mean(tf.square(w1*x*x + w2*x + b - y)))\n",
    "        # 그래서 루트를 씌워야함.\n",
    "\n",
    "    # 그다음 미분값을 구해야함.\n",
    "    dw1, dw2, db = tape.gradient(loss, [w1, w2, b])\n",
    "\n",
    "    w1.assign_sub(lr*dw1)  # w1 = w1 - lr * dw1 # 빼주는거니까 assign_sub\n",
    "    w2.assign_sub(lr*dw2)  # w1 = w1 - lr * dw2\n",
    "    b.assign_sub(lr*db)\n",
    "\n",
    "    histLoss.append(loss)\n",
    "    if epoch % 500 == 0:\n",
    "        print(\"epoch = {}, loss = {}\".format(epoch, loss))"
   ]
  },
  {
   "cell_type": "code",
   "execution_count": 15,
   "metadata": {
    "ExecuteTime": {
     "end_time": "2021-07-19T04:44:15.675007Z",
     "start_time": "2021-07-19T04:44:15.482168Z"
    },
    "colab": {
     "base_uri": "https://localhost:8080/",
     "height": 403
    },
    "executionInfo": {
     "elapsed": 597,
     "status": "ok",
     "timestamp": 1626304817279,
     "user": {
      "displayName": "홍경수",
      "photoUrl": "",
      "userId": "10514684854108920109"
     },
     "user_tz": -540
    },
    "id": "rjc5HyG8UVY7",
    "outputId": "1fe56299-0640-493a-88d1-8e21141e98a6"
   },
   "outputs": [
    {
     "name": "stdout",
     "output_type": "stream",
     "text": [
      "\n",
      "추정 결과 :\n",
      "w1 = 2.01\n",
      "w2 = 3.00\n",
      "b = 5.00\n",
      "final loss = 0.0627\n"
     ]
    },
    {
     "data": {
      "image/png": "[encoded data removed]",
      "text/plain": [
       "<Figure size 432x288 with 1 Axes>"
      ]
     },
     "metadata": {
      "needs_background": "light"
     },
     "output_type": "display_data"
    }
   ],
   "source": [
    "print(\"\\n추정 결과 :\")\n",
    "print(\"w1 = %.2f\" % w1.numpy())\n",
    "print(\"w2 = %.2f\" % w2.numpy())\n",
    "print(\"b = %.2f\" % b.numpy())\n",
    "print(\"final loss = %.4f\" % loss.numpy())\n",
    "\n",
    "plt.plot(histLoss, color='red', linewidth=1)\n",
    "plt.title(\"Loss function\")\n",
    "plt.xlabel(\"epoch\")\n",
    "plt.ylabel(\"loss\")\n",
    "plt.show()"
   ]
  },
  {
   "cell_type": "markdown",
   "metadata": {
    "id": "asYJwpHIUVY8"
   },
   "source": [
    "# SGD + Momentum\n",
    "## 방향 관성 ( 옵티마이저 ) 베타1은 모멘텀에 대한 베타2는 rmsp 에 대한\n",
    "### decay 는 뭐지 ... 크기를 변경시켜줌 학습률?"
   ]
  },
  {
   "cell_type": "code",
   "execution_count": 16,
   "metadata": {
    "ExecuteTime": {
     "end_time": "2021-07-19T05:31:52.623909Z",
     "start_time": "2021-07-19T05:31:52.621575Z"
    },
    "id": "rjLVq8fRUVY8"
   },
   "outputs": [],
   "source": [
    "import tensorflow as tf\n",
    "from tensorflow.keras import optimizers\n",
    "import numpy as np\n",
    "import matplotlib.pyplot as plt"
   ]
  },
  {
   "cell_type": "code",
   "execution_count": 17,
   "metadata": {
    "ExecuteTime": {
     "end_time": "2021-07-19T05:32:16.823096Z",
     "start_time": "2021-07-19T05:31:53.493036Z"
    },
    "colab": {
     "base_uri": "https://localhost:8080/"
    },
    "executionInfo": {
     "elapsed": 25291,
     "status": "ok",
     "timestamp": 1626304842565,
     "user": {
      "displayName": "홍경수",
      "photoUrl": "",
      "userId": "10514684854108920109"
     },
     "user_tz": -540
    },
    "id": "OBGgt37YUVY9",
    "outputId": "4773a504-94de-4965-8f1c-05f0f4fddc02"
   },
   "outputs": [
    {
     "name": "stdout",
     "output_type": "stream",
     "text": [
      "epoch = 0, loss = 15.3396\n",
      "epoch = 500, loss = 2.0233\n",
      "epoch = 1000, loss = 1.2854\n",
      "epoch = 1500, loss = 0.5479\n",
      "epoch = 2000, loss = 0.0376\n",
      "epoch = 2500, loss = 0.0376\n",
      "epoch = 3000, loss = 0.0376\n",
      "epoch = 3500, loss = 0.0376\n",
      "epoch = 4000, loss = 0.0376\n",
      "epoch = 4500, loss = 0.0376\n",
      "epoch = 5000, loss = 0.0376\n",
      "epoch = 5500, loss = 0.0376\n",
      "epoch = 6000, loss = 0.0376\n",
      "epoch = 6500, loss = 0.0376\n",
      "epoch = 7000, loss = 0.0376\n",
      "epoch = 7500, loss = 0.0376\n",
      "epoch = 8000, loss = 0.0376\n",
      "epoch = 8500, loss = 0.0376\n",
      "epoch = 9000, loss = 0.0376\n",
      "epoch = 9500, loss = 0.0376\n",
      "CPU times: user 22.6 s, sys: 334 ms, total: 22.9 s\n",
      "Wall time: 23.3 s\n"
     ]
    }
   ],
   "source": [
    "%%time\n",
    "# y = 2x^2 + 3x + 5 일 때 x, y 집합을 생성한다\n",
    "x = np.array(np.arange(-5, 5, 0.1))\n",
    "y = 2 * x * x + 3 * x + 5\n",
    "\n",
    "# 그래프를 생성한다.   \n",
    "w1 = tf.Variable(1.0)\n",
    "w2 = tf.Variable(1.0)\n",
    "b = tf.Variable(1.0)\n",
    "var_list = [w1, w2, b]  # variable list\n",
    "\n",
    "# SGD optimizers 기능을 사용하고, Momentum 방법을 사용한다.\n",
    "opt = optimizers.SGD(learning_rate=0.001, momentum=0.7, nesterov=False)\n",
    "\n",
    "histLoss=[]\n",
    "for epoch in range(10000):\n",
    "    with tf.GradientTape() as tape:\n",
    "        loss = tf.sqrt(tf.reduce_mean(tf.square(w1*x*x + w2*x + b - y)))\n",
    "        \n",
    "    grads = tape.gradient(loss, var_list)\n",
    "    opt.apply_gradients(zip(grads, var_list))\n",
    "    \n",
    "    if epoch % 500 == 0:\n",
    "        histLoss.append(loss.numpy())\n",
    "        print(\"epoch = {}, loss = {:.4f}\".format(epoch, loss))\n"
   ]
  },
  {
   "cell_type": "markdown",
   "metadata": {
    "id": "csP6kl58UVY-"
   },
   "source": [
    "## ↳ 전체 걸리는 시간이 더 걸리더라도 수렴하는 속도가 빠르다"
   ]
  },
  {
   "cell_type": "code",
   "execution_count": 18,
   "metadata": {
    "ExecuteTime": {
     "end_time": "2021-07-19T05:33:18.943079Z",
     "start_time": "2021-07-19T05:33:18.789902Z"
    },
    "colab": {
     "base_uri": "https://localhost:8080/",
     "height": 403
    },
    "executionInfo": {
     "elapsed": 13,
     "status": "ok",
     "timestamp": 1626304842565,
     "user": {
      "displayName": "홍경수",
      "photoUrl": "",
      "userId": "10514684854108920109"
     },
     "user_tz": -540
    },
    "id": "i4Mjp_p-UVY-",
    "outputId": "8f611991-209d-4898-f88c-269f0c0aa3f4"
   },
   "outputs": [
    {
     "name": "stdout",
     "output_type": "stream",
     "text": [
      "\n",
      "추정 결과 :\n",
      "w1 = 2.00\n",
      "w2 = 3.00\n",
      "b = 5.00\n",
      "final loss = 0.0363\n"
     ]
    },
    {
     "data": {
      "image/png": "[encoded data removed]",
      "text/plain": [
       "<Figure size 432x288 with 1 Axes>"
      ]
     },
     "metadata": {
      "needs_background": "light"
     },
     "output_type": "display_data"
    }
   ],
   "source": [
    "print(\"\\n추정 결과 :\")\n",
    "print(\"w1 = %.2f\" % w1.numpy())\n",
    "print(\"w2 = %.2f\" % w2.numpy())\n",
    "print(\"b = %.2f\" % b.numpy())\n",
    "print(\"final loss = %.4f\" % loss.numpy())\n",
    "\n",
    "plt.plot(histLoss, color='red', linewidth=1)\n",
    "plt.title(\"Loss function\")\n",
    "plt.xlabel(\"epoch\")\n",
    "plt.ylabel(\"loss\")\n",
    "plt.show()"
   ]
  },
  {
   "cell_type": "markdown",
   "metadata": {
    "id": "-x_PdAzRUVY_"
   },
   "source": [
    "# Adam + minimize()"
   ]
  },
  {
   "cell_type": "code",
   "execution_count": 30,
   "metadata": {
    "ExecuteTime": {
     "end_time": "2021-07-19T05:59:28.086059Z",
     "start_time": "2021-07-19T05:59:28.080577Z"
    },
    "id": "4oTrs_shUVY_"
   },
   "outputs": [],
   "source": [
    "import tensorflow as tf\n",
    "from tensorflow.keras import optimizers\n",
    "import numpy as np\n",
    "import matplotlib.pyplot as plt\n",
    "\n",
    "# y = 2x^2 + 3x + 5 일 때 x, y 집합을 생성한다\n",
    "x = np.array(np.arange(-5, 5, 0.1))\n",
    "y = 2 * x * x + 3 * x + 5\n",
    "\n",
    "# 그래프를 생성한다.   \n",
    "w1 = tf.Variable(1.0)\n",
    "w2 = tf.Variable(1.0)\n",
    "b = tf.Variable(1.0)"
   ]
  },
  {
   "cell_type": "code",
   "execution_count": 31,
   "metadata": {
    "ExecuteTime": {
     "end_time": "2021-07-19T06:00:00.861105Z",
     "start_time": "2021-07-19T05:59:28.088346Z"
    },
    "colab": {
     "base_uri": "https://localhost:8080/"
    },
    "executionInfo": {
     "elapsed": 35116,
     "status": "ok",
     "timestamp": 1626304877674,
     "user": {
      "displayName": "홍경수",
      "photoUrl": "",
      "userId": "10514684854108920109"
     },
     "user_tz": -540
    },
    "id": "U2LhwOCwUVY_",
    "outputId": "0be1233a-57ac-4ff4-9a9d-b4c11ce6f763"
   },
   "outputs": [
    {
     "name": "stdout",
     "output_type": "stream",
     "text": [
      "epoch = 0, loss = 15.327645301818848\n",
      "epoch = 500, loss = 9.454402923583984\n",
      "epoch = 1000, loss = 4.246377468109131\n",
      "epoch = 1500, loss = 1.9247740507125854\n",
      "epoch = 2000, loss = 1.4152452945709229\n",
      "epoch = 2500, loss = 1.0947701930999756\n",
      "epoch = 3000, loss = 0.7711126208305359\n",
      "epoch = 3500, loss = 0.44227075576782227\n",
      "epoch = 4000, loss = 0.11060690134763718\n",
      "epoch = 4500, loss = 0.000905002816580236\n",
      "epoch = 5000, loss = 0.0009234699537046254\n",
      "epoch = 5500, loss = 0.0008568525081500411\n",
      "epoch = 6000, loss = 0.0008003414841368794\n",
      "epoch = 6500, loss = 0.0007409106474369764\n",
      "epoch = 7000, loss = 0.0007376551511697471\n",
      "epoch = 7500, loss = 0.0007144282571971416\n",
      "epoch = 8000, loss = 0.0007153843180276453\n",
      "epoch = 8500, loss = 0.0007511757430620492\n",
      "epoch = 9000, loss = 0.0007269848720170557\n",
      "epoch = 9500, loss = 0.0007421072223223746\n"
     ]
    }
   ],
   "source": [
    "def loss():\n",
    "    return tf.sqrt(tf.reduce_mean(tf.square(w1*x*x + w2*x + b - y)))\n",
    "\n",
    "opt = optimizers.Adam(learning_rate=0.001)\n",
    "\n",
    "histLoss = []\n",
    "for epoch in range(10000):\n",
    "    # 로스함수만주면 미분하고 테이프 하고 하는 과정을 간단하게 해준다.\n",
    "    # 로스 함수 정의 자체를 집어넣어준것\n",
    "    opt.minimize(loss, var_list = [w1,w2,b])\n",
    "    \n",
    "    histLoss.append(loss())\n",
    "    if epoch % 500 == 0:\n",
    "        print(\"epoch = {}, loss = {}\".format(epoch, histLoss[-1]))"
   ]
  },
  {
   "cell_type": "code",
   "execution_count": 32,
   "metadata": {
    "ExecuteTime": {
     "end_time": "2021-07-19T06:00:04.571558Z",
     "start_time": "2021-07-19T06:00:04.224810Z"
    },
    "colab": {
     "base_uri": "https://localhost:8080/",
     "height": 385
    },
    "executionInfo": {
     "elapsed": 6,
     "status": "ok",
     "timestamp": 1626304877677,
     "user": {
      "displayName": "홍경수",
      "photoUrl": "",
      "userId": "10514684854108920109"
     },
     "user_tz": -540
    },
    "id": "34H6xeEYUVY_",
    "outputId": "95421470-d165-4dfb-da5c-8f352fb8fe12"
   },
   "outputs": [
    {
     "name": "stdout",
     "output_type": "stream",
     "text": [
      "\n",
      "추정 결과 :\n",
      "w1 = 2.00\n",
      "w2 = 3.00\n",
      "b = 5.00\n"
     ]
    },
    {
     "data": {
      "image/png": "[encoded data removed]",
      "text/plain": [
       "<Figure size 432x288 with 1 Axes>"
      ]
     },
     "metadata": {
      "needs_background": "light"
     },
     "output_type": "display_data"
    }
   ],
   "source": [
    "print(\"\\n추정 결과 :\")\n",
    "print(\"w1 = %.2f\" % w1.numpy())\n",
    "print(\"w2 = %.2f\" % w2.numpy())\n",
    "print(\"b = %.2f\" % b.numpy())\n",
    "\n",
    "plt.plot(histLoss, color='red', linewidth=1)\n",
    "plt.title(\"Loss function\")\n",
    "plt.xlabel(\"epoch\")\n",
    "plt.ylabel(\"loss\")\n",
    "plt.show()"
   ]
  },
  {
   "cell_type": "markdown",
   "metadata": {
    "id": "7u9hJ8NVUVZA"
   },
   "source": [
    "# Keras \n",
    "## Sequential model"
   ]
  },
  {
   "cell_type": "code",
   "execution_count": 36,
   "metadata": {
    "ExecuteTime": {
     "end_time": "2021-07-19T06:08:29.044510Z",
     "start_time": "2021-07-19T06:08:26.127466Z"
    },
    "colab": {
     "base_uri": "https://localhost:8080/",
     "height": 1000
    },
    "executionInfo": {
     "elapsed": 11409,
     "status": "ok",
     "timestamp": 1626304889082,
     "user": {
      "displayName": "홍경수",
      "photoUrl": "",
      "userId": "10514684854108920109"
     },
     "user_tz": -540
    },
    "id": "HuujzaL6UVZA",
    "outputId": "2ccde560-25ad-4421-d925-989861000195"
   },
   "outputs": [
    {
     "name": "stdout",
     "output_type": "stream",
     "text": [
      "Epoch 1/300\n",
      "4/4 [==============================] - 0s 1ms/step - loss: 1695.7695\n",
      "Epoch 2/300\n",
      "4/4 [==============================] - 0s 1ms/step - loss: 1509.2710\n",
      "Epoch 3/300\n",
      "4/4 [==============================] - 0s 1ms/step - loss: 1337.2599\n",
      "Epoch 4/300\n",
      "4/4 [==============================] - 0s 1ms/step - loss: 1179.3746\n",
      "Epoch 5/300\n",
      "4/4 [==============================] - 0s 1ms/step - loss: 1037.1084\n",
      "Epoch 6/300\n",
      "4/4 [==============================] - 0s 2ms/step - loss: 909.6449\n",
      "Epoch 7/300\n",
      "4/4 [==============================] - 0s 2ms/step - loss: 787.5084\n",
      "Epoch 8/300\n",
      "4/4 [==============================] - 0s 1ms/step - loss: 680.3973\n",
      "Epoch 9/300\n",
      "4/4 [==============================] - 0s 2ms/step - loss: 576.9678\n",
      "Epoch 10/300\n",
      "4/4 [==============================] - 0s 2ms/step - loss: 488.4063\n",
      "Epoch 11/300\n",
      "4/4 [==============================] - 0s 2ms/step - loss: 411.8109\n",
      "Epoch 12/300\n",
      "4/4 [==============================] - 0s 2ms/step - loss: 337.5191\n",
      "Epoch 13/300\n",
      "4/4 [==============================] - 0s 1ms/step - loss: 276.0381\n",
      "Epoch 14/300\n",
      "4/4 [==============================] - 0s 1ms/step - loss: 225.9739\n",
      "Epoch 15/300\n",
      "4/4 [==============================] - 0s 3ms/step - loss: 181.0858\n",
      "Epoch 16/300\n",
      "4/4 [==============================] - 0s 2ms/step - loss: 144.5033\n",
      "Epoch 17/300\n",
      "4/4 [==============================] - 0s 2ms/step - loss: 115.5424\n",
      "Epoch 18/300\n",
      "4/4 [==============================] - 0s 1ms/step - loss: 93.0171\n",
      "Epoch 19/300\n",
      "4/4 [==============================] - 0s 2ms/step - loss: 70.7479\n",
      "Epoch 20/300\n",
      "4/4 [==============================] - 0s 1ms/step - loss: 55.1843\n",
      "Epoch 21/300\n",
      "4/4 [==============================] - 0s 1ms/step - loss: 41.2698\n",
      "Epoch 22/300\n",
      "4/4 [==============================] - 0s 1ms/step - loss: 31.0727\n",
      "Epoch 23/300\n",
      "4/4 [==============================] - 0s 1ms/step - loss: 22.9083\n",
      "Epoch 24/300\n",
      "4/4 [==============================] - 0s 1ms/step - loss: 16.9192\n",
      "Epoch 25/300\n",
      "4/4 [==============================] - 0s 1ms/step - loss: 12.4124\n",
      "Epoch 26/300\n",
      "4/4 [==============================] - 0s 2ms/step - loss: 9.3291\n",
      "Epoch 27/300\n",
      "4/4 [==============================] - 0s 2ms/step - loss: 7.0524\n",
      "Epoch 28/300\n",
      "4/4 [==============================] - 0s 2ms/step - loss: 5.2630\n",
      "Epoch 29/300\n",
      "4/4 [==============================] - 0s 1ms/step - loss: 4.0962\n",
      "Epoch 30/300\n",
      "4/4 [==============================] - 0s 1ms/step - loss: 3.2249\n",
      "Epoch 31/300\n",
      "4/4 [==============================] - 0s 1ms/step - loss: 2.6033\n",
      "Epoch 32/300\n",
      "4/4 [==============================] - 0s 1ms/step - loss: 2.1239\n",
      "Epoch 33/300\n",
      "4/4 [==============================] - 0s 2ms/step - loss: 1.8133\n",
      "Epoch 34/300\n",
      "4/4 [==============================] - 0s 2ms/step - loss: 1.5668\n",
      "Epoch 35/300\n",
      "4/4 [==============================] - 0s 1ms/step - loss: 1.3998\n",
      "Epoch 36/300\n",
      "4/4 [==============================] - 0s 1ms/step - loss: 1.2593\n",
      "Epoch 37/300\n",
      "4/4 [==============================] - 0s 2ms/step - loss: 1.1591\n",
      "Epoch 38/300\n",
      "4/4 [==============================] - 0s 2ms/step - loss: 1.0789\n",
      "Epoch 39/300\n",
      "4/4 [==============================] - 0s 2ms/step - loss: 1.0146\n",
      "Epoch 40/300\n",
      "4/4 [==============================] - 0s 2ms/step - loss: 0.9593\n",
      "Epoch 41/300\n",
      "4/4 [==============================] - 0s 2ms/step - loss: 0.9196\n",
      "Epoch 42/300\n",
      "4/4 [==============================] - 0s 2ms/step - loss: 0.8810\n",
      "Epoch 43/300\n",
      "4/4 [==============================] - 0s 2ms/step - loss: 0.8521\n",
      "Epoch 44/300\n",
      "4/4 [==============================] - 0s 2ms/step - loss: 0.8230\n",
      "Epoch 45/300\n",
      "4/4 [==============================] - 0s 2ms/step - loss: 0.7978\n",
      "Epoch 46/300\n",
      "4/4 [==============================] - 0s 3ms/step - loss: 0.7751\n",
      "Epoch 47/300\n",
      "4/4 [==============================] - 0s 2ms/step - loss: 0.7526\n",
      "Epoch 48/300\n",
      "4/4 [==============================] - 0s 1ms/step - loss: 0.7351\n",
      "Epoch 49/300\n",
      "4/4 [==============================] - 0s 1ms/step - loss: 0.7158\n",
      "Epoch 50/300\n",
      "4/4 [==============================] - 0s 2ms/step - loss: 0.6991\n",
      "Epoch 51/300\n",
      "4/4 [==============================] - 0s 2ms/step - loss: 0.6849\n",
      "Epoch 52/300\n",
      "4/4 [==============================] - 0s 2ms/step - loss: 0.6711\n",
      "Epoch 53/300\n",
      "4/4 [==============================] - 0s 2ms/step - loss: 0.6587\n",
      "Epoch 54/300\n",
      "4/4 [==============================] - 0s 2ms/step - loss: 0.6476\n",
      "Epoch 55/300\n",
      "4/4 [==============================] - 0s 2ms/step - loss: 0.6375\n",
      "Epoch 56/300\n",
      "4/4 [==============================] - 0s 1ms/step - loss: 0.6279\n",
      "Epoch 57/300\n",
      "4/4 [==============================] - 0s 2ms/step - loss: 0.6171\n",
      "Epoch 58/300\n",
      "4/4 [==============================] - 0s 2ms/step - loss: 0.6067\n",
      "Epoch 59/300\n",
      "4/4 [==============================] - 0s 2ms/step - loss: 0.5970\n",
      "Epoch 60/300\n",
      "4/4 [==============================] - 0s 1ms/step - loss: 0.5873\n",
      "Epoch 61/300\n",
      "4/4 [==============================] - 0s 2ms/step - loss: 0.5781\n",
      "Epoch 62/300\n",
      "4/4 [==============================] - 0s 2ms/step - loss: 0.5697\n",
      "Epoch 63/300\n",
      "4/4 [==============================] - 0s 3ms/step - loss: 0.5611\n",
      "Epoch 64/300\n",
      "4/4 [==============================] - 0s 2ms/step - loss: 0.5524\n",
      "Epoch 65/300\n",
      "4/4 [==============================] - 0s 2ms/step - loss: 0.5435\n",
      "Epoch 66/300\n",
      "4/4 [==============================] - 0s 1ms/step - loss: 0.5353\n",
      "Epoch 67/300\n",
      "4/4 [==============================] - 0s 2ms/step - loss: 0.5264\n",
      "Epoch 68/300\n",
      "4/4 [==============================] - 0s 2ms/step - loss: 0.5176\n",
      "Epoch 69/300\n",
      "4/4 [==============================] - 0s 2ms/step - loss: 0.5088\n",
      "Epoch 70/300\n",
      "4/4 [==============================] - 0s 1ms/step - loss: 0.5005\n",
      "Epoch 71/300\n",
      "4/4 [==============================] - 0s 2ms/step - loss: 0.4919\n",
      "Epoch 72/300\n",
      "4/4 [==============================] - 0s 2ms/step - loss: 0.4836\n",
      "Epoch 73/300\n",
      "4/4 [==============================] - 0s 2ms/step - loss: 0.4755\n",
      "Epoch 74/300\n",
      "4/4 [==============================] - 0s 1ms/step - loss: 0.4671\n",
      "Epoch 75/300\n",
      "4/4 [==============================] - 0s 1ms/step - loss: 0.4589\n",
      "Epoch 76/300\n",
      "4/4 [==============================] - 0s 2ms/step - loss: 0.4502\n",
      "Epoch 77/300\n",
      "4/4 [==============================] - 0s 1ms/step - loss: 0.4413\n",
      "Epoch 78/300\n",
      "4/4 [==============================] - 0s 1ms/step - loss: 0.4332\n",
      "Epoch 79/300\n",
      "4/4 [==============================] - 0s 2ms/step - loss: 0.4254\n",
      "Epoch 80/300\n",
      "4/4 [==============================] - 0s 1ms/step - loss: 0.4176\n",
      "Epoch 81/300\n",
      "4/4 [==============================] - 0s 1ms/step - loss: 0.4099\n",
      "Epoch 82/300\n",
      "4/4 [==============================] - 0s 1ms/step - loss: 0.4021\n",
      "Epoch 83/300\n",
      "4/4 [==============================] - 0s 2ms/step - loss: 0.3948\n",
      "Epoch 84/300\n",
      "4/4 [==============================] - 0s 1ms/step - loss: 0.3874\n",
      "Epoch 85/300\n",
      "4/4 [==============================] - 0s 2ms/step - loss: 0.3801\n",
      "Epoch 86/300\n",
      "4/4 [==============================] - 0s 2ms/step - loss: 0.3728\n",
      "Epoch 87/300\n",
      "4/4 [==============================] - 0s 1ms/step - loss: 0.3655\n",
      "Epoch 88/300\n",
      "4/4 [==============================] - 0s 2ms/step - loss: 0.3583\n",
      "Epoch 89/300\n",
      "4/4 [==============================] - 0s 2ms/step - loss: 0.3512\n",
      "Epoch 90/300\n",
      "4/4 [==============================] - 0s 2ms/step - loss: 0.3447\n",
      "Epoch 91/300\n",
      "4/4 [==============================] - 0s 1ms/step - loss: 0.3384\n",
      "Epoch 92/300\n",
      "4/4 [==============================] - 0s 1ms/step - loss: 0.3318\n",
      "Epoch 93/300\n",
      "4/4 [==============================] - 0s 1ms/step - loss: 0.3252\n",
      "Epoch 94/300\n",
      "4/4 [==============================] - 0s 2ms/step - loss: 0.3185\n",
      "Epoch 95/300\n",
      "4/4 [==============================] - 0s 1ms/step - loss: 0.3119\n",
      "Epoch 96/300\n",
      "4/4 [==============================] - 0s 1ms/step - loss: 0.3055\n",
      "Epoch 97/300\n",
      "4/4 [==============================] - 0s 1ms/step - loss: 0.2988\n",
      "Epoch 98/300\n",
      "4/4 [==============================] - 0s 2ms/step - loss: 0.2924\n",
      "Epoch 99/300\n",
      "4/4 [==============================] - 0s 1ms/step - loss: 0.2860\n",
      "Epoch 100/300\n",
      "4/4 [==============================] - 0s 1ms/step - loss: 0.2802\n",
      "Epoch 101/300\n",
      "4/4 [==============================] - 0s 1ms/step - loss: 0.2744\n",
      "Epoch 102/300\n",
      "4/4 [==============================] - 0s 2ms/step - loss: 0.2686\n",
      "Epoch 103/300\n",
      "4/4 [==============================] - 0s 2ms/step - loss: 0.2632\n",
      "Epoch 104/300\n"
     ]
    },
    {
     "name": "stdout",
     "output_type": "stream",
     "text": [
      "4/4 [==============================] - 0s 2ms/step - loss: 0.2577\n",
      "Epoch 105/300\n",
      "4/4 [==============================] - 0s 1ms/step - loss: 0.2519\n",
      "Epoch 106/300\n",
      "4/4 [==============================] - 0s 1ms/step - loss: 0.2466\n",
      "Epoch 107/300\n",
      "4/4 [==============================] - 0s 2ms/step - loss: 0.2409\n",
      "Epoch 108/300\n",
      "4/4 [==============================] - 0s 2ms/step - loss: 0.2356\n",
      "Epoch 109/300\n",
      "4/4 [==============================] - 0s 1ms/step - loss: 0.2302\n",
      "Epoch 110/300\n",
      "4/4 [==============================] - 0s 2ms/step - loss: 0.2249\n",
      "Epoch 111/300\n",
      "4/4 [==============================] - 0s 2ms/step - loss: 0.2198\n",
      "Epoch 112/300\n",
      "4/4 [==============================] - 0s 2ms/step - loss: 0.2149\n",
      "Epoch 113/300\n",
      "4/4 [==============================] - 0s 1ms/step - loss: 0.2103\n",
      "Epoch 114/300\n",
      "4/4 [==============================] - 0s 2ms/step - loss: 0.2057\n",
      "Epoch 115/300\n",
      "4/4 [==============================] - 0s 2ms/step - loss: 0.2013\n",
      "Epoch 116/300\n",
      "4/4 [==============================] - 0s 2ms/step - loss: 0.1965\n",
      "Epoch 117/300\n",
      "4/4 [==============================] - 0s 1ms/step - loss: 0.1924\n",
      "Epoch 118/300\n",
      "4/4 [==============================] - 0s 1ms/step - loss: 0.1883\n",
      "Epoch 119/300\n",
      "4/4 [==============================] - 0s 1ms/step - loss: 0.1840\n",
      "Epoch 120/300\n",
      "4/4 [==============================] - 0s 2ms/step - loss: 0.1797\n",
      "Epoch 121/300\n",
      "4/4 [==============================] - 0s 2ms/step - loss: 0.1756\n",
      "Epoch 122/300\n",
      "4/4 [==============================] - 0s 2ms/step - loss: 0.1717\n",
      "Epoch 123/300\n",
      "4/4 [==============================] - 0s 2ms/step - loss: 0.1678\n",
      "Epoch 124/300\n",
      "4/4 [==============================] - 0s 2ms/step - loss: 0.1643\n",
      "Epoch 125/300\n",
      "4/4 [==============================] - 0s 1ms/step - loss: 0.1607\n",
      "Epoch 126/300\n",
      "4/4 [==============================] - 0s 1ms/step - loss: 0.1570\n",
      "Epoch 127/300\n",
      "4/4 [==============================] - 0s 1ms/step - loss: 0.1532\n",
      "Epoch 128/300\n",
      "4/4 [==============================] - 0s 2ms/step - loss: 0.1498\n",
      "Epoch 129/300\n",
      "4/4 [==============================] - 0s 2ms/step - loss: 0.1462\n",
      "Epoch 130/300\n",
      "4/4 [==============================] - 0s 1ms/step - loss: 0.1426\n",
      "Epoch 131/300\n",
      "4/4 [==============================] - 0s 2ms/step - loss: 0.1391\n",
      "Epoch 132/300\n",
      "4/4 [==============================] - 0s 1ms/step - loss: 0.1358\n",
      "Epoch 133/300\n",
      "4/4 [==============================] - 0s 1ms/step - loss: 0.1324\n",
      "Epoch 134/300\n",
      "4/4 [==============================] - 0s 1ms/step - loss: 0.1291\n",
      "Epoch 135/300\n",
      "4/4 [==============================] - 0s 2ms/step - loss: 0.1258\n",
      "Epoch 136/300\n",
      "4/4 [==============================] - 0s 2ms/step - loss: 0.1226\n",
      "Epoch 137/300\n",
      "4/4 [==============================] - 0s 1ms/step - loss: 0.1196\n",
      "Epoch 138/300\n",
      "4/4 [==============================] - 0s 2ms/step - loss: 0.1167\n",
      "Epoch 139/300\n",
      "4/4 [==============================] - 0s 1ms/step - loss: 0.1138\n",
      "Epoch 140/300\n",
      "4/4 [==============================] - 0s 1ms/step - loss: 0.1109\n",
      "Epoch 141/300\n",
      "4/4 [==============================] - 0s 1ms/step - loss: 0.1081\n",
      "Epoch 142/300\n",
      "4/4 [==============================] - 0s 2ms/step - loss: 0.1051\n",
      "Epoch 143/300\n",
      "4/4 [==============================] - 0s 2ms/step - loss: 0.1026\n",
      "Epoch 144/300\n",
      "4/4 [==============================] - 0s 2ms/step - loss: 0.0999\n",
      "Epoch 145/300\n",
      "4/4 [==============================] - 0s 2ms/step - loss: 0.0974\n",
      "Epoch 146/300\n",
      "4/4 [==============================] - 0s 2ms/step - loss: 0.0949\n",
      "Epoch 147/300\n",
      "4/4 [==============================] - 0s 1ms/step - loss: 0.0923\n",
      "Epoch 148/300\n",
      "4/4 [==============================] - 0s 1ms/step - loss: 0.0897\n",
      "Epoch 149/300\n",
      "4/4 [==============================] - 0s 1ms/step - loss: 0.0872\n",
      "Epoch 150/300\n",
      "4/4 [==============================] - 0s 2ms/step - loss: 0.0848\n",
      "Epoch 151/300\n",
      "4/4 [==============================] - 0s 2ms/step - loss: 0.0826\n",
      "Epoch 152/300\n",
      "4/4 [==============================] - 0s 2ms/step - loss: 0.0802\n",
      "Epoch 153/300\n",
      "4/4 [==============================] - 0s 1ms/step - loss: 0.0781\n",
      "Epoch 154/300\n",
      "4/4 [==============================] - 0s 3ms/step - loss: 0.0758\n",
      "Epoch 155/300\n",
      "4/4 [==============================] - 0s 1ms/step - loss: 0.0737\n",
      "Epoch 156/300\n",
      "4/4 [==============================] - 0s 2ms/step - loss: 0.0716\n",
      "Epoch 157/300\n",
      "4/4 [==============================] - 0s 1ms/step - loss: 0.0697\n",
      "Epoch 158/300\n",
      "4/4 [==============================] - 0s 2ms/step - loss: 0.0677\n",
      "Epoch 159/300\n",
      "4/4 [==============================] - 0s 2ms/step - loss: 0.0661\n",
      "Epoch 160/300\n",
      "4/4 [==============================] - 0s 1ms/step - loss: 0.0643\n",
      "Epoch 161/300\n",
      "4/4 [==============================] - 0s 2ms/step - loss: 0.0625\n",
      "Epoch 162/300\n",
      "4/4 [==============================] - 0s 2ms/step - loss: 0.0606\n",
      "Epoch 163/300\n",
      "4/4 [==============================] - 0s 2ms/step - loss: 0.0586\n",
      "Epoch 164/300\n",
      "4/4 [==============================] - 0s 1ms/step - loss: 0.0570\n",
      "Epoch 165/300\n",
      "4/4 [==============================] - 0s 1ms/step - loss: 0.0552\n",
      "Epoch 166/300\n",
      "4/4 [==============================] - 0s 1ms/step - loss: 0.0535\n",
      "Epoch 167/300\n",
      "4/4 [==============================] - 0s 2ms/step - loss: 0.0520\n",
      "Epoch 168/300\n",
      "4/4 [==============================] - 0s 2ms/step - loss: 0.0503\n",
      "Epoch 169/300\n",
      "4/4 [==============================] - 0s 1ms/step - loss: 0.0488\n",
      "Epoch 170/300\n",
      "4/4 [==============================] - 0s 1ms/step - loss: 0.0474\n",
      "Epoch 171/300\n",
      "4/4 [==============================] - 0s 1ms/step - loss: 0.0460\n",
      "Epoch 172/300\n",
      "4/4 [==============================] - 0s 1ms/step - loss: 0.0447\n",
      "Epoch 173/300\n",
      "4/4 [==============================] - 0s 2ms/step - loss: 0.0433\n",
      "Epoch 174/300\n",
      "4/4 [==============================] - 0s 2ms/step - loss: 0.0421\n",
      "Epoch 175/300\n",
      "4/4 [==============================] - 0s 2ms/step - loss: 0.0408\n",
      "Epoch 176/300\n",
      "4/4 [==============================] - 0s 1ms/step - loss: 0.0396\n",
      "Epoch 177/300\n",
      "4/4 [==============================] - 0s 1ms/step - loss: 0.0383\n",
      "Epoch 178/300\n",
      "4/4 [==============================] - 0s 2ms/step - loss: 0.0372\n",
      "Epoch 179/300\n",
      "4/4 [==============================] - 0s 1ms/step - loss: 0.0359\n",
      "Epoch 180/300\n",
      "4/4 [==============================] - 0s 1ms/step - loss: 0.0347\n",
      "Epoch 181/300\n",
      "4/4 [==============================] - 0s 1ms/step - loss: 0.0336\n",
      "Epoch 182/300\n",
      "4/4 [==============================] - 0s 1ms/step - loss: 0.0326\n",
      "Epoch 183/300\n",
      "4/4 [==============================] - 0s 2ms/step - loss: 0.0315\n",
      "Epoch 184/300\n",
      "4/4 [==============================] - 0s 2ms/step - loss: 0.0305\n",
      "Epoch 185/300\n",
      "4/4 [==============================] - 0s 1ms/step - loss: 0.0295\n",
      "Epoch 186/300\n",
      "4/4 [==============================] - 0s 2ms/step - loss: 0.0285\n",
      "Epoch 187/300\n",
      "4/4 [==============================] - 0s 2ms/step - loss: 0.0276\n",
      "Epoch 188/300\n",
      "4/4 [==============================] - 0s 2ms/step - loss: 0.0267\n",
      "Epoch 189/300\n",
      "4/4 [==============================] - 0s 1ms/step - loss: 0.0258\n",
      "Epoch 190/300\n",
      "4/4 [==============================] - 0s 2ms/step - loss: 0.0249\n",
      "Epoch 191/300\n",
      "4/4 [==============================] - 0s 1ms/step - loss: 0.0241\n",
      "Epoch 192/300\n",
      "4/4 [==============================] - 0s 3ms/step - loss: 0.0233\n",
      "Epoch 193/300\n",
      "4/4 [==============================] - 0s 2ms/step - loss: 0.0226\n",
      "Epoch 194/300\n",
      "4/4 [==============================] - 0s 2ms/step - loss: 0.0219\n",
      "Epoch 195/300\n",
      "4/4 [==============================] - 0s 1ms/step - loss: 0.0213\n",
      "Epoch 196/300\n",
      "4/4 [==============================] - 0s 2ms/step - loss: 0.0206\n",
      "Epoch 197/300\n",
      "4/4 [==============================] - 0s 2ms/step - loss: 0.0200\n",
      "Epoch 198/300\n",
      "4/4 [==============================] - 0s 2ms/step - loss: 0.0194\n",
      "Epoch 199/300\n",
      "4/4 [==============================] - 0s 2ms/step - loss: 0.0189\n",
      "Epoch 200/300\n",
      "4/4 [==============================] - 0s 1ms/step - loss: 0.0183\n",
      "Epoch 201/300\n",
      "4/4 [==============================] - 0s 1ms/step - loss: 0.0177\n",
      "Epoch 202/300\n",
      "4/4 [==============================] - 0s 1ms/step - loss: 0.0171\n",
      "Epoch 203/300\n",
      "4/4 [==============================] - 0s 1ms/step - loss: 0.0165\n",
      "Epoch 204/300\n",
      "4/4 [==============================] - 0s 2ms/step - loss: 0.0160\n",
      "Epoch 205/300\n",
      "4/4 [==============================] - 0s 1ms/step - loss: 0.0154\n",
      "Epoch 206/300\n",
      "4/4 [==============================] - 0s 1ms/step - loss: 0.0149\n",
      "Epoch 207/300\n",
      "4/4 [==============================] - 0s 2ms/step - loss: 0.0143\n",
      "Epoch 208/300\n",
      "4/4 [==============================] - 0s 2ms/step - loss: 0.0138\n",
      "Epoch 209/300\n",
      "4/4 [==============================] - 0s 1ms/step - loss: 0.0133\n",
      "Epoch 210/300\n",
      "4/4 [==============================] - 0s 2ms/step - loss: 0.0128\n",
      "Epoch 211/300\n",
      "4/4 [==============================] - 0s 1ms/step - loss: 0.0124\n",
      "Epoch 212/300\n",
      "4/4 [==============================] - 0s 2ms/step - loss: 0.0119\n",
      "Epoch 213/300\n",
      "4/4 [==============================] - 0s 1ms/step - loss: 0.0115\n",
      "Epoch 214/300\n",
      "4/4 [==============================] - 0s 1ms/step - loss: 0.0111\n",
      "Epoch 215/300\n",
      "4/4 [==============================] - 0s 2ms/step - loss: 0.0107\n",
      "Epoch 216/300\n",
      "4/4 [==============================] - 0s 1ms/step - loss: 0.0103\n",
      "Epoch 217/300\n",
      "4/4 [==============================] - 0s 2ms/step - loss: 0.0099\n",
      "Epoch 218/300\n",
      "4/4 [==============================] - 0s 2ms/step - loss: 0.0095\n",
      "Epoch 219/300\n",
      "4/4 [==============================] - 0s 2ms/step - loss: 0.0092\n",
      "Epoch 220/300\n",
      "4/4 [==============================] - 0s 2ms/step - loss: 0.0089\n",
      "Epoch 221/300\n",
      "4/4 [==============================] - 0s 2ms/step - loss: 0.0085\n",
      "Epoch 222/300\n",
      "4/4 [==============================] - 0s 3ms/step - loss: 0.0082\n",
      "Epoch 223/300\n",
      "4/4 [==============================] - 0s 2ms/step - loss: 0.0079\n",
      "Epoch 224/300\n",
      "4/4 [==============================] - 0s 2ms/step - loss: 0.0076\n",
      "Epoch 225/300\n",
      "4/4 [==============================] - 0s 1ms/step - loss: 0.0073\n",
      "Epoch 226/300\n",
      "4/4 [==============================] - 0s 2ms/step - loss: 0.0071\n",
      "Epoch 227/300\n",
      "4/4 [==============================] - 0s 1ms/step - loss: 0.0068\n",
      "Epoch 228/300\n",
      "4/4 [==============================] - 0s 2ms/step - loss: 0.0066\n",
      "Epoch 229/300\n",
      "4/4 [==============================] - 0s 1ms/step - loss: 0.0063\n",
      "Epoch 230/300\n",
      "4/4 [==============================] - 0s 2ms/step - loss: 0.0061\n",
      "Epoch 231/300\n",
      "4/4 [==============================] - 0s 1ms/step - loss: 0.0059\n",
      "Epoch 232/300\n",
      "4/4 [==============================] - 0s 2ms/step - loss: 0.0057\n",
      "Epoch 233/300\n",
      "4/4 [==============================] - 0s 2ms/step - loss: 0.0055\n",
      "Epoch 234/300\n",
      "4/4 [==============================] - 0s 1ms/step - loss: 0.0053\n",
      "Epoch 235/300\n",
      "4/4 [==============================] - 0s 2ms/step - loss: 0.0051\n",
      "Epoch 236/300\n",
      "4/4 [==============================] - 0s 1ms/step - loss: 0.0049\n",
      "Epoch 237/300\n",
      "4/4 [==============================] - 0s 1ms/step - loss: 0.0047\n",
      "Epoch 238/300\n",
      "4/4 [==============================] - 0s 1ms/step - loss: 0.0045\n",
      "Epoch 239/300\n",
      "4/4 [==============================] - 0s 2ms/step - loss: 0.0043\n",
      "Epoch 240/300\n",
      "4/4 [==============================] - 0s 2ms/step - loss: 0.0041\n",
      "Epoch 241/300\n",
      "4/4 [==============================] - 0s 1ms/step - loss: 0.0040\n",
      "Epoch 242/300\n",
      "4/4 [==============================] - 0s 2ms/step - loss: 0.0038\n",
      "Epoch 243/300\n",
      "4/4 [==============================] - 0s 2ms/step - loss: 0.0036\n",
      "Epoch 244/300\n",
      "4/4 [==============================] - 0s 2ms/step - loss: 0.0035\n",
      "Epoch 245/300\n",
      "4/4 [==============================] - 0s 1ms/step - loss: 0.0034\n",
      "Epoch 246/300\n",
      "4/4 [==============================] - 0s 2ms/step - loss: 0.0032\n",
      "Epoch 247/300\n",
      "4/4 [==============================] - 0s 2ms/step - loss: 0.0031\n",
      "Epoch 248/300\n",
      "4/4 [==============================] - 0s 2ms/step - loss: 0.0030\n",
      "Epoch 249/300\n",
      "4/4 [==============================] - 0s 2ms/step - loss: 0.0029\n",
      "Epoch 250/300\n",
      "4/4 [==============================] - 0s 1ms/step - loss: 0.0028\n",
      "Epoch 251/300\n",
      "4/4 [==============================] - 0s 1ms/step - loss: 0.0027\n",
      "Epoch 252/300\n",
      "4/4 [==============================] - 0s 1ms/step - loss: 0.0025\n",
      "Epoch 253/300\n",
      "4/4 [==============================] - 0s 1ms/step - loss: 0.0024\n",
      "Epoch 254/300\n",
      "4/4 [==============================] - 0s 1ms/step - loss: 0.0023\n",
      "Epoch 255/300\n",
      "4/4 [==============================] - 0s 1ms/step - loss: 0.0022\n",
      "Epoch 256/300\n",
      "4/4 [==============================] - 0s 2ms/step - loss: 0.0022\n",
      "Epoch 257/300\n",
      "4/4 [==============================] - 0s 2ms/step - loss: 0.0021\n",
      "Epoch 258/300\n",
      "4/4 [==============================] - 0s 1ms/step - loss: 0.0020\n",
      "Epoch 259/300\n",
      "4/4 [==============================] - 0s 1ms/step - loss: 0.0019\n",
      "Epoch 260/300\n",
      "4/4 [==============================] - 0s 2ms/step - loss: 0.0018\n",
      "Epoch 261/300\n",
      "4/4 [==============================] - 0s 2ms/step - loss: 0.0017\n",
      "Epoch 262/300\n",
      "4/4 [==============================] - 0s 1ms/step - loss: 0.0017\n",
      "Epoch 263/300\n",
      "4/4 [==============================] - 0s 1ms/step - loss: 0.0016\n",
      "Epoch 264/300\n",
      "4/4 [==============================] - 0s 1ms/step - loss: 0.0015\n",
      "Epoch 265/300\n",
      "4/4 [==============================] - 0s 1ms/step - loss: 0.0015\n",
      "Epoch 266/300\n",
      "4/4 [==============================] - 0s 3ms/step - loss: 0.0014\n",
      "Epoch 267/300\n",
      "4/4 [==============================] - 0s 2ms/step - loss: 0.0013\n",
      "Epoch 268/300\n",
      "4/4 [==============================] - 0s 2ms/step - loss: 0.0013\n",
      "Epoch 269/300\n",
      "4/4 [==============================] - 0s 2ms/step - loss: 0.0012\n",
      "Epoch 270/300\n",
      "4/4 [==============================] - 0s 2ms/step - loss: 0.0012\n",
      "Epoch 271/300\n",
      "4/4 [==============================] - 0s 2ms/step - loss: 0.0011\n",
      "Epoch 272/300\n",
      "4/4 [==============================] - 0s 2ms/step - loss: 0.0011\n",
      "Epoch 273/300\n",
      "4/4 [==============================] - 0s 1ms/step - loss: 0.0010\n",
      "Epoch 274/300\n",
      "4/4 [==============================] - 0s 1ms/step - loss: 9.8559e-04\n",
      "Epoch 275/300\n",
      "4/4 [==============================] - 0s 2ms/step - loss: 9.3728e-04\n",
      "Epoch 276/300\n",
      "4/4 [==============================] - 0s 2ms/step - loss: 8.9753e-04\n",
      "Epoch 277/300\n",
      "4/4 [==============================] - 0s 1ms/step - loss: 8.5974e-04\n",
      "Epoch 278/300\n",
      "4/4 [==============================] - 0s 1ms/step - loss: 8.2192e-04\n",
      "Epoch 279/300\n",
      "4/4 [==============================] - 0s 1ms/step - loss: 7.8717e-04\n",
      "Epoch 280/300\n",
      "4/4 [==============================] - 0s 2ms/step - loss: 7.5469e-04\n",
      "Epoch 281/300\n",
      "4/4 [==============================] - 0s 2ms/step - loss: 7.2249e-04\n",
      "Epoch 282/300\n",
      "4/4 [==============================] - 0s 2ms/step - loss: 6.9155e-04\n",
      "Epoch 283/300\n",
      "4/4 [==============================] - 0s 1ms/step - loss: 6.6312e-04\n",
      "Epoch 284/300\n",
      "4/4 [==============================] - 0s 2ms/step - loss: 6.3529e-04\n",
      "Epoch 285/300\n",
      "4/4 [==============================] - 0s 2ms/step - loss: 6.0650e-04\n",
      "Epoch 286/300\n",
      "4/4 [==============================] - 0s 3ms/step - loss: 5.7983e-04\n",
      "Epoch 287/300\n",
      "4/4 [==============================] - 0s 2ms/step - loss: 5.5265e-04\n",
      "Epoch 288/300\n",
      "4/4 [==============================] - 0s 2ms/step - loss: 5.2607e-04\n",
      "Epoch 289/300\n",
      "4/4 [==============================] - 0s 1ms/step - loss: 5.0076e-04\n",
      "Epoch 290/300\n",
      "4/4 [==============================] - 0s 2ms/step - loss: 4.7769e-04\n",
      "Epoch 291/300\n",
      "4/4 [==============================] - 0s 2ms/step - loss: 4.5603e-04\n",
      "Epoch 292/300\n",
      "4/4 [==============================] - 0s 1ms/step - loss: 4.3734e-04\n",
      "Epoch 293/300\n",
      "4/4 [==============================] - 0s 2ms/step - loss: 4.1763e-04\n",
      "Epoch 294/300\n",
      "4/4 [==============================] - 0s 2ms/step - loss: 3.9856e-04\n",
      "Epoch 295/300\n",
      "4/4 [==============================] - 0s 1ms/step - loss: 3.8057e-04\n",
      "Epoch 296/300\n",
      "4/4 [==============================] - 0s 2ms/step - loss: 3.6482e-04\n",
      "Epoch 297/300\n",
      "4/4 [==============================] - 0s 2ms/step - loss: 3.4743e-04\n",
      "Epoch 298/300\n",
      "4/4 [==============================] - 0s 1ms/step - loss: 3.3280e-04\n",
      "Epoch 299/300\n",
      "4/4 [==============================] - 0s 1ms/step - loss: 3.1804e-04\n",
      "Epoch 300/300\n",
      "4/4 [==============================] - 0s 2ms/step - loss: 3.0345e-04\n",
      "\n",
      "추정 결과 :\n",
      "w1 = 2.00\n",
      "w2 = 3.00\n",
      "b = 4.97\n"
     ]
    },
    {
     "data": {
      "image/png": "[encoded data removed]",
      "text/plain": [
       "<Figure size 432x288 with 1 Axes>"
      ]
     },
     "metadata": {
      "needs_background": "light"
     },
     "output_type": "display_data"
    }
   ],
   "source": [
    "from tensorflow.keras.layers import Dense\n",
    "from tensorflow.keras.models import Sequential\n",
    "from tensorflow.keras import optimizers\n",
    "import numpy as np\n",
    "import matplotlib.pyplot as plt\n",
    "\n",
    "# y = 2x^2 + 3x + 5 일 때 x, y 집합을 생성한다\n",
    "x = np.array(np.arange(-5, 5, 0.1))\n",
    "y = 2 * x * x + 3 * x + 5\n",
    "dataX = np.stack([x*x, x]).T\n",
    "\n",
    "# 그래프를 생성한다.\n",
    "model = Sequential()\n",
    "model.add(Dense(1, input_dim = 2))\n",
    "model.compile(loss='mse',optimizer=optimizers.Adam(learning_rate=0.05))\n",
    "\n",
    "h=model.fit(dataX, y, epochs = 300)\n",
    "\n",
    "# 학습 결과를 확인한다.\n",
    "parameters = model.layers[0].get_weights()\n",
    "print(\"\\n추정 결과 :\")\n",
    "print(\"w1 = %.2f\" % parameters[0][0][0])\n",
    "print(\"w2 = %.2f\" % parameters[0][1][0])\n",
    "print(\"b = %.2f\" % parameters[1][0])\n",
    "\n",
    "plt.plot(h.history['loss'], color='red', linewidth=1)\n",
    "plt.title(\"Loss function\")\n",
    "plt.xlabel(\"epoch\")\n",
    "plt.ylabel(\"loss\")\n",
    "plt.show()"
   ]
  },
  {
   "cell_type": "code",
   "execution_count": null,
   "metadata": {
    "id": "JRSj_kYqUVZB"
   },
   "outputs": [],
   "source": [
    "## Functional API - 다른 방식으로 해보라는 의미"
   ]
  },
  {
   "cell_type": "code",
   "execution_count": null,
   "metadata": {
    "colab": {
     "base_uri": "https://localhost:8080/",
     "height": 1000
    },
    "executionInfo": {
     "elapsed": 7294,
     "status": "ok",
     "timestamp": 1626304896353,
     "user": {
      "displayName": "홍경수",
      "photoUrl": "",
      "userId": "10514684854108920109"
     },
     "user_tz": -540
    },
    "id": "GreHY69KUVZB",
    "outputId": "22587bbb-cfa2-4f39-97e8-c5d468cbdab5"
   },
   "outputs": [
    {
     "name": "stderr",
     "output_type": "stream",
     "text": [
      "/usr/local/lib/python3.7/dist-packages/tensorflow/python/keras/optimizer_v2/optimizer_v2.py:375: UserWarning: The `lr` argument is deprecated, use `learning_rate` instead.\n",
      "  \"The `lr` argument is deprecated, use `learning_rate` instead.\")\n"
     ]
    },
    {
     "name": "stdout",
     "output_type": "stream",
     "text": [
      "Epoch 1/300\n",
      "10/10 [==============================] - 0s 2ms/step - loss: 418.1307\n",
      "Epoch 2/300\n",
      "10/10 [==============================] - 0s 1ms/step - loss: 223.5322\n",
      "Epoch 3/300\n",
      "10/10 [==============================] - 0s 1ms/step - loss: 111.3737\n",
      "Epoch 4/300\n",
      "10/10 [==============================] - 0s 1ms/step - loss: 49.5991\n",
      "Epoch 5/300\n",
      "10/10 [==============================] - 0s 1ms/step - loss: 29.5293\n",
      "Epoch 6/300\n",
      "10/10 [==============================] - 0s 1ms/step - loss: 19.1584\n",
      "Epoch 7/300\n",
      "10/10 [==============================] - 0s 1ms/step - loss: 13.7161\n",
      "Epoch 8/300\n",
      "10/10 [==============================] - 0s 2ms/step - loss: 9.4509\n",
      "Epoch 9/300\n",
      "10/10 [==============================] - 0s 2ms/step - loss: 6.5463\n",
      "Epoch 10/300\n",
      "10/10 [==============================] - 0s 2ms/step - loss: 4.8736\n",
      "Epoch 11/300\n",
      "10/10 [==============================] - 0s 1ms/step - loss: 3.9100\n",
      "Epoch 12/300\n",
      "10/10 [==============================] - 0s 1ms/step - loss: 3.2874\n",
      "Epoch 13/300\n",
      "10/10 [==============================] - 0s 1ms/step - loss: 2.8822\n",
      "Epoch 14/300\n",
      "10/10 [==============================] - 0s 1ms/step - loss: 2.6141\n",
      "Epoch 15/300\n",
      "10/10 [==============================] - 0s 1ms/step - loss: 2.3827\n",
      "Epoch 16/300\n",
      "10/10 [==============================] - 0s 1ms/step - loss: 2.1906\n",
      "Epoch 17/300\n",
      "10/10 [==============================] - 0s 2ms/step - loss: 2.0083\n",
      "Epoch 18/300\n",
      "10/10 [==============================] - 0s 1ms/step - loss: 1.8470\n",
      "Epoch 19/300\n",
      "10/10 [==============================] - 0s 2ms/step - loss: 1.6897\n",
      "Epoch 20/300\n",
      "10/10 [==============================] - 0s 2ms/step - loss: 1.5456\n",
      "Epoch 21/300\n",
      "10/10 [==============================] - 0s 2ms/step - loss: 1.4049\n",
      "Epoch 22/300\n",
      "10/10 [==============================] - 0s 2ms/step - loss: 1.2768\n",
      "Epoch 23/300\n",
      "10/10 [==============================] - 0s 2ms/step - loss: 1.1627\n",
      "Epoch 24/300\n",
      "10/10 [==============================] - 0s 2ms/step - loss: 1.0444\n",
      "Epoch 25/300\n",
      "10/10 [==============================] - 0s 1ms/step - loss: 0.9488\n",
      "Epoch 26/300\n",
      "10/10 [==============================] - 0s 2ms/step - loss: 0.8510\n",
      "Epoch 27/300\n",
      "10/10 [==============================] - 0s 2ms/step - loss: 0.7657\n",
      "Epoch 28/300\n",
      "10/10 [==============================] - 0s 2ms/step - loss: 0.6835\n",
      "Epoch 29/300\n",
      "10/10 [==============================] - 0s 2ms/step - loss: 0.6090\n",
      "Epoch 30/300\n",
      "10/10 [==============================] - 0s 2ms/step - loss: 0.5451\n",
      "Epoch 31/300\n",
      "10/10 [==============================] - 0s 2ms/step - loss: 0.4856\n",
      "Epoch 32/300\n",
      "10/10 [==============================] - 0s 2ms/step - loss: 0.4273\n",
      "Epoch 33/300\n",
      "10/10 [==============================] - 0s 2ms/step - loss: 0.3795\n",
      "Epoch 34/300\n",
      "10/10 [==============================] - 0s 2ms/step - loss: 0.3347\n",
      "Epoch 35/300\n",
      "10/10 [==============================] - 0s 1ms/step - loss: 0.2945\n",
      "Epoch 36/300\n",
      "10/10 [==============================] - 0s 2ms/step - loss: 0.2611\n",
      "Epoch 37/300\n",
      "10/10 [==============================] - 0s 1ms/step - loss: 0.2264\n",
      "Epoch 38/300\n",
      "10/10 [==============================] - 0s 2ms/step - loss: 0.1995\n",
      "Epoch 39/300\n",
      "10/10 [==============================] - 0s 1ms/step - loss: 0.1727\n",
      "Epoch 40/300\n",
      "10/10 [==============================] - 0s 2ms/step - loss: 0.1504\n",
      "Epoch 41/300\n",
      "10/10 [==============================] - 0s 2ms/step - loss: 0.1308\n",
      "Epoch 42/300\n",
      "10/10 [==============================] - 0s 2ms/step - loss: 0.1134\n",
      "Epoch 43/300\n",
      "10/10 [==============================] - 0s 2ms/step - loss: 0.0978\n",
      "Epoch 44/300\n",
      "10/10 [==============================] - 0s 1ms/step - loss: 0.0847\n",
      "Epoch 45/300\n",
      "10/10 [==============================] - 0s 1ms/step - loss: 0.0728\n",
      "Epoch 46/300\n",
      "10/10 [==============================] - 0s 2ms/step - loss: 0.0624\n",
      "Epoch 47/300\n",
      "10/10 [==============================] - 0s 2ms/step - loss: 0.0534\n",
      "Epoch 48/300\n",
      "10/10 [==============================] - 0s 2ms/step - loss: 0.0457\n",
      "Epoch 49/300\n",
      "10/10 [==============================] - 0s 2ms/step - loss: 0.0392\n",
      "Epoch 50/300\n",
      "10/10 [==============================] - 0s 1ms/step - loss: 0.0331\n",
      "Epoch 51/300\n",
      "10/10 [==============================] - 0s 2ms/step - loss: 0.0281\n",
      "Epoch 52/300\n",
      "10/10 [==============================] - 0s 2ms/step - loss: 0.0237\n",
      "Epoch 53/300\n",
      "10/10 [==============================] - 0s 2ms/step - loss: 0.0202\n",
      "Epoch 54/300\n",
      "10/10 [==============================] - 0s 2ms/step - loss: 0.0169\n",
      "Epoch 55/300\n",
      "10/10 [==============================] - 0s 1ms/step - loss: 0.0143\n",
      "Epoch 56/300\n",
      "10/10 [==============================] - 0s 2ms/step - loss: 0.0120\n",
      "Epoch 57/300\n",
      "10/10 [==============================] - 0s 2ms/step - loss: 0.0101\n",
      "Epoch 58/300\n",
      "10/10 [==============================] - 0s 1ms/step - loss: 0.0084\n",
      "Epoch 59/300\n",
      "10/10 [==============================] - 0s 1ms/step - loss: 0.0070\n",
      "Epoch 60/300\n",
      "10/10 [==============================] - 0s 1ms/step - loss: 0.0059\n",
      "Epoch 61/300\n",
      "10/10 [==============================] - 0s 2ms/step - loss: 0.0048\n",
      "Epoch 62/300\n",
      "10/10 [==============================] - 0s 2ms/step - loss: 0.0040\n",
      "Epoch 63/300\n",
      "10/10 [==============================] - 0s 2ms/step - loss: 0.0033\n",
      "Epoch 64/300\n",
      "10/10 [==============================] - 0s 1ms/step - loss: 0.0027\n",
      "Epoch 65/300\n",
      "10/10 [==============================] - 0s 2ms/step - loss: 0.0022\n",
      "Epoch 66/300\n",
      "10/10 [==============================] - 0s 2ms/step - loss: 0.0018\n",
      "Epoch 67/300\n",
      "10/10 [==============================] - 0s 2ms/step - loss: 0.0015\n",
      "Epoch 68/300\n",
      "10/10 [==============================] - 0s 2ms/step - loss: 0.0012\n",
      "Epoch 69/300\n",
      "10/10 [==============================] - 0s 2ms/step - loss: 9.9246e-04\n",
      "Epoch 70/300\n",
      "10/10 [==============================] - 0s 2ms/step - loss: 8.0658e-04\n",
      "Epoch 71/300\n",
      "10/10 [==============================] - 0s 2ms/step - loss: 6.5239e-04\n",
      "Epoch 72/300\n",
      "10/10 [==============================] - 0s 2ms/step - loss: 5.3491e-04\n",
      "Epoch 73/300\n",
      "10/10 [==============================] - 0s 2ms/step - loss: 4.2659e-04\n",
      "Epoch 74/300\n",
      "10/10 [==============================] - 0s 2ms/step - loss: 3.4351e-04\n",
      "Epoch 75/300\n",
      "10/10 [==============================] - 0s 2ms/step - loss: 2.7827e-04\n",
      "Epoch 76/300\n",
      "10/10 [==============================] - 0s 2ms/step - loss: 2.2218e-04\n",
      "Epoch 77/300\n",
      "10/10 [==============================] - 0s 2ms/step - loss: 1.7606e-04\n",
      "Epoch 78/300\n",
      "10/10 [==============================] - 0s 2ms/step - loss: 1.4056e-04\n",
      "Epoch 79/300\n",
      "10/10 [==============================] - 0s 2ms/step - loss: 1.1292e-04\n",
      "Epoch 80/300\n",
      "10/10 [==============================] - 0s 2ms/step - loss: 8.8597e-05\n",
      "Epoch 81/300\n",
      "10/10 [==============================] - 0s 2ms/step - loss: 7.0738e-05\n",
      "Epoch 82/300\n",
      "10/10 [==============================] - 0s 2ms/step - loss: 5.5340e-05\n",
      "Epoch 83/300\n",
      "10/10 [==============================] - 0s 2ms/step - loss: 4.4264e-05\n",
      "Epoch 84/300\n",
      "10/10 [==============================] - 0s 2ms/step - loss: 3.4680e-05\n",
      "Epoch 85/300\n",
      "10/10 [==============================] - 0s 2ms/step - loss: 2.7034e-05\n",
      "Epoch 86/300\n",
      "10/10 [==============================] - 0s 2ms/step - loss: 2.1085e-05\n",
      "Epoch 87/300\n",
      "10/10 [==============================] - 0s 2ms/step - loss: 1.6509e-05\n",
      "Epoch 88/300\n",
      "10/10 [==============================] - 0s 2ms/step - loss: 1.2798e-05\n",
      "Epoch 89/300\n",
      "10/10 [==============================] - 0s 2ms/step - loss: 9.9372e-06\n",
      "Epoch 90/300\n",
      "10/10 [==============================] - 0s 2ms/step - loss: 7.6793e-06\n",
      "Epoch 91/300\n",
      "10/10 [==============================] - 0s 1ms/step - loss: 5.8895e-06\n",
      "Epoch 92/300\n",
      "10/10 [==============================] - 0s 2ms/step - loss: 4.5611e-06\n",
      "Epoch 93/300\n",
      "10/10 [==============================] - 0s 2ms/step - loss: 3.5418e-06\n",
      "Epoch 94/300\n",
      "10/10 [==============================] - 0s 2ms/step - loss: 2.7146e-06\n",
      "Epoch 95/300\n",
      "10/10 [==============================] - 0s 2ms/step - loss: 2.0599e-06\n",
      "Epoch 96/300\n",
      "10/10 [==============================] - 0s 2ms/step - loss: 1.5690e-06\n",
      "Epoch 97/300\n",
      "10/10 [==============================] - 0s 2ms/step - loss: 1.2017e-06\n",
      "Epoch 98/300\n",
      "10/10 [==============================] - 0s 2ms/step - loss: 9.1575e-07\n",
      "Epoch 99/300\n",
      "10/10 [==============================] - 0s 2ms/step - loss: 6.8175e-07\n",
      "Epoch 100/300\n",
      "10/10 [==============================] - 0s 2ms/step - loss: 5.1776e-07\n",
      "Epoch 101/300\n",
      "10/10 [==============================] - 0s 2ms/step - loss: 3.8593e-07\n",
      "Epoch 102/300\n",
      "10/10 [==============================] - 0s 2ms/step - loss: 2.9414e-07\n",
      "Epoch 103/300\n",
      "10/10 [==============================] - 0s 2ms/step - loss: 2.1991e-07\n",
      "Epoch 104/300\n",
      "10/10 [==============================] - 0s 2ms/step - loss: 1.6487e-07\n",
      "Epoch 105/300\n",
      "10/10 [==============================] - 0s 2ms/step - loss: 1.2167e-07\n",
      "Epoch 106/300\n",
      "10/10 [==============================] - 0s 2ms/step - loss: 8.8720e-08\n",
      "Epoch 107/300\n",
      "10/10 [==============================] - 0s 2ms/step - loss: 6.7038e-08\n",
      "Epoch 108/300\n",
      "10/10 [==============================] - 0s 2ms/step - loss: 4.9033e-08\n",
      "Epoch 109/300\n",
      "10/10 [==============================] - 0s 2ms/step - loss: 3.6264e-08\n",
      "Epoch 110/300\n",
      "10/10 [==============================] - 0s 2ms/step - loss: 2.6478e-08\n",
      "Epoch 111/300\n",
      "10/10 [==============================] - 0s 2ms/step - loss: 1.9423e-08\n",
      "Epoch 112/300\n",
      "10/10 [==============================] - 0s 2ms/step - loss: 1.4095e-08\n",
      "Epoch 113/300\n",
      "10/10 [==============================] - 0s 1ms/step - loss: 1.0619e-08\n",
      "Epoch 114/300\n",
      "10/10 [==============================] - 0s 2ms/step - loss: 7.5807e-09\n",
      "Epoch 115/300\n",
      "10/10 [==============================] - 0s 2ms/step - loss: 5.4933e-09\n",
      "Epoch 116/300\n",
      "10/10 [==============================] - 0s 2ms/step - loss: 4.0121e-09\n",
      "Epoch 117/300\n",
      "10/10 [==============================] - 0s 2ms/step - loss: 2.8665e-09\n",
      "Epoch 118/300\n",
      "10/10 [==============================] - 0s 2ms/step - loss: 2.0951e-09\n",
      "Epoch 119/300\n",
      "10/10 [==============================] - 0s 2ms/step - loss: 1.5464e-09\n",
      "Epoch 120/300\n",
      "10/10 [==============================] - 0s 1ms/step - loss: 1.0871e-09\n",
      "Epoch 121/300\n",
      "10/10 [==============================] - 0s 2ms/step - loss: 7.6173e-10\n",
      "Epoch 122/300\n",
      "10/10 [==============================] - 0s 1ms/step - loss: 5.9742e-10\n",
      "Epoch 123/300\n",
      "10/10 [==============================] - 0s 2ms/step - loss: 4.3636e-10\n",
      "Epoch 124/300\n",
      "10/10 [==============================] - 0s 2ms/step - loss: 3.1429e-10\n",
      "Epoch 125/300\n",
      "10/10 [==============================] - 0s 2ms/step - loss: 2.3195e-10\n",
      "Epoch 126/300\n",
      "10/10 [==============================] - 0s 2ms/step - loss: 1.5818e-10\n",
      "Epoch 127/300\n",
      "10/10 [==============================] - 0s 2ms/step - loss: 8.8781e-11\n",
      "Epoch 128/300\n",
      "10/10 [==============================] - 0s 3ms/step - loss: 7.9690e-11\n",
      "Epoch 129/300\n",
      "10/10 [==============================] - 0s 2ms/step - loss: 7.9690e-11\n",
      "Epoch 130/300\n",
      "10/10 [==============================] - 0s 1ms/step - loss: 7.9690e-11\n",
      "Epoch 131/300\n",
      "10/10 [==============================] - 0s 3ms/step - loss: 7.9690e-11\n",
      "Epoch 132/300\n",
      "10/10 [==============================] - 0s 2ms/step - loss: 7.9690e-11\n",
      "Epoch 133/300\n",
      "10/10 [==============================] - 0s 2ms/step - loss: 7.9690e-11\n",
      "Epoch 134/300\n",
      "10/10 [==============================] - 0s 2ms/step - loss: 7.9690e-11\n",
      "Epoch 135/300\n",
      "10/10 [==============================] - 0s 2ms/step - loss: 7.9690e-11\n",
      "Epoch 136/300\n",
      "10/10 [==============================] - 0s 2ms/step - loss: 7.9690e-11\n",
      "Epoch 137/300\n",
      "10/10 [==============================] - 0s 2ms/step - loss: 7.9690e-11\n",
      "Epoch 138/300\n",
      "10/10 [==============================] - 0s 2ms/step - loss: 7.9690e-11\n",
      "Epoch 139/300\n",
      "10/10 [==============================] - 0s 2ms/step - loss: 7.9690e-11\n",
      "Epoch 140/300\n",
      "10/10 [==============================] - 0s 2ms/step - loss: 7.9690e-11\n",
      "Epoch 141/300\n",
      "10/10 [==============================] - 0s 1ms/step - loss: 7.9690e-11\n",
      "Epoch 142/300\n",
      "10/10 [==============================] - 0s 2ms/step - loss: 7.9690e-11\n",
      "Epoch 143/300\n",
      "10/10 [==============================] - 0s 1ms/step - loss: 7.9690e-11\n",
      "Epoch 144/300\n",
      "10/10 [==============================] - 0s 2ms/step - loss: 7.9690e-11\n",
      "Epoch 145/300\n",
      "10/10 [==============================] - 0s 2ms/step - loss: 7.9690e-11\n",
      "Epoch 146/300\n",
      "10/10 [==============================] - 0s 2ms/step - loss: 7.9690e-11\n",
      "Epoch 147/300\n",
      "10/10 [==============================] - 0s 2ms/step - loss: 7.9690e-11\n",
      "Epoch 148/300\n",
      "10/10 [==============================] - 0s 2ms/step - loss: 7.9690e-11\n",
      "Epoch 149/300\n",
      "10/10 [==============================] - 0s 1ms/step - loss: 7.9690e-11\n",
      "Epoch 150/300\n",
      "10/10 [==============================] - 0s 2ms/step - loss: 7.9690e-11\n",
      "Epoch 151/300\n",
      "10/10 [==============================] - 0s 2ms/step - loss: 7.9690e-11\n",
      "Epoch 152/300\n",
      "10/10 [==============================] - 0s 2ms/step - loss: 7.9690e-11\n",
      "Epoch 153/300\n",
      "10/10 [==============================] - 0s 2ms/step - loss: 7.9690e-11\n",
      "Epoch 154/300\n",
      "10/10 [==============================] - 0s 2ms/step - loss: 7.9690e-11\n",
      "Epoch 155/300\n",
      "10/10 [==============================] - 0s 2ms/step - loss: 7.9690e-11\n",
      "Epoch 156/300\n",
      "10/10 [==============================] - 0s 2ms/step - loss: 7.9690e-11\n",
      "Epoch 157/300\n",
      "10/10 [==============================] - 0s 1ms/step - loss: 7.9690e-11\n",
      "Epoch 158/300\n",
      "10/10 [==============================] - 0s 1ms/step - loss: 7.9690e-11\n",
      "Epoch 159/300\n",
      "10/10 [==============================] - 0s 2ms/step - loss: 7.9690e-11\n",
      "Epoch 160/300\n",
      "10/10 [==============================] - 0s 2ms/step - loss: 7.9690e-11\n",
      "Epoch 161/300\n",
      "10/10 [==============================] - 0s 2ms/step - loss: 7.4081e-11\n",
      "Epoch 162/300\n",
      "10/10 [==============================] - 0s 2ms/step - loss: 6.7708e-11\n",
      "Epoch 163/300\n",
      "10/10 [==============================] - 0s 2ms/step - loss: 6.7708e-11\n",
      "Epoch 164/300\n",
      "10/10 [==============================] - 0s 2ms/step - loss: 6.7708e-11\n",
      "Epoch 165/300\n",
      "10/10 [==============================] - 0s 2ms/step - loss: 6.7708e-11\n",
      "Epoch 166/300\n",
      "10/10 [==============================] - 0s 2ms/step - loss: 6.7708e-11\n",
      "Epoch 167/300\n",
      "10/10 [==============================] - 0s 2ms/step - loss: 6.7708e-11\n",
      "Epoch 168/300\n",
      "10/10 [==============================] - 0s 2ms/step - loss: 6.7708e-11\n",
      "Epoch 169/300\n",
      "10/10 [==============================] - 0s 1ms/step - loss: 6.7708e-11\n",
      "Epoch 170/300\n",
      "10/10 [==============================] - 0s 2ms/step - loss: 6.7708e-11\n",
      "Epoch 171/300\n",
      "10/10 [==============================] - 0s 1ms/step - loss: 6.7708e-11\n",
      "Epoch 172/300\n",
      "10/10 [==============================] - 0s 2ms/step - loss: 6.7708e-11\n",
      "Epoch 173/300\n",
      "10/10 [==============================] - 0s 1ms/step - loss: 6.7708e-11\n",
      "Epoch 174/300\n",
      "10/10 [==============================] - 0s 1ms/step - loss: 6.7708e-11\n",
      "Epoch 175/300\n",
      "10/10 [==============================] - 0s 1ms/step - loss: 6.7708e-11\n",
      "Epoch 176/300\n",
      "10/10 [==============================] - 0s 2ms/step - loss: 6.7708e-11\n",
      "Epoch 177/300\n",
      "10/10 [==============================] - 0s 2ms/step - loss: 6.7708e-11\n",
      "Epoch 178/300\n",
      "10/10 [==============================] - 0s 2ms/step - loss: 6.7708e-11\n",
      "Epoch 179/300\n",
      "10/10 [==============================] - 0s 2ms/step - loss: 6.7708e-11\n",
      "Epoch 180/300\n",
      "10/10 [==============================] - 0s 1ms/step - loss: 6.7708e-11\n",
      "Epoch 181/300\n",
      "10/10 [==============================] - 0s 2ms/step - loss: 6.7708e-11\n",
      "Epoch 182/300\n",
      "10/10 [==============================] - 0s 2ms/step - loss: 6.7708e-11\n",
      "Epoch 183/300\n",
      "10/10 [==============================] - 0s 2ms/step - loss: 6.7708e-11\n",
      "Epoch 184/300\n",
      "10/10 [==============================] - 0s 2ms/step - loss: 6.7708e-11\n",
      "Epoch 185/300\n",
      "10/10 [==============================] - 0s 2ms/step - loss: 6.7708e-11\n",
      "Epoch 186/300\n",
      "10/10 [==============================] - 0s 2ms/step - loss: 6.7708e-11\n",
      "Epoch 187/300\n",
      "10/10 [==============================] - 0s 1ms/step - loss: 6.7708e-11\n",
      "Epoch 188/300\n",
      "10/10 [==============================] - 0s 2ms/step - loss: 6.6439e-11\n",
      "Epoch 189/300\n",
      "10/10 [==============================] - 0s 2ms/step - loss: 6.5210e-11\n",
      "Epoch 190/300\n",
      "10/10 [==============================] - 0s 2ms/step - loss: 4.8926e-11\n",
      "Epoch 191/300\n",
      "10/10 [==============================] - 0s 2ms/step - loss: 4.3212e-11\n",
      "Epoch 192/300\n",
      "10/10 [==============================] - 0s 1ms/step - loss: 4.3212e-11\n",
      "Epoch 193/300\n",
      "10/10 [==============================] - 0s 2ms/step - loss: 4.3212e-11\n",
      "Epoch 194/300\n",
      "10/10 [==============================] - 0s 2ms/step - loss: 4.3212e-11\n",
      "Epoch 195/300\n",
      "10/10 [==============================] - 0s 2ms/step - loss: 4.3212e-11\n",
      "Epoch 196/300\n",
      "10/10 [==============================] - 0s 2ms/step - loss: 4.3212e-11\n",
      "Epoch 197/300\n",
      "10/10 [==============================] - 0s 3ms/step - loss: 4.3212e-11\n",
      "Epoch 198/300\n",
      "10/10 [==============================] - 0s 1ms/step - loss: 4.3212e-11\n",
      "Epoch 199/300\n",
      "10/10 [==============================] - 0s 2ms/step - loss: 4.3212e-11\n",
      "Epoch 200/300\n",
      "10/10 [==============================] - 0s 1ms/step - loss: 4.3212e-11\n",
      "Epoch 201/300\n",
      "10/10 [==============================] - 0s 2ms/step - loss: 4.3212e-11\n",
      "Epoch 202/300\n",
      "10/10 [==============================] - 0s 2ms/step - loss: 4.3212e-11\n",
      "Epoch 203/300\n",
      "10/10 [==============================] - 0s 2ms/step - loss: 4.3212e-11\n",
      "Epoch 204/300\n",
      "10/10 [==============================] - 0s 2ms/step - loss: 4.3212e-11\n",
      "Epoch 205/300\n",
      "10/10 [==============================] - 0s 2ms/step - loss: 4.3212e-11\n",
      "Epoch 206/300\n",
      "10/10 [==============================] - 0s 2ms/step - loss: 4.3212e-11\n",
      "Epoch 207/300\n",
      "10/10 [==============================] - 0s 2ms/step - loss: 4.3212e-11\n",
      "Epoch 208/300\n",
      "10/10 [==============================] - 0s 2ms/step - loss: 4.3212e-11\n",
      "Epoch 209/300\n",
      "10/10 [==============================] - 0s 2ms/step - loss: 4.3212e-11\n",
      "Epoch 210/300\n",
      "10/10 [==============================] - 0s 2ms/step - loss: 4.3212e-11\n",
      "Epoch 211/300\n",
      "10/10 [==============================] - 0s 2ms/step - loss: 4.3212e-11\n",
      "Epoch 212/300\n",
      "10/10 [==============================] - 0s 2ms/step - loss: 4.4473e-11\n",
      "Epoch 213/300\n",
      "10/10 [==============================] - 0s 2ms/step - loss: 2.6391e-11\n",
      "Epoch 214/300\n",
      "10/10 [==============================] - 0s 2ms/step - loss: 2.1116e-11\n",
      "Epoch 215/300\n",
      "10/10 [==============================] - 0s 2ms/step - loss: 2.1116e-11\n",
      "Epoch 216/300\n",
      "10/10 [==============================] - 0s 2ms/step - loss: 2.1116e-11\n",
      "Epoch 217/300\n",
      "10/10 [==============================] - 0s 2ms/step - loss: 2.1116e-11\n",
      "Epoch 218/300\n",
      "10/10 [==============================] - 0s 1ms/step - loss: 2.1116e-11\n",
      "Epoch 219/300\n",
      "10/10 [==============================] - 0s 3ms/step - loss: 2.1116e-11\n",
      "Epoch 220/300\n",
      "10/10 [==============================] - 0s 1ms/step - loss: 2.1116e-11\n",
      "Epoch 221/300\n",
      "10/10 [==============================] - 0s 1ms/step - loss: 2.1116e-11\n",
      "Epoch 222/300\n",
      "10/10 [==============================] - 0s 2ms/step - loss: 2.1116e-11\n",
      "Epoch 223/300\n",
      "10/10 [==============================] - 0s 2ms/step - loss: 2.1116e-11\n",
      "Epoch 224/300\n",
      "10/10 [==============================] - 0s 2ms/step - loss: 2.1116e-11\n",
      "Epoch 225/300\n",
      "10/10 [==============================] - 0s 1ms/step - loss: 2.1116e-11\n",
      "Epoch 226/300\n",
      "10/10 [==============================] - 0s 2ms/step - loss: 2.1116e-11\n",
      "Epoch 227/300\n",
      "10/10 [==============================] - 0s 3ms/step - loss: 2.1116e-11\n",
      "Epoch 228/300\n",
      "10/10 [==============================] - 0s 3ms/step - loss: 2.1116e-11\n",
      "Epoch 229/300\n",
      "10/10 [==============================] - 0s 2ms/step - loss: 2.1116e-11\n",
      "Epoch 230/300\n",
      "10/10 [==============================] - 0s 1ms/step - loss: 2.1116e-11\n",
      "Epoch 231/300\n",
      "10/10 [==============================] - 0s 2ms/step - loss: 2.1116e-11\n",
      "Epoch 232/300\n",
      "10/10 [==============================] - 0s 1ms/step - loss: 2.1116e-11\n",
      "Epoch 233/300\n",
      "10/10 [==============================] - 0s 1ms/step - loss: 2.1116e-11\n",
      "Epoch 234/300\n",
      "10/10 [==============================] - 0s 2ms/step - loss: 2.1116e-11\n",
      "Epoch 235/300\n",
      "10/10 [==============================] - 0s 2ms/step - loss: 2.1116e-11\n",
      "Epoch 236/300\n",
      "10/10 [==============================] - 0s 1ms/step - loss: 2.1116e-11\n",
      "Epoch 237/300\n",
      "10/10 [==============================] - 0s 1ms/step - loss: 2.1116e-11\n",
      "Epoch 238/300\n",
      "10/10 [==============================] - 0s 2ms/step - loss: 2.1116e-11\n",
      "Epoch 239/300\n",
      "10/10 [==============================] - 0s 2ms/step - loss: 2.1116e-11\n",
      "Epoch 240/300\n",
      "10/10 [==============================] - 0s 2ms/step - loss: 2.1116e-11\n",
      "Epoch 241/300\n",
      "10/10 [==============================] - 0s 2ms/step - loss: 2.1116e-11\n",
      "Epoch 242/300\n",
      "10/10 [==============================] - 0s 2ms/step - loss: 2.1116e-11\n",
      "Epoch 243/300\n",
      "10/10 [==============================] - 0s 2ms/step - loss: 2.1116e-11\n",
      "Epoch 244/300\n",
      "10/10 [==============================] - 0s 2ms/step - loss: 2.1116e-11\n",
      "Epoch 245/300\n",
      "10/10 [==============================] - 0s 2ms/step - loss: 2.1116e-11\n",
      "Epoch 246/300\n",
      "10/10 [==============================] - 0s 1ms/step - loss: 2.1116e-11\n",
      "Epoch 247/300\n",
      "10/10 [==============================] - 0s 2ms/step - loss: 2.1116e-11\n",
      "Epoch 248/300\n",
      "10/10 [==============================] - 0s 1ms/step - loss: 2.1116e-11\n",
      "Epoch 249/300\n",
      "10/10 [==============================] - 0s 2ms/step - loss: 1.8929e-11\n",
      "Epoch 250/300\n",
      "10/10 [==============================] - 0s 1ms/step - loss: 1.8017e-11\n",
      "Epoch 251/300\n",
      "10/10 [==============================] - 0s 2ms/step - loss: 1.8017e-11\n",
      "Epoch 252/300\n",
      "10/10 [==============================] - 0s 1ms/step - loss: 1.8017e-11\n",
      "Epoch 253/300\n",
      "10/10 [==============================] - 0s 2ms/step - loss: 1.8017e-11\n",
      "Epoch 254/300\n",
      "10/10 [==============================] - 0s 2ms/step - loss: 1.8017e-11\n",
      "Epoch 255/300\n",
      "10/10 [==============================] - 0s 1ms/step - loss: 1.8017e-11\n",
      "Epoch 256/300\n",
      "10/10 [==============================] - 0s 1ms/step - loss: 1.8017e-11\n",
      "Epoch 257/300\n",
      "10/10 [==============================] - 0s 1ms/step - loss: 1.8017e-11\n",
      "Epoch 258/300\n",
      "10/10 [==============================] - 0s 2ms/step - loss: 1.8017e-11\n",
      "Epoch 259/300\n",
      "10/10 [==============================] - 0s 2ms/step - loss: 1.8017e-11\n",
      "Epoch 260/300\n",
      "10/10 [==============================] - 0s 2ms/step - loss: 1.8017e-11\n",
      "Epoch 261/300\n",
      "10/10 [==============================] - 0s 2ms/step - loss: 1.8017e-11\n",
      "Epoch 262/300\n",
      "10/10 [==============================] - 0s 1ms/step - loss: 1.8017e-11\n",
      "Epoch 263/300\n",
      "10/10 [==============================] - 0s 2ms/step - loss: 1.8017e-11\n",
      "Epoch 264/300\n",
      "10/10 [==============================] - 0s 2ms/step - loss: 1.8017e-11\n",
      "Epoch 265/300\n",
      "10/10 [==============================] - 0s 2ms/step - loss: 1.8017e-11\n",
      "Epoch 266/300\n",
      "10/10 [==============================] - 0s 2ms/step - loss: 1.8017e-11\n",
      "Epoch 267/300\n",
      "10/10 [==============================] - 0s 2ms/step - loss: 1.8655e-11\n",
      "Epoch 268/300\n",
      "10/10 [==============================] - 0s 2ms/step - loss: 1.7874e-11\n",
      "Epoch 269/300\n",
      "10/10 [==============================] - 0s 2ms/step - loss: 1.7874e-11\n",
      "Epoch 270/300\n",
      "10/10 [==============================] - 0s 1ms/step - loss: 1.7874e-11\n",
      "Epoch 271/300\n",
      "10/10 [==============================] - 0s 2ms/step - loss: 1.7874e-11\n",
      "Epoch 272/300\n",
      "10/10 [==============================] - 0s 2ms/step - loss: 1.7874e-11\n",
      "Epoch 273/300\n",
      "10/10 [==============================] - 0s 2ms/step - loss: 1.7874e-11\n",
      "Epoch 274/300\n",
      "10/10 [==============================] - 0s 2ms/step - loss: 1.7874e-11\n",
      "Epoch 275/300\n",
      "10/10 [==============================] - 0s 2ms/step - loss: 1.7874e-11\n",
      "Epoch 276/300\n",
      "10/10 [==============================] - 0s 2ms/step - loss: 1.7874e-11\n",
      "Epoch 277/300\n",
      "10/10 [==============================] - 0s 2ms/step - loss: 1.7874e-11\n",
      "Epoch 278/300\n",
      "10/10 [==============================] - 0s 2ms/step - loss: 1.7874e-11\n",
      "Epoch 279/300\n",
      "10/10 [==============================] - 0s 2ms/step - loss: 1.7874e-11\n",
      "Epoch 280/300\n",
      "10/10 [==============================] - 0s 1ms/step - loss: 1.7874e-11\n",
      "Epoch 281/300\n",
      "10/10 [==============================] - 0s 1ms/step - loss: 1.7874e-11\n",
      "Epoch 282/300\n",
      "10/10 [==============================] - 0s 2ms/step - loss: 1.7874e-11\n",
      "Epoch 283/300\n",
      "10/10 [==============================] - 0s 1ms/step - loss: 1.7874e-11\n",
      "Epoch 284/300\n",
      "10/10 [==============================] - 0s 2ms/step - loss: 1.7874e-11\n",
      "Epoch 285/300\n",
      "10/10 [==============================] - 0s 2ms/step - loss: 1.7874e-11\n",
      "Epoch 286/300\n",
      "10/10 [==============================] - 0s 1ms/step - loss: 1.7874e-11\n",
      "Epoch 287/300\n",
      "10/10 [==============================] - 0s 1ms/step - loss: 1.7874e-11\n",
      "Epoch 288/300\n",
      "10/10 [==============================] - 0s 1ms/step - loss: 1.7874e-11\n",
      "Epoch 289/300\n",
      "10/10 [==============================] - 0s 2ms/step - loss: 1.7874e-11\n",
      "Epoch 290/300\n",
      "10/10 [==============================] - 0s 1ms/step - loss: 1.7874e-11\n",
      "Epoch 291/300\n",
      "10/10 [==============================] - 0s 2ms/step - loss: 2.0171e-11\n",
      "Epoch 292/300\n",
      "10/10 [==============================] - 0s 2ms/step - loss: 1.5321e-11\n",
      "Epoch 293/300\n",
      "10/10 [==============================] - 0s 2ms/step - loss: 7.1947e-12\n",
      "Epoch 294/300\n",
      "10/10 [==============================] - 0s 2ms/step - loss: 6.7581e-12\n",
      "Epoch 295/300\n",
      "10/10 [==============================] - 0s 2ms/step - loss: 6.7581e-12\n",
      "Epoch 296/300\n",
      "10/10 [==============================] - 0s 2ms/step - loss: 6.7581e-12\n",
      "Epoch 297/300\n",
      "10/10 [==============================] - 0s 1ms/step - loss: 6.7581e-12\n",
      "Epoch 298/300\n",
      "10/10 [==============================] - 0s 2ms/step - loss: 6.7581e-12\n",
      "Epoch 299/300\n",
      "10/10 [==============================] - 0s 2ms/step - loss: 6.7581e-12\n",
      "Epoch 300/300\n",
      "10/10 [==============================] - 0s 2ms/step - loss: 6.7581e-12\n",
      "\n",
      "추정 결과 :\n",
      "w1 = 2.00\n",
      "w2 = 3.00\n",
      "b = 5.00\n"
     ]
    },
    {
     "data": {
      "image/png": "[encoded data removed]",
      "text/plain": [
       "<Figure size 432x288 with 1 Axes>"
      ]
     },
     "metadata": {
      "needs_background": "light",
      "tags": []
     },
     "output_type": "display_data"
    }
   ],
   "source": [
    "from tensorflow.keras.layers import Input, Dense\n",
    "from tensorflow.keras.models import Model\n",
    "from tensorflow.keras import optimizers\n",
    "import numpy as np\n",
    "import matplotlib.pyplot as plt\n",
    "\n",
    "# y = 2x^2 + 3x + 5 일 때 x, y 집합을 생성한다\n",
    "x = np.array(np.arange(-5, 5, 0.1))\n",
    "y = 2 * x * x + 3 * x + 5\n",
    "dataX = np.stack([x*x, x]).T\n",
    "\n",
    "# 그래프를 생성한다.   \n",
    "\n",
    "\n",
    "# 학습 결과를 확인한다.\n",
    "parameters = model.layers[1].get_weights()\n",
    "print(\"\\n추정 결과 :\")\n",
    "print(\"w1 = %.2f\" % parameters[0][0][0])\n",
    "print(\"w2 = %.2f\" % parameters[0][1][0])\n",
    "print(\"b = %.2f\" % parameters[1][0])\n",
    "\n",
    "plt.plot(h.history['loss'], color='red', linewidth=1)\n",
    "plt.title(\"Loss function\")\n",
    "plt.xlabel(\"epoch\")\n",
    "plt.ylabel(\"loss\")\n",
    "plt.show()"
   ]
  },
  {
   "cell_type": "markdown",
   "metadata": {
    "id": "u5TMzq2QUVZB"
   },
   "source": [
    "# tensorflow 1.4로 iris 분류 ( 과거 논문을 볼때 알아 두면 좋은 코드)"
   ]
  },
  {
   "cell_type": "code",
   "execution_count": 37,
   "metadata": {
    "ExecuteTime": {
     "end_time": "2021-07-19T06:39:39.047429Z",
     "start_time": "2021-07-19T06:39:38.915175Z"
    },
    "colab": {
     "base_uri": "https://localhost:8080/"
    },
    "executionInfo": {
     "elapsed": 8,
     "status": "ok",
     "timestamp": 1626304896354,
     "user": {
      "displayName": "홍경수",
      "photoUrl": "",
      "userId": "10514684854108920109"
     },
     "user_tz": -540
    },
    "id": "Zc5vfrCgUVZB",
    "outputId": "98b3913c-396a-4642-c107-8163f4927a9b"
   },
   "outputs": [
    {
     "name": "stdout",
     "output_type": "stream",
     "text": [
      "WARNING:tensorflow:From /Users/dhkim/miniforge3/envs/nlp/lib/python3.8/site-packages/tensorflow/python/compat/v2_compat.py:96: disable_resource_variables (from tensorflow.python.ops.variable_scope) is deprecated and will be removed in a future version.\n",
      "Instructions for updating:\n",
      "non-resource variables are not supported in the long term\n"
     ]
    }
   ],
   "source": [
    "import tensorflow.compat.v1 as tf\n",
    "tf.disable_v2_behavior()"
   ]
  },
  {
   "cell_type": "code",
   "execution_count": 38,
   "metadata": {
    "ExecuteTime": {
     "end_time": "2021-07-19T06:39:42.074084Z",
     "start_time": "2021-07-19T06:39:41.051922Z"
    },
    "id": "xFB4RXdIUVZC"
   },
   "outputs": [],
   "source": [
    "import numpy as np\n",
    "import pandas as pd\n",
    "from sklearn import datasets"
   ]
  },
  {
   "cell_type": "code",
   "execution_count": 39,
   "metadata": {
    "ExecuteTime": {
     "end_time": "2021-07-19T06:39:42.872899Z",
     "start_time": "2021-07-19T06:39:42.853378Z"
    },
    "id": "59u6ehyDUVZC"
   },
   "outputs": [],
   "source": [
    "iris = datasets.load_iris()\n",
    "iris_X = iris.data\n",
    "iris_y = pd.get_dummies(iris.target).to_numpy()"
   ]
  },
  {
   "cell_type": "code",
   "execution_count": 40,
   "metadata": {
    "ExecuteTime": {
     "end_time": "2021-07-19T06:39:44.044497Z",
     "start_time": "2021-07-19T06:39:43.995136Z"
    },
    "id": "QNaVEl9pUVZC"
   },
   "outputs": [],
   "source": [
    "from sklearn.model_selection import train_test_split\n",
    "train_X, test_X, train_y, test_y = train_test_split(iris_X, iris_y, \n",
    "                                                    test_size=0.3,\n",
    "                                                    random_state=1)"
   ]
  },
  {
   "cell_type": "code",
   "execution_count": 41,
   "metadata": {
    "ExecuteTime": {
     "end_time": "2021-07-19T06:39:45.192272Z",
     "start_time": "2021-07-19T06:39:45.186969Z"
    },
    "id": "XYRgUGfPUVZC"
   },
   "outputs": [],
   "source": [
    "# X와 y를 저장할 변수 선언\n",
    "x = tf.placeholder(tf.float32, [None, 4]) # 변수 수가 4개\n",
    "y = tf.placeholder(tf.float32, [None, 3]) # 분류 클래스 수가 3개"
   ]
  },
  {
   "cell_type": "code",
   "execution_count": 42,
   "metadata": {
    "ExecuteTime": {
     "end_time": "2021-07-19T06:39:53.961682Z",
     "start_time": "2021-07-19T06:39:53.950802Z"
    },
    "id": "8vhbTCe9UVZC"
   },
   "outputs": [],
   "source": [
    "# Weight와 bias를 저장할 변수 선언\n",
    "W = tf.Variable(tf.zeros([4, 3]))\n",
    "b = tf.Variable(tf.zeros([3]))"
   ]
  },
  {
   "cell_type": "code",
   "execution_count": null,
   "metadata": {
    "id": "e55w6XmWUVZD"
   },
   "outputs": [],
   "source": [
    "# 출력을 정의\n",
    "h = tf.nn.softmax(tf.matmul(x, W) + b)"
   ]
  },
  {
   "cell_type": "code",
   "execution_count": null,
   "metadata": {
    "id": "Cw_6BUXwUVZD"
   },
   "outputs": [],
   "source": [
    "# 손실함수 정의\n",
    "cross_entropy = -tf.reduce_sum(y*tf.log(h), reduction_indices=[1])\n",
    "loss = tf.reduce_mean(cross_entropy)"
   ]
  },
  {
   "cell_type": "code",
   "execution_count": null,
   "metadata": {
    "id": "f0woAbdmUVZD"
   },
   "outputs": [],
   "source": [
    "# 학습(훈련) 정의(옵티마이저, 학습률)\n",
    "train = tf.train.GradientDescentOptimizer(0.001).minimize(loss)"
   ]
  },
  {
   "cell_type": "code",
   "execution_count": null,
   "metadata": {
    "id": "I2vcWLkQUVZD"
   },
   "outputs": [],
   "source": [
    "init = tf.global_variables_initializer()"
   ]
  },
  {
   "cell_type": "code",
   "execution_count": null,
   "metadata": {
    "id": "BDS7YO-vUVZD"
   },
   "outputs": [],
   "source": [
    "sess = tf.Session()\n",
    "sess.run(init)"
   ]
  },
  {
   "cell_type": "code",
   "execution_count": null,
   "metadata": {
    "colab": {
     "base_uri": "https://localhost:8080/"
    },
    "executionInfo": {
     "elapsed": 53441,
     "status": "ok",
     "timestamp": 1626304950769,
     "user": {
      "displayName": "홍경수",
      "photoUrl": "",
      "userId": "10514684854108920109"
     },
     "user_tz": -540
    },
    "id": "6j4c7RWYUVZD",
    "outputId": "3e8e3e43-e63e-4a46-cf24-52f5e6f59ba7"
   },
   "outputs": [
    {
     "name": "stdout",
     "output_type": "stream",
     "text": [
      "0 1.0986123\n",
      "10000 0.34161025\n",
      "20000 0.25733852\n",
      "30000 0.21406321\n",
      "40000 0.18752664\n",
      "50000 0.16956551\n",
      "60000 0.15657532\n",
      "70000 0.14672598\n",
      "80000 0.13898851\n",
      "90000 0.13273858\n"
     ]
    }
   ],
   "source": [
    "for i in range(100000):\n",
    "    _, loss_value = sess.run([train, loss], feed_dict={x:train_X, y:train_y})\n",
    "    if i%10000 == 0:\n",
    "        print(i, loss_value)"
   ]
  },
  {
   "cell_type": "code",
   "execution_count": null,
   "metadata": {
    "id": "_1Lkewd6UVZD"
   },
   "outputs": [],
   "source": [
    "correct_prediction = tf.equal(tf.argmax(h, 1), tf.argmax(y, 1))"
   ]
  },
  {
   "cell_type": "code",
   "execution_count": null,
   "metadata": {
    "id": "hBb9CH2aUVZD"
   },
   "outputs": [],
   "source": [
    "accuracy = tf.reduce_mean(tf.cast(correct_prediction, tf.float32))"
   ]
  },
  {
   "cell_type": "code",
   "execution_count": null,
   "metadata": {
    "colab": {
     "base_uri": "https://localhost:8080/"
    },
    "executionInfo": {
     "elapsed": 9,
     "status": "ok",
     "timestamp": 1626304950770,
     "user": {
      "displayName": "홍경수",
      "photoUrl": "",
      "userId": "10514684854108920109"
     },
     "user_tz": -540
    },
    "id": "9RygeGo_UVZD",
    "outputId": "f6804ad6-7ccc-457e-f543-e1d8ad37ed3e"
   },
   "outputs": [
    {
     "name": "stdout",
     "output_type": "stream",
     "text": [
      "0.9777778\n"
     ]
    }
   ],
   "source": [
    "print(sess.run(accuracy, feed_dict={x:test_X, y:test_y}))"
   ]
  },
  {
   "cell_type": "markdown",
   "metadata": {
    "id": "1Cxn9jTFUVZE"
   },
   "source": [
    "# Keras "
   ]
  },
  {
   "cell_type": "code",
   "execution_count": null,
   "metadata": {
    "id": "yY-aZE_6UVZE"
   },
   "outputs": [],
   "source": [
    "import tensorflow as tf"
   ]
  },
  {
   "cell_type": "code",
   "execution_count": null,
   "metadata": {
    "id": "2qXo5Vi0UVZE"
   },
   "outputs": [],
   "source": [
    "# example of a model defined with the sequential api\n",
    "from tensorflow.keras import Sequential\n",
    "from tensorflow.keras.layers import Dense\n",
    "from tensorflow.keras import optimizers"
   ]
  },
  {
   "cell_type": "code",
   "execution_count": null,
   "metadata": {
    "id": "lM8_Vcg8UVZE"
   },
   "outputs": [],
   "source": []
  },
  {
   "cell_type": "code",
   "execution_count": null,
   "metadata": {
    "colab": {
     "base_uri": "https://localhost:8080/"
    },
    "executionInfo": {
     "elapsed": 1263,
     "status": "ok",
     "timestamp": 1626305040074,
     "user": {
      "displayName": "홍경수",
      "photoUrl": "",
      "userId": "10514684854108920109"
     },
     "user_tz": -540
    },
    "id": "Ln6qUZg3UVZE",
    "outputId": "8ddd227e-a47c-465f-df71-26fb09fd7447"
   },
   "outputs": [
    {
     "name": "stdout",
     "output_type": "stream",
     "text": [
      "CPU times: user 3 µs, sys: 0 ns, total: 3 µs\n",
      "Wall time: 5.96 µs\n",
      "Test Accuracy: 0.933\n"
     ]
    },
    {
     "name": "stderr",
     "output_type": "stream",
     "text": [
      "/usr/local/lib/python3.7/dist-packages/tensorflow/python/keras/engine/training.py:2426: UserWarning: `Model.state_updates` will be removed in a future version. This property should not be used in TensorFlow 2.0, as `updates` are applied automatically.\n",
      "  warnings.warn('`Model.state_updates` will be removed in a future version. '\n"
     ]
    }
   ],
   "source": [
    "%time\n"
   ]
  },
  {
   "cell_type": "code",
   "execution_count": null,
   "metadata": {
    "colab": {
     "base_uri": "https://localhost:8080/"
    },
    "executionInfo": {
     "elapsed": 1286,
     "status": "ok",
     "timestamp": 1626305114683,
     "user": {
      "displayName": "홍경수",
      "photoUrl": "",
      "userId": "10514684854108920109"
     },
     "user_tz": -540
    },
    "id": "_T4edekXUVZE",
    "outputId": "58eb44cc-c581-4fae-efaa-482dc6d577d9"
   },
   "outputs": [
    {
     "name": "stdout",
     "output_type": "stream",
     "text": [
      "CPU times: user 3 µs, sys: 0 ns, total: 3 µs\n",
      "Wall time: 5.48 µs\n",
      "Test Accuracy: 1.000\n"
     ]
    },
    {
     "name": "stderr",
     "output_type": "stream",
     "text": [
      "/usr/local/lib/python3.7/dist-packages/tensorflow/python/keras/engine/training.py:2426: UserWarning: `Model.state_updates` will be removed in a future version. This property should not be used in TensorFlow 2.0, as `updates` are applied automatically.\n",
      "  warnings.warn('`Model.state_updates` will be removed in a future version. '\n"
     ]
    }
   ],
   "source": [
    "\n",
    "%time\n"
   ]
  },
  {
   "cell_type": "markdown",
   "metadata": {
    "id": "MgavoEvmUVZE"
   },
   "source": [
    "# Functional API"
   ]
  },
  {
   "cell_type": "code",
   "execution_count": null,
   "metadata": {
    "id": "e4bzvxLVUVZE"
   },
   "outputs": [],
   "source": [
    "i     = Input(shape=(n_features,)) # 입력레이어\n",
    "n     = Dense(10)(i)\n",
    "n     = Dense(8)(n)\n",
    "o     = Dense(3, activation='softmax')(n) # 출력레이어\n",
    "model = Model(inputs=i, outputs=o) # 모델을 만든다"
   ]
  },
  {
   "cell_type": "code",
   "execution_count": null,
   "metadata": {
    "colab": {
     "base_uri": "https://localhost:8080/"
    },
    "executionInfo": {
     "elapsed": 1432,
     "status": "ok",
     "timestamp": 1626305121456,
     "user": {
      "displayName": "홍경수",
      "photoUrl": "",
      "userId": "10514684854108920109"
     },
     "user_tz": -540
    },
    "id": "OmqFs2PIUVZF",
    "outputId": "f144b072-cead-4ba0-8cf1-0dc4747e67d6"
   },
   "outputs": [
    {
     "name": "stdout",
     "output_type": "stream",
     "text": [
      "CPU times: user 4 µs, sys: 0 ns, total: 4 µs\n",
      "Wall time: 7.63 µs\n",
      "Test Accuracy: 1.000\n"
     ]
    },
    {
     "name": "stderr",
     "output_type": "stream",
     "text": [
      "/usr/local/lib/python3.7/dist-packages/tensorflow/python/keras/engine/training.py:2426: UserWarning: `Model.state_updates` will be removed in a future version. This property should not be used in TensorFlow 2.0, as `updates` are applied automatically.\n",
      "  warnings.warn('`Model.state_updates` will be removed in a future version. '\n"
     ]
    }
   ],
   "source": [
    "%time\n"
   ]
  },
  {
   "cell_type": "code",
   "execution_count": null,
   "metadata": {
    "id": "D0PmC2C5UVZF"
   },
   "outputs": [],
   "source": []
  }
 ],
 "metadata": {
  "colab": {
   "collapsed_sections": [],
   "name": "3. Tensorflow & Keras.ipynb",
   "provenance": []
  },
  "kernelspec": {
   "display_name": "Python 3",
   "language": "python",
   "name": "python3"
  },
  "language_info": {
   "codemirror_mode": {
    "name": "ipython",
    "version": 3
   },
   "file_extension": ".py",
   "mimetype": "text/x-python",
   "name": "python",
   "nbconvert_exporter": "python",
   "pygments_lexer": "ipython3",
   "version": "3.8.10"
  }
 },
 "nbformat": 4,
 "nbformat_minor": 1
}
