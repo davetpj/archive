{
 "cells": [
  {
   "cell_type": "code",
   "execution_count": 5,
   "id": "3459e622",
   "metadata": {
    "ExecuteTime": {
     "end_time": "2021-07-19T03:19:13.076141Z",
     "start_time": "2021-07-19T03:19:12.882199Z"
    }
   },
   "outputs": [],
   "source": [
    "import numpy as np"
   ]
  },
  {
   "cell_type": "code",
   "execution_count": 6,
   "id": "ed257827",
   "metadata": {
    "ExecuteTime": {
     "end_time": "2021-07-19T03:19:13.273962Z",
     "start_time": "2021-07-19T03:19:13.271073Z"
    }
   },
   "outputs": [],
   "source": [
    "x = np.array([-1.0, 1.0, 2.0])"
   ]
  },
  {
   "cell_type": "markdown",
   "id": "988b7bf8",
   "metadata": {},
   "source": [
    "# Sigmoid"
   ]
  },
  {
   "cell_type": "code",
   "execution_count": 7,
   "id": "fecbc4c8",
   "metadata": {
    "ExecuteTime": {
     "end_time": "2021-07-19T03:19:14.089452Z",
     "start_time": "2021-07-19T03:19:14.073097Z"
    }
   },
   "outputs": [
    {
     "data": {
      "text/plain": [
       "array([0.26894142, 0.73105858, 0.88079708])"
      ]
     },
     "execution_count": 7,
     "metadata": {},
     "output_type": "execute_result"
    }
   ],
   "source": [
    "def sigmoid(x):\n",
    "    return 1/(1+np.exp(-x))\n",
    "\n",
    "sigmoid(x)"
   ]
  },
  {
   "cell_type": "markdown",
   "id": "a73ee33b",
   "metadata": {},
   "source": [
    "# ReLU"
   ]
  },
  {
   "cell_type": "code",
   "execution_count": 8,
   "id": "f12abd76",
   "metadata": {
    "ExecuteTime": {
     "end_time": "2021-07-19T03:19:34.232436Z",
     "start_time": "2021-07-19T03:19:34.225705Z"
    }
   },
   "outputs": [
    {
     "data": {
      "text/plain": [
       "array([0., 1., 2.])"
      ]
     },
     "execution_count": 8,
     "metadata": {},
     "output_type": "execute_result"
    }
   ],
   "source": [
    "def ReLU(x):\n",
    "    return np.maximum(0,x)\n",
    "\n",
    "ReLU(x)"
   ]
  },
  {
   "cell_type": "code",
   "execution_count": 10,
   "id": "84ff8a1b",
   "metadata": {
    "ExecuteTime": {
     "end_time": "2021-07-19T03:20:21.369954Z",
     "start_time": "2021-07-19T03:20:21.366978Z"
    }
   },
   "outputs": [],
   "source": [
    "# 위와 아래는 무슨 차이인가?"
   ]
  },
  {
   "cell_type": "code",
   "execution_count": 9,
   "id": "353ad26c",
   "metadata": {
    "ExecuteTime": {
     "end_time": "2021-07-19T03:19:52.043349Z",
     "start_time": "2021-07-19T03:19:52.034886Z"
    }
   },
   "outputs": [
    {
     "data": {
      "text/plain": [
       "array([0., 1., 2.])"
      ]
     },
     "execution_count": 9,
     "metadata": {},
     "output_type": "execute_result"
    }
   ],
   "source": [
    "def ReLU(x):\n",
    "    mask = (x<=0)\n",
    "    out = x.copy()\n",
    "    out[mask] = 0\n",
    "    \n",
    "    return out\n",
    "ReLU(x)"
   ]
  },
  {
   "cell_type": "code",
   "execution_count": null,
   "id": "48790ce7",
   "metadata": {},
   "outputs": [],
   "source": []
  }
 ],
 "metadata": {
  "kernelspec": {
   "display_name": "Python 3",
   "language": "python",
   "name": "python3"
  },
  "language_info": {
   "codemirror_mode": {
    "name": "ipython",
    "version": 3
   },
   "file_extension": ".py",
   "mimetype": "text/x-python",
   "name": "python",
   "nbconvert_exporter": "python",
   "pygments_lexer": "ipython3",
   "version": "3.8.10"
  }
 },
 "nbformat": 4,
 "nbformat_minor": 5
}
