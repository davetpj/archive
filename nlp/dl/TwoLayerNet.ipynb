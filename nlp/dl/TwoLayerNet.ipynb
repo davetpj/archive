{
 "cells": [
  {
   "cell_type": "code",
   "execution_count": 3,
   "id": "ab60a3c3",
   "metadata": {
    "ExecuteTime": {
     "end_time": "2021-07-19T03:34:37.377786Z",
     "start_time": "2021-07-19T03:34:37.374400Z"
    }
   },
   "outputs": [],
   "source": [
    "import pickle\n",
    "import numpy as np\n",
    "import pandas as pd\n",
    "import matplotlib.pyplot as plt\n",
    "\n",
    "from collections import OrderedDict"
   ]
  },
  {
   "cell_type": "markdown",
   "id": "d48db8d2",
   "metadata": {},
   "source": [
    "# Two Layer Net"
   ]
  },
  {
   "cell_type": "markdown",
   "id": "c61773ee",
   "metadata": {},
   "source": [
    "## load mnist"
   ]
  },
  {
   "cell_type": "code",
   "execution_count": 7,
   "id": "7b916216",
   "metadata": {
    "ExecuteTime": {
     "end_time": "2021-07-19T03:35:20.889303Z",
     "start_time": "2021-07-19T03:35:20.880886Z"
    }
   },
   "outputs": [],
   "source": [
    "def load_mnist(normalize=True, flatten=True, one_hot_label=False):\n",
    "    def _change_one_hot_label(X):\n",
    "        T = np.zeros((X.size, 10))\n",
    "        for idx, row in enumerate(T):\n",
    "            row[X[idx]] = 1\n",
    "\n",
    "        return T\n",
    "\n",
    "    with open('dataset/mnist.pkl', 'rb') as f:\n",
    "        dataset = pickle.load(f)\n",
    "        \n",
    "    if normalize:\n",
    "        for key in ('train_img', 'test_img'):\n",
    "            dataset[key] = dataset[key].astype(np.float32)\n",
    "            dataset[key] /= 255.0\n",
    "            \n",
    "    if one_hot_label:\n",
    "        dataset['train_label'] = _change_one_hot_label(dataset['train_label'])\n",
    "        dataset['test_label'] = _change_one_hot_label(dataset['test_label'])    \n",
    "    \n",
    "    if not flatten:\n",
    "         for key in ('train_img', 'test_img'):\n",
    "            dataset[key] = dataset[key].reshape(-1, 1, 28, 28)\n",
    "\n",
    "    return (dataset['train_img'], dataset['train_label']), (dataset['test_img'], dataset['test_label']) "
   ]
  },
  {
   "cell_type": "markdown",
   "id": "6cbd02ef",
   "metadata": {},
   "source": [
    "## Softmax"
   ]
  },
  {
   "cell_type": "code",
   "execution_count": 17,
   "id": "c99aa71d",
   "metadata": {
    "ExecuteTime": {
     "end_time": "2021-07-19T03:37:21.272261Z",
     "start_time": "2021-07-19T03:37:21.267737Z"
    }
   },
   "outputs": [],
   "source": [
    "def softmax(x):\n",
    "    exp_x = np.exp(x)\n",
    "    if exp_x.ndim == 1:\n",
    "        sum_exp_x = np.sum(exp_x)\n",
    "    else:\n",
    "        sum_exp_x = np.sum(exp_x, axis=1).reshape(-1, 1)\n",
    "    y = exp_x/sum_exp_x\n",
    "    return y\n"
   ]
  },
  {
   "cell_type": "markdown",
   "id": "459bd330",
   "metadata": {},
   "source": [
    "## Cross entropy error"
   ]
  },
  {
   "cell_type": "code",
   "execution_count": 22,
   "id": "94f9944a",
   "metadata": {
    "ExecuteTime": {
     "end_time": "2021-07-19T03:38:43.251128Z",
     "start_time": "2021-07-19T03:38:43.245580Z"
    }
   },
   "outputs": [],
   "source": [
    "###\n",
    "def cross_entropy_error(y, t):\n",
    "    if y.ndim == 1:\n",
    "        t = t.reshape(1,t.size)\n",
    "        y = y.reshape(1,y.size)\n",
    "    \n",
    "    batch_size = y.shape[0]\n",
    "\n",
    "    delta = 1e-7\n",
    "    return -np.sum(t*np.log(y+delta))/batch_size"
   ]
  },
  {
   "cell_type": "code",
   "execution_count": 19,
   "id": "c5d1fcb6",
   "metadata": {
    "ExecuteTime": {
     "end_time": "2021-07-19T03:37:49.946936Z",
     "start_time": "2021-07-19T03:37:49.941332Z"
    }
   },
   "outputs": [],
   "source": [
    "### minibatch\n",
    "def cross_entropy_error(y, t):\n",
    "    if y.ndim == 1:\n",
    "        t = t.reshape(1, t.size)\n",
    "        y = y.reshape(1, y.size)\n",
    "\n",
    "    \n",
    "    batch_size = y.shape[0]\n",
    "    \n",
    "    delta = 1e-7\n",
    "    return -np.sum(np.log(y[np.arange(batch_size), t] + delta))/batch_size"
   ]
  },
  {
   "cell_type": "markdown",
   "id": "5e2c26b1",
   "metadata": {},
   "source": [
    "## Relu"
   ]
  },
  {
   "cell_type": "code",
   "execution_count": 10,
   "id": "def7087a",
   "metadata": {
    "ExecuteTime": {
     "end_time": "2021-07-19T03:36:07.607892Z",
     "start_time": "2021-07-19T03:36:07.604001Z"
    }
   },
   "outputs": [],
   "source": [
    "class Relu:\n",
    "    def __init__(self):\n",
    "        self.mask = None\n",
    "\n",
    "    def forward(self, x):\n",
    "        # 강사님은 self 안 하셨음\n",
    "        # 0이였냐 아니였냐를 기억해야하므로 mask 를 다 self 를 붙여준다.\n",
    "        self.mask = (x <= 0)\n",
    "        out = x.copy()\n",
    "        out[self.mask] = 0\n",
    "\n",
    "        return out\n",
    "\n",
    "    def backward(self, dout):\n",
    "        dout[self.mask] = 0\n",
    "        return dout"
   ]
  },
  {
   "cell_type": "markdown",
   "id": "eba7d6a8",
   "metadata": {},
   "source": [
    "## Affine"
   ]
  },
  {
   "cell_type": "code",
   "execution_count": 11,
   "id": "4ccc49bf",
   "metadata": {
    "ExecuteTime": {
     "end_time": "2021-07-19T03:36:08.029106Z",
     "start_time": "2021-07-19T03:36:08.024675Z"
    }
   },
   "outputs": [],
   "source": [
    "class Affine:\n",
    "    def __init__(self, W, b):\n",
    "        self.W = W\n",
    "        self.b = b\n",
    "        \n",
    "        self.x = None\n",
    "        self.dW = None\n",
    "        self.db = None\n",
    "\n",
    "    def forward(self, x):\n",
    "        self.x = x\n",
    "        out = np.dot(self.x, self.W) + self.b\n",
    "\n",
    "        return out\n",
    "\n",
    "    def backward(self, dout):\n",
    "        dx = np.dot(dout, self.W.T)\n",
    "        self.dW = np.dot(self.x.T, dout)\n",
    "        self.db = np.sum(dout, axis=0)\n",
    "        return dx\n"
   ]
  },
  {
   "cell_type": "markdown",
   "id": "fb1579a4",
   "metadata": {},
   "source": [
    "## Softmax With Loss"
   ]
  },
  {
   "cell_type": "code",
   "execution_count": 12,
   "id": "6332d25d",
   "metadata": {
    "ExecuteTime": {
     "end_time": "2021-07-19T03:36:08.361946Z",
     "start_time": "2021-07-19T03:36:08.355324Z"
    }
   },
   "outputs": [],
   "source": [
    "class SoftmaxWithLoss:\n",
    "    def __init__(self):\n",
    "        self.loss = None # 손실함수\n",
    "        self.y = None    # softmax의 출력\n",
    "        self.t = None    # 정답 레이블(원-핫 인코딩 형태)\n",
    "        \n",
    "    def forward(self, x, t):\n",
    "        self.t = t\n",
    "        self.y = softmax(x)\n",
    "        self.loss = cross_entropy_error(self.y, self.t)\n",
    "        \n",
    "        return self.loss\n",
    "\n",
    "    def backward(self, dout=1):\n",
    "        batch_size = self.t.shape[0]\n",
    "        ## 원핫 인코딩 상태랑 합하면 1 그리고 원핫 인코딩이 아닐떄는 그냥 1을 빼준다는 의미인데 다시 생각해보자\n",
    "        if self.t.size == self.y.size: # 정답 레이블이 원-핫 인코딩 형태일 때\n",
    "            dx = (self.y - self.t) / batch_size\n",
    "        else:\n",
    "            dx = self.y.copy()\n",
    "            dx[np.arange(batch_size), self.t] -= 1\n",
    "            dx = dx / batch_size\n",
    "        \n",
    "        return dx"
   ]
  },
  {
   "cell_type": "markdown",
   "id": "248803b7",
   "metadata": {},
   "source": [
    "# -----"
   ]
  },
  {
   "cell_type": "code",
   "execution_count": 13,
   "id": "92fe7c4d",
   "metadata": {
    "ExecuteTime": {
     "end_time": "2021-07-19T03:36:10.279212Z",
     "start_time": "2021-07-19T03:36:10.263983Z"
    }
   },
   "outputs": [],
   "source": [
    "class TwoLayerNet:\n",
    "\n",
    "    def __init__(self, input_size, hidden_size, output_size, weight_init_std = 0.01):\n",
    "        # 가중치 초기화\n",
    "        self.params = {}\n",
    "        self.params['W1'] = weight_init_std * np.random.randn(input_size, hidden_size)\n",
    "        self.params['b1'] = np.zeros(hidden_size)\n",
    "        self.params['W2'] = weight_init_std * np.random.randn(hidden_size, output_size) \n",
    "        self.params['b2'] = np.zeros(output_size)\n",
    "    \n",
    "        # 계층 생성 레이어를 만들어줄거임. OrederdDict()는 순서가 있는 Dict 집어넣는 순서가 있음. 순서가 중요함\n",
    "        # 입력층을 거치고 히든레이어를 거치고 또 거치고 순서대로 가야하기 때문에 순서가 중요함.\n",
    "        self.layers = OrderedDict()\n",
    "        self.layers['Affine1'] = Affine(self.params['W1'], self.params['b1'])\n",
    "        self.layers['Relu1'] = Relu()\n",
    "        self.layers['Affine2'] = Affine(self.params['W2'], self.params['b2'])\n",
    "\n",
    "        self.lastLayer = SoftmaxWithLoss()\n",
    "        \n",
    "    def predict(self, x):\n",
    "        # 이것때문에 OrderedDict 를 만든것이다.\n",
    "        # 원래같았으면\n",
    "        # x = self.layers['Affine1'].forward(x)\n",
    "        # x = self.layers['Relu1'].forward(x)\n",
    "        # x = self.layers['Affine2'].forward(x)\n",
    "        # return x\n",
    "\n",
    "        ########## 바꾼것 ##################\n",
    "        for layer in self.layers.values():\n",
    "            x = layer.forward(x)\n",
    "        \n",
    "        return x\n",
    "        ##################################\n",
    "        \n",
    "    # x : 입력 데이터, t : 정답 레이블\n",
    "    def loss(self, x, t):\n",
    "        y = self.predict(x)\n",
    "        return self.lastLayer.forward(y, t)\n",
    "    \n",
    "    def accuracy(self, x, t):\n",
    "        y = self.predict(x)\n",
    "        y = np.argmax(y, axis=1)\n",
    "        if t.ndim != 1 : \n",
    "            t = np.argmax(t, axis=1)\n",
    "        \n",
    "        accuracy = np.sum(y == t) / float(x.shape[0])\n",
    "        return accuracy\n",
    "        \n",
    "    # x : 입력 데이터, t : 정답 레이블\n",
    "    def numerical_gradient(self, x, t):\n",
    "        loss_W = lambda W: self.loss(x, t)\n",
    "        \n",
    "        grads = {}\n",
    "        grads['W1'] = numerical_gradient(loss_W, self.params['W1'])\n",
    "        grads['b1'] = numerical_gradient(loss_W, self.params['b1'])\n",
    "        grads['W2'] = numerical_gradient(loss_W, self.params['W2'])\n",
    "        grads['b2'] = numerical_gradient(loss_W, self.params['b2'])\n",
    "        \n",
    "        return grads\n",
    "        \n",
    "    def gradient(self, x, t):\n",
    "        # forward\n",
    "        self.loss(x, t)\n",
    "\n",
    "        # backward\n",
    "        dout = 1\n",
    "        dout = self.lastLayer.backward(dout)\n",
    "        \n",
    "        layers = list(self.layers.values())\n",
    "        #거꾸로 거슬러 올라가야하기때문에 리스르로 바꿔주고 리버스 해줬음.\n",
    "        layers.reverse()\n",
    "        for layer in layers:\n",
    "            dout = layer.backward(dout)\n",
    "\n",
    "        # 결과 저장\n",
    "        grads = {}\n",
    "        grads['W1'], grads['b1'] = self.layers['Affine1'].dW, self.layers['Affine1'].db\n",
    "        grads['W2'], grads['b2'] = self.layers['Affine2'].dW, self.layers['Affine2'].db\n",
    "\n",
    "        return grads\n"
   ]
  },
  {
   "cell_type": "code",
   "execution_count": 14,
   "id": "df4e6e51",
   "metadata": {
    "ExecuteTime": {
     "end_time": "2021-07-19T03:36:13.092893Z",
     "start_time": "2021-07-19T03:36:12.860106Z"
    }
   },
   "outputs": [],
   "source": [
    "(x_train, t_train), (x_test, t_test) = load_mnist(normalize=True, one_hot_label=True)\n",
    "\n",
    "network = TwoLayerNet(input_size=784, hidden_size=50, output_size=10)"
   ]
  },
  {
   "cell_type": "code",
   "execution_count": 15,
   "id": "e172b60f",
   "metadata": {
    "ExecuteTime": {
     "end_time": "2021-07-19T03:36:30.532597Z",
     "start_time": "2021-07-19T03:36:30.528726Z"
    }
   },
   "outputs": [],
   "source": [
    "iters_num = 10000  # 반복 횟수를 적절히 설정한다.\n",
    "train_size = x_train.shape[0]\n",
    "batch_size = 100  # 미니배치 크기\n",
    "learning_rate = 0.1\n",
    "\n",
    "train_loss_list = []\n",
    "train_acc_list = []\n",
    "test_acc_list = []\n",
    "\n",
    "# 1에폭당 반복 수\n",
    "iter_per_epoch = max(train_size / batch_size, 1)"
   ]
  },
  {
   "cell_type": "code",
   "execution_count": 23,
   "id": "304a3f41",
   "metadata": {
    "ExecuteTime": {
     "end_time": "2021-07-19T03:39:07.456334Z",
     "start_time": "2021-07-19T03:38:47.030114Z"
    }
   },
   "outputs": [
    {
     "name": "stdout",
     "output_type": "stream",
     "text": [
      "train acc, test acc | 0.125, 0.1298\n",
      "train acc, test acc | 0.9030166666666667, 0.9043\n",
      "train acc, test acc | 0.92165, 0.924\n",
      "train acc, test acc | 0.9335666666666667, 0.9352\n",
      "train acc, test acc | 0.9421, 0.9429\n",
      "train acc, test acc | 0.9510833333333333, 0.9505\n",
      "train acc, test acc | 0.9543, 0.9507\n",
      "train acc, test acc | 0.9588333333333333, 0.9587\n",
      "train acc, test acc | 0.9634, 0.9595\n",
      "train acc, test acc | 0.9669, 0.9613\n",
      "train acc, test acc | 0.9700833333333333, 0.9638\n",
      "train acc, test acc | 0.97115, 0.964\n",
      "train acc, test acc | 0.9737833333333333, 0.965\n",
      "train acc, test acc | 0.9751, 0.9668\n",
      "train acc, test acc | 0.97475, 0.9668\n",
      "train acc, test acc | 0.97775, 0.9684\n",
      "train acc, test acc | 0.9791, 0.9667\n"
     ]
    },
    {
     "data": {
      "image/png": "[encoded data removed]",
      "text/plain": [
       "<Figure size 432x288 with 1 Axes>"
      ]
     },
     "metadata": {
      "needs_background": "light"
     },
     "output_type": "display_data"
    }
   ],
   "source": [
    "for i in range(iters_num):\n",
    "    # 미니배치 획득\n",
    "    batch_mask = np.random.choice(train_size, batch_size)\n",
    "    x_batch = x_train[batch_mask]\n",
    "    t_batch = t_train[batch_mask]\n",
    "\n",
    "    # 기울기 계산\n",
    "    # numerical_gradient 랑 비교해볼것\n",
    "    grad = network.gradient(x_batch, t_batch)\n",
    "\n",
    "    # 매개변수 갱신\n",
    "    for key in (\"W1\", \"b1\", \"W2\", \"b2\"):\n",
    "        network.params[key] -= learning_rate * grad[key]\n",
    "\n",
    "    # 학습 경과 기록\n",
    "    loss = network.loss(x_batch, t_batch)\n",
    "    train_loss_list.append(loss)\n",
    "\n",
    "    # 1에폭당 정확도 계산\n",
    "    # i 가 10000 이였고 batch 가 100 이였음 그래서 100번마다 찍어본다?\n",
    "    if i % iter_per_epoch == 0:\n",
    "        train_acc = network.accuracy(x_train, t_train)\n",
    "        test_acc = network.accuracy(x_test, t_test)\n",
    "        train_acc_list.append(train_acc)\n",
    "        test_acc_list.append(test_acc)\n",
    "        print(\"train acc, test acc | \" + str(train_acc) + \", \" + str(test_acc))\n",
    "\n",
    "# 그래프 그리기\n",
    "markers = {\"train\": \"o\", \"test\": \"s\"}\n",
    "x = np.arange(len(train_acc_list))\n",
    "plt.plot(x, train_acc_list, label=\"train acc\")\n",
    "plt.plot(x, test_acc_list, label=\"test acc\", linestyle=\"--\")\n",
    "plt.xlabel(\"epochs\")\n",
    "plt.ylabel(\"accuracy\")\n",
    "plt.ylim(0, 1.0)\n",
    "plt.legend(loc=\"lower right\")\n",
    "plt.show()\n"
   ]
  },
  {
   "cell_type": "code",
   "execution_count": null,
   "id": "9294ec27",
   "metadata": {},
   "outputs": [],
   "source": []
  }
 ],
 "metadata": {
  "kernelspec": {
   "display_name": "Python 3",
   "language": "python",
   "name": "python3"
  },
  "language_info": {
   "codemirror_mode": {
    "name": "ipython",
    "version": 3
   },
   "file_extension": ".py",
   "mimetype": "text/x-python",
   "name": "python",
   "nbconvert_exporter": "python",
   "pygments_lexer": "ipython3",
   "version": "3.8.10"
  }
 },
 "nbformat": 4,
 "nbformat_minor": 5
}
